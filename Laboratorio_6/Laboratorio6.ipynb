{
  "cells": [
    {
      "attachments": {},
      "cell_type": "markdown",
      "metadata": {
        "cell_id": "89a205c2d069404c98948bb9d7be3a51",
        "deepnote_cell_height": 156.26666259765625,
        "deepnote_cell_type": "markdown",
        "id": "XUZ1dFPHzAHl",
        "owner_user_id": "badcc427-fd3d-4615-9296-faa43ec69cfb"
      },
      "source": [
        "<h1><center>Laboratorio 6: El Pandas no Muerde (act IV) 🐼</center></h1>\n",
        "\n",
        "<center><strong>MDS7202: Laboratorio de Programación Científica para Ciencia de Datos</strong></center>"
      ]
    },
    {
      "attachments": {},
      "cell_type": "markdown",
      "metadata": {
        "cell_id": "4809ea920b5b49c9a945cd8468b5b836",
        "deepnote_cell_height": 165.76666259765625,
        "deepnote_cell_type": "markdown",
        "id": "UD8X1uhGzAHq"
      },
      "source": [
        "### Cuerpo Docente:\n",
        "\n",
        "- Profesores: Pablo Badilla, Ignacio Meza\n",
        "- Auxiliar: Sebastián Tinoco\n",
        "- Ayudante: Felipe Arias, Diego Cortez"
      ]
    },
    {
      "attachments": {},
      "cell_type": "markdown",
      "metadata": {
        "cell_id": "c2c091f086ec4e999b701c197a06ab88",
        "deepnote_cell_height": 172.13333129882812,
        "deepnote_cell_type": "markdown",
        "id": "tXflExjqzAHr"
      },
      "source": [
        "### Equipo: SUPER IMPORTANTE - notebooks sin nombre no serán revisados\n",
        "\n",
        "- Nombre de alumno 1:\n",
        "- Nombre de alumno 2:\n"
      ]
    },
    {
      "attachments": {},
      "cell_type": "markdown",
      "metadata": {
        "cell_id": "18b43f19598240cfafeda048d3fce395",
        "deepnote_cell_height": 62.19999694824219,
        "deepnote_cell_type": "markdown",
        "id": "AD-V0bbZzAHr"
      },
      "source": [
        "### **Link de repositorio de GitHub:** `http://....`"
      ]
    },
    {
      "attachments": {},
      "cell_type": "markdown",
      "metadata": {
        "cell_id": "32657e00a4b6496ca7d9e6e15a8b5db7",
        "deepnote_cell_height": 479.3999938964844,
        "deepnote_cell_type": "markdown",
        "id": "6uBLPj1PzAHs"
      },
      "source": [
        "\n",
        "## Reglas:\n",
        "\n",
        "- **Grupos de 2 personas**\n",
        "- Asistencia **obligatoria** a instrucciones del lab (viernes 16.15). Luego, pueden quedarse trabajando en las salas o irse.\n",
        "- **No se revisarán entregas de personas ausentes**. \n",
        "- Cualquier duda fuera del horario de clases al foro. Mensajes al equipo docente serán respondidos por este medio.\n",
        "- Prohibidas las copias. \n",
        "- Pueden usar cualquer matrial del curso que estimen conveniente.\n",
        "\n",
        "### Objetivos principales del laboratorio\n",
        "\n",
        "- Aplicar los paradigmas y buenas prácticas de programación vistas hasta este momento.\n",
        "- Comprender y aprovechar las ventajas que nos ofrece la liberia `numpy` con respecto a trabajar en Python 'puro'.\n",
        "- Visualizar aplicaciones de filtros de imágenes sin el uso de librerías.\n",
        "- Verificar que el uso indiscriminado de `for` puede afectar en la eficiencia en al procesar datos masivos.\n",
        "\n",
        "\n",
        "El laboratorio deberá ser desarrollado sin el uso indiscriminado de iteradores nativos de python (aka \"for\", \"while\"). La idea es que aprendan a exprimir al máximo las funciones optimizadas que nos entrega `numpy`, las cuales vale mencionar, son bastante más eficientes que los iteradores nativos sobre arreglos (*o tensores*)."
      ]
    },
    {
      "attachments": {},
      "cell_type": "markdown",
      "metadata": {
        "cell_id": "b6bac4d034a5495e8e67c36e34336f85",
        "deepnote_cell_height": 69.86666870117188,
        "deepnote_cell_type": "markdown",
        "id": "wrG4gYabzAHs"
      },
      "source": [
        "## Descripción del laboratorio."
      ]
    },
    {
      "attachments": {},
      "cell_type": "markdown",
      "metadata": {
        "cell_id": "ca9c067959894e94b9283a276287b698",
        "deepnote_cell_height": 61.866668701171875,
        "deepnote_cell_type": "markdown",
        "id": "MhISwri4zAHy"
      },
      "source": [
        "### Importamos librerias utiles 😸"
      ]
    },
    {
      "cell_type": "code",
      "execution_count": null,
      "metadata": {
        "ExecuteTime": {
          "end_time": "2021-03-29T00:08:16.884674Z",
          "start_time": "2021-03-29T00:08:16.349846Z"
        },
        "cell_id": "4cf79ab943eb44868dcee51d3302e611",
        "colab": {
          "base_uri": "https://localhost:8080/"
        },
        "deepnote_cell_height": 988.7999877929688,
        "deepnote_cell_type": "code",
        "deepnote_to_be_reexecuted": false,
        "execution_millis": 15959,
        "execution_start": 1634325916301,
        "id": "uyc33dKdzAHy",
        "outputId": "eff88306-8037-4e93-a6de-5b68f24d1f60",
        "source_hash": "80b1c1a9"
      },
      "outputs": [],
      "source": [
        "# Libreria Core del lab.\n",
        "import numpy as np\n",
        "!pip install --upgrade pandas\n",
        "!pip install xlrd\n",
        "!pip install openpyxl\n",
        "import pandas as pd\n",
        "import datetime\n",
        "from scipy import stats\n",
        "\n",
        "from IPython.display import display, Markdown, Latex\n",
        "\n",
        "#Libreria para plotear\n",
        "!pip install --upgrade plotly\n",
        "!pip install missingno\n",
        "import matplotlib.pyplot as plt\n",
        "import missingno as msno\n",
        "import plotly.express as px"
      ]
    },
    {
      "cell_type": "code",
      "execution_count": null,
      "metadata": {
        "cell_id": "f8a86237fe434792b493ca1959fa9a54",
        "colab": {
          "base_uri": "https://localhost:8080/"
        },
        "deepnote_cell_height": 219.46665954589844,
        "deepnote_cell_type": "code",
        "deepnote_to_be_reexecuted": false,
        "execution_millis": 4,
        "execution_start": 1634315852279,
        "id": "gQ0-zPV4NNrq",
        "outputId": "947604a3-e52b-4194-9635-32a1bb7e228a",
        "source_hash": "c60dc4a7"
      },
      "outputs": [],
      "source": [
        "# Si usted está utilizando Colabolatory le puede ser útil este código para cargar los archivos.\n",
        "try:\n",
        "    from google.colab import drive\n",
        "    drive.mount(\"/content/drive\")\n",
        "    path = 'Dirección donde tiene los archivos en el Drive'\n",
        "except: \n",
        "    print('Ignorando conexión drive-colab')"
      ]
    },
    {
      "attachments": {},
      "cell_type": "markdown",
      "metadata": {
        "cell_id": "34609c877de444338ccc78bf45ab9b31",
        "deepnote_cell_height": 133.86666870117188,
        "deepnote_cell_type": "markdown",
        "id": "QDwIXTh7bK_A"
      },
      "source": [
        "# Segmentación de Clientes en Tienda de Retail 🛍️"
      ]
    },
    {
      "attachments": {},
      "cell_type": "markdown",
      "metadata": {
        "cell_id": "e710e9caec7f4f1a9f67caeae4597de1",
        "deepnote_cell_height": 294.683349609375,
        "deepnote_cell_type": "markdown",
        "id": "6umuEe-xhwd4",
        "tags": []
      },
      "source": [
        "<p align=\"center\">\n",
        "  <img width=300 src=\"https://s1.eestatic.com/2018/04/14/social/la_jungla_-_social_299733421_73842361_854x640.jpg\">\n",
        "</p>"
      ]
    },
    {
      "attachments": {},
      "cell_type": "markdown",
      "metadata": {
        "cell_id": "3aa7f656ce7840ebade4261cc3f1f0a3",
        "deepnote_cell_height": 69.86666870117188,
        "deepnote_cell_type": "markdown",
        "id": "HekVBd1ehwd4",
        "tags": []
      },
      "source": [
        "## 1.1 Cargar Dataset"
      ]
    },
    {
      "attachments": {},
      "cell_type": "markdown",
      "metadata": {
        "cell_id": "0f3137f91f8a4e8aba54e8d26f317927",
        "deepnote_cell_height": 251.06666564941406,
        "deepnote_cell_type": "markdown",
        "id": "Y5vJZJU5hwd4",
        "tags": []
      },
      "source": [
        "Mr. Lepin Mora quien es el gerente de una cotizada tienda de retail en Europa, les solicita si pueden analizar los datos de algunas de sus tiendas.\n",
        "\n",
        "Para esto, el área de ventas les entrega el archivo `online_retail_II.pickle` con el que se les pide que cargue y visualicen algunas de las filas que componen el Dataset.\n",
        "\n",
        "Realice una primera visualización de los datos y señale los atributos que componen el dataset. Señale las columnas que conforman el dataset, el tipo de variable presente en cada columna y comente que representa cada una de estas.\n",
        "\n",
        "**Respuesta:**"
      ]
    },
    {
      "cell_type": "code",
      "execution_count": null,
      "metadata": {
        "cell_id": "7301daf9982c4d2ea369ef07c4b7aae1",
        "colab": {
          "base_uri": "https://localhost:8080/",
          "height": 206
        },
        "deepnote_cell_height": 453.79998779296875,
        "deepnote_cell_type": "code",
        "deepnote_output_heights": [
          177
        ],
        "deepnote_to_be_reexecuted": false,
        "execution_millis": 375,
        "execution_start": 1634325932264,
        "id": "7FNOu-CvjV5m",
        "outputId": "a66c1d83-8a32-414a-f0cb-f71a8dd1c473",
        "source_hash": "579ecb11"
      },
      "outputs": [],
      "source": [
        "df_retail = pd.read_pickle(\"online_retail_II.pickle\")\n",
        "df_retail = df_retail.astype(\n",
        "    {\n",
        "        \"Invoice\": \"category\",\n",
        "        \"StockCode\": \"category\",\n",
        "        \"Description\": str,\n",
        "        \"Customer ID\": \"category\",\n",
        "    }\n",
        ")\n",
        "df_retail.head()"
      ]
    },
    {
      "attachments": {},
      "cell_type": "markdown",
      "metadata": {
        "cell_id": "32ebfa6cab1d4cc29f82fe6e12fbe719",
        "deepnote_cell_height": 248.26666259765625,
        "deepnote_cell_type": "markdown",
        "id": "Rcjs-dd1V-1u"
      },
      "source": [
        "## 1.2 Analisís Explotatorio de los Datos [0.5 puntos] \n",
        "\n",
        "En base a la primera visualización del dataset, *Don Mora* le solicita que realicen un análisis exploratorio de los datos, para esto les deberán realizar un análisis univariado y multivariado. De la revisión, ustedes deben explicar potenciales anomalías visualizadas y señalar si existe la necesidad de realizar una limpieza de datos.\n",
        "\n",
        "Explique a que nos referimos con análisis univariable, multivariable y de datos faltantes. ¿Qué beneficios nos otorga estudiar estos datos?. Sea conciso con su respuesta y no escriba mas de 5 líneas para su respuesta.\n",
        "\n",
        "**Respuesta a la Pregunta:**"
      ]
    },
    {
      "attachments": {},
      "cell_type": "markdown",
      "metadata": {
        "cell_id": "2c396985d48d4e3e9f0245dda6f9336d",
        "deepnote_cell_height": 66.26666259765625,
        "deepnote_cell_type": "markdown",
        "id": "Ev_q08SPhwd5",
        "tags": []
      },
      "source": [
        "> El análisis univariable se enfoca en una variable a la vez, revelando su distribución y características. El análisis multivariable examina múltiples variables simultáneamente, revelando sus relaciones mutuas. En el análisis univariable se emplean medidas de tendencia central y dispersión, mientras que el análisis multivariable utiliza técnicas como correlación y regresión. Estas funciones son esenciales para obtener información precisa, identificar patrones y tomar decisiones fundamentadas en ciencia de datos."
      ]
    },
    {
      "attachments": {},
      "cell_type": "markdown",
      "metadata": {
        "cell_id": "0bd851d535844d47a2cbf9fff74c4ca2",
        "deepnote_cell_height": 203.86666870117188,
        "deepnote_cell_type": "markdown",
        "id": "8cMCI9Kwhwd5",
        "tags": []
      },
      "source": [
        "### 1.2.1 Análisis Univariado [2 Puntos]\n",
        "\n",
        "A continuación, se le presentan dos funciones para analizar los datos que componen un dataframe. La primera de estas es la función ``profile_serie()`` la cual recibe una serie y le entrega un análisis detallado de los datos que conforman dicha serie. \n",
        "\n",
        "Ejecute la funcion ``profile_serie()`` sobre cada serie para realizar un análisis univariado de estas. A continuación, comente acerca de el comportamiento de cada variable según las estadísticas descriptivas y los gráficos generados."
      ]
    },
    {
      "cell_type": "code",
      "execution_count": null,
      "metadata": {
        "cell_id": "54d25348a868403eae39e93090190b2a",
        "deepnote_cell_height": 1682.86669921875,
        "deepnote_cell_type": "code",
        "deepnote_to_be_reexecuted": false,
        "execution_millis": 1,
        "execution_start": 1634325950632,
        "id": "K8qLYvSthwd5",
        "source_hash": "60609391",
        "tags": []
      },
      "outputs": [],
      "source": [
        "from pandas.api.types import is_numeric_dtype\n",
        "from pandas.core.dtypes.common import is_datetime_or_timedelta_dtype\n",
        "\n",
        "\n",
        "def profile_serie(serie_in, n_samples=1000, random_state=42):\n",
        "    serie = serie_in.copy()\n",
        "\n",
        "    profile = pd.Series(dtype='object')\n",
        "    profile[\"Type\"] = serie.dtype\n",
        "    profile = pd.concat([profile, serie.describe()])\n",
        "\n",
        "    # profile = pd.Series([])\n",
        "\n",
        "    if is_numeric_dtype(serie):\n",
        "        profile[\"Negative\"] = (serie < 0).sum()\n",
        "        profile[\"Negative (%)\"] = (\n",
        "            str(round((serie < 0).sum() / len(serie) * 100, 2)) + \" %\"\n",
        "        )\n",
        "        profile[\"Zeros\"] = (serie == 0).sum()\n",
        "        profile[\"Zeros (%)\"] = (\n",
        "            str(round((serie == 0).sum() / len(serie) * 100, 2)) + \" %\"\n",
        "        )\n",
        "        profile[\"Kurt\"] = serie.kurt()\n",
        "        profile[\"Skew\"] = serie.skew()\n",
        "\n",
        "    profile[\" \"] = \" \"  # espacio\n",
        "\n",
        "    profile[\"Missing cells\"] = serie.isnull().sum()\n",
        "    profile[\"Missing cells (%)\"] = (\n",
        "        str(round(serie.isnull().sum() / len(serie) * 100, 2)) + \" %\"\n",
        "    )\n",
        "    profile[\"Duplicate rows\"] = serie.duplicated(False).sum()\n",
        "    profile[\"Duplicate rows (%)\"] = (\n",
        "        str(round(serie.duplicated(False).sum() / len(serie) * 100, 2)) + \" %\"\n",
        "    )\n",
        "    profile[\"Total size in memory\"] = str(serie.memory_usage(index=True)) + \" bytes\"\n",
        "\n",
        "    # profile = pd.concat([profile, description])\n",
        "\n",
        "    profile = profile.rename(\n",
        "        index={\n",
        "            \"count\": \"Number of observations\",\n",
        "            \"mean\": \"Mean\",\n",
        "            \"std\": \"Std\",\n",
        "            \"min\": \"Min\",\n",
        "            \"max\": \"Max\",\n",
        "            \"unique\": \"Unique\",\n",
        "            \"top\": \"Top\",\n",
        "            \"freq\": \"Freq\",\n",
        "        }\n",
        "    )\n",
        "    no_outliers_fig = None\n",
        "\n",
        "    if is_numeric_dtype(serie):\n",
        "\n",
        "        sampled_serie = serie.sample(n_samples, random_state=random_state)\n",
        "        fig = px.histogram(\n",
        "            sampled_serie, marginal=\"box\", title=f\"{serie.name} - With Outliers\"\n",
        "        )\n",
        "\n",
        "        no_outliers = sampled_serie.loc[(np.abs(stats.zscore(sampled_serie)) < 3)]\n",
        "        # zscore = https://es.wikipedia.org/wiki/Unidad_tipificada\n",
        "        \n",
        "        no_outliers_fig = px.histogram(\n",
        "            no_outliers, marginal=\"box\", title=f\"{serie.name} - Without Outliers\"\n",
        "        )\n",
        "\n",
        "    elif is_datetime_or_timedelta_dtype(serie):\n",
        "        sampled_serie = serie.sample(n_samples, random_state=random_state)\n",
        "        fig = px.histogram(sampled_serie, marginal=\"box\", title=f\"{serie.name}\")\n",
        "    \n",
        "    else:\n",
        "        count = (\n",
        "            serie.value_counts()[0:100]\n",
        "            .reset_index()\n",
        "            .rename(columns = {'count': 'Count'})\n",
        "        )\n",
        "        fig = px.bar(\n",
        "            x=count[serie.name].astype(str),\n",
        "            y=count[\"Count\"],\n",
        "            title=f\"100 Most common categories of {serie.name}\",\n",
        "        )\n",
        "    display(Markdown(f'## {serie.name} Profile'))\n",
        "    display(profile)\n",
        "    fig.show()\n",
        "\n",
        "    if no_outliers_fig:\n",
        "        no_outliers_fig.show()\n",
        "\n",
        "    # return fig, profile"
      ]
    },
    {
      "cell_type": "code",
      "execution_count": null,
      "metadata": {
        "colab": {
          "base_uri": "https://localhost:8080/",
          "height": 424
        },
        "id": "U1RTS4-u2fxG",
        "outputId": "fce2b086-f25c-4d2d-9eac-4cfdf63bd5fd"
      },
      "outputs": [],
      "source": [
        "df_retail_2  = df_retail[df_retail['Price']  == 0 ]\n",
        "df_retail_2"
      ]
    },
    {
      "cell_type": "code",
      "execution_count": null,
      "metadata": {
        "colab": {
          "base_uri": "https://localhost:8080/",
          "height": 424
        },
        "id": "lnNaXVys4-qs",
        "outputId": "059c5303-bf62-49b1-f455-f6734a987462"
      },
      "outputs": [],
      "source": [
        "df_retail_2[df_retail_2['Quantity'] >= 0]"
      ]
    },
    {
      "cell_type": "code",
      "execution_count": null,
      "metadata": {
        "cell_id": "1f75340c80f54da7a11c9eee5fabfa2d",
        "colab": {
          "base_uri": "https://localhost:8080/",
          "height": 1000
        },
        "deepnote_cell_height": 1716.5999755859375,
        "deepnote_cell_type": "code",
        "deepnote_output_heights": [
          49,
          424,
          527,
          527
        ],
        "deepnote_to_be_reexecuted": false,
        "execution_millis": 2062,
        "execution_start": 1634325955534,
        "id": "FMTyGoTshwd6",
        "outputId": "5593e824-c300-4d04-824b-37058d1990f3",
        "source_hash": "6155d0f5",
        "tags": []
      },
      "outputs": [],
      "source": [
        "profile_serie(df_retail['Price']) "
      ]
    },
    {
      "attachments": {},
      "cell_type": "markdown",
      "metadata": {
        "cell_id": "879c95ee534a4c78b541d76f13d16755",
        "deepnote_cell_height": 70.66667175292969,
        "deepnote_cell_type": "markdown",
        "id": "H4NZEpDBn0n4",
        "tags": []
      },
      "source": [
        "\n",
        "\n",
        "\n",
        "La variable \"Price\" tiene un rango amplio, desde un valor mínimo de -53.594,36 hasta un valor máximo de 25.111,09. Esto sugiere una gran variabilidad en los precios observados en el dataset.\n",
        "\n",
        "La media de la variable es de aproximadamente 4,69 y la desviación estándar es alta, con un valor de alrededor de 146,13. Si bién se tiene esta esta desviación en el gráfico se puede notar que gran parte de los datos se encuentran concentrados cerca de la mediana, la cual es 2,1. Esto sumado a que los cuartiles 1 y 3 se encuentran entre 1,25 y 4,1 se puede notar que existen demasiados outliers con valores demasiado altos, ya que el promedio se encuentra fuera de estos percentiles.\n",
        "\n",
        "Los valores negativos se presentan en 3 observaciones. Esto para la variable de precio no hace sentido, lo que significa que existe un error en el valor. Esto entendiendo que se encuentran en un contexto de venta y no de deuda.\n",
        "\n",
        "Hay 3,687 observaciones con valores iguales a cero, lo que también es malo en el contexto de los precios. LAs posibilidades donde puede ocurrir esto, se regalaron los productos, u ocurrió un problema de traspaso de la información.\n",
        "\n",
        "El coeficiente de asimetría es negativo y tiene un valor de aproximadamente -140,77. Esto indica una asimetría negativa extremadamente alta, lo que sugiere una distribución muy sesgada hacia la izquierda.\n",
        "\n",
        "El coeficiente de curtosis es extremadamente alto, con un valor de aproximadamente 64.868,34. Esto indica una distribución muy leptocúrtica, con colas pesadas y una concentración de valores alrededor de la media.\n"
      ]
    },
    {
      "cell_type": "code",
      "execution_count": null,
      "metadata": {
        "colab": {
          "base_uri": "https://localhost:8080/",
          "height": 798
        },
        "id": "gmo2cWIMm-P_",
        "outputId": "ce82af04-df89-433e-ca61-d343d1895769"
      },
      "outputs": [],
      "source": [
        "profile_serie(df_retail['Invoice']) "
      ]
    },
    {
      "cell_type": "code",
      "execution_count": null,
      "metadata": {
        "colab": {
          "base_uri": "https://localhost:8080/",
          "height": 171
        },
        "id": "UNBUmon17rnC",
        "outputId": "32820bf9-1271-4dc9-8330-162a40e50c20"
      },
      "outputs": [],
      "source": [
        "df_retail[df_retail['Quantity'] == 0]"
      ]
    },
    {
      "attachments": {},
      "cell_type": "markdown",
      "metadata": {
        "cell_id": "879c95ee534a4c78b541d76f13d16755",
        "deepnote_cell_height": 70.66667175292969,
        "deepnote_cell_type": "markdown",
        "id": "X7mHJuA8nuIF",
        "tags": []
      },
      "source": [
        "La variable \"Invoice\" es de tipo categórico y contiene 525.461 observaciones en total.\n",
        "\n",
        "Hay 28,816 valores únicos en la variable \"Invoice\", lo que indica una amplia variedad de facturas diferentes en el dataset.\n",
        "\n",
        "El valor más frecuente en la variable \"Invoice\" es \"537434\", que aparece 675 veces en el dataset. Como es posible que distintos tipos de clientes tengan una facturación similar es posible que se tengan una facturación parecida. En particular se tiene que el 98,48% de los Invoice están repetidos. Si bien algunos puedden estar repetidos por errores en el dataset, es un número plausble.\n"
      ]
    },
    {
      "cell_type": "code",
      "execution_count": null,
      "metadata": {
        "colab": {
          "base_uri": "https://localhost:8080/",
          "height": 798
        },
        "id": "9WWUqtvqnKx8",
        "outputId": "00a32bf7-ce1d-4c5c-b988-f79529ba05b6"
      },
      "outputs": [],
      "source": [
        "profile_serie(df_retail['StockCode']) "
      ]
    },
    {
      "attachments": {},
      "cell_type": "markdown",
      "metadata": {
        "cell_id": "879c95ee534a4c78b541d76f13d16755",
        "deepnote_cell_height": 70.66667175292969,
        "deepnote_cell_type": "markdown",
        "id": "TIJ9bNrBnv2O",
        "tags": []
      },
      "source": [
        "La variable \"StockCode\" es de tipo categórico y contiene 525.461 observaciones en total. En los que existen 4.632 valores únicos, lo cual nos indica la cantidad de productos que manejan.\n",
        "\n",
        "El código más recurrente es '85123A'. Por si solo no sabemos si existen muchos productos, solamente que en varias oportunidades, diferentes productos tienen la misma cantidad de productos en un punto dado. Un caso que puede hacer sentido, es que este valor indique una baja cantidad de productos, ya que muchos productos pasan por este valor. Se puede notar que el gráfico va disminuyendo, lo que puede indicar que al extremo izquierdo existan productos con poco stock, ya que no existen celdas vacias. "
      ]
    },
    {
      "cell_type": "code",
      "execution_count": null,
      "metadata": {
        "colab": {
          "base_uri": "https://localhost:8080/",
          "height": 798
        },
        "id": "LbTXQJeBnMrc",
        "outputId": "b3f52146-ba4e-430b-f153-8e763d08dbd8"
      },
      "outputs": [],
      "source": [
        "profile_serie(df_retail['Description']) "
      ]
    },
    {
      "attachments": {},
      "cell_type": "markdown",
      "metadata": {
        "cell_id": "879c95ee534a4c78b541d76f13d16755",
        "deepnote_cell_height": 70.66667175292969,
        "deepnote_cell_type": "markdown",
        "id": "Z33ZuUounx5W",
        "tags": []
      },
      "source": [
        "\n",
        "La variable \"Description\" es de tipo categórico y contiene un total de 525.461 observaciones. En esta variable se encuentran 4.682 valores únicos, lo cual indica la cantidad de productos diferentes presentes en el dataset.\n",
        "\n",
        "La descripción del producto más comúnmente registrado en las diferentes facturas es 'WHITE HANGING HEART T-LIGHT HOLDER'. Aunque esto no necesariamente significa que sea el producto más vendido en términos de cantidad, puede indicar que es un producto necesario y de compra frecuente. Esta descripción de producto aparece en 3.549 facturas."
      ]
    },
    {
      "cell_type": "code",
      "execution_count": null,
      "metadata": {
        "colab": {
          "base_uri": "https://localhost:8080/",
          "height": 1000
        },
        "id": "M8oP0VWEnO2g",
        "outputId": "44a5b7a4-5811-4ccb-b90e-cfffc33179e9"
      },
      "outputs": [],
      "source": [
        "profile_serie(df_retail['Quantity']) "
      ]
    },
    {
      "attachments": {},
      "cell_type": "markdown",
      "metadata": {
        "cell_id": "879c95ee534a4c78b541d76f13d16755",
        "deepnote_cell_height": 70.66667175292969,
        "deepnote_cell_type": "markdown",
        "id": "D5ePh-eSnyR3",
        "tags": []
      },
      "source": [
        "La variable \"Quantity\" es de tipo entero y contiene 525.461 observaciones en total.\n",
        "\n",
        "La media es de 10,34 y la desviación estándar es de 107,42. De nuevo se puede observar a través de los gráficos que la media está fuera de los cuantiles 1 y 3, lo cual es un indicador de que hay valores muy grandes que provocan, como el máximo que es 19152, que la media y la desviación se vean afectadas. El tener una gran desviación estándar suele indicar gran variabilidad, en este caso debido en gran parte a los outliers es que existe esta gran variabilidad, mientras que en el gráfico se puede observar una gran concentracion alrededor de la mediana. \n",
        "\n",
        "Que el valor mínimo sea un valor negativo, se debe considerar un error, ya que las cantidades no se deben colocarcomo valores negativos, ya que no tiene sentido tener una cantidad negativas de cosas. Si fue colocado a conciencia, puede significar devoluciones, pero aun así no es recomendable utilizar esa medida, en lugar de utilizar una columna nueva, ya que estos valores se utlizan para calcular la media y la desviación. Existen 12.326 observaciones con cantidades negativas.\n",
        "\n",
        "\n",
        "No se encuentran celdas con cantidad igual a cero en la variable \"Quantity\".\n",
        "\n",
        "El coeficiente de curtosis (Kurtosis) tiene un valor de aproximadamente 6.277,67, lo que indica una distribución leptocúrtica con colas pesadas.\n",
        "\n",
        "El coeficiente de asimetría (Skewness) es positivo y tiene un valor de aproximadamente 36,04, lo que indica una asimetría positiva significativa en la distribución de las cantidades.\n",
        "\n",
        "No se encuentran celdas faltantes en la variable \"Quantity\". Todos los registros tienen un valor válido.\n",
        "\n",
        "Sin embargo, se identifican 525.122 filas duplicadas en la variable \"Quantity\", lo que representa el 99.94% de todas las observaciones. Esto es normal en el contexto de las compras, ya que todos los productos se pueden comprar en las cantidades que el cliente desee."
      ]
    },
    {
      "cell_type": "code",
      "execution_count": null,
      "metadata": {
        "colab": {
          "base_uri": "https://localhost:8080/",
          "height": 850
        },
        "id": "Ns79I7q3nRza",
        "outputId": "afd968f1-07de-49e7-9f88-ed45ffc4c6a4"
      },
      "outputs": [],
      "source": [
        "profile_serie(df_retail['InvoiceDate']) "
      ]
    },
    {
      "attachments": {},
      "cell_type": "markdown",
      "metadata": {
        "cell_id": "879c95ee534a4c78b541d76f13d16755",
        "deepnote_cell_height": 70.66667175292969,
        "deepnote_cell_type": "markdown",
        "id": "nAu9__-dny4M",
        "tags": []
      },
      "source": [
        "La variable \"InvoiceDate\" es de tipo datetime y contiene 525.461 observaciones en total.\n",
        "\n",
        "La media de la variable es aproximadamente \"2010-06-28 11:37:36.845017856\", lo cual es muy cercano a la mediana de los resultados que se encuentra en el \"2010-06-27\"\n",
        "\n",
        "El valor mínimo de la variable es \"2009-12-01 07:45:00\", lo que indica la fecha y hora más temprana registrada en el dataset.\n",
        "\n",
        "Los percentiles muestran que el 25% de las transacciones ocurrieron antes o igual al \"2010-03-21 12:20:00\", el 50% ocurrieron antes o igual al \"2010-07-06 09:51:00\", y el 75% ocurrieron antes o igual al \"2010-10-15 12:45:00\".\n",
        "\n",
        "El valor máximo de la variable es \"2010-12-09 20:01:00\", lo que indica la fecha y hora más tardía registrada en el dataset.\n",
        "\n",
        "No se encuentran celdas faltantes en la variable \"InvoiceDate\". Todos los registros tienen una fecha y hora válidas.\n",
        "\n",
        "En el gráfico se puede ver un aumento claro de ventas en un periodo entre finales de septiembre y finales de noviembre. Esto puede ser un buen indicativo a estudiar y comparar con años anteriores para ver si es recurrente este cambio es recurrente o hubo un suceso en particular que desencadenó esa necesidad."
      ]
    },
    {
      "cell_type": "code",
      "execution_count": null,
      "metadata": {
        "colab": {
          "base_uri": "https://localhost:8080/",
          "height": 798
        },
        "id": "vv3ZnwO_nUoh",
        "outputId": "128dbe8e-f09b-4ed3-9244-5963c4160d76"
      },
      "outputs": [],
      "source": [
        "profile_serie(df_retail['Customer ID']) "
      ]
    },
    {
      "attachments": {},
      "cell_type": "markdown",
      "metadata": {
        "cell_id": "879c95ee534a4c78b541d76f13d16755",
        "deepnote_cell_height": 70.66667175292969,
        "deepnote_cell_type": "markdown",
        "id": "z64mhIi-nzQp",
        "tags": []
      },
      "source": [
        "La variable \"Customer ID\" es de tipo categórico y contiene 417.534 observaciones en total.\n",
        "\n",
        "Hay 4,383 valores únicos en la variable \"Customer ID\", lo que indica la presencia de diferentes clientes en el dataset.\n",
        "\n",
        "El valor más frecuente en la variable \"Customer ID\" es \"14911.0\", que aparece 5.710 veces en el dataset. Esta información puede ser muy informativa a la hora del estudio de clientes, ya que al ser un cliente tan frecuente es bueno saber en que contexto vive y de esa forma poder llegar a más personas de estas características o focalizar los esfuerzos.\n",
        "\n",
        "Hay 107,927 celdas faltantes en la variable \"Customer ID\", lo que representa aproximadamente el 20.54% de todas las observaciones. Estos registros no tienen un ID de cliente asignado. Esto puede significar errores en el traspaso de los datos. Debido a que las facturas alguien las debe hacer, debe haber un ID del cliente, por lo que no es información que la celdas estén vacias.\n",
        "\n",
        "Se identifican 525,327 filas duplicadas en la variable \"Customer ID\", lo que representa el 99.97% de todas las observaciones. Esto sugiere que la mayoría de los IDs de cliente se repiten en el dataset. por lo que quiere decir que solamente el 0.03% compró una única vez."
      ]
    },
    {
      "cell_type": "code",
      "execution_count": null,
      "metadata": {
        "colab": {
          "base_uri": "https://localhost:8080/",
          "height": 798
        },
        "id": "Ulfn8Ng9nmDM",
        "outputId": "89bd8bdf-dabf-4b81-aa9e-34c87e87abee"
      },
      "outputs": [],
      "source": [
        "profile_serie(df_retail['Country']) "
      ]
    },
    {
      "attachments": {},
      "cell_type": "markdown",
      "metadata": {
        "cell_id": "879c95ee534a4c78b541d76f13d16755",
        "deepnote_cell_height": 70.66667175292969,
        "deepnote_cell_type": "markdown",
        "id": "aK3P5yPihwd6",
        "tags": []
      },
      "source": [
        "La variable \"Country\" es de tipo categórico y contiene 525.461 observaciones en total.\n",
        "\n",
        "Hay 40 valores únicos en la variable \"Country\", lo que indica la presencia de 40 países diferentes en el dataset.\n",
        "\n",
        "El país más frecuente en la variable \"Country\" es \"United Kingdom\", que aparece 485,852 veces en el dataset. Esto puede ser muy útil para focalizar las ventas, o entender que existen sucursales muy grandes en \"United Kingdom\" y se exportan a otros paises u otros casos plausibles.\n",
        "\n",
        "No se encuentran celdas faltantes en la variable \"Country\". Todos los registros tienen un valor válido de país.\n",
        "\n",
        "Se identifican 525,461 filas duplicadas en la variable \"Country\", lo que representa el 100% de todas las observaciones. Esto indica que todas las filas tienen el mismo país. Esto indica que cada país al menos facturó una vez. \n"
      ]
    },
    {
      "attachments": {},
      "cell_type": "markdown",
      "metadata": {
        "cell_id": "7db138f63ed64a6f909cca660047e27f",
        "deepnote_cell_height": 145.06666564941406,
        "deepnote_cell_type": "markdown",
        "id": "p9PT2Q_Vhwd6",
        "tags": []
      },
      "source": [
        "### 1.2.2 Análisis Multivariado y Datos Faltantes [1 ptos]\n",
        "\n",
        "En segundo lugar encontrará la función ``profile_df()`` que recibe un dataframe como entrada y realiza un análisis bivariado de todas las variables numéricas que conforman el dataframe, un analisis de la correlación de Pearson entre las variables numericas del dataframe y la matriz de datos faltantes."
      ]
    },
    {
      "cell_type": "code",
      "execution_count": null,
      "metadata": {
        "cell_id": "3d13ccefcd5c451fb0f81b8dad2183dc",
        "deepnote_cell_height": 530.86669921875,
        "deepnote_cell_type": "code",
        "deepnote_to_be_reexecuted": false,
        "execution_millis": 2,
        "execution_start": 1634322697785,
        "id": "2r2n5fBHhwd7",
        "source_hash": "ac31b9bd",
        "tags": []
      },
      "outputs": [],
      "source": [
        "def profile_df(dataframe_in):\n",
        "    df = dataframe_in.copy()\n",
        "\n",
        "    list_type = []\n",
        "    for col in list(df.columns):\n",
        "        if is_numeric_dtype(df[col]) or \\\n",
        "        pd.core.dtypes.common.is_datetime_or_timedelta_dtype(df[col]):\n",
        "            list_type.append(col)\n",
        "\n",
        "    \n",
        "    display(Markdown('## Bivariant Analysis:'))\n",
        "    for i in range(len(list_type)):\n",
        "        for j in range(i+1, len(list_type)):\n",
        "            plt.scatter(df[list_type[i]], df[list_type[j]])\n",
        "            plt.xlabel(list_type[i]) \n",
        "            plt.ylabel(list_type[j]) \n",
        "            plt.title(f\"{list_type[i]} v/s {list_type[j]}\")\n",
        "            plt.show()\n",
        "\n",
        "    display(Markdown('## Correlation:'))\n",
        "    fig_corr = px.imshow(df[list_type].corr())\n",
        "    fig_corr.show()\n",
        "\n",
        "    display(Markdown('## Missing Matrix:'))\n",
        "    fig, ax = plt.subplots(figsize=[15, 10])\n",
        "    msno.matrix(df, ax=ax, sparkline=False)"
      ]
    },
    {
      "cell_type": "code",
      "execution_count": null,
      "metadata": {},
      "outputs": [],
      "source": [
        "profile_df(df_retail)"
      ]
    },
    {
      "attachments": {},
      "cell_type": "markdown",
      "metadata": {},
      "source": [
        "Segun el output del análisis bivariado, se puede oberservar lo siguiente:\n",
        "\n",
        "- Existen demasiados outliers en general en todas las variables, sin embargo en la variable cantidad existen demasiados outliers con respecto al InvoiceDate en general la cantidad a lo largo de la fecha de invoice esta entre 0 y 1000 (estimación visual) sin embargo algo que se puede notar es que la variable cantidad tiene valores negativos, algo que es imposible, esto podría deberse a valores mal ingresados.\n",
        "- Respecto a los precios a lo largo del tiempo estos se mantienen en particular estables entre 0 y 5000, sin embargo también existen outliers tanto en precios excesivamente altos como precios negativos los cuales también son imposibles de tener.\n",
        "- Respecto a la correlación entre variables se observa una correlación muy débil entre la variable cantidad, InvoiceDate y Precio, esto podría deberse a fluctuaciones estacionales en la demanda de productos que afecten las ventas y no se reflejen en la correlación entre cantidad, fecha y precio.\n",
        "- Por último se observan muchos valores NA en la variable Customer ID, esto puede ser posible a errores humanos en los que no se ingresó esta información."
      ]
    },
    {
      "attachments": {},
      "cell_type": "markdown",
      "metadata": {
        "cell_id": "94960cac1b5f41aeb6bb014779e0cb14",
        "deepnote_cell_height": 217.86666870117188,
        "deepnote_cell_type": "markdown",
        "id": "f1xKl2kLhwd7",
        "tags": []
      },
      "source": [
        "### 1.2.3 Limpieza de Datos [1 pto]\n",
        "\n",
        "Como pudo ver en las secciones anteriores, los datos presentan valores erroneos, es por esto que se le solicita que realice una función que permita limpiar el dataset. Realice esta función en base observaciones propias y considere como imposible tener cantidades negativas en las ventas.\n",
        "\n",
        "Una vez realizada la función, realice nuevamente el análisis exploratorio y comente las principales diferencias.\n",
        "\n",
        "**Respuesta:**"
      ]
    },
    {
      "cell_type": "code",
      "execution_count": null,
      "metadata": {
        "cell_id": "dcded27a0d37460085e15c4c510de95a",
        "colab": {
          "base_uri": "https://localhost:8080/",
          "height": 130
        },
        "deepnote_cell_height": 65.86666870117188,
        "deepnote_cell_type": "code",
        "id": "E88D4fUThwd7",
        "outputId": "2478a4f1-8611-4b00-8711-45952a3e6518",
        "tags": []
      },
      "outputs": [],
      "source": [
        "def limpiar_df(df):\n",
        "    # Elimina filas con cantidades negativas\n",
        "    df = df[df['Quantity'] >= 0]\n",
        "\n",
        "    # Elimina filas con precios negativos\n",
        "    df = df[df['Price'] >= 0]\n",
        "\n",
        "    # Imputación hacia atrás de valores nulos en Customer ID\n",
        "    df['Customer ID'] = df['Customer ID'].fillna(method='backfill')\n",
        "\n",
        "    # Tratamiento de outliers\n",
        "    df = df[df['Quantity'] <= 50]\n",
        "    df = df[df['Price'] <= 38]\n",
        "\n",
        "    \n",
        "    return df\n"
      ]
    },
    {
      "attachments": {},
      "cell_type": "markdown",
      "metadata": {},
      "source": [
        "No se realiza una limpieza de valores NA de la variable Customer ID, dado que esta representa el 20% de la cantidad de muestras de esta variable y además podemos estar sesgando nuestra base de datos al eliminar estas filas, en lugar de esto se realiza una imputación backfill de los IDs, al utilizar el método de imputación hacia atrás, se respeta la secuencia temporal de los datos, lo que tiene sentido ya que los datos son basicamente una serie de tiempo de cantidades y precios."
      ]
    },
    {
      "cell_type": "code",
      "execution_count": null,
      "metadata": {},
      "outputs": [],
      "source": [
        "df_retail  = limpiar_df(df_retail)"
      ]
    },
    {
      "cell_type": "code",
      "execution_count": null,
      "metadata": {},
      "outputs": [],
      "source": [
        "profile_serie(df_retail['Price']) "
      ]
    },
    {
      "attachments": {},
      "cell_type": "markdown",
      "metadata": {},
      "source": [
        "Podemos notar que tras la limpieza, se tiene una reducción del número de observaciones, una disminución de los valores extremos y una mayor concentración de los datos alrededor de la media."
      ]
    },
    {
      "cell_type": "code",
      "execution_count": null,
      "metadata": {},
      "outputs": [],
      "source": [
        "profile_serie(df_retail['Invoice']) "
      ]
    },
    {
      "cell_type": "code",
      "execution_count": null,
      "metadata": {},
      "outputs": [],
      "source": [
        "profile_serie(df_retail['StockCode']) "
      ]
    },
    {
      "cell_type": "code",
      "execution_count": null,
      "metadata": {},
      "outputs": [],
      "source": [
        "profile_serie(df_retail['Description']) "
      ]
    },
    {
      "cell_type": "code",
      "execution_count": null,
      "metadata": {},
      "outputs": [],
      "source": [
        "profile_serie(df_retail['Quantity']) "
      ]
    },
    {
      "attachments": {},
      "cell_type": "markdown",
      "metadata": {},
      "source": [
        "Podemos notar que se han eliminado los valores negativos y se ha ajustado la distribución de los datos, sin embargo esto no cambia mucho con respecto a lo que se tenía anteriormente. Además, la limitación del rango máximo para la eliminación de outliers contribuyen a una menor dispersión y consistencia de los datos de cantidades."
      ]
    },
    {
      "cell_type": "code",
      "execution_count": null,
      "metadata": {},
      "outputs": [],
      "source": [
        "profile_serie(df_retail['InvoiceDate']) "
      ]
    },
    {
      "cell_type": "code",
      "execution_count": null,
      "metadata": {},
      "outputs": [],
      "source": [
        "profile_serie(df_retail['Customer ID']) "
      ]
    },
    {
      "cell_type": "code",
      "execution_count": null,
      "metadata": {},
      "outputs": [],
      "source": [
        "profile_serie(df_retail['Country']) "
      ]
    },
    {
      "cell_type": "code",
      "execution_count": null,
      "metadata": {},
      "outputs": [],
      "source": [
        "profile_df(df_retail)"
      ]
    },
    {
      "attachments": {},
      "cell_type": "markdown",
      "metadata": {},
      "source": [
        "Podemos notar finalmente, que producto de esta limpieza de valores negativos de cantidad y precio, y el tratamiento de outliers, la correlacion entre InvoiceDate, Price y InvoiceDate, Quantity aumentan, lo que no se podía evidenciar anteriormente, esto sugiere que la limpieza de datos sirvió para dejar la data más consistente para futuros modelos a implementar y reconocer patrones y tendencias más claramente."
      ]
    },
    {
      "attachments": {},
      "cell_type": "markdown",
      "metadata": {
        "cell_id": "7d0f38627f4b47afabf24ed59e9b8745",
        "deepnote_cell_height": 61.866668701171875,
        "deepnote_cell_type": "markdown",
        "id": "dkyp81nkBghF"
      },
      "source": [
        "### 1.2.4 Obtención de TOPs [0.75 ptos]"
      ]
    },
    {
      "attachments": {},
      "cell_type": "markdown",
      "metadata": {
        "cell_id": "b06fbfea6ef14a2c8a69a819233caefb",
        "deepnote_cell_height": 178.26666259765625,
        "deepnote_cell_type": "markdown",
        "id": "FqWpKnmn6W0y"
      },
      "source": [
        "Sin considerar los comentarios realizados en la sección 1.2 , *Don Mora* les pide obtener el **Top de 30 productos que generan más ganancias** para la tienda de retail. Deben considerar todo el registro temporal presente en el dataset y entregar la información en un gráfico de barras de los ingresos/cantidades v/s el nombre de los productos (Utilice `plotly`). ¿Los artículos más vendidos son los mismos que generan más ganancias?, Comente los resultados obtenidos.\n",
        "\n",
        "**Resultados:**"
      ]
    },
    {
      "cell_type": "code",
      "execution_count": null,
      "metadata": {
        "cell_id": "3ff7663e87a547d3a949e26c373b159c",
        "deepnote_cell_height": 65.86666870117188,
        "deepnote_cell_type": "code",
        "id": "vQuwMR2jhwd7",
        "tags": []
      },
      "outputs": [],
      "source": [
        "df_retail['Ganancias'] = df_retail['Price'] * df_retail['Quantity']\n",
        "top_products_ganancias = df_retail.groupby('Description')['Ganancias'].sum().reset_index()\n",
        "top_products_ganancias = top_products_ganancias.sort_values(by='Ganancias', ascending=False)\n",
        "top_products_ganancias = top_products_ganancias.head(30)\n",
        "\n",
        "fig = px.bar(top_products_ganancias, x='Description', y='Ganancias', title='Top 30 Productos con mayores ganancias')\n",
        "fig.show()\n"
      ]
    },
    {
      "cell_type": "code",
      "execution_count": null,
      "metadata": {},
      "outputs": [],
      "source": [
        "top_products_ventas = df_retail.groupby('Description')['Quantity'].sum().reset_index()\n",
        "top_products_ventas = top_products_ventas.sort_values(by='Quantity', ascending=False)\n",
        "top_products_ventas = top_products_ventas.head(30)\n",
        "fig = px.bar(top_products_ventas, x='Description', y='Quantity', title='Top 30 Productos con mayores ventas')\n",
        "fig.show()"
      ]
    },
    {
      "cell_type": "code",
      "execution_count": null,
      "metadata": {},
      "outputs": [],
      "source": [
        "top_ventas = set(top_products_ventas['Description'])\n",
        "top_ganancias = set(top_products_ganancias['Description'])\n",
        "\n",
        "productos_comunes = top_ventas.intersection(top_ganancias)\n",
        "\n",
        "print(\"Productos comunes en el top de ventas y top de ganancias:\")\n",
        "for producto in productos_comunes:\n",
        "    print(producto)\n"
      ]
    },
    {
      "attachments": {},
      "cell_type": "markdown",
      "metadata": {},
      "source": [
        "Podemos notar que si bien hay productos que se venden más y generan a su vez mas ganancias para el retail, no todos los productos que estan en el Top 30 de mas vendidos son los Top 30 que generan mas ganancias, esto se puede deber a que puede haber productos que se vendan menos pero que cuesten mas caros o lo contrario que se cuesten muy barato y por tanto se vendan mas a tal pero que las ganancias no sean suficientes, esto ya depende del tipo de productos que tiene el retail que como podemos ver son variados y podrian estar vendiendose harto y generando mayores ganancias debido a que tienen algun diferenciador con los demas productos de su respectiva categoría o simplemente por una mayor estacionalidad lo que aumenta las ventas i.e ingresos respecto a estos productos."
      ]
    },
    {
      "attachments": {},
      "cell_type": "markdown",
      "metadata": {
        "cell_id": "87af9318a84645609f7f9fa2239d14d1",
        "deepnote_cell_height": 61.866668701171875,
        "deepnote_cell_type": "markdown",
        "id": "opbV35T8hwd7",
        "tags": []
      },
      "source": [
        "### 1.2.5 Visualización del registro temporal [0,75 ptos]"
      ]
    },
    {
      "attachments": {},
      "cell_type": "markdown",
      "metadata": {
        "cell_id": "93e788cb95904cdaaff7edaaf15799e0",
        "deepnote_cell_height": 119.46665954589844,
        "deepnote_cell_type": "markdown",
        "id": "8EST9rV8hwd8",
        "tags": []
      },
      "source": [
        "El dueño del retail en su afán por saber más sobre los datos de su firma les solicita que grafiquen las ventas respecto al tiempo. Con esto les aclara que durante el día tienen muchas variaciones en sus ventas, por lo que les recomienda que consideren el registro temporal como `año-mes-día`. ¿Es posible observar datos extraños?, Comente lo que observa del gráfico."
      ]
    },
    {
      "cell_type": "code",
      "execution_count": null,
      "metadata": {
        "cell_id": "40ed9d0f2f3241f390b1f6d808191d76",
        "deepnote_cell_height": 98.86666870117188,
        "deepnote_cell_type": "code",
        "deepnote_to_be_reexecuted": false,
        "execution_millis": 1,
        "execution_start": 1634274396771,
        "id": "SBr7gQOAkmGV",
        "source_hash": "1c692b9d"
      },
      "outputs": [],
      "source": [
        "def plot_ventas(dataframe):\n",
        "    dataframe['Fecha'] = dataframe['InvoiceDate'].dt.strftime('%Y-%m-%d')\n",
        "    ventas_diarias = dataframe.groupby('Fecha')['Quantity'].sum().reset_index()\n",
        "    fig = px.line(ventas_diarias, x='Fecha', y='Quantity', title='Ventas Diarias')\n",
        "    fig.show()\n"
      ]
    },
    {
      "cell_type": "code",
      "execution_count": null,
      "metadata": {},
      "outputs": [],
      "source": [
        "plot_ventas(df_retail)"
      ]
    },
    {
      "attachments": {},
      "cell_type": "markdown",
      "metadata": {},
      "source": [
        "En efecto, es posible observar una alta variabilidad de las ventas en función de los días, se puede notar un aumento de las ventas a partir de Septiembre esto podría deberse a caracteristicas como la estación del año, vacaciones de escolares/universitarios, etc. Sin embargo este aumento explosivo cambia radicalmente a una disminución drástica en los días previos a navidad que se extiende hasta la primera semana de Enero, esta reducción drástica debe ser un aspecto a considerar por el dueño del retail, ya que no puede ser que se venda menos que en otros meses en los dias de navidad y año nuevo donde se supone hay más demanda, esto podría deberse a cuestiones particulares de la tienda como un quiebre de stock, cierre de la tienda en esas fechas u otro problema puntual a solucionar por el dueño. Finalmente, a partir de la segunda semana de Enero y de nuevo hasta Septiembre la demanda se estabiliza, es recomendable que el dueño le preste atención a estas anomalías y variaciones bruscas para así aumentar sus ventas y que al retail le vaya bien."
      ]
    },
    {
      "attachments": {},
      "cell_type": "markdown",
      "metadata": {
        "cell_id": "665f62d63501449cb33cc3b4c62ae247",
        "deepnote_cell_height": 492.066650390625,
        "deepnote_cell_type": "markdown",
        "id": "Rg4ZMq8ezAH6"
      },
      "source": [
        "# Conclusión\n",
        "Eso ha sido todo para el lab de hoy, recuerden que el laboratorio tiene un plazo de entrega de una semana. Cualquier duda del laboratorio, no duden en contactarnos por mail o U-cursos.\n",
        "\n",
        "![Gracias Totales!](https://i.pinimg.com/originals/65/ae/27/65ae270df87c3c4adcea997e48f60852.gif \"bruno\")\n"
      ]
    },
    {
      "attachments": {},
      "cell_type": "markdown",
      "metadata": {
        "cell_id": "e10db5e96c8c4ce09cf770bb88d718bf",
        "deepnote_cell_height": 171.28334045410156,
        "deepnote_cell_type": "markdown",
        "id": "wCL1lACBzAH7"
      },
      "source": [
        "<br>\n",
        "<center>\n",
        "<img src=\"https://i.kym-cdn.com/photos/images/original/001/194/195/b18.png\" width=100 height=50 />\n",
        "</center>\n",
        "<br>"
      ]
    },
    {
      "attachments": {},
      "cell_type": "markdown",
      "metadata": {
        "created_in_deepnote_cell": true,
        "deepnote_cell_type": "markdown",
        "id": "0eec_CnPhwd8"
      },
      "source": [
        "<a style='text-decoration:none;line-height:16px;display:flex;color:#5B5B62;padding:10px;justify-content:end;' href='https://deepnote.com?utm_source=created-in-deepnote-cell&projectId=87110296-876e-426f-b91d-aaf681223468' target=\"_blank\">\n",
        "<img alt='Created in deepnote.com' style='display:inline;max-height:16px;margin:0px;margin-right:7.5px;' src='data:image/svg+xml;base64,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' > </img>\n",
        "Created in <span style='font-weight:600;margin-left:4px;'>Deepnote</span></a>"
      ]
    }
  ],
  "metadata": {
    "colab": {
      "collapsed_sections": [
        "Rcjs-dd1V-1u",
        "dkyp81nkBghF",
        "THmFfYs1AhAW"
      ],
      "provenance": []
    },
    "deepnote": {},
    "deepnote_execution_queue": [],
    "deepnote_notebook_id": "a1d56b9e080041788b6ef3ada633d057",
    "kernelspec": {
      "display_name": "Python 3 (ipykernel)",
      "language": "python",
      "name": "python3"
    },
    "language_info": {
      "codemirror_mode": {
        "name": "ipython",
        "version": 3
      },
      "file_extension": ".py",
      "mimetype": "text/x-python",
      "name": "python",
      "nbconvert_exporter": "python",
      "pygments_lexer": "ipython3",
      "version": "3.10.0"
    },
    "toc": {
      "base_numbering": 1,
      "nav_menu": {},
      "number_sections": true,
      "sideBar": true,
      "skip_h1_title": true,
      "title_cell": "Tabla de Contenidos",
      "title_sidebar": "Contenidos",
      "toc_cell": false,
      "toc_position": {
        "height": "calc(100% - 180px)",
        "left": "10px",
        "top": "150px",
        "width": "241.867px"
      },
      "toc_section_display": true,
      "toc_window_display": true
    },
    "varInspector": {
      "cols": {
        "lenName": 16,
        "lenType": 16,
        "lenVar": 40
      },
      "kernels_config": {
        "python": {
          "delete_cmd_postfix": "",
          "delete_cmd_prefix": "del ",
          "library": "var_list.py",
          "varRefreshCmd": "print(var_dic_list())"
        },
        "r": {
          "delete_cmd_postfix": ") ",
          "delete_cmd_prefix": "rm(",
          "library": "var_list.r",
          "varRefreshCmd": "cat(var_dic_list()) "
        }
      },
      "types_to_exclude": [
        "module",
        "function",
        "builtin_function_or_method",
        "instance",
        "_Feature"
      ],
      "window_display": false
    }
  },
  "nbformat": 4,
  "nbformat_minor": 0
}
