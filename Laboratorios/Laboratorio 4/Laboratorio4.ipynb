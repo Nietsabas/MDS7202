{
  "cells": [
    {
      "cell_type": "markdown",
      "metadata": {
        "cell_id": "e37cb69cb73a49c2ad07cf670e073cb7",
        "deepnote_cell_height": 156.390625,
        "deepnote_cell_type": "markdown",
        "id": "XUZ1dFPHzAHl"
      },
      "source": [
        "<h1><center>Laboratorio 4: El Pandas no muerde (act. I) 🐼</center></h1>\n",
        "\n",
        "<center><strong>MDS7202: Laboratorio de Programación Científica para Ciencia de Datos</strong></center>"
      ]
    },
    {
      "cell_type": "markdown",
      "metadata": {
        "cell_id": "d4e7256a248d45a691692cb6fb3b2ccf",
        "deepnote_cell_height": 165.1875,
        "deepnote_cell_type": "markdown",
        "id": "UD8X1uhGzAHq"
      },
      "source": [
        "### Cuerpo Docente:\n",
        "\n",
        "- Profesor: Pablo Badilla y Ignacio Meza D.\n",
        "- Auxiliar: Sebastián Tinoco\n",
        "- Ayudante: Felipe Arias y Diego Cortez"
      ]
    },
    {
      "cell_type": "markdown",
      "metadata": {
        "cell_id": "8ebcb0f2f70c43319279fdd28c13fe89",
        "deepnote_cell_height": 171.796875,
        "deepnote_cell_type": "markdown",
        "id": "tXflExjqzAHr"
      },
      "source": [
        "### Equipo: SUPER IMPORTANTE - notebooks sin nombre no serán revisados\n",
        "\n",
        "- Nombre de alumno 1: Sebastián Versluys\n",
        "- Nombre de alumno 2: Josué Guillen\n"
      ]
    },
    {
      "cell_type": "markdown",
      "metadata": {
        "cell_id": "290822720f3e4484b09e762655bcdb76",
        "deepnote_cell_height": 62,
        "deepnote_cell_type": "markdown",
        "id": "AD-V0bbZzAHr"
      },
      "source": [
        "### **Link de repositorio de GitHub:** `https://github.com/Nietsabas/MDS7202`"
      ]
    },
    {
      "cell_type": "markdown",
      "metadata": {
        "cell_id": "60255b81ff0349ad9b18f598a8d71386",
        "deepnote_cell_height": 216,
        "deepnote_cell_type": "markdown",
        "id": "6jQ1JDMf8bSV",
        "tags": []
      },
      "source": [
        "### Reglas:\n",
        "\n",
        "- **Grupos de máximo 2 personas**\n",
        "- Asistencia **obligatoria** a instrucciones del lab (viernes 16.15). Luego, pueden quedarse trabajando en las salas o irse.\n",
        "- **No se revisarán entregas de personas ausentes**. \n",
        "- Cualquier duda fuera del horario de clases al foro. Mensajes al equipo docente serán respondidos por este medio.\n",
        "- Prohibidas las copias. \n",
        "- Pueden usar cualquer matrial del curso que estimen conveniente."
      ]
    },
    {
      "cell_type": "markdown",
      "metadata": {
        "cell_id": "5bf6f5f66dcd4da9a6926774cec108ab",
        "deepnote_cell_height": 114.390625,
        "deepnote_cell_type": "markdown",
        "id": "-_ZwYtPZ8bSW",
        "tags": []
      },
      "source": [
        "### Temas a tratar\n",
        "\n",
        "- Introducción al manejo de datos tabulares por medio de la libreria `pandas`."
      ]
    },
    {
      "cell_type": "markdown",
      "metadata": {
        "cell_id": "50ec30f08f2548a29bc979ed1741f5a0",
        "deepnote_cell_height": 243.390625,
        "deepnote_cell_type": "markdown",
        "id": "6uBLPj1PzAHs"
      },
      "source": [
        "### Objetivos principales del laboratorio\n",
        "\n",
        "- Entender, aplicar y aprovechar las ventajas que nos ofrece la libreria `pandas` para manejar datos tabulares.\n",
        "- Aprender a utilizar la documentación de pandas (y en general, de cualquier librería de python) como también a buscar soluciones en la web.\n",
        "\n",
        "> **Nota**: El laboratorio deberá ser desarrollado sin el uso indiscriminado de iteradores nativos de python (aka \"for\", \"while\"). La idea es que aprendan a exprimir al máximo las funciones optimizadas que nos entrega `pandas`, las cuales vale mencionar, son bastante más eficientes que los iteradores nativos sobre DataFrames."
      ]
    },
    {
      "cell_type": "markdown",
      "metadata": {
        "cell_id": "bc3394397e5241b8825745ec98c9db11",
        "deepnote_cell_height": 62,
        "deepnote_cell_type": "markdown",
        "id": "MhISwri4zAHy"
      },
      "source": [
        "### Librerias utiles para el Lab 😸"
      ]
    },
    {
      "cell_type": "code",
      "execution_count": 1,
      "metadata": {
        "ExecuteTime": {
          "end_time": "2021-03-29T00:08:16.884674Z",
          "start_time": "2021-03-29T00:08:16.349846Z"
        },
        "cell_id": "4a3449ea038e423d948cdcb7fb51513c",
        "deepnote_cell_type": "code",
        "deepnote_to_be_reexecuted": false,
        "execution_millis": 16059,
        "execution_start": 1662655795388,
        "id": "uyc33dKdzAHy",
        "source_hash": "8da0b14b"
      },
      "outputs": [],
      "source": [
        "# Libreria Core del lab.\n",
        "import numpy as np\n",
        "import pandas as pd\n",
        "from IPython.display import display\n",
        "\n",
        "# #Libreria para plotear\n",
        "# !pip install --upgrade plotly\n",
        "import plotly.express as px\n",
        "\n",
        "# # Librerias utiles\n",
        "from sklearn.preprocessing import StandardScaler"
      ]
    },
    {
      "cell_type": "markdown",
      "metadata": {
        "cell_id": "84ab36016f4d40afaa9cc8ea0e1f99c0",
        "deepnote_cell_height": 82,
        "deepnote_cell_type": "markdown",
        "id": "xpOTbQcxbSiy"
      },
      "source": [
        "# 1. Rendimiento en Estudiantes 📚"
      ]
    },
    {
      "cell_type": "markdown",
      "metadata": {
        "cell_id": "17cbd3ab27814f05902800f03510fc40",
        "deepnote_cell_height": 119.59375,
        "deepnote_cell_type": "markdown",
        "id": "jnmZfFpxTTYX"
      },
      "source": [
        "Para este laboratorio deberán trabajar con el dataset `students_grades.json` el cual contiene información sobre el rendimiento de alumnos en distintos ramos. \n",
        "El objetivo principal será el de realizar un trabajo de limpieza de prepración y exploración de datos utilizando exclusivamente `DataFrames` y sus métodos asociados. \n",
        "\n",
        "\n"
      ]
    },
    {
      "cell_type": "code",
      "execution_count": 2,
      "metadata": {
        "cell_id": "1013ed7b1ec345fd88771a3812af8140",
        "deepnote_cell_type": "code",
        "deepnote_to_be_reexecuted": false,
        "execution_millis": 8,
        "execution_start": 1632493422315,
        "id": "Jqq-s010Iwl1",
        "source_hash": "c60dc4a7"
      },
      "outputs": [],
      "source": [
        "# # Si usted está utilizando Colabolatory le puede ser útil este código para cargar los archivos.\n",
        "# try:\n",
        "#     from google.colab import drive\n",
        "#     drive.mount(\"/content/drive\")\n",
        "#     path = 'Dirección donde tiene los archivos en el Drive'\n",
        "# except: \n",
        "#     print('Ignorando conexión drive-colab')"
      ]
    },
    {
      "cell_type": "markdown",
      "metadata": {
        "cell_id": "c9b077c5f27b4c19bcdccc3d2c9a06b2",
        "deepnote_cell_height": 496.3125,
        "deepnote_cell_type": "markdown",
        "id": "Y7sGYwOpN1VJ"
      },
      "source": [
        "## 1.1 Carga e Inspección de Datos [1.5 Puntos]\n",
        "\n",
        "\n",
        "<p align=\"center\">\n",
        "  <img src=\"https://drive.google.com/uc?export=view&id=1hZZaPQlZe4VupFOXt76_wjuUA5NpUhrw\" width=\"300\" height=\"300\">\n",
        "</p>\n"
      ]
    },
    {
      "cell_type": "markdown",
      "metadata": {
        "cell_id": "2d59d81cd22d49fda637f19c4feb0417",
        "deepnote_cell_height": 867.59375,
        "deepnote_cell_type": "markdown",
        "id": "r3zzhSXa8bSb",
        "tags": []
      },
      "source": [
        "*Don Caguayo*, rector de la Universidad de la Cachaña, les comenta que actualmente la Universidad no tiene una subdirección de análisis de datos, pero que tiene un gran interés en formar una. Es por esto, que se contacta con ud. y su equipo para iniciar de forma exploratoria diversas tareas de análisis y consolidación de datos respectivos al rendimiento de sus alumnos.\n",
        "\n",
        "Previo a su primera reunión con el rector, el rector le envía una copia de la base de datos, la cuál a usted y su equipo le encantaría examinar. Para esto, la primera tarea que debe realizar es abrir y cargar el dataset. \n",
        "\n",
        "\n",
        "> **Notar que es sumamente importante el formato que posee cada columna** para su manipulación y que posiblemente ustedes deberán especificar algunos tipos de datos a mano. Ver la documentación del método `read_json` para mayor información.\n",
        "\n",
        "A continuación se muestra un ejemplo de los dos primeros registros del dataset:\n",
        "\n",
        "```json\n",
        "[\n",
        "  {\n",
        "    \"names\": \"Rita Courtney\",\n",
        "    \"gender\": \"female\",\n",
        "    \"race/ethnicity\": \"group B\",\n",
        "    \"parental level of education\": \"some high school\",\n",
        "    \"lunch\": \"standard\",\n",
        "    \"test preparation course\": \"none\",\n",
        "    \"math score\": 37,\n",
        "    \"reading score\": 46,\n",
        "    \"writing score\": 46\n",
        "  },\n",
        "  {\n",
        "    \"names\": \"Madeline Fuller\",\n",
        "    \"gender\": \"female\",\n",
        "    \"race/ethnicity\": \"group C\",\n",
        "    \"parental level of education\": \"some high school\",\n",
        "    \"lunch\": \"standard\",\n",
        "    \"test preparation course\": \"none\",\n",
        "    \"math score\": 124,\n",
        "    \"reading score\": 142,\n",
        "    \"writing score\": 142\n",
        "  }\n",
        "]\n",
        "```\n",
        "\n",
        "\n",
        "\n"
      ]
    },
    {
      "cell_type": "code",
      "execution_count": 3,
      "metadata": {
        "cell_id": "3cc75cc7307e457a9e9349e035baeaec",
        "deepnote_cell_height": 61,
        "deepnote_cell_type": "code",
        "id": "bJO1gbxx8bSb",
        "tags": []
      },
      "outputs": [],
      "source": [
        "df_grades = pd.read_json(\"students_grades.json\")"
      ]
    },
    {
      "cell_type": "markdown",
      "metadata": {
        "cell_id": "5c790e67aed541058edb176b1eff2632",
        "deepnote_cell_height": 503,
        "deepnote_cell_type": "markdown",
        "id": "sgVJGeVMMshn"
      },
      "source": [
        "\n",
        "<p align=\"center\">\n",
        "  <img src=\"https://i.giphy.com/media/4FQMuOKR6zQRO/giphy.webp\">\n",
        "</p>\n",
        "\n",
        "\n",
        "Posteriormente, el rector les comenta que la sección de TI posee una base de datos con más de **875** filas, en donde cada fila representa un alumno matriculado. Sin embargo, cree fuertemente que existen errores en esta: solo tiene registro de **875** matriculas. Por este motivo, especula que se han realizado malas prácticas al registrar dichos datos.\n",
        "\n",
        "En consecuencia, el rector les solicita a ustedes como tarea inicial que exploren la base de datos y encuentre posibles falencias dentro de sus registros. Para esto, usted debe estar al tanto que las notas están en una escala que van del **0 al 100** (porcentaje de logro) y **no es posible que un alumno haya dado más de una vez el mismo examen**. Cualquier alumno que posea un valor diferente a esta escala, debería ser eliminado de la base de datos.\n"
      ]
    },
    {
      "cell_type": "markdown",
      "metadata": {
        "cell_id": "87e47a63ed174ab38f73a1a96bd22fff",
        "deepnote_cell_height": 729,
        "deepnote_cell_type": "markdown",
        "id": "P4sp67vv8bSb",
        "tags": []
      },
      "source": [
        "> **Instrucciones**\n",
        "\n",
        "**Cree una función** que tome un `DataFrame` y que le permita revisar si las diferentes variables que lo componen son coherentes y si es posible observar anomalías en estas. \n",
        "\n",
        "**To-Do**\n",
        "1. [ ] Imprimir un mensaje con las dimensiones del Dataframe.\n",
        "2. [ ] Imprimir un mensaje con los nombres de las columnas que conforman el DataFrame.\n",
        "3. [ ] Mostrar los primeros 5, los últimos 5 elementos del DataFrame y realice un muestreo de 5 elementos de forma aleatoria.\n",
        "4. [ ] Mostrar una descripción rápida de las variables numéricas del DataFrame (utilice un método visto en clases).\n",
        "5. [ ] Imprimir un mensaje con la cantidad de valores nulos (investigue el método `isna()` y `sum()` de los DataFrames).\n",
        "6. [ ] Imprimir un mensaje que detalle la cantidad de valores unicos (investigue `nunique()`) .\n",
        "7. [ ] Imprimir un mensaje con el total de filas que contengan nombres duplicados (investigue `duplicated()` y su parámetro `subset`).\n",
        "8. [ ] Mostrar las filas que contengan nombres sean duplicados (investigue `duplicated()` y su parámetro `subset`).\n",
        "9. [ ] A traves de `.plot.box()` plotear el boxplot de las notas. De ser necesario, invetigue como funcionan los gráficos de caja (esta sección es provista).\n",
        "10. [ ] Finalmente responda la siguiente pregunta:\n",
        "\n",
        "> ¿Que anomalias es posible observar de los datos que componen el DataFrame? ¿Existen valores nulos o duplicados? ¿Qué puede interpretar de la distribución de las notas en el boxplot? (), comente esto en la celda ubicada debajo de **justificación**.\n",
        "\n",
        "> **Nota:** Para imprmir utilice `print(...)`. Para mostrar `DataFrames`, utilice `display(...)` ya que este permite mostrar estos elementos como tablas.\n",
        "\n",
        "> **Nota 2:** Utilice la documentación de [pandas](https://pandas.pydata.org/docs/index.html) como también StackOverflow para resolver cualquier problema o inconveniente.\n",
        "\n",
        "> **Nota 3:** Si no ha trabajado con boxplot antes, el siguiente link puede serle de mucha ayuda: [boxplot](https://medium.com/dayem-siddiqui/understanding-and-interpreting-box-plots-d07aab9d1b6c) "
      ]
    },
    {
      "cell_type": "markdown",
      "metadata": {
        "cell_id": "799b57588fce41e7adfb919e1683471d",
        "deepnote_cell_height": 52.390625,
        "deepnote_cell_type": "markdown",
        "id": "-POn2NiT8bSc",
        "tags": []
      },
      "source": [
        "**Respuesta:**"
      ]
    },
    {
      "cell_type": "code",
      "execution_count": 4,
      "metadata": {
        "cell_id": "8d5fb8a6e2ca4145a9718b6050d2f3df",
        "deepnote_cell_height": 97,
        "deepnote_cell_type": "code",
        "id": "PUtmS7oy8bSc",
        "tags": []
      },
      "outputs": [],
      "source": [
        "def exploratory_data_analysis(dataframe):\n",
        "    \n",
        "    import matplotlib.pyplot as plt\n",
        "    import seaborn as sns\n",
        "\n",
        "    #Convirtiendo las notas a datos numericos\n",
        "    dataframe[\"math score\"] = pd.to_numeric(dataframe[\"math score\"], errors='coerce')\n",
        "    dataframe[\"reading score\"] = pd.to_numeric(dataframe[\"reading score\"], errors='coerce')\n",
        "    dataframe[\"writing score\"] = pd.to_numeric(dataframe[\"writing score\"], errors='coerce')\n",
        "\n",
        "    # 1\n",
        "    print(f\"1.- El DataFrame tiene {dataframe.shape[0]} filas y {dataframe.shape[1]} columnas\")\n",
        "    \n",
        "    # 2\n",
        "    print(\"2.- El DataFrame esta compuesto por las siguientes columnas:\", dataframe.columns.tolist())\n",
        "    \n",
        "    # 3. \n",
        "    print(\"\\n3.- Ejemplos de filas del DataFrame:\")\n",
        "    print(\"\\nPrimeras 5 filas:\")\n",
        "    display(dataframe.head())\n",
        "    \n",
        "    print(\"\\nÚltimas 5 filas:\")\n",
        "    display(dataframe.tail())\n",
        "    \n",
        "    print(\"\\nMuestreo aleatorio de 5 filas:\")\n",
        "    display(dataframe.sample(5))\n",
        "    \n",
        "    # 4. \n",
        "    print(\"\\n4.- Descripción numérica del Dataframe:\")\n",
        "    display(dataframe.describe())\n",
        "    \n",
        "    # 5. \n",
        "    nulos = dataframe.isna().sum()\n",
        "    print(\"\\n5.- Cantidad de valores nulos por columna:\")\n",
        "    display(nulos)\n",
        "    # 6. \n",
        "    unicos = dataframe.nunique()\n",
        "    print(\"\\n6.- Cantidad de valores únicos por columna:\")\n",
        "    display(unicos)\n",
        "    \n",
        "    # 7. \n",
        "    duplicados = dataframe.duplicated(subset='names').sum()\n",
        "    print(f\"7.- Presenta un total de {df_grades.duplicated(subset='names').sum()} filas con nombres duplicados.\")\n",
        "    \n",
        "    # 8. \n",
        "    if duplicados > 0:\n",
        "        print(\"\\n8.- Las filas con nombres duplicados son:\")\n",
        "        display(dataframe[dataframe.duplicated(subset='names')])\n",
        "    else: \n",
        "        print(\"\\n8.- No existen filas con nombres duplicados\")\n",
        " \n",
        "    \n",
        "    # 9.\n",
        "    print(\"\\nBoxplot de notas:\")\n",
        "    #Escogiendo solo las variabes numéricas:\n",
        "    df_notas = dataframe[['math score', 'reading score', 'writing score']]\n",
        "    ax = df_notas.plot.box(figsize=(5, 9))\n",
        "    plt.title(\"Boxplot de notas\")\n",
        "    plt.ylabel(\"Notas\")\n",
        "\n",
        "    plt.show()\n",
        "\n"
      ]
    },
    {
      "cell_type": "markdown",
      "metadata": {
        "cell_id": "d90dcb496db544bf8d9c24706b02c3e0",
        "deepnote_cell_height": 52.390625,
        "deepnote_cell_type": "markdown",
        "id": "nxRj-Hi2QUHQ"
      },
      "source": [
        "**Justificación:**"
      ]
    },
    {
      "cell_type": "code",
      "execution_count": 5,
      "metadata": {
        "colab": {
          "base_uri": "https://localhost:8080/"
        },
        "id": "LWey27uj8bSd",
        "outputId": "347d98c4-5e6c-46bd-b457-6c1f9807a9bd"
      },
      "outputs": [
        {
          "name": "stdout",
          "output_type": "stream",
          "text": [
            "\n",
            "Anomalías:\n",
            "1) Existe una desproporción de género en la \n",
            "muestra, ya que hay una cantidad significativamente\n",
            "mayor de mujeres que de hombres, en efecto:\n",
            "\n",
            "\n",
            "2) La mayoría de los estudiantes tienen un \n",
            "nivel de educación de sus padres igual o mayor \n",
            "a un nivel de secundaria completa, en efecto:\n",
            "\n",
            "some college          0.238571\n",
            "associate's degree    0.221429\n",
            "high school           0.193571\n",
            "some high school      0.169286\n",
            "bachelor's degree     0.118571\n",
            "master's degree       0.058571\n",
            "Name: parental level of education, dtype: float64\n"
          ]
        }
      ],
      "source": [
        "\n",
        "print(\"\"\"\n",
        "Anomalías:\n",
        "1) Existe una desproporción de género en la \n",
        "muestra, ya que hay una cantidad significativamente\n",
        "mayor de mujeres que de hombres, en efecto:\n",
        "\"\"\")\n",
        "df_grades['gender'].value_counts(normalize=True)\n",
        "\n",
        "print(\"\"\"\n",
        "2) La mayoría de los estudiantes tienen un \n",
        "nivel de educación de sus padres igual o mayor \n",
        "a un nivel de secundaria completa, en efecto:\n",
        "\"\"\")\n",
        "\n",
        "nivel_educativo = df_grades['parental level of education'].value_counts(normalize=True)\n",
        "print(nivel_educativo)"
      ]
    },
    {
      "cell_type": "code",
      "execution_count": 6,
      "metadata": {
        "colab": {
          "base_uri": "https://localhost:8080/"
        },
        "id": "DmWCCMeD8bSd",
        "outputId": "11edcc43-4ac0-45bd-c4f2-a31c7a33b412"
      },
      "outputs": [
        {
          "name": "stdout",
          "output_type": "stream",
          "text": [
            "\n",
            "3) Existe un desbalance en el race/ethnicity \n",
            "ya que estudiantes del group C son más predominantes:\n",
            "\n",
            "group C    0.322857\n",
            "group D    0.259286\n",
            "group B    0.189286\n",
            "group E    0.139286\n",
            "group A    0.089286\n",
            "Name: race/ethnicity, dtype: float64\n",
            "\n",
            "Valores nulos y duplicados:\n",
            "- Existen valores nulos en las variables: math score (40), reading score (40) y writing score (47)                  \n",
            "- Existen 247 filas con nombres duplicados\n",
            "\n"
          ]
        }
      ],
      "source": [
        "print(\"\"\"\n",
        "3) Existe un desbalance en el race/ethnicity \n",
        "ya que estudiantes del group C son más predominantes:\n",
        "\"\"\")\n",
        "\n",
        "proporcion_raza = df_grades['race/ethnicity'].value_counts(normalize=True)\n",
        "print(proporcion_raza)\n",
        "\n",
        "print(\"\"\"\n",
        "Valores nulos y duplicados:\n",
        "- Existen valores nulos en las variables: math score (40), reading score (40) y writing score (47)                  \n",
        "- Existen 247 filas con nombres duplicados\n",
        "\"\"\")\n"
      ]
    },
    {
      "cell_type": "code",
      "execution_count": 7,
      "metadata": {
        "colab": {
          "base_uri": "https://localhost:8080/"
        },
        "id": "wqat4p_L8bSe",
        "outputId": "defed4ab-75c5-465f-ca69-ec1b5fa76c4a"
      },
      "outputs": [
        {
          "name": "stdout",
          "output_type": "stream",
          "text": [
            "\n",
            "4) Del boxplot se puede notar que:\n",
            "\n",
            "- Hay más estudiantes con notas bajas que con notas altas,\n",
            "ya que la mediana de todas las materias esta en torno a 75\n",
            "\n",
            "- Las notas de matemáticas tienen un poco más de variabilidad que las demás notas, además\n",
            "de que la media en general es menor que los demás cursos.\n",
            "\n",
            "- Hay outliers (estudiantes con superbuenas notas) en todos los cursos,\n",
            "sin embargo matematicas es el unico curso que tiene outliers por abajo lo que sugiere\n",
            "que hay alumnos que les fue muy muy mal.\n",
            "\n",
            "- En general, viendo el boxplot del reading_score no existe tanta desviación \n",
            "en las notas a comparación del resto de cursos.\n",
            "\n",
            "\n"
          ]
        }
      ],
      "source": [
        "print(\"\"\"\n",
        "4) Del boxplot se puede notar que:\n",
        "\n",
        "- Hay más estudiantes con notas bajas que con notas altas,\n",
        "ya que la mediana de todas las materias esta en torno a 75\n",
        "\n",
        "- Las notas de matemáticas tienen un poco más de variabilidad que las demás notas, además\n",
        "de que la media en general es menor que los demás cursos.\n",
        "\n",
        "- Hay outliers (estudiantes con superbuenas notas) en todos los cursos,\n",
        "sin embargo matematicas es el unico curso que tiene outliers por abajo lo que sugiere\n",
        "que hay alumnos que les fue muy muy mal.\n",
        "\n",
        "- En general, viendo el boxplot del reading_score no existe tanta desviación \n",
        "en las notas a comparación del resto de cursos.\n",
        "\n",
        "\"\"\")"
      ]
    },
    {
      "cell_type": "markdown",
      "metadata": {
        "cell_id": "bd96201e4e1b434fb5cd0de297147cff",
        "deepnote_cell_height": 52.390625,
        "deepnote_cell_type": "markdown",
        "id": "45jxMTJHNPC3"
      },
      "source": [
        "**Respuesta Esperada:**"
      ]
    },
    {
      "cell_type": "code",
      "execution_count": 8,
      "metadata": {
        "cell_id": "1aa0a715e47c4b8ebebcbb9fd28c1e4d",
        "colab": {
          "base_uri": "https://localhost:8080/",
          "height": 1000
        },
        "deepnote_cell_type": "code",
        "deepnote_to_be_reexecuted": false,
        "execution_millis": 1940,
        "execution_start": 1632493422320,
        "id": "Vu2Y7Q4wuBXg",
        "outputId": "24bbc8c8-db77-4ec3-9e9c-0b5e4134cbb9",
        "source_hash": "fc6a5c17"
      },
      "outputs": [
        {
          "name": "stdout",
          "output_type": "stream",
          "text": [
            "1.- El DataFrame tiene 1400 filas y 9 columnas\n",
            "2.- El DataFrame esta compuesto por las siguientes columnas: ['names', 'gender', 'race/ethnicity', 'parental level of education', 'lunch', 'test preparation course', 'math score', 'reading score', 'writing score']\n",
            "\n",
            "3.- Ejemplos de filas del DataFrame:\n",
            "\n",
            "Primeras 5 filas:\n"
          ]
        },
        {
          "data": {
            "text/html": [
              "<div>\n",
              "<style scoped>\n",
              "    .dataframe tbody tr th:only-of-type {\n",
              "        vertical-align: middle;\n",
              "    }\n",
              "\n",
              "    .dataframe tbody tr th {\n",
              "        vertical-align: top;\n",
              "    }\n",
              "\n",
              "    .dataframe thead th {\n",
              "        text-align: right;\n",
              "    }\n",
              "</style>\n",
              "<table border=\"1\" class=\"dataframe\">\n",
              "  <thead>\n",
              "    <tr style=\"text-align: right;\">\n",
              "      <th></th>\n",
              "      <th>names</th>\n",
              "      <th>gender</th>\n",
              "      <th>race/ethnicity</th>\n",
              "      <th>parental level of education</th>\n",
              "      <th>lunch</th>\n",
              "      <th>test preparation course</th>\n",
              "      <th>math score</th>\n",
              "      <th>reading score</th>\n",
              "      <th>writing score</th>\n",
              "    </tr>\n",
              "  </thead>\n",
              "  <tbody>\n",
              "    <tr>\n",
              "      <th>0</th>\n",
              "      <td>Rita Courtney</td>\n",
              "      <td>female</td>\n",
              "      <td>group B</td>\n",
              "      <td>some high school</td>\n",
              "      <td>standard</td>\n",
              "      <td>none</td>\n",
              "      <td>37.0</td>\n",
              "      <td>46.0</td>\n",
              "      <td>46.0</td>\n",
              "    </tr>\n",
              "    <tr>\n",
              "      <th>1</th>\n",
              "      <td>Madeline Fuller</td>\n",
              "      <td>female</td>\n",
              "      <td>group C</td>\n",
              "      <td>some high school</td>\n",
              "      <td>standard</td>\n",
              "      <td>none</td>\n",
              "      <td>124.0</td>\n",
              "      <td>142.0</td>\n",
              "      <td>142.0</td>\n",
              "    </tr>\n",
              "    <tr>\n",
              "      <th>2</th>\n",
              "      <td>Daniel Rester</td>\n",
              "      <td>male</td>\n",
              "      <td>group E</td>\n",
              "      <td>associate's degree</td>\n",
              "      <td>standard</td>\n",
              "      <td>none</td>\n",
              "      <td>156.0</td>\n",
              "      <td>196.0</td>\n",
              "      <td>193.0</td>\n",
              "    </tr>\n",
              "    <tr>\n",
              "      <th>3</th>\n",
              "      <td>Charles Linstrom</td>\n",
              "      <td>male</td>\n",
              "      <td>group A</td>\n",
              "      <td>bachelor's degree</td>\n",
              "      <td>standard</td>\n",
              "      <td>completed</td>\n",
              "      <td>80.0</td>\n",
              "      <td>78.0</td>\n",
              "      <td>81.0</td>\n",
              "    </tr>\n",
              "    <tr>\n",
              "      <th>4</th>\n",
              "      <td>Geraldine Hale</td>\n",
              "      <td>female</td>\n",
              "      <td>group A</td>\n",
              "      <td>associate's degree</td>\n",
              "      <td>standard</td>\n",
              "      <td>none</td>\n",
              "      <td>131.0</td>\n",
              "      <td>166.0</td>\n",
              "      <td>166.0</td>\n",
              "    </tr>\n",
              "  </tbody>\n",
              "</table>\n",
              "</div>"
            ],
            "text/plain": [
              "              names  gender race/ethnicity parental level of education  \\\n",
              "0     Rita Courtney  female        group B            some high school   \n",
              "1   Madeline Fuller  female        group C            some high school   \n",
              "2     Daniel Rester    male        group E          associate's degree   \n",
              "3  Charles Linstrom    male        group A           bachelor's degree   \n",
              "4    Geraldine Hale  female        group A          associate's degree   \n",
              "\n",
              "      lunch test preparation course  math score  reading score  writing score  \n",
              "0  standard                    none        37.0           46.0           46.0  \n",
              "1  standard                    none       124.0          142.0          142.0  \n",
              "2  standard                    none       156.0          196.0          193.0  \n",
              "3  standard               completed        80.0           78.0           81.0  \n",
              "4  standard                    none       131.0          166.0          166.0  "
            ]
          },
          "metadata": {},
          "output_type": "display_data"
        },
        {
          "name": "stdout",
          "output_type": "stream",
          "text": [
            "\n",
            "Últimas 5 filas:\n"
          ]
        },
        {
          "data": {
            "text/html": [
              "<div>\n",
              "<style scoped>\n",
              "    .dataframe tbody tr th:only-of-type {\n",
              "        vertical-align: middle;\n",
              "    }\n",
              "\n",
              "    .dataframe tbody tr th {\n",
              "        vertical-align: top;\n",
              "    }\n",
              "\n",
              "    .dataframe thead th {\n",
              "        text-align: right;\n",
              "    }\n",
              "</style>\n",
              "<table border=\"1\" class=\"dataframe\">\n",
              "  <thead>\n",
              "    <tr style=\"text-align: right;\">\n",
              "      <th></th>\n",
              "      <th>names</th>\n",
              "      <th>gender</th>\n",
              "      <th>race/ethnicity</th>\n",
              "      <th>parental level of education</th>\n",
              "      <th>lunch</th>\n",
              "      <th>test preparation course</th>\n",
              "      <th>math score</th>\n",
              "      <th>reading score</th>\n",
              "      <th>writing score</th>\n",
              "    </tr>\n",
              "  </thead>\n",
              "  <tbody>\n",
              "    <tr>\n",
              "      <th>1395</th>\n",
              "      <td>Alexander Dillon</td>\n",
              "      <td>male</td>\n",
              "      <td>group D</td>\n",
              "      <td>associate's degree</td>\n",
              "      <td>standard</td>\n",
              "      <td>none</td>\n",
              "      <td>193.0</td>\n",
              "      <td>142.0</td>\n",
              "      <td>193.0</td>\n",
              "    </tr>\n",
              "    <tr>\n",
              "      <th>1396</th>\n",
              "      <td>Marina Zeigler</td>\n",
              "      <td>female</td>\n",
              "      <td>group C</td>\n",
              "      <td>bachelor's degree</td>\n",
              "      <td>free/reduced</td>\n",
              "      <td>completed</td>\n",
              "      <td>66.0</td>\n",
              "      <td>74.0</td>\n",
              "      <td>81.0</td>\n",
              "    </tr>\n",
              "    <tr>\n",
              "      <th>1397</th>\n",
              "      <td>Laurie Carter</td>\n",
              "      <td>female</td>\n",
              "      <td>group B</td>\n",
              "      <td>some high school</td>\n",
              "      <td>standard</td>\n",
              "      <td>completed</td>\n",
              "      <td>54.0</td>\n",
              "      <td>61.0</td>\n",
              "      <td>62.0</td>\n",
              "    </tr>\n",
              "    <tr>\n",
              "      <th>1398</th>\n",
              "      <td>Joseph Mccoy</td>\n",
              "      <td>male</td>\n",
              "      <td>group D</td>\n",
              "      <td>some college</td>\n",
              "      <td>free/reduced</td>\n",
              "      <td>none</td>\n",
              "      <td>193.0</td>\n",
              "      <td>196.0</td>\n",
              "      <td>193.0</td>\n",
              "    </tr>\n",
              "    <tr>\n",
              "      <th>1399</th>\n",
              "      <td>Amanda Perez</td>\n",
              "      <td>female</td>\n",
              "      <td>group A</td>\n",
              "      <td>high school</td>\n",
              "      <td>standard</td>\n",
              "      <td>completed</td>\n",
              "      <td>68.0</td>\n",
              "      <td>80.0</td>\n",
              "      <td>76.0</td>\n",
              "    </tr>\n",
              "  </tbody>\n",
              "</table>\n",
              "</div>"
            ],
            "text/plain": [
              "                 names  gender race/ethnicity parental level of education  \\\n",
              "1395  Alexander Dillon    male        group D          associate's degree   \n",
              "1396    Marina Zeigler  female        group C           bachelor's degree   \n",
              "1397     Laurie Carter  female        group B            some high school   \n",
              "1398      Joseph Mccoy    male        group D                some college   \n",
              "1399      Amanda Perez  female        group A                 high school   \n",
              "\n",
              "             lunch test preparation course  math score  reading score  \\\n",
              "1395      standard                    none       193.0          142.0   \n",
              "1396  free/reduced               completed        66.0           74.0   \n",
              "1397      standard               completed        54.0           61.0   \n",
              "1398  free/reduced                    none       193.0          196.0   \n",
              "1399      standard               completed        68.0           80.0   \n",
              "\n",
              "      writing score  \n",
              "1395          193.0  \n",
              "1396           81.0  \n",
              "1397           62.0  \n",
              "1398          193.0  \n",
              "1399           76.0  "
            ]
          },
          "metadata": {},
          "output_type": "display_data"
        },
        {
          "name": "stdout",
          "output_type": "stream",
          "text": [
            "\n",
            "Muestreo aleatorio de 5 filas:\n"
          ]
        },
        {
          "data": {
            "text/html": [
              "<div>\n",
              "<style scoped>\n",
              "    .dataframe tbody tr th:only-of-type {\n",
              "        vertical-align: middle;\n",
              "    }\n",
              "\n",
              "    .dataframe tbody tr th {\n",
              "        vertical-align: top;\n",
              "    }\n",
              "\n",
              "    .dataframe thead th {\n",
              "        text-align: right;\n",
              "    }\n",
              "</style>\n",
              "<table border=\"1\" class=\"dataframe\">\n",
              "  <thead>\n",
              "    <tr style=\"text-align: right;\">\n",
              "      <th></th>\n",
              "      <th>names</th>\n",
              "      <th>gender</th>\n",
              "      <th>race/ethnicity</th>\n",
              "      <th>parental level of education</th>\n",
              "      <th>lunch</th>\n",
              "      <th>test preparation course</th>\n",
              "      <th>math score</th>\n",
              "      <th>reading score</th>\n",
              "      <th>writing score</th>\n",
              "    </tr>\n",
              "  </thead>\n",
              "  <tbody>\n",
              "    <tr>\n",
              "      <th>1012</th>\n",
              "      <td>Jesus Kling</td>\n",
              "      <td>male</td>\n",
              "      <td>group B</td>\n",
              "      <td>some college</td>\n",
              "      <td>free/reduced</td>\n",
              "      <td>none</td>\n",
              "      <td>142.0</td>\n",
              "      <td>151.0</td>\n",
              "      <td>34.0</td>\n",
              "    </tr>\n",
              "    <tr>\n",
              "      <th>677</th>\n",
              "      <td>Richard Pryor</td>\n",
              "      <td>male</td>\n",
              "      <td>group E</td>\n",
              "      <td>bachelor's degree</td>\n",
              "      <td>standard</td>\n",
              "      <td>completed</td>\n",
              "      <td>100.0</td>\n",
              "      <td>100.0</td>\n",
              "      <td>100.0</td>\n",
              "    </tr>\n",
              "    <tr>\n",
              "      <th>1173</th>\n",
              "      <td>Ruth Dupre</td>\n",
              "      <td>female</td>\n",
              "      <td>group C</td>\n",
              "      <td>high school</td>\n",
              "      <td>free/reduced</td>\n",
              "      <td>none</td>\n",
              "      <td>33.0</td>\n",
              "      <td>41.0</td>\n",
              "      <td>43.0</td>\n",
              "    </tr>\n",
              "    <tr>\n",
              "      <th>1283</th>\n",
              "      <td>Nicole Obrien</td>\n",
              "      <td>female</td>\n",
              "      <td>group B</td>\n",
              "      <td>bachelor's degree</td>\n",
              "      <td>free/reduced</td>\n",
              "      <td>none</td>\n",
              "      <td>193.0</td>\n",
              "      <td>124.0</td>\n",
              "      <td>124.0</td>\n",
              "    </tr>\n",
              "    <tr>\n",
              "      <th>595</th>\n",
              "      <td>Sarah Defazio</td>\n",
              "      <td>female</td>\n",
              "      <td>group C</td>\n",
              "      <td>some high school</td>\n",
              "      <td>free/reduced</td>\n",
              "      <td>none</td>\n",
              "      <td>65.0</td>\n",
              "      <td>86.0</td>\n",
              "      <td>80.0</td>\n",
              "    </tr>\n",
              "  </tbody>\n",
              "</table>\n",
              "</div>"
            ],
            "text/plain": [
              "              names  gender race/ethnicity parental level of education  \\\n",
              "1012    Jesus Kling    male        group B                some college   \n",
              "677   Richard Pryor    male        group E           bachelor's degree   \n",
              "1173     Ruth Dupre  female        group C                 high school   \n",
              "1283  Nicole Obrien  female        group B           bachelor's degree   \n",
              "595   Sarah Defazio  female        group C            some high school   \n",
              "\n",
              "             lunch test preparation course  math score  reading score  \\\n",
              "1012  free/reduced                    none       142.0          151.0   \n",
              "677       standard               completed       100.0          100.0   \n",
              "1173  free/reduced                    none        33.0           41.0   \n",
              "1283  free/reduced                    none       193.0          124.0   \n",
              "595   free/reduced                    none        65.0           86.0   \n",
              "\n",
              "      writing score  \n",
              "1012           34.0  \n",
              "677           100.0  \n",
              "1173           43.0  \n",
              "1283          124.0  \n",
              "595            80.0  "
            ]
          },
          "metadata": {},
          "output_type": "display_data"
        },
        {
          "name": "stdout",
          "output_type": "stream",
          "text": [
            "\n",
            "4.- Descripción numérica del Dataframe:\n"
          ]
        },
        {
          "data": {
            "text/html": [
              "<div>\n",
              "<style scoped>\n",
              "    .dataframe tbody tr th:only-of-type {\n",
              "        vertical-align: middle;\n",
              "    }\n",
              "\n",
              "    .dataframe tbody tr th {\n",
              "        vertical-align: top;\n",
              "    }\n",
              "\n",
              "    .dataframe thead th {\n",
              "        text-align: right;\n",
              "    }\n",
              "</style>\n",
              "<table border=\"1\" class=\"dataframe\">\n",
              "  <thead>\n",
              "    <tr style=\"text-align: right;\">\n",
              "      <th></th>\n",
              "      <th>math score</th>\n",
              "      <th>reading score</th>\n",
              "      <th>writing score</th>\n",
              "    </tr>\n",
              "  </thead>\n",
              "  <tbody>\n",
              "    <tr>\n",
              "      <th>count</th>\n",
              "      <td>1360.000000</td>\n",
              "      <td>1360.000000</td>\n",
              "      <td>1353.000000</td>\n",
              "    </tr>\n",
              "    <tr>\n",
              "      <th>mean</th>\n",
              "      <td>89.538971</td>\n",
              "      <td>93.086029</td>\n",
              "      <td>91.852919</td>\n",
              "    </tr>\n",
              "    <tr>\n",
              "      <th>std</th>\n",
              "      <td>47.152422</td>\n",
              "      <td>46.385775</td>\n",
              "      <td>47.043570</td>\n",
              "    </tr>\n",
              "    <tr>\n",
              "      <th>min</th>\n",
              "      <td>0.000000</td>\n",
              "      <td>17.000000</td>\n",
              "      <td>10.000000</td>\n",
              "    </tr>\n",
              "    <tr>\n",
              "      <th>25%</th>\n",
              "      <td>59.000000</td>\n",
              "      <td>63.000000</td>\n",
              "      <td>62.000000</td>\n",
              "    </tr>\n",
              "    <tr>\n",
              "      <th>50%</th>\n",
              "      <td>72.000000</td>\n",
              "      <td>76.000000</td>\n",
              "      <td>75.000000</td>\n",
              "    </tr>\n",
              "    <tr>\n",
              "      <th>75%</th>\n",
              "      <td>97.250000</td>\n",
              "      <td>100.000000</td>\n",
              "      <td>100.000000</td>\n",
              "    </tr>\n",
              "    <tr>\n",
              "      <th>max</th>\n",
              "      <td>196.000000</td>\n",
              "      <td>196.000000</td>\n",
              "      <td>196.000000</td>\n",
              "    </tr>\n",
              "  </tbody>\n",
              "</table>\n",
              "</div>"
            ],
            "text/plain": [
              "        math score  reading score  writing score\n",
              "count  1360.000000    1360.000000    1353.000000\n",
              "mean     89.538971      93.086029      91.852919\n",
              "std      47.152422      46.385775      47.043570\n",
              "min       0.000000      17.000000      10.000000\n",
              "25%      59.000000      63.000000      62.000000\n",
              "50%      72.000000      76.000000      75.000000\n",
              "75%      97.250000     100.000000     100.000000\n",
              "max     196.000000     196.000000     196.000000"
            ]
          },
          "metadata": {},
          "output_type": "display_data"
        },
        {
          "name": "stdout",
          "output_type": "stream",
          "text": [
            "\n",
            "5.- Cantidad de valores nulos por columna:\n"
          ]
        },
        {
          "data": {
            "text/plain": [
              "names                           0\n",
              "gender                          0\n",
              "race/ethnicity                  0\n",
              "parental level of education     0\n",
              "lunch                           0\n",
              "test preparation course         0\n",
              "math score                     40\n",
              "reading score                  40\n",
              "writing score                  47\n",
              "dtype: int64"
            ]
          },
          "metadata": {},
          "output_type": "display_data"
        },
        {
          "name": "stdout",
          "output_type": "stream",
          "text": [
            "\n",
            "6.- Cantidad de valores únicos por columna:\n"
          ]
        },
        {
          "data": {
            "text/plain": [
              "names                          1153\n",
              "gender                            2\n",
              "race/ethnicity                    5\n",
              "parental level of education       6\n",
              "lunch                             2\n",
              "test preparation course           2\n",
              "math score                       96\n",
              "reading score                    88\n",
              "writing score                    92\n",
              "dtype: int64"
            ]
          },
          "metadata": {},
          "output_type": "display_data"
        },
        {
          "name": "stdout",
          "output_type": "stream",
          "text": [
            "7.- Presenta un total de 247 filas con nombres duplicados.\n",
            "\n",
            "8.- Las filas con nombres duplicados son:\n"
          ]
        },
        {
          "data": {
            "text/html": [
              "<div>\n",
              "<style scoped>\n",
              "    .dataframe tbody tr th:only-of-type {\n",
              "        vertical-align: middle;\n",
              "    }\n",
              "\n",
              "    .dataframe tbody tr th {\n",
              "        vertical-align: top;\n",
              "    }\n",
              "\n",
              "    .dataframe thead th {\n",
              "        text-align: right;\n",
              "    }\n",
              "</style>\n",
              "<table border=\"1\" class=\"dataframe\">\n",
              "  <thead>\n",
              "    <tr style=\"text-align: right;\">\n",
              "      <th></th>\n",
              "      <th>names</th>\n",
              "      <th>gender</th>\n",
              "      <th>race/ethnicity</th>\n",
              "      <th>parental level of education</th>\n",
              "      <th>lunch</th>\n",
              "      <th>test preparation course</th>\n",
              "      <th>math score</th>\n",
              "      <th>reading score</th>\n",
              "      <th>writing score</th>\n",
              "    </tr>\n",
              "  </thead>\n",
              "  <tbody>\n",
              "    <tr>\n",
              "      <th>12</th>\n",
              "      <td>Rita Courtney</td>\n",
              "      <td>female</td>\n",
              "      <td>group B</td>\n",
              "      <td>some high school</td>\n",
              "      <td>standard</td>\n",
              "      <td>none</td>\n",
              "      <td>193.0</td>\n",
              "      <td>193.0</td>\n",
              "      <td>193.0</td>\n",
              "    </tr>\n",
              "    <tr>\n",
              "      <th>81</th>\n",
              "      <td>Elizabeth Quintero</td>\n",
              "      <td>female</td>\n",
              "      <td>group B</td>\n",
              "      <td>some college</td>\n",
              "      <td>standard</td>\n",
              "      <td>none</td>\n",
              "      <td>82.0</td>\n",
              "      <td>85.0</td>\n",
              "      <td>87.0</td>\n",
              "    </tr>\n",
              "    <tr>\n",
              "      <th>160</th>\n",
              "      <td>Michelle Gonzales</td>\n",
              "      <td>female</td>\n",
              "      <td>group B</td>\n",
              "      <td>some high school</td>\n",
              "      <td>standard</td>\n",
              "      <td>completed</td>\n",
              "      <td>60.0</td>\n",
              "      <td>70.0</td>\n",
              "      <td>74.0</td>\n",
              "    </tr>\n",
              "    <tr>\n",
              "      <th>170</th>\n",
              "      <td>Carla Mendoza</td>\n",
              "      <td>female</td>\n",
              "      <td>group D</td>\n",
              "      <td>associate's degree</td>\n",
              "      <td>free/reduced</td>\n",
              "      <td>none</td>\n",
              "      <td>43.0</td>\n",
              "      <td>60.0</td>\n",
              "      <td>58.0</td>\n",
              "    </tr>\n",
              "    <tr>\n",
              "      <th>176</th>\n",
              "      <td>Darlene Parker</td>\n",
              "      <td>female</td>\n",
              "      <td>group C</td>\n",
              "      <td>associate's degree</td>\n",
              "      <td>standard</td>\n",
              "      <td>none</td>\n",
              "      <td>54.0</td>\n",
              "      <td>61.0</td>\n",
              "      <td>58.0</td>\n",
              "    </tr>\n",
              "    <tr>\n",
              "      <th>...</th>\n",
              "      <td>...</td>\n",
              "      <td>...</td>\n",
              "      <td>...</td>\n",
              "      <td>...</td>\n",
              "      <td>...</td>\n",
              "      <td>...</td>\n",
              "      <td>...</td>\n",
              "      <td>...</td>\n",
              "      <td>...</td>\n",
              "    </tr>\n",
              "    <tr>\n",
              "      <th>1385</th>\n",
              "      <td>James Crawford</td>\n",
              "      <td>male</td>\n",
              "      <td>group D</td>\n",
              "      <td>master's degree</td>\n",
              "      <td>standard</td>\n",
              "      <td>none</td>\n",
              "      <td>193.0</td>\n",
              "      <td>147.0</td>\n",
              "      <td>131.0</td>\n",
              "    </tr>\n",
              "    <tr>\n",
              "      <th>1390</th>\n",
              "      <td>Gloria Bradford</td>\n",
              "      <td>female</td>\n",
              "      <td>group B</td>\n",
              "      <td>high school</td>\n",
              "      <td>standard</td>\n",
              "      <td>none</td>\n",
              "      <td>124.0</td>\n",
              "      <td>64.0</td>\n",
              "      <td>193.0</td>\n",
              "    </tr>\n",
              "    <tr>\n",
              "      <th>1393</th>\n",
              "      <td>Adam Romero</td>\n",
              "      <td>male</td>\n",
              "      <td>group C</td>\n",
              "      <td>high school</td>\n",
              "      <td>standard</td>\n",
              "      <td>completed</td>\n",
              "      <td>124.0</td>\n",
              "      <td>193.0</td>\n",
              "      <td>49.0</td>\n",
              "    </tr>\n",
              "    <tr>\n",
              "      <th>1395</th>\n",
              "      <td>Alexander Dillon</td>\n",
              "      <td>male</td>\n",
              "      <td>group D</td>\n",
              "      <td>associate's degree</td>\n",
              "      <td>standard</td>\n",
              "      <td>none</td>\n",
              "      <td>193.0</td>\n",
              "      <td>142.0</td>\n",
              "      <td>193.0</td>\n",
              "    </tr>\n",
              "    <tr>\n",
              "      <th>1398</th>\n",
              "      <td>Joseph Mccoy</td>\n",
              "      <td>male</td>\n",
              "      <td>group D</td>\n",
              "      <td>some college</td>\n",
              "      <td>free/reduced</td>\n",
              "      <td>none</td>\n",
              "      <td>193.0</td>\n",
              "      <td>196.0</td>\n",
              "      <td>193.0</td>\n",
              "    </tr>\n",
              "  </tbody>\n",
              "</table>\n",
              "<p>247 rows × 9 columns</p>\n",
              "</div>"
            ],
            "text/plain": [
              "                   names  gender race/ethnicity parental level of education  \\\n",
              "12         Rita Courtney  female        group B            some high school   \n",
              "81    Elizabeth Quintero  female        group B                some college   \n",
              "160    Michelle Gonzales  female        group B            some high school   \n",
              "170        Carla Mendoza  female        group D          associate's degree   \n",
              "176       Darlene Parker  female        group C          associate's degree   \n",
              "...                  ...     ...            ...                         ...   \n",
              "1385      James Crawford    male        group D             master's degree   \n",
              "1390     Gloria Bradford  female        group B                 high school   \n",
              "1393         Adam Romero    male        group C                 high school   \n",
              "1395    Alexander Dillon    male        group D          associate's degree   \n",
              "1398        Joseph Mccoy    male        group D                some college   \n",
              "\n",
              "             lunch test preparation course  math score  reading score  \\\n",
              "12        standard                    none       193.0          193.0   \n",
              "81        standard                    none        82.0           85.0   \n",
              "160       standard               completed        60.0           70.0   \n",
              "170   free/reduced                    none        43.0           60.0   \n",
              "176       standard                    none        54.0           61.0   \n",
              "...            ...                     ...         ...            ...   \n",
              "1385      standard                    none       193.0          147.0   \n",
              "1390      standard                    none       124.0           64.0   \n",
              "1393      standard               completed       124.0          193.0   \n",
              "1395      standard                    none       193.0          142.0   \n",
              "1398  free/reduced                    none       193.0          196.0   \n",
              "\n",
              "      writing score  \n",
              "12            193.0  \n",
              "81             87.0  \n",
              "160            74.0  \n",
              "170            58.0  \n",
              "176            58.0  \n",
              "...             ...  \n",
              "1385          131.0  \n",
              "1390          193.0  \n",
              "1393           49.0  \n",
              "1395          193.0  \n",
              "1398          193.0  \n",
              "\n",
              "[247 rows x 9 columns]"
            ]
          },
          "metadata": {},
          "output_type": "display_data"
        },
        {
          "name": "stdout",
          "output_type": "stream",
          "text": [
            "\n",
            "Boxplot de notas:\n"
          ]
        },
        {
          "data": {
            "image/png": "[encoded data removed]",
            "text/plain": [
              "<Figure size 360x648 with 1 Axes>"
            ]
          },
          "metadata": {
            "needs_background": "light"
          },
          "output_type": "display_data"
        }
      ],
      "source": [
        "exploratory_data_analysis(df_grades)"
      ]
    },
    {
      "cell_type": "markdown",
      "metadata": {
        "cell_id": "3d074815f0ca4aa2b209d22862a746dd",
        "deepnote_cell_height": 193.1875,
        "deepnote_cell_type": "markdown",
        "id": "YJfqPXFZjQiA"
      },
      "source": [
        "## 1.2 Limpieza de Datos [1 punto]\n",
        "\n",
        "<p align=\"center\">\n",
        "  <img src=\"https://blogdatlas.files.wordpress.com/2020/07/datlas_mx_blog_limpieza_bds_data-scrubbing-service.gif\">\n",
        "</p>\n"
      ]
    },
    {
      "cell_type": "markdown",
      "metadata": {
        "cell_id": "e2e475d0a8a04307868f13b96780b1a3",
        "deepnote_cell_height": 268.1875,
        "deepnote_cell_type": "markdown",
        "id": "syO5lHKvv6Wt"
      },
      "source": [
        "En base a lo realizado anteriormente, realice una limpieza de los dataset. Asuma los supuestos señalados en la pregunta anterior para limpiar el `DataFrame` y cree una función que le permita limpiar los datos. Habiendo limpiado el `DataFrame`, compruebe nuevamente los datos con la función creada en la sección 1.1.\n",
        "\n",
        "**To-Do:**\n",
        "\n",
        "- [ ] Crear función que permita limpiar el dataset.\n",
        "- [ ] Comprobar que no existen anomalías en los datos a traves de la función de la sección 1.1.\n",
        "\n",
        "**Hint**\n",
        "\n",
        "Puede ser útil los métodos ```.drop_duplicates()``` y ```.dropna()``` como también utilizar queries con máscaras booleanas.\n"
      ]
    },
    {
      "cell_type": "markdown",
      "metadata": {
        "cell_id": "790d40ae438842d1b9ca890cd8203da4",
        "deepnote_cell_height": 52.390625,
        "deepnote_cell_type": "markdown",
        "id": "L64tvgG68bSf",
        "tags": []
      },
      "source": [
        "**Respuesta:**"
      ]
    },
    {
      "cell_type": "code",
      "execution_count": 9,
      "metadata": {
        "colab": {
          "base_uri": "https://localhost:8080/",
          "height": 423
        },
        "id": "8xGj3mhDEvtv",
        "outputId": "4ca1c93c-25f5-4555-d214-fec26127c54d"
      },
      "outputs": [
        {
          "data": {
            "text/html": [
              "<div>\n",
              "<style scoped>\n",
              "    .dataframe tbody tr th:only-of-type {\n",
              "        vertical-align: middle;\n",
              "    }\n",
              "\n",
              "    .dataframe tbody tr th {\n",
              "        vertical-align: top;\n",
              "    }\n",
              "\n",
              "    .dataframe thead th {\n",
              "        text-align: right;\n",
              "    }\n",
              "</style>\n",
              "<table border=\"1\" class=\"dataframe\">\n",
              "  <thead>\n",
              "    <tr style=\"text-align: right;\">\n",
              "      <th></th>\n",
              "      <th>names</th>\n",
              "      <th>gender</th>\n",
              "      <th>race/ethnicity</th>\n",
              "      <th>parental level of education</th>\n",
              "      <th>lunch</th>\n",
              "      <th>test preparation course</th>\n",
              "      <th>math score</th>\n",
              "      <th>reading score</th>\n",
              "      <th>writing score</th>\n",
              "    </tr>\n",
              "  </thead>\n",
              "  <tbody>\n",
              "    <tr>\n",
              "      <th>0</th>\n",
              "      <td>Rita Courtney</td>\n",
              "      <td>female</td>\n",
              "      <td>group B</td>\n",
              "      <td>some high school</td>\n",
              "      <td>standard</td>\n",
              "      <td>none</td>\n",
              "      <td>37</td>\n",
              "      <td>46</td>\n",
              "      <td>46</td>\n",
              "    </tr>\n",
              "    <tr>\n",
              "      <th>1</th>\n",
              "      <td>Charles Linstrom</td>\n",
              "      <td>male</td>\n",
              "      <td>group A</td>\n",
              "      <td>bachelor's degree</td>\n",
              "      <td>standard</td>\n",
              "      <td>completed</td>\n",
              "      <td>80</td>\n",
              "      <td>78</td>\n",
              "      <td>81</td>\n",
              "    </tr>\n",
              "    <tr>\n",
              "      <th>2</th>\n",
              "      <td>Brian Young</td>\n",
              "      <td>male</td>\n",
              "      <td>group C</td>\n",
              "      <td>some high school</td>\n",
              "      <td>standard</td>\n",
              "      <td>none</td>\n",
              "      <td>73</td>\n",
              "      <td>66</td>\n",
              "      <td>63</td>\n",
              "    </tr>\n",
              "    <tr>\n",
              "      <th>3</th>\n",
              "      <td>Howard Jimenez</td>\n",
              "      <td>male</td>\n",
              "      <td>group E</td>\n",
              "      <td>some high school</td>\n",
              "      <td>standard</td>\n",
              "      <td>completed</td>\n",
              "      <td>81</td>\n",
              "      <td>75</td>\n",
              "      <td>76</td>\n",
              "    </tr>\n",
              "    <tr>\n",
              "      <th>4</th>\n",
              "      <td>Wayne Wilson</td>\n",
              "      <td>male</td>\n",
              "      <td>group B</td>\n",
              "      <td>some high school</td>\n",
              "      <td>standard</td>\n",
              "      <td>completed</td>\n",
              "      <td>94</td>\n",
              "      <td>86</td>\n",
              "      <td>87</td>\n",
              "    </tr>\n",
              "    <tr>\n",
              "      <th>...</th>\n",
              "      <td>...</td>\n",
              "      <td>...</td>\n",
              "      <td>...</td>\n",
              "      <td>...</td>\n",
              "      <td>...</td>\n",
              "      <td>...</td>\n",
              "      <td>...</td>\n",
              "      <td>...</td>\n",
              "      <td>...</td>\n",
              "    </tr>\n",
              "    <tr>\n",
              "      <th>870</th>\n",
              "      <td>Richard Young</td>\n",
              "      <td>male</td>\n",
              "      <td>group D</td>\n",
              "      <td>high school</td>\n",
              "      <td>standard</td>\n",
              "      <td>none</td>\n",
              "      <td>69</td>\n",
              "      <td>75</td>\n",
              "      <td>71</td>\n",
              "    </tr>\n",
              "    <tr>\n",
              "      <th>871</th>\n",
              "      <td>Wanda Russell</td>\n",
              "      <td>female</td>\n",
              "      <td>group B</td>\n",
              "      <td>high school</td>\n",
              "      <td>free/reduced</td>\n",
              "      <td>completed</td>\n",
              "      <td>23</td>\n",
              "      <td>44</td>\n",
              "      <td>36</td>\n",
              "    </tr>\n",
              "    <tr>\n",
              "      <th>872</th>\n",
              "      <td>Marina Zeigler</td>\n",
              "      <td>female</td>\n",
              "      <td>group C</td>\n",
              "      <td>bachelor's degree</td>\n",
              "      <td>free/reduced</td>\n",
              "      <td>completed</td>\n",
              "      <td>66</td>\n",
              "      <td>74</td>\n",
              "      <td>81</td>\n",
              "    </tr>\n",
              "    <tr>\n",
              "      <th>873</th>\n",
              "      <td>Laurie Carter</td>\n",
              "      <td>female</td>\n",
              "      <td>group B</td>\n",
              "      <td>some high school</td>\n",
              "      <td>standard</td>\n",
              "      <td>completed</td>\n",
              "      <td>54</td>\n",
              "      <td>61</td>\n",
              "      <td>62</td>\n",
              "    </tr>\n",
              "    <tr>\n",
              "      <th>874</th>\n",
              "      <td>Amanda Perez</td>\n",
              "      <td>female</td>\n",
              "      <td>group A</td>\n",
              "      <td>high school</td>\n",
              "      <td>standard</td>\n",
              "      <td>completed</td>\n",
              "      <td>68</td>\n",
              "      <td>80</td>\n",
              "      <td>76</td>\n",
              "    </tr>\n",
              "  </tbody>\n",
              "</table>\n",
              "<p>875 rows × 9 columns</p>\n",
              "</div>"
            ],
            "text/plain": [
              "                names  gender race/ethnicity parental level of education  \\\n",
              "0       Rita Courtney  female        group B            some high school   \n",
              "1    Charles Linstrom    male        group A           bachelor's degree   \n",
              "2         Brian Young    male        group C            some high school   \n",
              "3      Howard Jimenez    male        group E            some high school   \n",
              "4        Wayne Wilson    male        group B            some high school   \n",
              "..                ...     ...            ...                         ...   \n",
              "870     Richard Young    male        group D                 high school   \n",
              "871     Wanda Russell  female        group B                 high school   \n",
              "872    Marina Zeigler  female        group C           bachelor's degree   \n",
              "873     Laurie Carter  female        group B            some high school   \n",
              "874      Amanda Perez  female        group A                 high school   \n",
              "\n",
              "            lunch test preparation course math score reading score  \\\n",
              "0        standard                    none         37            46   \n",
              "1        standard               completed         80            78   \n",
              "2        standard                    none         73            66   \n",
              "3        standard               completed         81            75   \n",
              "4        standard               completed         94            86   \n",
              "..            ...                     ...        ...           ...   \n",
              "870      standard                    none         69            75   \n",
              "871  free/reduced               completed         23            44   \n",
              "872  free/reduced               completed         66            74   \n",
              "873      standard               completed         54            61   \n",
              "874      standard               completed         68            80   \n",
              "\n",
              "    writing score  \n",
              "0              46  \n",
              "1              81  \n",
              "2              63  \n",
              "3              76  \n",
              "4              87  \n",
              "..            ...  \n",
              "870            71  \n",
              "871            36  \n",
              "872            81  \n",
              "873            62  \n",
              "874            76  \n",
              "\n",
              "[875 rows x 9 columns]"
            ]
          },
          "execution_count": 9,
          "metadata": {},
          "output_type": "execute_result"
        }
      ],
      "source": [
        "def clean_data(dataframe):\n",
        "    \n",
        "    dataframe = dataframe.drop_duplicates(subset='names')\n",
        "    dataframe = dataframe.replace('', pd.NA)\n",
        "    dataframe = dataframe.dropna()\n",
        "    scores = ((dataframe['math score'] >= 0) & \n",
        "              (dataframe['math score'] <= 100) &\n",
        "              (dataframe['reading score'] >= 0) & \n",
        "              (dataframe['reading score'] <= 100) &\n",
        "              (dataframe['writing score'] >= 0) & \n",
        "              (dataframe['writing score'] <= 100))\n",
        "    dataframe = dataframe.loc[scores]\n",
        "    dataframe = dataframe.reset_index(drop = True)\n",
        "    \n",
        "    return dataframe\n",
        "\n",
        "df_grades = pd.read_json(\"students_grades.json\")\n",
        "df_grades = clean_data(df_grades)\n",
        "df_grades"
      ]
    },
    {
      "cell_type": "markdown",
      "metadata": {
        "cell_id": "5e5d1f06803f4231b350a0c3990cc018",
        "deepnote_cell_height": 66.390625,
        "deepnote_cell_type": "markdown",
        "id": "iAnb7kcRj9gJ"
      },
      "source": [
        "> Utilice la función creada en el punto 1.1 para verificar sus resultados."
      ]
    },
    {
      "cell_type": "code",
      "execution_count": 10,
      "metadata": {
        "colab": {
          "base_uri": "https://localhost:8080/",
          "height": 1000
        },
        "id": "uHdEoCnt8bSg",
        "outputId": "449bcf9d-a752-463a-f61b-ca8b9f12f1a9"
      },
      "outputs": [
        {
          "name": "stdout",
          "output_type": "stream",
          "text": [
            "1.- El DataFrame tiene 875 filas y 9 columnas\n",
            "2.- El DataFrame esta compuesto por las siguientes columnas: ['names', 'gender', 'race/ethnicity', 'parental level of education', 'lunch', 'test preparation course', 'math score', 'reading score', 'writing score']\n",
            "\n",
            "3.- Ejemplos de filas del DataFrame:\n",
            "\n",
            "Primeras 5 filas:\n"
          ]
        },
        {
          "data": {
            "text/html": [
              "<div>\n",
              "<style scoped>\n",
              "    .dataframe tbody tr th:only-of-type {\n",
              "        vertical-align: middle;\n",
              "    }\n",
              "\n",
              "    .dataframe tbody tr th {\n",
              "        vertical-align: top;\n",
              "    }\n",
              "\n",
              "    .dataframe thead th {\n",
              "        text-align: right;\n",
              "    }\n",
              "</style>\n",
              "<table border=\"1\" class=\"dataframe\">\n",
              "  <thead>\n",
              "    <tr style=\"text-align: right;\">\n",
              "      <th></th>\n",
              "      <th>names</th>\n",
              "      <th>gender</th>\n",
              "      <th>race/ethnicity</th>\n",
              "      <th>parental level of education</th>\n",
              "      <th>lunch</th>\n",
              "      <th>test preparation course</th>\n",
              "      <th>math score</th>\n",
              "      <th>reading score</th>\n",
              "      <th>writing score</th>\n",
              "    </tr>\n",
              "  </thead>\n",
              "  <tbody>\n",
              "    <tr>\n",
              "      <th>0</th>\n",
              "      <td>Rita Courtney</td>\n",
              "      <td>female</td>\n",
              "      <td>group B</td>\n",
              "      <td>some high school</td>\n",
              "      <td>standard</td>\n",
              "      <td>none</td>\n",
              "      <td>37</td>\n",
              "      <td>46</td>\n",
              "      <td>46</td>\n",
              "    </tr>\n",
              "    <tr>\n",
              "      <th>1</th>\n",
              "      <td>Charles Linstrom</td>\n",
              "      <td>male</td>\n",
              "      <td>group A</td>\n",
              "      <td>bachelor's degree</td>\n",
              "      <td>standard</td>\n",
              "      <td>completed</td>\n",
              "      <td>80</td>\n",
              "      <td>78</td>\n",
              "      <td>81</td>\n",
              "    </tr>\n",
              "    <tr>\n",
              "      <th>2</th>\n",
              "      <td>Brian Young</td>\n",
              "      <td>male</td>\n",
              "      <td>group C</td>\n",
              "      <td>some high school</td>\n",
              "      <td>standard</td>\n",
              "      <td>none</td>\n",
              "      <td>73</td>\n",
              "      <td>66</td>\n",
              "      <td>63</td>\n",
              "    </tr>\n",
              "    <tr>\n",
              "      <th>3</th>\n",
              "      <td>Howard Jimenez</td>\n",
              "      <td>male</td>\n",
              "      <td>group E</td>\n",
              "      <td>some high school</td>\n",
              "      <td>standard</td>\n",
              "      <td>completed</td>\n",
              "      <td>81</td>\n",
              "      <td>75</td>\n",
              "      <td>76</td>\n",
              "    </tr>\n",
              "    <tr>\n",
              "      <th>4</th>\n",
              "      <td>Wayne Wilson</td>\n",
              "      <td>male</td>\n",
              "      <td>group B</td>\n",
              "      <td>some high school</td>\n",
              "      <td>standard</td>\n",
              "      <td>completed</td>\n",
              "      <td>94</td>\n",
              "      <td>86</td>\n",
              "      <td>87</td>\n",
              "    </tr>\n",
              "  </tbody>\n",
              "</table>\n",
              "</div>"
            ],
            "text/plain": [
              "              names  gender race/ethnicity parental level of education  \\\n",
              "0     Rita Courtney  female        group B            some high school   \n",
              "1  Charles Linstrom    male        group A           bachelor's degree   \n",
              "2       Brian Young    male        group C            some high school   \n",
              "3    Howard Jimenez    male        group E            some high school   \n",
              "4      Wayne Wilson    male        group B            some high school   \n",
              "\n",
              "      lunch test preparation course  math score  reading score  writing score  \n",
              "0  standard                    none          37             46             46  \n",
              "1  standard               completed          80             78             81  \n",
              "2  standard                    none          73             66             63  \n",
              "3  standard               completed          81             75             76  \n",
              "4  standard               completed          94             86             87  "
            ]
          },
          "metadata": {},
          "output_type": "display_data"
        },
        {
          "name": "stdout",
          "output_type": "stream",
          "text": [
            "\n",
            "Últimas 5 filas:\n"
          ]
        },
        {
          "data": {
            "text/html": [
              "<div>\n",
              "<style scoped>\n",
              "    .dataframe tbody tr th:only-of-type {\n",
              "        vertical-align: middle;\n",
              "    }\n",
              "\n",
              "    .dataframe tbody tr th {\n",
              "        vertical-align: top;\n",
              "    }\n",
              "\n",
              "    .dataframe thead th {\n",
              "        text-align: right;\n",
              "    }\n",
              "</style>\n",
              "<table border=\"1\" class=\"dataframe\">\n",
              "  <thead>\n",
              "    <tr style=\"text-align: right;\">\n",
              "      <th></th>\n",
              "      <th>names</th>\n",
              "      <th>gender</th>\n",
              "      <th>race/ethnicity</th>\n",
              "      <th>parental level of education</th>\n",
              "      <th>lunch</th>\n",
              "      <th>test preparation course</th>\n",
              "      <th>math score</th>\n",
              "      <th>reading score</th>\n",
              "      <th>writing score</th>\n",
              "    </tr>\n",
              "  </thead>\n",
              "  <tbody>\n",
              "    <tr>\n",
              "      <th>870</th>\n",
              "      <td>Richard Young</td>\n",
              "      <td>male</td>\n",
              "      <td>group D</td>\n",
              "      <td>high school</td>\n",
              "      <td>standard</td>\n",
              "      <td>none</td>\n",
              "      <td>69</td>\n",
              "      <td>75</td>\n",
              "      <td>71</td>\n",
              "    </tr>\n",
              "    <tr>\n",
              "      <th>871</th>\n",
              "      <td>Wanda Russell</td>\n",
              "      <td>female</td>\n",
              "      <td>group B</td>\n",
              "      <td>high school</td>\n",
              "      <td>free/reduced</td>\n",
              "      <td>completed</td>\n",
              "      <td>23</td>\n",
              "      <td>44</td>\n",
              "      <td>36</td>\n",
              "    </tr>\n",
              "    <tr>\n",
              "      <th>872</th>\n",
              "      <td>Marina Zeigler</td>\n",
              "      <td>female</td>\n",
              "      <td>group C</td>\n",
              "      <td>bachelor's degree</td>\n",
              "      <td>free/reduced</td>\n",
              "      <td>completed</td>\n",
              "      <td>66</td>\n",
              "      <td>74</td>\n",
              "      <td>81</td>\n",
              "    </tr>\n",
              "    <tr>\n",
              "      <th>873</th>\n",
              "      <td>Laurie Carter</td>\n",
              "      <td>female</td>\n",
              "      <td>group B</td>\n",
              "      <td>some high school</td>\n",
              "      <td>standard</td>\n",
              "      <td>completed</td>\n",
              "      <td>54</td>\n",
              "      <td>61</td>\n",
              "      <td>62</td>\n",
              "    </tr>\n",
              "    <tr>\n",
              "      <th>874</th>\n",
              "      <td>Amanda Perez</td>\n",
              "      <td>female</td>\n",
              "      <td>group A</td>\n",
              "      <td>high school</td>\n",
              "      <td>standard</td>\n",
              "      <td>completed</td>\n",
              "      <td>68</td>\n",
              "      <td>80</td>\n",
              "      <td>76</td>\n",
              "    </tr>\n",
              "  </tbody>\n",
              "</table>\n",
              "</div>"
            ],
            "text/plain": [
              "              names  gender race/ethnicity parental level of education  \\\n",
              "870   Richard Young    male        group D                 high school   \n",
              "871   Wanda Russell  female        group B                 high school   \n",
              "872  Marina Zeigler  female        group C           bachelor's degree   \n",
              "873   Laurie Carter  female        group B            some high school   \n",
              "874    Amanda Perez  female        group A                 high school   \n",
              "\n",
              "            lunch test preparation course  math score  reading score  \\\n",
              "870      standard                    none          69             75   \n",
              "871  free/reduced               completed          23             44   \n",
              "872  free/reduced               completed          66             74   \n",
              "873      standard               completed          54             61   \n",
              "874      standard               completed          68             80   \n",
              "\n",
              "     writing score  \n",
              "870             71  \n",
              "871             36  \n",
              "872             81  \n",
              "873             62  \n",
              "874             76  "
            ]
          },
          "metadata": {},
          "output_type": "display_data"
        },
        {
          "name": "stdout",
          "output_type": "stream",
          "text": [
            "\n",
            "Muestreo aleatorio de 5 filas:\n"
          ]
        },
        {
          "data": {
            "text/html": [
              "<div>\n",
              "<style scoped>\n",
              "    .dataframe tbody tr th:only-of-type {\n",
              "        vertical-align: middle;\n",
              "    }\n",
              "\n",
              "    .dataframe tbody tr th {\n",
              "        vertical-align: top;\n",
              "    }\n",
              "\n",
              "    .dataframe thead th {\n",
              "        text-align: right;\n",
              "    }\n",
              "</style>\n",
              "<table border=\"1\" class=\"dataframe\">\n",
              "  <thead>\n",
              "    <tr style=\"text-align: right;\">\n",
              "      <th></th>\n",
              "      <th>names</th>\n",
              "      <th>gender</th>\n",
              "      <th>race/ethnicity</th>\n",
              "      <th>parental level of education</th>\n",
              "      <th>lunch</th>\n",
              "      <th>test preparation course</th>\n",
              "      <th>math score</th>\n",
              "      <th>reading score</th>\n",
              "      <th>writing score</th>\n",
              "    </tr>\n",
              "  </thead>\n",
              "  <tbody>\n",
              "    <tr>\n",
              "      <th>235</th>\n",
              "      <td>Michael Gaccione</td>\n",
              "      <td>male</td>\n",
              "      <td>group B</td>\n",
              "      <td>some college</td>\n",
              "      <td>free/reduced</td>\n",
              "      <td>none</td>\n",
              "      <td>54</td>\n",
              "      <td>54</td>\n",
              "      <td>45</td>\n",
              "    </tr>\n",
              "    <tr>\n",
              "      <th>411</th>\n",
              "      <td>Anita Hill</td>\n",
              "      <td>female</td>\n",
              "      <td>group A</td>\n",
              "      <td>associate's degree</td>\n",
              "      <td>free/reduced</td>\n",
              "      <td>none</td>\n",
              "      <td>65</td>\n",
              "      <td>85</td>\n",
              "      <td>76</td>\n",
              "    </tr>\n",
              "    <tr>\n",
              "      <th>695</th>\n",
              "      <td>Kathleen Hernandez</td>\n",
              "      <td>female</td>\n",
              "      <td>group C</td>\n",
              "      <td>some college</td>\n",
              "      <td>standard</td>\n",
              "      <td>completed</td>\n",
              "      <td>71</td>\n",
              "      <td>71</td>\n",
              "      <td>80</td>\n",
              "    </tr>\n",
              "    <tr>\n",
              "      <th>169</th>\n",
              "      <td>Maxine Walton</td>\n",
              "      <td>female</td>\n",
              "      <td>group E</td>\n",
              "      <td>some high school</td>\n",
              "      <td>free/reduced</td>\n",
              "      <td>none</td>\n",
              "      <td>74</td>\n",
              "      <td>74</td>\n",
              "      <td>72</td>\n",
              "    </tr>\n",
              "    <tr>\n",
              "      <th>694</th>\n",
              "      <td>Alyssa Mcgee</td>\n",
              "      <td>female</td>\n",
              "      <td>group D</td>\n",
              "      <td>master's degree</td>\n",
              "      <td>standard</td>\n",
              "      <td>none</td>\n",
              "      <td>54</td>\n",
              "      <td>60</td>\n",
              "      <td>63</td>\n",
              "    </tr>\n",
              "  </tbody>\n",
              "</table>\n",
              "</div>"
            ],
            "text/plain": [
              "                  names  gender race/ethnicity parental level of education  \\\n",
              "235    Michael Gaccione    male        group B                some college   \n",
              "411          Anita Hill  female        group A          associate's degree   \n",
              "695  Kathleen Hernandez  female        group C                some college   \n",
              "169       Maxine Walton  female        group E            some high school   \n",
              "694        Alyssa Mcgee  female        group D             master's degree   \n",
              "\n",
              "            lunch test preparation course  math score  reading score  \\\n",
              "235  free/reduced                    none          54             54   \n",
              "411  free/reduced                    none          65             85   \n",
              "695      standard               completed          71             71   \n",
              "169  free/reduced                    none          74             74   \n",
              "694      standard                    none          54             60   \n",
              "\n",
              "     writing score  \n",
              "235             45  \n",
              "411             76  \n",
              "695             80  \n",
              "169             72  \n",
              "694             63  "
            ]
          },
          "metadata": {},
          "output_type": "display_data"
        },
        {
          "name": "stdout",
          "output_type": "stream",
          "text": [
            "\n",
            "4.- Descripción numérica del Dataframe:\n"
          ]
        },
        {
          "data": {
            "text/html": [
              "<div>\n",
              "<style scoped>\n",
              "    .dataframe tbody tr th:only-of-type {\n",
              "        vertical-align: middle;\n",
              "    }\n",
              "\n",
              "    .dataframe tbody tr th {\n",
              "        vertical-align: top;\n",
              "    }\n",
              "\n",
              "    .dataframe thead th {\n",
              "        text-align: right;\n",
              "    }\n",
              "</style>\n",
              "<table border=\"1\" class=\"dataframe\">\n",
              "  <thead>\n",
              "    <tr style=\"text-align: right;\">\n",
              "      <th></th>\n",
              "      <th>math score</th>\n",
              "      <th>reading score</th>\n",
              "      <th>writing score</th>\n",
              "    </tr>\n",
              "  </thead>\n",
              "  <tbody>\n",
              "    <tr>\n",
              "      <th>count</th>\n",
              "      <td>875.000000</td>\n",
              "      <td>875.000000</td>\n",
              "      <td>875.000000</td>\n",
              "    </tr>\n",
              "    <tr>\n",
              "      <th>mean</th>\n",
              "      <td>66.225143</td>\n",
              "      <td>69.195429</td>\n",
              "      <td>68.114286</td>\n",
              "    </tr>\n",
              "    <tr>\n",
              "      <th>std</th>\n",
              "      <td>15.076716</td>\n",
              "      <td>14.629270</td>\n",
              "      <td>15.174220</td>\n",
              "    </tr>\n",
              "    <tr>\n",
              "      <th>min</th>\n",
              "      <td>0.000000</td>\n",
              "      <td>17.000000</td>\n",
              "      <td>10.000000</td>\n",
              "    </tr>\n",
              "    <tr>\n",
              "      <th>25%</th>\n",
              "      <td>57.000000</td>\n",
              "      <td>59.000000</td>\n",
              "      <td>57.500000</td>\n",
              "    </tr>\n",
              "    <tr>\n",
              "      <th>50%</th>\n",
              "      <td>66.000000</td>\n",
              "      <td>70.000000</td>\n",
              "      <td>69.000000</td>\n",
              "    </tr>\n",
              "    <tr>\n",
              "      <th>75%</th>\n",
              "      <td>76.500000</td>\n",
              "      <td>79.000000</td>\n",
              "      <td>79.000000</td>\n",
              "    </tr>\n",
              "    <tr>\n",
              "      <th>max</th>\n",
              "      <td>100.000000</td>\n",
              "      <td>100.000000</td>\n",
              "      <td>100.000000</td>\n",
              "    </tr>\n",
              "  </tbody>\n",
              "</table>\n",
              "</div>"
            ],
            "text/plain": [
              "       math score  reading score  writing score\n",
              "count  875.000000     875.000000     875.000000\n",
              "mean    66.225143      69.195429      68.114286\n",
              "std     15.076716      14.629270      15.174220\n",
              "min      0.000000      17.000000      10.000000\n",
              "25%     57.000000      59.000000      57.500000\n",
              "50%     66.000000      70.000000      69.000000\n",
              "75%     76.500000      79.000000      79.000000\n",
              "max    100.000000     100.000000     100.000000"
            ]
          },
          "metadata": {},
          "output_type": "display_data"
        },
        {
          "name": "stdout",
          "output_type": "stream",
          "text": [
            "\n",
            "5.- Cantidad de valores nulos por columna:\n"
          ]
        },
        {
          "data": {
            "text/plain": [
              "names                          0\n",
              "gender                         0\n",
              "race/ethnicity                 0\n",
              "parental level of education    0\n",
              "lunch                          0\n",
              "test preparation course        0\n",
              "math score                     0\n",
              "reading score                  0\n",
              "writing score                  0\n",
              "dtype: int64"
            ]
          },
          "metadata": {},
          "output_type": "display_data"
        },
        {
          "name": "stdout",
          "output_type": "stream",
          "text": [
            "\n",
            "6.- Cantidad de valores únicos por columna:\n"
          ]
        },
        {
          "data": {
            "text/plain": [
              "names                          875\n",
              "gender                           2\n",
              "race/ethnicity                   5\n",
              "parental level of education      6\n",
              "lunch                            2\n",
              "test preparation course          2\n",
              "math score                      79\n",
              "reading score                   72\n",
              "writing score                   77\n",
              "dtype: int64"
            ]
          },
          "metadata": {},
          "output_type": "display_data"
        },
        {
          "name": "stdout",
          "output_type": "stream",
          "text": [
            "7.- Presenta un total de 0 filas con nombres duplicados.\n",
            "\n",
            "8.- No existen filas con nombres duplicados\n",
            "\n",
            "Boxplot de notas:\n"
          ]
        },
        {
          "data": {
            "image/png": "[encoded data removed]",
            "text/plain": [
              "<Figure size 360x648 with 1 Axes>"
            ]
          },
          "metadata": {
            "needs_background": "light"
          },
          "output_type": "display_data"
        }
      ],
      "source": [
        "exploratory_data_analysis(df_grades)"
      ]
    },
    {
      "cell_type": "markdown",
      "metadata": {
        "cell_id": "eab4740074cb4a818035f3746a79b30b",
        "deepnote_cell_height": 52.390625,
        "deepnote_cell_type": "markdown",
        "id": "mPmHNen3jZCX"
      },
      "source": [
        "**Justificación:**"
      ]
    },
    {
      "cell_type": "markdown",
      "metadata": {
        "cell_id": "51dc52b217f64189a37826648b802ac7",
        "deepnote_cell_height": 70.796875,
        "deepnote_cell_type": "markdown",
        "id": "uCK_RZEajZHI"
      },
      "source": [
        "```\n",
        "Podemos apreciar que ahora no existen tantos outliers, la eliminación de outliers se basó en un registro visual de los boxplot originales de las variables numericas scores, podemos notar que los umbrales en cada caso son 10 y 160, se eliminaron filas duplicados y valores nulos o na, con la limpieza anterior se pudo lograr 1027 filas limpias de las 1400 iniciales es decir mas del 70% de los datos originales esto puede indicar que habían bastantes filas duplicadas (cabe resaltar que en el output aun siguen habiendo nombres duplicados eso se puede deber a personas con nombres iguales que puede pasar), también habían bastantes outliers que pueden afectar la interpretación de los resultados, al eliminarlos mediante inspección visual podemos garantizar igualmente representación de datos y limpieza de los mismos para ser usados en modelos\n",
        "```"
      ]
    },
    {
      "cell_type": "markdown",
      "metadata": {
        "cell_id": "e8bae7dfbd70490eacb49443d1ad8613",
        "deepnote_cell_height": 193.1875,
        "deepnote_cell_type": "markdown",
        "id": "2tnenh4uOF6k"
      },
      "source": [
        "## 1.3 Trabajando con Datos\n",
        "\n",
        "<p align=\"center\">\n",
        "  <img src=\"https://media3.giphy.com/media/YQitE4YNQNahy/giphy-downsized-large.gif\">\n",
        "</p>"
      ]
    },
    {
      "cell_type": "markdown",
      "metadata": {
        "cell_id": "a9957742e7854bd0a23a3c5add2c96ca",
        "deepnote_cell_height": 62,
        "deepnote_cell_type": "markdown",
        "id": "Qecw0sKor_Au"
      },
      "source": [
        "### 1.3.1 Transformación de notas a \"Nota Chilena\" [0.5 Puntos]"
      ]
    },
    {
      "cell_type": "markdown",
      "metadata": {
        "cell_id": "659f33b2de334546954b0a3f5fce0529",
        "deepnote_cell_height": 257.125,
        "deepnote_cell_type": "markdown",
        "id": "BfmD-9yi4PnX"
      },
      "source": [
        "En una de las reuniones con Don Caguayo este les comenta su intención de pasar todas sus notas a la \"Escala Chilena\". Para esto les facilita la siguiente ecuación:\n",
        "\n",
        "$$Nota \\, Chilena= \\% \\, de \\, logro*0.06 + 1$$\n",
        "\n",
        "Utilizando la ecuación entregada, cree una función que le permita pasar a la escala Chilena las notas que se escapan del rango [1,7] y entregue las notas redondeadas al segundo decimal.\n",
        "\n",
        "**To-Do**\n",
        "\n",
        "- [ ] Tranforme los valores a la escala chilena."
      ]
    },
    {
      "cell_type": "markdown",
      "metadata": {
        "cell_id": "7a81246b83064d0fbca407c670e66e0f",
        "deepnote_cell_height": 52.390625,
        "deepnote_cell_type": "markdown",
        "id": "qfE7HrJO8bSh",
        "tags": []
      },
      "source": [
        "**Respuesta:**"
      ]
    },
    {
      "cell_type": "code",
      "execution_count": 11,
      "metadata": {
        "cell_id": "cdc66a984fee4c99a59a65a3f62e5584",
        "deepnote_cell_type": "code",
        "deepnote_to_be_reexecuted": false,
        "execution_millis": 1,
        "execution_start": 1632493424541,
        "id": "GQ0gDEvd3T1m",
        "source_hash": "e84f9f19"
      },
      "outputs": [],
      "source": [
        "def nota_chilena(df_in, columna):\n",
        "  \"\"\"Convierte la scala porcentual de notas a notas chilenas\n",
        "\n",
        "        Parameters\n",
        "        ----------\n",
        "        df_in : pd.DataFrame\n",
        "            Dataframe con la información de cada alumno.\n",
        "        columna : String\n",
        "            Nombre de la columna que se quiere hacer la conversión.\n",
        "\n",
        "        Returns\n",
        "        -------\n",
        "        df_in : pd.Dataframe\n",
        "            Dataframe con la columna de notas convertida a notas chilenas.            \n",
        "        \"\"\"\n",
        "  df_in.loc[:,columna] = (df_in.loc[:,columna]*0.06 + 1).round(2)\n",
        "  return df_in"
      ]
    },
    {
      "cell_type": "code",
      "execution_count": 12,
      "metadata": {
        "colab": {
          "base_uri": "https://localhost:8080/",
          "height": 423
        },
        "id": "901OpEzn84YT",
        "outputId": "19f7b677-0347-47f3-8d2d-2e9ac0d57977"
      },
      "outputs": [
        {
          "data": {
            "text/html": [
              "<div>\n",
              "<style scoped>\n",
              "    .dataframe tbody tr th:only-of-type {\n",
              "        vertical-align: middle;\n",
              "    }\n",
              "\n",
              "    .dataframe tbody tr th {\n",
              "        vertical-align: top;\n",
              "    }\n",
              "\n",
              "    .dataframe thead th {\n",
              "        text-align: right;\n",
              "    }\n",
              "</style>\n",
              "<table border=\"1\" class=\"dataframe\">\n",
              "  <thead>\n",
              "    <tr style=\"text-align: right;\">\n",
              "      <th></th>\n",
              "      <th>names</th>\n",
              "      <th>gender</th>\n",
              "      <th>race/ethnicity</th>\n",
              "      <th>parental level of education</th>\n",
              "      <th>lunch</th>\n",
              "      <th>test preparation course</th>\n",
              "      <th>math score</th>\n",
              "      <th>reading score</th>\n",
              "      <th>writing score</th>\n",
              "    </tr>\n",
              "  </thead>\n",
              "  <tbody>\n",
              "    <tr>\n",
              "      <th>0</th>\n",
              "      <td>Rita Courtney</td>\n",
              "      <td>female</td>\n",
              "      <td>group B</td>\n",
              "      <td>some high school</td>\n",
              "      <td>standard</td>\n",
              "      <td>none</td>\n",
              "      <td>3.22</td>\n",
              "      <td>3.76</td>\n",
              "      <td>3.76</td>\n",
              "    </tr>\n",
              "    <tr>\n",
              "      <th>1</th>\n",
              "      <td>Charles Linstrom</td>\n",
              "      <td>male</td>\n",
              "      <td>group A</td>\n",
              "      <td>bachelor's degree</td>\n",
              "      <td>standard</td>\n",
              "      <td>completed</td>\n",
              "      <td>5.80</td>\n",
              "      <td>5.68</td>\n",
              "      <td>5.86</td>\n",
              "    </tr>\n",
              "    <tr>\n",
              "      <th>2</th>\n",
              "      <td>Brian Young</td>\n",
              "      <td>male</td>\n",
              "      <td>group C</td>\n",
              "      <td>some high school</td>\n",
              "      <td>standard</td>\n",
              "      <td>none</td>\n",
              "      <td>5.38</td>\n",
              "      <td>4.96</td>\n",
              "      <td>4.78</td>\n",
              "    </tr>\n",
              "    <tr>\n",
              "      <th>3</th>\n",
              "      <td>Howard Jimenez</td>\n",
              "      <td>male</td>\n",
              "      <td>group E</td>\n",
              "      <td>some high school</td>\n",
              "      <td>standard</td>\n",
              "      <td>completed</td>\n",
              "      <td>5.86</td>\n",
              "      <td>5.50</td>\n",
              "      <td>5.56</td>\n",
              "    </tr>\n",
              "    <tr>\n",
              "      <th>4</th>\n",
              "      <td>Wayne Wilson</td>\n",
              "      <td>male</td>\n",
              "      <td>group B</td>\n",
              "      <td>some high school</td>\n",
              "      <td>standard</td>\n",
              "      <td>completed</td>\n",
              "      <td>6.64</td>\n",
              "      <td>6.16</td>\n",
              "      <td>6.22</td>\n",
              "    </tr>\n",
              "    <tr>\n",
              "      <th>...</th>\n",
              "      <td>...</td>\n",
              "      <td>...</td>\n",
              "      <td>...</td>\n",
              "      <td>...</td>\n",
              "      <td>...</td>\n",
              "      <td>...</td>\n",
              "      <td>...</td>\n",
              "      <td>...</td>\n",
              "      <td>...</td>\n",
              "    </tr>\n",
              "    <tr>\n",
              "      <th>870</th>\n",
              "      <td>Richard Young</td>\n",
              "      <td>male</td>\n",
              "      <td>group D</td>\n",
              "      <td>high school</td>\n",
              "      <td>standard</td>\n",
              "      <td>none</td>\n",
              "      <td>5.14</td>\n",
              "      <td>5.50</td>\n",
              "      <td>5.26</td>\n",
              "    </tr>\n",
              "    <tr>\n",
              "      <th>871</th>\n",
              "      <td>Wanda Russell</td>\n",
              "      <td>female</td>\n",
              "      <td>group B</td>\n",
              "      <td>high school</td>\n",
              "      <td>free/reduced</td>\n",
              "      <td>completed</td>\n",
              "      <td>2.38</td>\n",
              "      <td>3.64</td>\n",
              "      <td>3.16</td>\n",
              "    </tr>\n",
              "    <tr>\n",
              "      <th>872</th>\n",
              "      <td>Marina Zeigler</td>\n",
              "      <td>female</td>\n",
              "      <td>group C</td>\n",
              "      <td>bachelor's degree</td>\n",
              "      <td>free/reduced</td>\n",
              "      <td>completed</td>\n",
              "      <td>4.96</td>\n",
              "      <td>5.44</td>\n",
              "      <td>5.86</td>\n",
              "    </tr>\n",
              "    <tr>\n",
              "      <th>873</th>\n",
              "      <td>Laurie Carter</td>\n",
              "      <td>female</td>\n",
              "      <td>group B</td>\n",
              "      <td>some high school</td>\n",
              "      <td>standard</td>\n",
              "      <td>completed</td>\n",
              "      <td>4.24</td>\n",
              "      <td>4.66</td>\n",
              "      <td>4.72</td>\n",
              "    </tr>\n",
              "    <tr>\n",
              "      <th>874</th>\n",
              "      <td>Amanda Perez</td>\n",
              "      <td>female</td>\n",
              "      <td>group A</td>\n",
              "      <td>high school</td>\n",
              "      <td>standard</td>\n",
              "      <td>completed</td>\n",
              "      <td>5.08</td>\n",
              "      <td>5.80</td>\n",
              "      <td>5.56</td>\n",
              "    </tr>\n",
              "  </tbody>\n",
              "</table>\n",
              "<p>875 rows × 9 columns</p>\n",
              "</div>"
            ],
            "text/plain": [
              "                names  gender race/ethnicity parental level of education  \\\n",
              "0       Rita Courtney  female        group B            some high school   \n",
              "1    Charles Linstrom    male        group A           bachelor's degree   \n",
              "2         Brian Young    male        group C            some high school   \n",
              "3      Howard Jimenez    male        group E            some high school   \n",
              "4        Wayne Wilson    male        group B            some high school   \n",
              "..                ...     ...            ...                         ...   \n",
              "870     Richard Young    male        group D                 high school   \n",
              "871     Wanda Russell  female        group B                 high school   \n",
              "872    Marina Zeigler  female        group C           bachelor's degree   \n",
              "873     Laurie Carter  female        group B            some high school   \n",
              "874      Amanda Perez  female        group A                 high school   \n",
              "\n",
              "            lunch test preparation course  math score  reading score  \\\n",
              "0        standard                    none        3.22           3.76   \n",
              "1        standard               completed        5.80           5.68   \n",
              "2        standard                    none        5.38           4.96   \n",
              "3        standard               completed        5.86           5.50   \n",
              "4        standard               completed        6.64           6.16   \n",
              "..            ...                     ...         ...            ...   \n",
              "870      standard                    none        5.14           5.50   \n",
              "871  free/reduced               completed        2.38           3.64   \n",
              "872  free/reduced               completed        4.96           5.44   \n",
              "873      standard               completed        4.24           4.66   \n",
              "874      standard               completed        5.08           5.80   \n",
              "\n",
              "     writing score  \n",
              "0             3.76  \n",
              "1             5.86  \n",
              "2             4.78  \n",
              "3             5.56  \n",
              "4             6.22  \n",
              "..             ...  \n",
              "870           5.26  \n",
              "871           3.16  \n",
              "872           5.86  \n",
              "873           4.72  \n",
              "874           5.56  \n",
              "\n",
              "[875 rows x 9 columns]"
            ]
          },
          "execution_count": 12,
          "metadata": {},
          "output_type": "execute_result"
        }
      ],
      "source": [
        "nota_chilena(df_grades,\"math score\")\n",
        "nota_chilena(df_grades,\"reading score\")\n",
        "nota_chilena(df_grades,\"writing score\")"
      ]
    },
    {
      "cell_type": "markdown",
      "metadata": {
        "cell_id": "2f4593d6c7f74bbaa53ff4e09705f58d",
        "deepnote_cell_height": 62,
        "deepnote_cell_type": "markdown",
        "id": "QGe-Hb2UTAE1"
      },
      "source": [
        "### 1.3.2 Obtención de promedio de alumnos [0.5]"
      ]
    },
    {
      "cell_type": "markdown",
      "metadata": {
        "cell_id": "7cfad230b8d54077a882557ffbf7a0fa",
        "deepnote_cell_height": 228.796875,
        "deepnote_cell_type": "markdown",
        "id": "AEkWI5K-OZgt"
      },
      "source": [
        "Con todas las notas adjuntadas, la prestigiosa Universidad De la Cachaña necesita obtener el promedio general de cada uno de los alumnos. Para esto se le solicita que calcule el promedio con cada una de las asignaturas y el promedio se anexe como una nueva columna al final del `DataFrame` original. Cabe señalar que las notas deben ser redondeadas al segundo decimal.\n",
        "\n",
        "**To-Do:**\n",
        "- [ ] Crear función que nos permite obtener el promedio de cada uno de los alumnos y anexar esta información en el `DataFrame` original.\n"
      ]
    },
    {
      "cell_type": "markdown",
      "metadata": {
        "cell_id": "f3ac369f88dd4fb49ff0a0eb7c8aa2f8",
        "deepnote_cell_height": 52.390625,
        "deepnote_cell_type": "markdown",
        "id": "Z3ZCC50K8bSi",
        "tags": []
      },
      "source": [
        "**Respuesta:**"
      ]
    },
    {
      "cell_type": "code",
      "execution_count": 13,
      "metadata": {
        "cell_id": "bc30e6c0196f4efb8b70269a4b4488e6",
        "deepnote_cell_type": "code",
        "deepnote_to_be_reexecuted": false,
        "execution_millis": 0,
        "execution_start": 1632493424597,
        "id": "b6CTPp5TAMhE",
        "source_hash": "810948b"
      },
      "outputs": [],
      "source": [
        "def alumnos_promedio(dataframe_in):\n",
        "  \"\"\"Calcula el promedio de los alumnos\n",
        "\n",
        "    Parameters\n",
        "    ----------\n",
        "    dataframe_in : pd.DataFrame\n",
        "        Dataframe con la información de cada alumno.\n",
        "    Returns\n",
        "    -------\n",
        "    dataframe_in : pd.Dataframe\n",
        "        Dataframe original con una nueva columna con el promedio de notas.            \n",
        "    \"\"\"\n",
        "\n",
        "  df_series_mean_row = dataframe_in.mean(numeric_only = True, axis=1)\n",
        "  dataframe_in.loc[:,\"GPA\"] = df_series_mean_row\n",
        "  return dataframe_in"
      ]
    },
    {
      "cell_type": "markdown",
      "metadata": {
        "cell_id": "fc86529a3235459e9d9617defd15b64f",
        "deepnote_cell_height": 52.390625,
        "deepnote_cell_type": "markdown",
        "id": "hrakfq02Si8z"
      },
      "source": [
        "**Respuesta Esperada:**"
      ]
    },
    {
      "cell_type": "code",
      "execution_count": 14,
      "metadata": {
        "cell_id": "aa7fb0c1c2b24d6b8ac269b877ae4d1e",
        "colab": {
          "base_uri": "https://localhost:8080/",
          "height": 206
        },
        "deepnote_cell_type": "code",
        "deepnote_to_be_reexecuted": false,
        "execution_millis": 43,
        "execution_start": 1632493424603,
        "id": "g9Fiwt8USiac",
        "outputId": "bcffa579-dd57-4c05-e1b5-4aaa2132049c",
        "source_hash": "55e53e3b"
      },
      "outputs": [
        {
          "data": {
            "text/html": [
              "<div>\n",
              "<style scoped>\n",
              "    .dataframe tbody tr th:only-of-type {\n",
              "        vertical-align: middle;\n",
              "    }\n",
              "\n",
              "    .dataframe tbody tr th {\n",
              "        vertical-align: top;\n",
              "    }\n",
              "\n",
              "    .dataframe thead th {\n",
              "        text-align: right;\n",
              "    }\n",
              "</style>\n",
              "<table border=\"1\" class=\"dataframe\">\n",
              "  <thead>\n",
              "    <tr style=\"text-align: right;\">\n",
              "      <th></th>\n",
              "      <th>names</th>\n",
              "      <th>gender</th>\n",
              "      <th>race/ethnicity</th>\n",
              "      <th>parental level of education</th>\n",
              "      <th>lunch</th>\n",
              "      <th>test preparation course</th>\n",
              "      <th>math score</th>\n",
              "      <th>reading score</th>\n",
              "      <th>writing score</th>\n",
              "      <th>GPA</th>\n",
              "    </tr>\n",
              "  </thead>\n",
              "  <tbody>\n",
              "    <tr>\n",
              "      <th>0</th>\n",
              "      <td>Rita Courtney</td>\n",
              "      <td>female</td>\n",
              "      <td>group B</td>\n",
              "      <td>some high school</td>\n",
              "      <td>standard</td>\n",
              "      <td>none</td>\n",
              "      <td>3.22</td>\n",
              "      <td>3.76</td>\n",
              "      <td>3.76</td>\n",
              "      <td>3.58</td>\n",
              "    </tr>\n",
              "    <tr>\n",
              "      <th>1</th>\n",
              "      <td>Charles Linstrom</td>\n",
              "      <td>male</td>\n",
              "      <td>group A</td>\n",
              "      <td>bachelor's degree</td>\n",
              "      <td>standard</td>\n",
              "      <td>completed</td>\n",
              "      <td>5.80</td>\n",
              "      <td>5.68</td>\n",
              "      <td>5.86</td>\n",
              "      <td>5.78</td>\n",
              "    </tr>\n",
              "    <tr>\n",
              "      <th>2</th>\n",
              "      <td>Brian Young</td>\n",
              "      <td>male</td>\n",
              "      <td>group C</td>\n",
              "      <td>some high school</td>\n",
              "      <td>standard</td>\n",
              "      <td>none</td>\n",
              "      <td>5.38</td>\n",
              "      <td>4.96</td>\n",
              "      <td>4.78</td>\n",
              "      <td>5.04</td>\n",
              "    </tr>\n",
              "    <tr>\n",
              "      <th>3</th>\n",
              "      <td>Howard Jimenez</td>\n",
              "      <td>male</td>\n",
              "      <td>group E</td>\n",
              "      <td>some high school</td>\n",
              "      <td>standard</td>\n",
              "      <td>completed</td>\n",
              "      <td>5.86</td>\n",
              "      <td>5.50</td>\n",
              "      <td>5.56</td>\n",
              "      <td>5.64</td>\n",
              "    </tr>\n",
              "    <tr>\n",
              "      <th>4</th>\n",
              "      <td>Wayne Wilson</td>\n",
              "      <td>male</td>\n",
              "      <td>group B</td>\n",
              "      <td>some high school</td>\n",
              "      <td>standard</td>\n",
              "      <td>completed</td>\n",
              "      <td>6.64</td>\n",
              "      <td>6.16</td>\n",
              "      <td>6.22</td>\n",
              "      <td>6.34</td>\n",
              "    </tr>\n",
              "  </tbody>\n",
              "</table>\n",
              "</div>"
            ],
            "text/plain": [
              "              names  gender race/ethnicity parental level of education  \\\n",
              "0     Rita Courtney  female        group B            some high school   \n",
              "1  Charles Linstrom    male        group A           bachelor's degree   \n",
              "2       Brian Young    male        group C            some high school   \n",
              "3    Howard Jimenez    male        group E            some high school   \n",
              "4      Wayne Wilson    male        group B            some high school   \n",
              "\n",
              "      lunch test preparation course  math score  reading score  writing score  \\\n",
              "0  standard                    none        3.22           3.76           3.76   \n",
              "1  standard               completed        5.80           5.68           5.86   \n",
              "2  standard                    none        5.38           4.96           4.78   \n",
              "3  standard               completed        5.86           5.50           5.56   \n",
              "4  standard               completed        6.64           6.16           6.22   \n",
              "\n",
              "    GPA  \n",
              "0  3.58  \n",
              "1  5.78  \n",
              "2  5.04  \n",
              "3  5.64  \n",
              "4  6.34  "
            ]
          },
          "execution_count": 14,
          "metadata": {},
          "output_type": "execute_result"
        }
      ],
      "source": [
        "df_grades = alumnos_promedio(df_grades)\n",
        "df_grades.head()"
      ]
    },
    {
      "cell_type": "markdown",
      "metadata": {
        "cell_id": "c21b246e4e69406bae62ef84a2622606",
        "deepnote_cell_height": 62,
        "deepnote_cell_type": "markdown",
        "id": "uA0ZXAWyBoLX"
      },
      "source": [
        "### 1.3.3 Reprobados y Destacados [1.5 Punto, 0.5 Cada DataFrame]"
      ]
    },
    {
      "cell_type": "markdown",
      "metadata": {
        "cell_id": "ace5ce3428164715950dec02f0238769",
        "deepnote_cell_height": 403.1875,
        "deepnote_cell_type": "markdown",
        "id": "k1FKahC3_g5_"
      },
      "source": [
        "Contentos con su desempeño, la Universidad les solicita que obtengan los alumnos quienes han reprobado el año y los que han tenido desempeño de destacado. Para esto se considerará que un alumno ha reprobado el año cuando el promedio de notas es inferior a 4.0 en la Escala Chilena, y se considerará destacado si posee notas superiores a 5.8 en todas las asignaturas (o sea notas superiores a 5.8 en `math score`, `reading score` y `writing score`).\n",
        "\n",
        "Cree una función que permita obtener tres Dataframes: \n",
        "- El primero deberá poseer solamente los alumnos que han reprobado en la prestigiosa universidad.\n",
        "- El segundo debe entregar un DataFrame similar al original, pero marcado con una \"R\" el promedio de notas de los alumnos reprobados.\n",
        "- El tercero será un Data Frame con los alumnos destacados ordenados de mayor a menor.\n",
        "\n",
        "**To-Do:**\n",
        "\n",
        "- [ ] Obtener DataFrame con los alumnos que reprobaron el año.\n",
        "- [ ] Obtener DataFrame similar al original, pero marcados con una \"R\" el atributo GPA de los alumnos reprobados.\n",
        "- [ ] Obtener DataFrame con los alumnos destacados ordenados de mayor a menor."
      ]
    },
    {
      "cell_type": "markdown",
      "metadata": {
        "cell_id": "2405a5e38bad45d08d0b57c2d91e9b5e",
        "deepnote_cell_height": 52.390625,
        "deepnote_cell_type": "markdown",
        "id": "NRbTn9gn8bSj",
        "tags": []
      },
      "source": [
        "**Respuesta:**"
      ]
    },
    {
      "cell_type": "code",
      "execution_count": 15,
      "metadata": {
        "cell_id": "ce545f96b454485dbe5f54451ada1c0f",
        "deepnote_cell_type": "code",
        "deepnote_to_be_reexecuted": false,
        "execution_millis": 2,
        "execution_start": 1632493424637,
        "id": "Yw52wzwMAXHW",
        "source_hash": "e3c68478"
      },
      "outputs": [],
      "source": [
        "def reprobados_destacados(dataframe_in):\n",
        "  \"\"\"Verifica alumnos destacados y reprobados\n",
        "\n",
        "  Parameters\n",
        "  ----------\n",
        "  dataframe_in : pd.DataFrame\n",
        "      Dataframe con la información de cada alumno.\n",
        "  Returns\n",
        "  -------\n",
        "  dataframe_reprobados : pd.Dataframe\n",
        "      Dataframe de los estudiantes reprobados. \n",
        "  dataframe_in_R : pd.Dataframe\n",
        "      Dataframe original, modificando las notas menores a 4.0 por una R\n",
        "  dataframe_destacados : pd.Dataframe\n",
        "      Dataframe con los alumnos destacados        \n",
        "  \"\"\"\n",
        "  reprobados_bool_list = dataframe_in[\"GPA\"] < 4\n",
        "  destacados_bool_list = (\n",
        "      (dataframe_in.loc[:,[\"math score\",\"reading score\", \"writing score\"]] >= 5.8)\n",
        "      .mean(axis = 1) == 1)\n",
        "  dataframe_in_R = dataframe_in.copy()\n",
        "  dataframe_reprobados = dataframe_in[reprobados_bool_list]\n",
        "  dataframe_destacados = dataframe_in[destacados_bool_list]\n",
        "  dataframe_in_R.loc[reprobados_bool_list,\"GPA\"] = \"R\"\n",
        "  return dataframe_reprobados, dataframe_in_R, dataframe_destacados"
      ]
    },
    {
      "cell_type": "code",
      "execution_count": 16,
      "metadata": {
        "cell_id": "a3751ec6cfa249f6b51ff767666c754b",
        "colab": {
          "base_uri": "https://localhost:8080/",
          "height": 423
        },
        "deepnote_cell_type": "code",
        "deepnote_to_be_reexecuted": false,
        "execution_millis": 69,
        "execution_start": 1632493424642,
        "id": "LlxNXK11XBGn",
        "outputId": "6adcf06a-3fde-44ec-e058-7142c70800f5",
        "source_hash": "73b6de2"
      },
      "outputs": [
        {
          "data": {
            "text/html": [
              "<div>\n",
              "<style scoped>\n",
              "    .dataframe tbody tr th:only-of-type {\n",
              "        vertical-align: middle;\n",
              "    }\n",
              "\n",
              "    .dataframe tbody tr th {\n",
              "        vertical-align: top;\n",
              "    }\n",
              "\n",
              "    .dataframe thead th {\n",
              "        text-align: right;\n",
              "    }\n",
              "</style>\n",
              "<table border=\"1\" class=\"dataframe\">\n",
              "  <thead>\n",
              "    <tr style=\"text-align: right;\">\n",
              "      <th></th>\n",
              "      <th>names</th>\n",
              "      <th>gender</th>\n",
              "      <th>race/ethnicity</th>\n",
              "      <th>parental level of education</th>\n",
              "      <th>lunch</th>\n",
              "      <th>test preparation course</th>\n",
              "      <th>math score</th>\n",
              "      <th>reading score</th>\n",
              "      <th>writing score</th>\n",
              "      <th>GPA</th>\n",
              "    </tr>\n",
              "  </thead>\n",
              "  <tbody>\n",
              "    <tr>\n",
              "      <th>0</th>\n",
              "      <td>Rita Courtney</td>\n",
              "      <td>female</td>\n",
              "      <td>group B</td>\n",
              "      <td>some high school</td>\n",
              "      <td>standard</td>\n",
              "      <td>none</td>\n",
              "      <td>3.22</td>\n",
              "      <td>3.76</td>\n",
              "      <td>3.76</td>\n",
              "      <td>3.58</td>\n",
              "    </tr>\n",
              "    <tr>\n",
              "      <th>7</th>\n",
              "      <td>Mikki Amaya</td>\n",
              "      <td>female</td>\n",
              "      <td>group A</td>\n",
              "      <td>high school</td>\n",
              "      <td>free/reduced</td>\n",
              "      <td>completed</td>\n",
              "      <td>3.04</td>\n",
              "      <td>3.88</td>\n",
              "      <td>3.46</td>\n",
              "      <td>3.46</td>\n",
              "    </tr>\n",
              "    <tr>\n",
              "      <th>16</th>\n",
              "      <td>Samuel Dougal</td>\n",
              "      <td>male</td>\n",
              "      <td>group C</td>\n",
              "      <td>master's degree</td>\n",
              "      <td>free/reduced</td>\n",
              "      <td>completed</td>\n",
              "      <td>3.76</td>\n",
              "      <td>3.52</td>\n",
              "      <td>3.76</td>\n",
              "      <td>3.68</td>\n",
              "    </tr>\n",
              "    <tr>\n",
              "      <th>39</th>\n",
              "      <td>Rodger Talavera</td>\n",
              "      <td>male</td>\n",
              "      <td>group B</td>\n",
              "      <td>high school</td>\n",
              "      <td>free/reduced</td>\n",
              "      <td>none</td>\n",
              "      <td>3.16</td>\n",
              "      <td>2.74</td>\n",
              "      <td>2.62</td>\n",
              "      <td>2.84</td>\n",
              "    </tr>\n",
              "    <tr>\n",
              "      <th>43</th>\n",
              "      <td>Morris Johnson</td>\n",
              "      <td>male</td>\n",
              "      <td>group A</td>\n",
              "      <td>associate's degree</td>\n",
              "      <td>free/reduced</td>\n",
              "      <td>completed</td>\n",
              "      <td>3.40</td>\n",
              "      <td>4.30</td>\n",
              "      <td>4.18</td>\n",
              "      <td>3.96</td>\n",
              "    </tr>\n",
              "    <tr>\n",
              "      <th>...</th>\n",
              "      <td>...</td>\n",
              "      <td>...</td>\n",
              "      <td>...</td>\n",
              "      <td>...</td>\n",
              "      <td>...</td>\n",
              "      <td>...</td>\n",
              "      <td>...</td>\n",
              "      <td>...</td>\n",
              "      <td>...</td>\n",
              "      <td>...</td>\n",
              "    </tr>\n",
              "    <tr>\n",
              "      <th>852</th>\n",
              "      <td>Charles Harian</td>\n",
              "      <td>male</td>\n",
              "      <td>group C</td>\n",
              "      <td>some high school</td>\n",
              "      <td>free/reduced</td>\n",
              "      <td>completed</td>\n",
              "      <td>3.70</td>\n",
              "      <td>4.12</td>\n",
              "      <td>3.94</td>\n",
              "      <td>3.92</td>\n",
              "    </tr>\n",
              "    <tr>\n",
              "      <th>854</th>\n",
              "      <td>Wendy Gunnell</td>\n",
              "      <td>female</td>\n",
              "      <td>group D</td>\n",
              "      <td>some high school</td>\n",
              "      <td>free/reduced</td>\n",
              "      <td>none</td>\n",
              "      <td>2.62</td>\n",
              "      <td>3.04</td>\n",
              "      <td>2.92</td>\n",
              "      <td>2.86</td>\n",
              "    </tr>\n",
              "    <tr>\n",
              "      <th>868</th>\n",
              "      <td>Diana Costa</td>\n",
              "      <td>female</td>\n",
              "      <td>group C</td>\n",
              "      <td>high school</td>\n",
              "      <td>free/reduced</td>\n",
              "      <td>none</td>\n",
              "      <td>3.46</td>\n",
              "      <td>3.76</td>\n",
              "      <td>3.58</td>\n",
              "      <td>3.60</td>\n",
              "    </tr>\n",
              "    <tr>\n",
              "      <th>869</th>\n",
              "      <td>Amy Sieving</td>\n",
              "      <td>female</td>\n",
              "      <td>group C</td>\n",
              "      <td>high school</td>\n",
              "      <td>standard</td>\n",
              "      <td>none</td>\n",
              "      <td>2.74</td>\n",
              "      <td>2.74</td>\n",
              "      <td>2.80</td>\n",
              "      <td>2.76</td>\n",
              "    </tr>\n",
              "    <tr>\n",
              "      <th>871</th>\n",
              "      <td>Wanda Russell</td>\n",
              "      <td>female</td>\n",
              "      <td>group B</td>\n",
              "      <td>high school</td>\n",
              "      <td>free/reduced</td>\n",
              "      <td>completed</td>\n",
              "      <td>2.38</td>\n",
              "      <td>3.64</td>\n",
              "      <td>3.16</td>\n",
              "      <td>3.06</td>\n",
              "    </tr>\n",
              "  </tbody>\n",
              "</table>\n",
              "<p>86 rows × 10 columns</p>\n",
              "</div>"
            ],
            "text/plain": [
              "               names  gender race/ethnicity parental level of education  \\\n",
              "0      Rita Courtney  female        group B            some high school   \n",
              "7        Mikki Amaya  female        group A                 high school   \n",
              "16     Samuel Dougal    male        group C             master's degree   \n",
              "39   Rodger Talavera    male        group B                 high school   \n",
              "43    Morris Johnson    male        group A          associate's degree   \n",
              "..               ...     ...            ...                         ...   \n",
              "852   Charles Harian    male        group C            some high school   \n",
              "854    Wendy Gunnell  female        group D            some high school   \n",
              "868      Diana Costa  female        group C                 high school   \n",
              "869      Amy Sieving  female        group C                 high school   \n",
              "871    Wanda Russell  female        group B                 high school   \n",
              "\n",
              "            lunch test preparation course  math score  reading score  \\\n",
              "0        standard                    none        3.22           3.76   \n",
              "7    free/reduced               completed        3.04           3.88   \n",
              "16   free/reduced               completed        3.76           3.52   \n",
              "39   free/reduced                    none        3.16           2.74   \n",
              "43   free/reduced               completed        3.40           4.30   \n",
              "..            ...                     ...         ...            ...   \n",
              "852  free/reduced               completed        3.70           4.12   \n",
              "854  free/reduced                    none        2.62           3.04   \n",
              "868  free/reduced                    none        3.46           3.76   \n",
              "869      standard                    none        2.74           2.74   \n",
              "871  free/reduced               completed        2.38           3.64   \n",
              "\n",
              "     writing score   GPA  \n",
              "0             3.76  3.58  \n",
              "7             3.46  3.46  \n",
              "16            3.76  3.68  \n",
              "39            2.62  2.84  \n",
              "43            4.18  3.96  \n",
              "..             ...   ...  \n",
              "852           3.94  3.92  \n",
              "854           2.92  2.86  \n",
              "868           3.58  3.60  \n",
              "869           2.80  2.76  \n",
              "871           3.16  3.06  \n",
              "\n",
              "[86 rows x 10 columns]"
            ]
          },
          "execution_count": 16,
          "metadata": {},
          "output_type": "execute_result"
        }
      ],
      "source": [
        "dataframe1, dataframe2, dataframe3 = reprobados_destacados(df_grades)\n",
        "dataframe1"
      ]
    },
    {
      "cell_type": "code",
      "execution_count": 17,
      "metadata": {
        "cell_id": "6d91970e395a45f1bf7b2cd894c2caf6",
        "colab": {
          "base_uri": "https://localhost:8080/",
          "height": 423
        },
        "deepnote_cell_type": "code",
        "deepnote_to_be_reexecuted": false,
        "execution_millis": 67,
        "execution_start": 1632493424700,
        "id": "tpG_2VzNEpf7",
        "outputId": "5d8726c5-8421-4acb-c21c-4afef9f44dd0",
        "source_hash": "6205a86b"
      },
      "outputs": [
        {
          "data": {
            "text/html": [
              "<div>\n",
              "<style scoped>\n",
              "    .dataframe tbody tr th:only-of-type {\n",
              "        vertical-align: middle;\n",
              "    }\n",
              "\n",
              "    .dataframe tbody tr th {\n",
              "        vertical-align: top;\n",
              "    }\n",
              "\n",
              "    .dataframe thead th {\n",
              "        text-align: right;\n",
              "    }\n",
              "</style>\n",
              "<table border=\"1\" class=\"dataframe\">\n",
              "  <thead>\n",
              "    <tr style=\"text-align: right;\">\n",
              "      <th></th>\n",
              "      <th>names</th>\n",
              "      <th>gender</th>\n",
              "      <th>race/ethnicity</th>\n",
              "      <th>parental level of education</th>\n",
              "      <th>lunch</th>\n",
              "      <th>test preparation course</th>\n",
              "      <th>math score</th>\n",
              "      <th>reading score</th>\n",
              "      <th>writing score</th>\n",
              "      <th>GPA</th>\n",
              "    </tr>\n",
              "  </thead>\n",
              "  <tbody>\n",
              "    <tr>\n",
              "      <th>0</th>\n",
              "      <td>Rita Courtney</td>\n",
              "      <td>female</td>\n",
              "      <td>group B</td>\n",
              "      <td>some high school</td>\n",
              "      <td>standard</td>\n",
              "      <td>none</td>\n",
              "      <td>3.22</td>\n",
              "      <td>3.76</td>\n",
              "      <td>3.76</td>\n",
              "      <td>R</td>\n",
              "    </tr>\n",
              "    <tr>\n",
              "      <th>1</th>\n",
              "      <td>Charles Linstrom</td>\n",
              "      <td>male</td>\n",
              "      <td>group A</td>\n",
              "      <td>bachelor's degree</td>\n",
              "      <td>standard</td>\n",
              "      <td>completed</td>\n",
              "      <td>5.80</td>\n",
              "      <td>5.68</td>\n",
              "      <td>5.86</td>\n",
              "      <td>5.78</td>\n",
              "    </tr>\n",
              "    <tr>\n",
              "      <th>2</th>\n",
              "      <td>Brian Young</td>\n",
              "      <td>male</td>\n",
              "      <td>group C</td>\n",
              "      <td>some high school</td>\n",
              "      <td>standard</td>\n",
              "      <td>none</td>\n",
              "      <td>5.38</td>\n",
              "      <td>4.96</td>\n",
              "      <td>4.78</td>\n",
              "      <td>5.04</td>\n",
              "    </tr>\n",
              "    <tr>\n",
              "      <th>3</th>\n",
              "      <td>Howard Jimenez</td>\n",
              "      <td>male</td>\n",
              "      <td>group E</td>\n",
              "      <td>some high school</td>\n",
              "      <td>standard</td>\n",
              "      <td>completed</td>\n",
              "      <td>5.86</td>\n",
              "      <td>5.50</td>\n",
              "      <td>5.56</td>\n",
              "      <td>5.64</td>\n",
              "    </tr>\n",
              "    <tr>\n",
              "      <th>4</th>\n",
              "      <td>Wayne Wilson</td>\n",
              "      <td>male</td>\n",
              "      <td>group B</td>\n",
              "      <td>some high school</td>\n",
              "      <td>standard</td>\n",
              "      <td>completed</td>\n",
              "      <td>6.64</td>\n",
              "      <td>6.16</td>\n",
              "      <td>6.22</td>\n",
              "      <td>6.34</td>\n",
              "    </tr>\n",
              "    <tr>\n",
              "      <th>...</th>\n",
              "      <td>...</td>\n",
              "      <td>...</td>\n",
              "      <td>...</td>\n",
              "      <td>...</td>\n",
              "      <td>...</td>\n",
              "      <td>...</td>\n",
              "      <td>...</td>\n",
              "      <td>...</td>\n",
              "      <td>...</td>\n",
              "      <td>...</td>\n",
              "    </tr>\n",
              "    <tr>\n",
              "      <th>870</th>\n",
              "      <td>Richard Young</td>\n",
              "      <td>male</td>\n",
              "      <td>group D</td>\n",
              "      <td>high school</td>\n",
              "      <td>standard</td>\n",
              "      <td>none</td>\n",
              "      <td>5.14</td>\n",
              "      <td>5.50</td>\n",
              "      <td>5.26</td>\n",
              "      <td>5.3</td>\n",
              "    </tr>\n",
              "    <tr>\n",
              "      <th>871</th>\n",
              "      <td>Wanda Russell</td>\n",
              "      <td>female</td>\n",
              "      <td>group B</td>\n",
              "      <td>high school</td>\n",
              "      <td>free/reduced</td>\n",
              "      <td>completed</td>\n",
              "      <td>2.38</td>\n",
              "      <td>3.64</td>\n",
              "      <td>3.16</td>\n",
              "      <td>R</td>\n",
              "    </tr>\n",
              "    <tr>\n",
              "      <th>872</th>\n",
              "      <td>Marina Zeigler</td>\n",
              "      <td>female</td>\n",
              "      <td>group C</td>\n",
              "      <td>bachelor's degree</td>\n",
              "      <td>free/reduced</td>\n",
              "      <td>completed</td>\n",
              "      <td>4.96</td>\n",
              "      <td>5.44</td>\n",
              "      <td>5.86</td>\n",
              "      <td>5.42</td>\n",
              "    </tr>\n",
              "    <tr>\n",
              "      <th>873</th>\n",
              "      <td>Laurie Carter</td>\n",
              "      <td>female</td>\n",
              "      <td>group B</td>\n",
              "      <td>some high school</td>\n",
              "      <td>standard</td>\n",
              "      <td>completed</td>\n",
              "      <td>4.24</td>\n",
              "      <td>4.66</td>\n",
              "      <td>4.72</td>\n",
              "      <td>4.54</td>\n",
              "    </tr>\n",
              "    <tr>\n",
              "      <th>874</th>\n",
              "      <td>Amanda Perez</td>\n",
              "      <td>female</td>\n",
              "      <td>group A</td>\n",
              "      <td>high school</td>\n",
              "      <td>standard</td>\n",
              "      <td>completed</td>\n",
              "      <td>5.08</td>\n",
              "      <td>5.80</td>\n",
              "      <td>5.56</td>\n",
              "      <td>5.48</td>\n",
              "    </tr>\n",
              "  </tbody>\n",
              "</table>\n",
              "<p>875 rows × 10 columns</p>\n",
              "</div>"
            ],
            "text/plain": [
              "                names  gender race/ethnicity parental level of education  \\\n",
              "0       Rita Courtney  female        group B            some high school   \n",
              "1    Charles Linstrom    male        group A           bachelor's degree   \n",
              "2         Brian Young    male        group C            some high school   \n",
              "3      Howard Jimenez    male        group E            some high school   \n",
              "4        Wayne Wilson    male        group B            some high school   \n",
              "..                ...     ...            ...                         ...   \n",
              "870     Richard Young    male        group D                 high school   \n",
              "871     Wanda Russell  female        group B                 high school   \n",
              "872    Marina Zeigler  female        group C           bachelor's degree   \n",
              "873     Laurie Carter  female        group B            some high school   \n",
              "874      Amanda Perez  female        group A                 high school   \n",
              "\n",
              "            lunch test preparation course  math score  reading score  \\\n",
              "0        standard                    none        3.22           3.76   \n",
              "1        standard               completed        5.80           5.68   \n",
              "2        standard                    none        5.38           4.96   \n",
              "3        standard               completed        5.86           5.50   \n",
              "4        standard               completed        6.64           6.16   \n",
              "..            ...                     ...         ...            ...   \n",
              "870      standard                    none        5.14           5.50   \n",
              "871  free/reduced               completed        2.38           3.64   \n",
              "872  free/reduced               completed        4.96           5.44   \n",
              "873      standard               completed        4.24           4.66   \n",
              "874      standard               completed        5.08           5.80   \n",
              "\n",
              "     writing score   GPA  \n",
              "0             3.76     R  \n",
              "1             5.86  5.78  \n",
              "2             4.78  5.04  \n",
              "3             5.56  5.64  \n",
              "4             6.22  6.34  \n",
              "..             ...   ...  \n",
              "870           5.26   5.3  \n",
              "871           3.16     R  \n",
              "872           5.86  5.42  \n",
              "873           4.72  4.54  \n",
              "874           5.56  5.48  \n",
              "\n",
              "[875 rows x 10 columns]"
            ]
          },
          "execution_count": 17,
          "metadata": {},
          "output_type": "execute_result"
        }
      ],
      "source": [
        "dataframe2"
      ]
    },
    {
      "cell_type": "code",
      "execution_count": 18,
      "metadata": {
        "cell_id": "38102b5b3ad74a0b9e4c8cccda94b76e",
        "colab": {
          "base_uri": "https://localhost:8080/",
          "height": 423
        },
        "deepnote_cell_type": "code",
        "deepnote_to_be_reexecuted": false,
        "execution_millis": 44,
        "execution_start": 1632493424750,
        "id": "Lc2yYjHr8bSl",
        "outputId": "b91def8e-3a45-4157-f711-843f4681f0f5",
        "source_hash": "142d1b25",
        "tags": []
      },
      "outputs": [
        {
          "data": {
            "text/html": [
              "<div>\n",
              "<style scoped>\n",
              "    .dataframe tbody tr th:only-of-type {\n",
              "        vertical-align: middle;\n",
              "    }\n",
              "\n",
              "    .dataframe tbody tr th {\n",
              "        vertical-align: top;\n",
              "    }\n",
              "\n",
              "    .dataframe thead th {\n",
              "        text-align: right;\n",
              "    }\n",
              "</style>\n",
              "<table border=\"1\" class=\"dataframe\">\n",
              "  <thead>\n",
              "    <tr style=\"text-align: right;\">\n",
              "      <th></th>\n",
              "      <th>names</th>\n",
              "      <th>gender</th>\n",
              "      <th>race/ethnicity</th>\n",
              "      <th>parental level of education</th>\n",
              "      <th>lunch</th>\n",
              "      <th>test preparation course</th>\n",
              "      <th>math score</th>\n",
              "      <th>reading score</th>\n",
              "      <th>writing score</th>\n",
              "      <th>GPA</th>\n",
              "    </tr>\n",
              "  </thead>\n",
              "  <tbody>\n",
              "    <tr>\n",
              "      <th>4</th>\n",
              "      <td>Wayne Wilson</td>\n",
              "      <td>male</td>\n",
              "      <td>group B</td>\n",
              "      <td>some high school</td>\n",
              "      <td>standard</td>\n",
              "      <td>completed</td>\n",
              "      <td>6.64</td>\n",
              "      <td>6.16</td>\n",
              "      <td>6.22</td>\n",
              "      <td>6.34</td>\n",
              "    </tr>\n",
              "    <tr>\n",
              "      <th>21</th>\n",
              "      <td>Shanna Braswell</td>\n",
              "      <td>female</td>\n",
              "      <td>group D</td>\n",
              "      <td>bachelor's degree</td>\n",
              "      <td>free/reduced</td>\n",
              "      <td>completed</td>\n",
              "      <td>6.58</td>\n",
              "      <td>7.00</td>\n",
              "      <td>7.00</td>\n",
              "      <td>6.86</td>\n",
              "    </tr>\n",
              "    <tr>\n",
              "      <th>24</th>\n",
              "      <td>Daniel Cartwright</td>\n",
              "      <td>male</td>\n",
              "      <td>group C</td>\n",
              "      <td>high school</td>\n",
              "      <td>standard</td>\n",
              "      <td>completed</td>\n",
              "      <td>6.16</td>\n",
              "      <td>5.86</td>\n",
              "      <td>5.80</td>\n",
              "      <td>5.94</td>\n",
              "    </tr>\n",
              "    <tr>\n",
              "      <th>29</th>\n",
              "      <td>Thelma Yeates</td>\n",
              "      <td>female</td>\n",
              "      <td>group E</td>\n",
              "      <td>associate's degree</td>\n",
              "      <td>free/reduced</td>\n",
              "      <td>completed</td>\n",
              "      <td>5.98</td>\n",
              "      <td>6.16</td>\n",
              "      <td>6.28</td>\n",
              "      <td>6.14</td>\n",
              "    </tr>\n",
              "    <tr>\n",
              "      <th>54</th>\n",
              "      <td>Natalie Turney</td>\n",
              "      <td>female</td>\n",
              "      <td>group E</td>\n",
              "      <td>associate's degree</td>\n",
              "      <td>standard</td>\n",
              "      <td>none</td>\n",
              "      <td>6.10</td>\n",
              "      <td>6.52</td>\n",
              "      <td>6.10</td>\n",
              "      <td>6.24</td>\n",
              "    </tr>\n",
              "    <tr>\n",
              "      <th>...</th>\n",
              "      <td>...</td>\n",
              "      <td>...</td>\n",
              "      <td>...</td>\n",
              "      <td>...</td>\n",
              "      <td>...</td>\n",
              "      <td>...</td>\n",
              "      <td>...</td>\n",
              "      <td>...</td>\n",
              "      <td>...</td>\n",
              "      <td>...</td>\n",
              "    </tr>\n",
              "    <tr>\n",
              "      <th>830</th>\n",
              "      <td>Paul Brownell</td>\n",
              "      <td>male</td>\n",
              "      <td>group B</td>\n",
              "      <td>high school</td>\n",
              "      <td>standard</td>\n",
              "      <td>none</td>\n",
              "      <td>5.92</td>\n",
              "      <td>5.92</td>\n",
              "      <td>5.80</td>\n",
              "      <td>5.88</td>\n",
              "    </tr>\n",
              "    <tr>\n",
              "      <th>838</th>\n",
              "      <td>Sandra Pompey</td>\n",
              "      <td>female</td>\n",
              "      <td>group E</td>\n",
              "      <td>associate's degree</td>\n",
              "      <td>standard</td>\n",
              "      <td>none</td>\n",
              "      <td>7.00</td>\n",
              "      <td>7.00</td>\n",
              "      <td>7.00</td>\n",
              "      <td>7.00</td>\n",
              "    </tr>\n",
              "    <tr>\n",
              "      <th>843</th>\n",
              "      <td>Earnest Cole</td>\n",
              "      <td>male</td>\n",
              "      <td>group D</td>\n",
              "      <td>some college</td>\n",
              "      <td>standard</td>\n",
              "      <td>completed</td>\n",
              "      <td>5.92</td>\n",
              "      <td>5.92</td>\n",
              "      <td>6.28</td>\n",
              "      <td>6.04</td>\n",
              "    </tr>\n",
              "    <tr>\n",
              "      <th>850</th>\n",
              "      <td>Charles Herandez</td>\n",
              "      <td>male</td>\n",
              "      <td>group D</td>\n",
              "      <td>master's degree</td>\n",
              "      <td>free/reduced</td>\n",
              "      <td>completed</td>\n",
              "      <td>6.04</td>\n",
              "      <td>6.34</td>\n",
              "      <td>6.40</td>\n",
              "      <td>6.26</td>\n",
              "    </tr>\n",
              "    <tr>\n",
              "      <th>861</th>\n",
              "      <td>Robert Morrison</td>\n",
              "      <td>male</td>\n",
              "      <td>group D</td>\n",
              "      <td>some college</td>\n",
              "      <td>standard</td>\n",
              "      <td>completed</td>\n",
              "      <td>7.00</td>\n",
              "      <td>6.82</td>\n",
              "      <td>6.94</td>\n",
              "      <td>6.92</td>\n",
              "    </tr>\n",
              "  </tbody>\n",
              "</table>\n",
              "<p>103 rows × 10 columns</p>\n",
              "</div>"
            ],
            "text/plain": [
              "                 names  gender race/ethnicity parental level of education  \\\n",
              "4         Wayne Wilson    male        group B            some high school   \n",
              "21     Shanna Braswell  female        group D           bachelor's degree   \n",
              "24   Daniel Cartwright    male        group C                 high school   \n",
              "29       Thelma Yeates  female        group E          associate's degree   \n",
              "54      Natalie Turney  female        group E          associate's degree   \n",
              "..                 ...     ...            ...                         ...   \n",
              "830      Paul Brownell    male        group B                 high school   \n",
              "838      Sandra Pompey  female        group E          associate's degree   \n",
              "843       Earnest Cole    male        group D                some college   \n",
              "850   Charles Herandez    male        group D             master's degree   \n",
              "861    Robert Morrison    male        group D                some college   \n",
              "\n",
              "            lunch test preparation course  math score  reading score  \\\n",
              "4        standard               completed        6.64           6.16   \n",
              "21   free/reduced               completed        6.58           7.00   \n",
              "24       standard               completed        6.16           5.86   \n",
              "29   free/reduced               completed        5.98           6.16   \n",
              "54       standard                    none        6.10           6.52   \n",
              "..            ...                     ...         ...            ...   \n",
              "830      standard                    none        5.92           5.92   \n",
              "838      standard                    none        7.00           7.00   \n",
              "843      standard               completed        5.92           5.92   \n",
              "850  free/reduced               completed        6.04           6.34   \n",
              "861      standard               completed        7.00           6.82   \n",
              "\n",
              "     writing score   GPA  \n",
              "4             6.22  6.34  \n",
              "21            7.00  6.86  \n",
              "24            5.80  5.94  \n",
              "29            6.28  6.14  \n",
              "54            6.10  6.24  \n",
              "..             ...   ...  \n",
              "830           5.80  5.88  \n",
              "838           7.00  7.00  \n",
              "843           6.28  6.04  \n",
              "850           6.40  6.26  \n",
              "861           6.94  6.92  \n",
              "\n",
              "[103 rows x 10 columns]"
            ]
          },
          "execution_count": 18,
          "metadata": {},
          "output_type": "execute_result"
        }
      ],
      "source": [
        "dataframe3"
      ]
    },
    {
      "cell_type": "markdown",
      "metadata": {
        "cell_id": "01f964f83d5942eb9ca82ef3fcb70a0a",
        "deepnote_cell_height": 52.390625,
        "deepnote_cell_type": "markdown",
        "id": "jb9sjfJlwolM"
      },
      "source": [
        "**Respuesta:**"
      ]
    },
    {
      "cell_type": "markdown",
      "metadata": {
        "cell_id": "38c64233757c4985b29c07279bc78513",
        "deepnote_cell_height": 70.796875,
        "deepnote_cell_type": "markdown",
        "id": "vDl7h7JbwrKh"
      },
      "source": [
        "```\n",
        "Escriba aqui su respuesta\n",
        "```"
      ]
    },
    {
      "cell_type": "markdown",
      "metadata": {
        "cell_id": "8832b33cd78d47949c968a2646aec992",
        "deepnote_cell_height": 62,
        "deepnote_cell_type": "markdown",
        "id": "OtEMcm4w8bSl",
        "tags": []
      },
      "source": [
        "### 1.3.4 Consultas de Alumnos [0.5 Puntos]"
      ]
    },
    {
      "cell_type": "markdown",
      "metadata": {
        "cell_id": "070fe32b6da2483cb3d54ddb58907d1f",
        "deepnote_cell_height": 318.390625,
        "deepnote_cell_type": "markdown",
        "id": "qQmnEsRl8bSm",
        "tags": []
      },
      "source": [
        "Algunos padres (extremadamente entrometidos y...) preocupados por el desempeño de sus hijos, desean saber estos han aprobado o no el año. Como la tarea de buscar a mano cada uno de estos alumnos en el `DataFrame` resulta demasiado tedioso, el rector le solicita crear una función que tenga como entrada el `DataFrame` donde se realizará la busqueda y una lista con los nombres de los alumnos, luego la función deberá retornar un `DataFrame` con los nombres de los alumnos y el promedio general de cada uno. \n",
        "\n",
        "Creada la función busque el promedio general de los siguientes alumnos en el segundo Data frame creado en la sección 1.3.3:\n",
        "\n",
        "`['Lucille Stanphill','Marcus Mcfarland', 'Matthew Freeman', 'Dana Mojica', 'Paul Hyder', 'Jeffrey Korn', 'Robert Strain',\n",
        "'Ronald Jett', 'Lorena Reed', 'Hazel Posey']`\n",
        "\n",
        "**Hint:** Puede serle de utilidad utilizar `isin()`."
      ]
    },
    {
      "cell_type": "markdown",
      "metadata": {
        "cell_id": "eac58a1f277140ce9da89f3730b3fb2f",
        "deepnote_cell_height": 52.390625,
        "deepnote_cell_type": "markdown",
        "id": "78cphet48bSm",
        "tags": []
      },
      "source": [
        "**Respuesta:**"
      ]
    },
    {
      "cell_type": "code",
      "execution_count": 19,
      "metadata": {
        "cell_id": "b1c7677b27004027988c12d477fb313c",
        "colab": {
          "base_uri": "https://localhost:8080/",
          "height": 300
        },
        "deepnote_cell_type": "code",
        "deepnote_to_be_reexecuted": false,
        "execution_millis": 21,
        "execution_start": 1632493424802,
        "id": "G6EL_R918bSm",
        "outputId": "2d5b1bae-add7-4dcb-cc2d-b37560a175e8",
        "source_hash": "f3ff8aa7",
        "tags": []
      },
      "outputs": [
        {
          "data": {
            "text/html": [
              "<div>\n",
              "<style scoped>\n",
              "    .dataframe tbody tr th:only-of-type {\n",
              "        vertical-align: middle;\n",
              "    }\n",
              "\n",
              "    .dataframe tbody tr th {\n",
              "        vertical-align: top;\n",
              "    }\n",
              "\n",
              "    .dataframe thead th {\n",
              "        text-align: right;\n",
              "    }\n",
              "</style>\n",
              "<table border=\"1\" class=\"dataframe\">\n",
              "  <thead>\n",
              "    <tr style=\"text-align: right;\">\n",
              "      <th></th>\n",
              "      <th>names</th>\n",
              "      <th>GPA</th>\n",
              "    </tr>\n",
              "  </thead>\n",
              "  <tbody>\n",
              "    <tr>\n",
              "      <th>198</th>\n",
              "      <td>Lucille Stanphill</td>\n",
              "      <td>5.94</td>\n",
              "    </tr>\n",
              "    <tr>\n",
              "      <th>372</th>\n",
              "      <td>Marcus Mcfarland</td>\n",
              "      <td>4.86</td>\n",
              "    </tr>\n",
              "    <tr>\n",
              "      <th>418</th>\n",
              "      <td>Matthew Freeman</td>\n",
              "      <td>R</td>\n",
              "    </tr>\n",
              "    <tr>\n",
              "      <th>421</th>\n",
              "      <td>Dana Mojica</td>\n",
              "      <td>R</td>\n",
              "    </tr>\n",
              "    <tr>\n",
              "      <th>675</th>\n",
              "      <td>Robert Strain</td>\n",
              "      <td>4.4</td>\n",
              "    </tr>\n",
              "    <tr>\n",
              "      <th>679</th>\n",
              "      <td>Ronald Jett</td>\n",
              "      <td>R</td>\n",
              "    </tr>\n",
              "    <tr>\n",
              "      <th>681</th>\n",
              "      <td>Hazel Posey</td>\n",
              "      <td>R</td>\n",
              "    </tr>\n",
              "    <tr>\n",
              "      <th>753</th>\n",
              "      <td>Lorena Reed</td>\n",
              "      <td>R</td>\n",
              "    </tr>\n",
              "  </tbody>\n",
              "</table>\n",
              "</div>"
            ],
            "text/plain": [
              "                 names   GPA\n",
              "198  Lucille Stanphill  5.94\n",
              "372   Marcus Mcfarland  4.86\n",
              "418    Matthew Freeman     R\n",
              "421        Dana Mojica     R\n",
              "675      Robert Strain   4.4\n",
              "679        Ronald Jett     R\n",
              "681        Hazel Posey     R\n",
              "753        Lorena Reed     R"
            ]
          },
          "execution_count": 19,
          "metadata": {},
          "output_type": "execute_result"
        }
      ],
      "source": [
        "def consulta_gpa(dataframe_in, lista_alumnos):\n",
        "  \"\"\"Busca los valores de la lista de alumnos\n",
        "\n",
        "  Parameters\n",
        "  ----------\n",
        "  dataframe_in : pd.DataFrame\n",
        "      Dataframe con la información de cada alumno.\n",
        "  lista_alumnos : List\n",
        "      Lista de alumnos consultados\n",
        "  Returns\n",
        "  -------\n",
        "  dataframe_in : pd.Dataframe\n",
        "      Dataframe que solo contiene la información de los alumnos consultados     \n",
        "  \"\"\"\n",
        "  index_alumnos = dataframe_in.loc[:,\"names\"].isin(lista_alumnos)\n",
        "  return dataframe_in.loc[index_alumnos,[\"names\",\"GPA\"]]\n",
        "\n",
        "\n",
        "lista_alumnos = [\n",
        "    \"Lucille Stanphill\",\n",
        "    \"Marcus Mcfarland\",\n",
        "    \"Matthew Freeman\",\n",
        "    \"Dana Mojica\",\n",
        "    \"Paul Hyder\",\n",
        "    \"Jeffrey Korn\",\n",
        "    \"Robert Strain\",\n",
        "    \"Ronald Jett\",\n",
        "    \"Lorena Reed\",\n",
        "    \"Hazel Posey\",\n",
        "]\n",
        "consulta_gpa(dataframe2, lista_alumnos)"
      ]
    },
    {
      "cell_type": "markdown",
      "metadata": {
        "cell_id": "1089864478cb44d3a15b23ab71702fa0",
        "deepnote_cell_height": 62,
        "deepnote_cell_type": "markdown",
        "id": "RA5gurNV8bSn",
        "tags": []
      },
      "source": [
        "### 1.3.5 Quintiles de Rendimiento [0.5 Puntos]"
      ]
    },
    {
      "cell_type": "markdown",
      "metadata": {
        "cell_id": "706390cf4d5e47968980262ec7948e48",
        "deepnote_cell_height": 214.796875,
        "deepnote_cell_type": "markdown",
        "id": "cn_-fj7P8bSn",
        "tags": []
      },
      "source": [
        "El rector, intrigado por saber si existe una relación entre el nivel educacional de los padres y las notas de sus hijos les plantea estudiar dicha relación. Para esto, les solicita que desde el `DataFrame` que posee a todos los alumnos (`DataFrame` obtenido tras la limpieza), generen una nueva columna que clasifique en quintiles de rendimiento para sus alumnos: `['Bajísimo', 'Bajo', 'Medio', 'Alto', 'Muy alto']`. (investigar `qcut()`)\n",
        "\n",
        "Hecho esto, grafique a través de un scatter plot el nivel educacional de los padres v/s el promedio de los alumnos, utilice los cuantiles generados anteriormente para mostrar en que cuantil se encuentra cada uno de los datos.\n",
        "\n",
        "Realizado el grafico, responda la siguiente pregunta: **¿Es posible visualizar alguna tendencia en el gráfico?.**\n",
        "\n"
      ]
    },
    {
      "cell_type": "markdown",
      "metadata": {
        "cell_id": "460b9d3cb8a84b699b79a9a81bfcddaa",
        "deepnote_cell_height": 52.390625,
        "deepnote_cell_type": "markdown",
        "id": "iVEh4K1u8bSo",
        "tags": []
      },
      "source": [
        "**Respuesta:**"
      ]
    },
    {
      "cell_type": "code",
      "execution_count": 20,
      "metadata": {
        "cell_id": "e50d779df09248bf8491fe0f5dd192c3",
        "colab": {
          "base_uri": "https://localhost:8080/",
          "height": 542
        },
        "deepnote_cell_type": "code",
        "deepnote_to_be_reexecuted": false,
        "execution_millis": 134,
        "execution_start": 1632493424819,
        "id": "0GHs1f6N8bSo",
        "outputId": "ebb24ef1-2028-4172-c582-cf31268f36db",
        "source_hash": "8fe13806",
        "tags": []
      },
      "outputs": [
        {
          "data": {
            "application/vnd.plotly.v1+json": {
              "config": {
                "plotlyServerURL": "https://plot.ly"
              },
              "data": [
                {
                  "customdata": [
                    [
                      "female"
                    ],
                    [
                      "female"
                    ],
                    [
                      "male"
                    ],
                    [
                      "male"
                    ],
                    [
                      "female"
                    ],
                    [
                      "male"
                    ],
                    [
                      "female"
                    ],
                    [
                      "female"
                    ],
                    [
                      "female"
                    ],
                    [
                      "male"
                    ],
                    [
                      "male"
                    ],
                    [
                      "female"
                    ],
                    [
                      "female"
                    ],
                    [
                      "female"
                    ],
                    [
                      "male"
                    ],
                    [
                      "female"
                    ],
                    [
                      "female"
                    ],
                    [
                      "male"
                    ],
                    [
                      "female"
                    ],
                    [
                      "male"
                    ],
                    [
                      "male"
                    ],
                    [
                      "male"
                    ],
                    [
                      "female"
                    ],
                    [
                      "male"
                    ],
                    [
                      "male"
                    ],
                    [
                      "male"
                    ],
                    [
                      "male"
                    ],
                    [
                      "male"
                    ],
                    [
                      "female"
                    ],
                    [
                      "male"
                    ],
                    [
                      "female"
                    ],
                    [
                      "female"
                    ],
                    [
                      "female"
                    ],
                    [
                      "female"
                    ],
                    [
                      "male"
                    ],
                    [
                      "male"
                    ],
                    [
                      "female"
                    ],
                    [
                      "male"
                    ],
                    [
                      "female"
                    ],
                    [
                      "female"
                    ],
                    [
                      "male"
                    ],
                    [
                      "female"
                    ],
                    [
                      "male"
                    ],
                    [
                      "male"
                    ],
                    [
                      "female"
                    ],
                    [
                      "male"
                    ],
                    [
                      "male"
                    ],
                    [
                      "male"
                    ],
                    [
                      "female"
                    ],
                    [
                      "female"
                    ],
                    [
                      "male"
                    ],
                    [
                      "male"
                    ],
                    [
                      "male"
                    ],
                    [
                      "male"
                    ],
                    [
                      "male"
                    ],
                    [
                      "male"
                    ],
                    [
                      "male"
                    ],
                    [
                      "female"
                    ],
                    [
                      "male"
                    ],
                    [
                      "male"
                    ],
                    [
                      "male"
                    ],
                    [
                      "male"
                    ],
                    [
                      "male"
                    ],
                    [
                      "male"
                    ],
                    [
                      "male"
                    ],
                    [
                      "male"
                    ],
                    [
                      "male"
                    ],
                    [
                      "male"
                    ],
                    [
                      "male"
                    ],
                    [
                      "male"
                    ],
                    [
                      "female"
                    ],
                    [
                      "male"
                    ],
                    [
                      "female"
                    ],
                    [
                      "male"
                    ],
                    [
                      "female"
                    ],
                    [
                      "male"
                    ],
                    [
                      "male"
                    ],
                    [
                      "male"
                    ],
                    [
                      "male"
                    ],
                    [
                      "male"
                    ],
                    [
                      "male"
                    ],
                    [
                      "female"
                    ],
                    [
                      "male"
                    ],
                    [
                      "female"
                    ],
                    [
                      "male"
                    ],
                    [
                      "male"
                    ],
                    [
                      "female"
                    ],
                    [
                      "female"
                    ],
                    [
                      "female"
                    ],
                    [
                      "male"
                    ],
                    [
                      "female"
                    ],
                    [
                      "male"
                    ],
                    [
                      "male"
                    ],
                    [
                      "female"
                    ],
                    [
                      "male"
                    ],
                    [
                      "male"
                    ],
                    [
                      "male"
                    ],
                    [
                      "male"
                    ],
                    [
                      "male"
                    ],
                    [
                      "female"
                    ],
                    [
                      "male"
                    ],
                    [
                      "male"
                    ],
                    [
                      "male"
                    ],
                    [
                      "female"
                    ],
                    [
                      "female"
                    ],
                    [
                      "male"
                    ],
                    [
                      "female"
                    ],
                    [
                      "male"
                    ],
                    [
                      "male"
                    ],
                    [
                      "male"
                    ],
                    [
                      "female"
                    ],
                    [
                      "male"
                    ],
                    [
                      "female"
                    ],
                    [
                      "male"
                    ],
                    [
                      "male"
                    ],
                    [
                      "male"
                    ],
                    [
                      "male"
                    ],
                    [
                      "female"
                    ],
                    [
                      "female"
                    ],
                    [
                      "female"
                    ],
                    [
                      "male"
                    ],
                    [
                      "female"
                    ],
                    [
                      "male"
                    ],
                    [
                      "female"
                    ],
                    [
                      "male"
                    ],
                    [
                      "male"
                    ],
                    [
                      "male"
                    ],
                    [
                      "female"
                    ],
                    [
                      "female"
                    ],
                    [
                      "female"
                    ],
                    [
                      "female"
                    ],
                    [
                      "male"
                    ],
                    [
                      "female"
                    ],
                    [
                      "male"
                    ],
                    [
                      "female"
                    ],
                    [
                      "male"
                    ],
                    [
                      "female"
                    ],
                    [
                      "female"
                    ],
                    [
                      "female"
                    ],
                    [
                      "male"
                    ],
                    [
                      "female"
                    ],
                    [
                      "female"
                    ],
                    [
                      "female"
                    ],
                    [
                      "male"
                    ],
                    [
                      "male"
                    ],
                    [
                      "male"
                    ],
                    [
                      "female"
                    ],
                    [
                      "female"
                    ],
                    [
                      "male"
                    ],
                    [
                      "female"
                    ],
                    [
                      "male"
                    ],
                    [
                      "female"
                    ],
                    [
                      "male"
                    ],
                    [
                      "female"
                    ],
                    [
                      "male"
                    ],
                    [
                      "male"
                    ],
                    [
                      "male"
                    ],
                    [
                      "male"
                    ],
                    [
                      "male"
                    ],
                    [
                      "female"
                    ],
                    [
                      "male"
                    ],
                    [
                      "female"
                    ],
                    [
                      "male"
                    ],
                    [
                      "female"
                    ],
                    [
                      "male"
                    ],
                    [
                      "male"
                    ],
                    [
                      "female"
                    ],
                    [
                      "female"
                    ],
                    [
                      "male"
                    ],
                    [
                      "male"
                    ],
                    [
                      "female"
                    ],
                    [
                      "male"
                    ],
                    [
                      "male"
                    ],
                    [
                      "male"
                    ],
                    [
                      "female"
                    ],
                    [
                      "male"
                    ]
                  ],
                  "hovertemplate": "GPA cuantiles=Bajísimo<br>GPA=%{x}<br>parental level of education=%{y}<br>gender=%{customdata[0]}<extra></extra>",
                  "legendgroup": "Bajísimo",
                  "marker": {
                    "color": "tomato",
                    "symbol": "circle"
                  },
                  "mode": "markers",
                  "name": "Bajísimo",
                  "orientation": "h",
                  "showlegend": true,
                  "type": "scatter",
                  "x": [
                    1.54,
                    2.1,
                    2.3800000000000003,
                    2.4000000000000004,
                    2.56,
                    2.56,
                    2.7600000000000002,
                    2.78,
                    2.78,
                    2.8000000000000003,
                    2.84,
                    2.86,
                    2.8800000000000003,
                    2.9,
                    2.94,
                    3.06,
                    3.08,
                    3.2399999999999998,
                    3.2600000000000002,
                    3.28,
                    3.2999999999999994,
                    3.3200000000000003,
                    3.34,
                    3.36,
                    3.3800000000000003,
                    3.3800000000000003,
                    3.4,
                    3.44,
                    3.44,
                    3.4599999999999995,
                    3.4599999999999995,
                    3.48,
                    3.5399999999999996,
                    3.58,
                    3.6,
                    3.6,
                    3.6,
                    3.6,
                    3.64,
                    3.64,
                    3.66,
                    3.6799999999999997,
                    3.6799999999999997,
                    3.6799999999999997,
                    3.6799999999999997,
                    3.6999999999999997,
                    3.72,
                    3.72,
                    3.7399999999999998,
                    3.76,
                    3.76,
                    3.7600000000000002,
                    3.78,
                    3.78,
                    3.78,
                    3.78,
                    3.78,
                    3.7999999999999994,
                    3.7999999999999994,
                    3.8000000000000003,
                    3.8000000000000003,
                    3.82,
                    3.84,
                    3.84,
                    3.8599999999999994,
                    3.86,
                    3.8799999999999994,
                    3.8800000000000003,
                    3.8800000000000003,
                    3.8800000000000003,
                    3.9,
                    3.9,
                    3.9,
                    3.9,
                    3.92,
                    3.92,
                    3.92,
                    3.9200000000000004,
                    3.94,
                    3.94,
                    3.94,
                    3.94,
                    3.9599999999999995,
                    3.9599999999999995,
                    3.9600000000000004,
                    3.98,
                    4,
                    4,
                    4,
                    4,
                    4.02,
                    4.02,
                    4.02,
                    4.0200000000000005,
                    4.0200000000000005,
                    4.0200000000000005,
                    4.0200000000000005,
                    4.04,
                    4.04,
                    4.04,
                    4.06,
                    4.06,
                    4.06,
                    4.06,
                    4.06,
                    4.079999999999999,
                    4.08,
                    4.08,
                    4.08,
                    4.08,
                    4.080000000000001,
                    4.099999999999999,
                    4.1,
                    4.1,
                    4.1000000000000005,
                    4.1000000000000005,
                    4.1000000000000005,
                    4.1000000000000005,
                    4.1000000000000005,
                    4.1000000000000005,
                    4.12,
                    4.12,
                    4.12,
                    4.12,
                    4.14,
                    4.14,
                    4.14,
                    4.140000000000001,
                    4.16,
                    4.16,
                    4.16,
                    4.16,
                    4.16,
                    4.16,
                    4.16,
                    4.18,
                    4.180000000000001,
                    4.2,
                    4.2,
                    4.2,
                    4.2,
                    4.22,
                    4.22,
                    4.22,
                    4.22,
                    4.22,
                    4.239999999999999,
                    4.239999999999999,
                    4.24,
                    4.24,
                    4.240000000000001,
                    4.26,
                    4.260000000000001,
                    4.260000000000001,
                    4.260000000000001,
                    4.28,
                    4.28,
                    4.28,
                    4.28,
                    4.28,
                    4.28,
                    4.28,
                    4.28,
                    4.3,
                    4.300000000000001,
                    4.319999999999999,
                    4.32,
                    4.32,
                    4.32,
                    4.32,
                    4.34,
                    4.34,
                    4.34,
                    4.34,
                    4.34,
                    4.340000000000001
                  ],
                  "xaxis": "x",
                  "y": [
                    "some high school",
                    "high school",
                    "high school",
                    "some college",
                    "some high school",
                    "some high school",
                    "high school",
                    "some high school",
                    "some college",
                    "some college",
                    "high school",
                    "some high school",
                    "some college",
                    "associate's degree",
                    "high school",
                    "high school",
                    "some high school",
                    "some high school",
                    "some high school",
                    "some college",
                    "high school",
                    "high school",
                    "bachelor's degree",
                    "some high school",
                    "some high school",
                    "associate's degree",
                    "some college",
                    "some college",
                    "some college",
                    "associate's degree",
                    "high school",
                    "some high school",
                    "some high school",
                    "some high school",
                    "some high school",
                    "associate's degree",
                    "high school",
                    "some high school",
                    "some high school",
                    "high school",
                    "associate's degree",
                    "some high school",
                    "high school",
                    "master's degree",
                    "high school",
                    "associate's degree",
                    "associate's degree",
                    "high school",
                    "high school",
                    "associate's degree",
                    "associate's degree",
                    "associate's degree",
                    "some college",
                    "high school",
                    "some high school",
                    "high school",
                    "some college",
                    "associate's degree",
                    "bachelor's degree",
                    "bachelor's degree",
                    "high school",
                    "high school",
                    "some college",
                    "some high school",
                    "high school",
                    "associate's degree",
                    "some high school",
                    "associate's degree",
                    "high school",
                    "high school",
                    "high school",
                    "bachelor's degree",
                    "some high school",
                    "some high school",
                    "associate's degree",
                    "some high school",
                    "some high school",
                    "some high school",
                    "high school",
                    "high school",
                    "high school",
                    "some high school",
                    "associate's degree",
                    "bachelor's degree",
                    "associate's degree",
                    "high school",
                    "high school",
                    "some high school",
                    "associate's degree",
                    "bachelor's degree",
                    "bachelor's degree",
                    "some college",
                    "associate's degree",
                    "some college",
                    "some college",
                    "high school",
                    "some college",
                    "some college",
                    "some college",
                    "master's degree",
                    "some college",
                    "some college",
                    "some college",
                    "some college",
                    "master's degree",
                    "master's degree",
                    "some high school",
                    "high school",
                    "associate's degree",
                    "high school",
                    "some college",
                    "high school",
                    "associate's degree",
                    "associate's degree",
                    "associate's degree",
                    "high school",
                    "some high school",
                    "master's degree",
                    "associate's degree",
                    "some high school",
                    "associate's degree",
                    "some high school",
                    "high school",
                    "associate's degree",
                    "some college",
                    "some high school",
                    "some college",
                    "high school",
                    "high school",
                    "associate's degree",
                    "high school",
                    "high school",
                    "high school",
                    "high school",
                    "some high school",
                    "associate's degree",
                    "associate's degree",
                    "some high school",
                    "associate's degree",
                    "some high school",
                    "associate's degree",
                    "associate's degree",
                    "associate's degree",
                    "high school",
                    "bachelor's degree",
                    "high school",
                    "some high school",
                    "associate's degree",
                    "high school",
                    "some college",
                    "some high school",
                    "high school",
                    "master's degree",
                    "high school",
                    "some high school",
                    "bachelor's degree",
                    "some college",
                    "some college",
                    "high school",
                    "associate's degree",
                    "associate's degree",
                    "high school",
                    "high school",
                    "high school",
                    "some college",
                    "high school",
                    "bachelor's degree",
                    "some high school",
                    "associate's degree",
                    "bachelor's degree",
                    "associate's degree",
                    "bachelor's degree",
                    "associate's degree",
                    "associate's degree",
                    "high school",
                    "high school"
                  ],
                  "yaxis": "y"
                },
                {
                  "customdata": [
                    [
                      "female"
                    ],
                    [
                      "male"
                    ],
                    [
                      "female"
                    ],
                    [
                      "male"
                    ],
                    [
                      "female"
                    ],
                    [
                      "male"
                    ],
                    [
                      "male"
                    ],
                    [
                      "male"
                    ],
                    [
                      "female"
                    ],
                    [
                      "female"
                    ],
                    [
                      "female"
                    ],
                    [
                      "male"
                    ],
                    [
                      "female"
                    ],
                    [
                      "female"
                    ],
                    [
                      "female"
                    ],
                    [
                      "female"
                    ],
                    [
                      "male"
                    ],
                    [
                      "female"
                    ],
                    [
                      "male"
                    ],
                    [
                      "male"
                    ],
                    [
                      "male"
                    ],
                    [
                      "male"
                    ],
                    [
                      "male"
                    ],
                    [
                      "male"
                    ],
                    [
                      "male"
                    ],
                    [
                      "female"
                    ],
                    [
                      "female"
                    ],
                    [
                      "male"
                    ],
                    [
                      "male"
                    ],
                    [
                      "female"
                    ],
                    [
                      "female"
                    ],
                    [
                      "female"
                    ],
                    [
                      "male"
                    ],
                    [
                      "male"
                    ],
                    [
                      "male"
                    ],
                    [
                      "male"
                    ],
                    [
                      "male"
                    ],
                    [
                      "male"
                    ],
                    [
                      "female"
                    ],
                    [
                      "male"
                    ],
                    [
                      "female"
                    ],
                    [
                      "male"
                    ],
                    [
                      "male"
                    ],
                    [
                      "male"
                    ],
                    [
                      "female"
                    ],
                    [
                      "female"
                    ],
                    [
                      "male"
                    ],
                    [
                      "male"
                    ],
                    [
                      "female"
                    ],
                    [
                      "male"
                    ],
                    [
                      "female"
                    ],
                    [
                      "male"
                    ],
                    [
                      "female"
                    ],
                    [
                      "male"
                    ],
                    [
                      "male"
                    ],
                    [
                      "male"
                    ],
                    [
                      "male"
                    ],
                    [
                      "female"
                    ],
                    [
                      "female"
                    ],
                    [
                      "female"
                    ],
                    [
                      "male"
                    ],
                    [
                      "female"
                    ],
                    [
                      "male"
                    ],
                    [
                      "male"
                    ],
                    [
                      "female"
                    ],
                    [
                      "female"
                    ],
                    [
                      "female"
                    ],
                    [
                      "female"
                    ],
                    [
                      "female"
                    ],
                    [
                      "male"
                    ],
                    [
                      "male"
                    ],
                    [
                      "male"
                    ],
                    [
                      "male"
                    ],
                    [
                      "female"
                    ],
                    [
                      "female"
                    ],
                    [
                      "female"
                    ],
                    [
                      "male"
                    ],
                    [
                      "male"
                    ],
                    [
                      "female"
                    ],
                    [
                      "male"
                    ],
                    [
                      "male"
                    ],
                    [
                      "female"
                    ],
                    [
                      "female"
                    ],
                    [
                      "female"
                    ],
                    [
                      "male"
                    ],
                    [
                      "male"
                    ],
                    [
                      "male"
                    ],
                    [
                      "male"
                    ],
                    [
                      "male"
                    ],
                    [
                      "male"
                    ],
                    [
                      "female"
                    ],
                    [
                      "male"
                    ],
                    [
                      "male"
                    ],
                    [
                      "male"
                    ],
                    [
                      "male"
                    ],
                    [
                      "male"
                    ],
                    [
                      "female"
                    ],
                    [
                      "female"
                    ],
                    [
                      "male"
                    ],
                    [
                      "male"
                    ],
                    [
                      "female"
                    ],
                    [
                      "male"
                    ],
                    [
                      "male"
                    ],
                    [
                      "female"
                    ],
                    [
                      "female"
                    ],
                    [
                      "male"
                    ],
                    [
                      "male"
                    ],
                    [
                      "female"
                    ],
                    [
                      "male"
                    ],
                    [
                      "male"
                    ],
                    [
                      "female"
                    ],
                    [
                      "female"
                    ],
                    [
                      "female"
                    ],
                    [
                      "female"
                    ],
                    [
                      "female"
                    ],
                    [
                      "female"
                    ],
                    [
                      "male"
                    ],
                    [
                      "male"
                    ],
                    [
                      "male"
                    ],
                    [
                      "female"
                    ],
                    [
                      "male"
                    ],
                    [
                      "male"
                    ],
                    [
                      "male"
                    ],
                    [
                      "male"
                    ],
                    [
                      "male"
                    ],
                    [
                      "male"
                    ],
                    [
                      "female"
                    ],
                    [
                      "female"
                    ],
                    [
                      "female"
                    ],
                    [
                      "female"
                    ],
                    [
                      "female"
                    ],
                    [
                      "female"
                    ],
                    [
                      "male"
                    ],
                    [
                      "male"
                    ],
                    [
                      "female"
                    ],
                    [
                      "male"
                    ],
                    [
                      "male"
                    ],
                    [
                      "female"
                    ],
                    [
                      "male"
                    ],
                    [
                      "male"
                    ],
                    [
                      "male"
                    ],
                    [
                      "female"
                    ],
                    [
                      "male"
                    ],
                    [
                      "male"
                    ],
                    [
                      "female"
                    ],
                    [
                      "male"
                    ],
                    [
                      "female"
                    ],
                    [
                      "female"
                    ],
                    [
                      "male"
                    ],
                    [
                      "female"
                    ],
                    [
                      "female"
                    ],
                    [
                      "male"
                    ],
                    [
                      "male"
                    ],
                    [
                      "male"
                    ],
                    [
                      "female"
                    ],
                    [
                      "male"
                    ],
                    [
                      "male"
                    ],
                    [
                      "female"
                    ],
                    [
                      "male"
                    ],
                    [
                      "female"
                    ],
                    [
                      "female"
                    ],
                    [
                      "female"
                    ],
                    [
                      "female"
                    ],
                    [
                      "male"
                    ],
                    [
                      "female"
                    ],
                    [
                      "female"
                    ],
                    [
                      "female"
                    ],
                    [
                      "male"
                    ],
                    [
                      "male"
                    ],
                    [
                      "female"
                    ],
                    [
                      "female"
                    ],
                    [
                      "female"
                    ],
                    [
                      "male"
                    ],
                    [
                      "male"
                    ],
                    [
                      "female"
                    ]
                  ],
                  "hovertemplate": "GPA cuantiles=Bajo<br>GPA=%{x}<br>parental level of education=%{y}<br>gender=%{customdata[0]}<extra></extra>",
                  "legendgroup": "Bajo",
                  "marker": {
                    "color": "orange",
                    "symbol": "circle"
                  },
                  "mode": "markers",
                  "name": "Bajo",
                  "orientation": "h",
                  "showlegend": true,
                  "type": "scatter",
                  "x": [
                    4.359999999999999,
                    4.359999999999999,
                    4.36,
                    4.36,
                    4.36,
                    4.36,
                    4.36,
                    4.36,
                    4.36,
                    4.38,
                    4.38,
                    4.38,
                    4.38,
                    4.38,
                    4.3999999999999995,
                    4.3999999999999995,
                    4.4,
                    4.419999999999999,
                    4.42,
                    4.42,
                    4.420000000000001,
                    4.44,
                    4.44,
                    4.44,
                    4.44,
                    4.44,
                    4.44,
                    4.44,
                    4.44,
                    4.46,
                    4.46,
                    4.46,
                    4.46,
                    4.46,
                    4.46,
                    4.4799999999999995,
                    4.48,
                    4.5,
                    4.5,
                    4.5,
                    4.5,
                    4.5,
                    4.5,
                    4.5,
                    4.52,
                    4.52,
                    4.52,
                    4.52,
                    4.52,
                    4.5200000000000005,
                    4.5200000000000005,
                    4.5200000000000005,
                    4.5200000000000005,
                    4.54,
                    4.54,
                    4.54,
                    4.54,
                    4.54,
                    4.54,
                    4.54,
                    4.54,
                    4.56,
                    4.56,
                    4.56,
                    4.56,
                    4.579999999999999,
                    4.58,
                    4.58,
                    4.580000000000001,
                    4.6,
                    4.6,
                    4.6,
                    4.6000000000000005,
                    4.6000000000000005,
                    4.6000000000000005,
                    4.6000000000000005,
                    4.62,
                    4.62,
                    4.62,
                    4.62,
                    4.62,
                    4.64,
                    4.64,
                    4.64,
                    4.64,
                    4.64,
                    4.64,
                    4.64,
                    4.659999999999999,
                    4.659999999999999,
                    4.66,
                    4.66,
                    4.66,
                    4.68,
                    4.68,
                    4.68,
                    4.68,
                    4.68,
                    4.680000000000001,
                    4.680000000000001,
                    4.7,
                    4.7,
                    4.7,
                    4.7,
                    4.7,
                    4.7,
                    4.7,
                    4.72,
                    4.72,
                    4.72,
                    4.72,
                    4.72,
                    4.720000000000001,
                    4.739999999999999,
                    4.739999999999999,
                    4.739999999999999,
                    4.739999999999999,
                    4.739999999999999,
                    4.74,
                    4.74,
                    4.76,
                    4.760000000000001,
                    4.760000000000001,
                    4.779999999999999,
                    4.78,
                    4.78,
                    4.78,
                    4.78,
                    4.78,
                    4.8,
                    4.8,
                    4.8,
                    4.8,
                    4.819999999999999,
                    4.819999999999999,
                    4.82,
                    4.82,
                    4.82,
                    4.82,
                    4.84,
                    4.84,
                    4.84,
                    4.84,
                    4.84,
                    4.84,
                    4.84,
                    4.84,
                    4.84,
                    4.859999999999999,
                    4.859999999999999,
                    4.859999999999999,
                    4.86,
                    4.86,
                    4.86,
                    4.86,
                    4.86,
                    4.86,
                    4.86,
                    4.88,
                    4.88,
                    4.88,
                    4.88,
                    4.88,
                    4.88,
                    4.88,
                    4.88,
                    4.88,
                    4.88,
                    4.88,
                    4.8999999999999995,
                    4.8999999999999995,
                    4.8999999999999995,
                    4.8999999999999995,
                    4.8999999999999995,
                    4.8999999999999995
                  ],
                  "xaxis": "x",
                  "y": [
                    "associate's degree",
                    "high school",
                    "some college",
                    "associate's degree",
                    "some college",
                    "bachelor's degree",
                    "high school",
                    "associate's degree",
                    "bachelor's degree",
                    "bachelor's degree",
                    "bachelor's degree",
                    "some college",
                    "some college",
                    "some high school",
                    "some high school",
                    "high school",
                    "associate's degree",
                    "some college",
                    "associate's degree",
                    "high school",
                    "high school",
                    "some college",
                    "high school",
                    "some high school",
                    "high school",
                    "high school",
                    "master's degree",
                    "associate's degree",
                    "some college",
                    "associate's degree",
                    "associate's degree",
                    "some high school",
                    "some high school",
                    "some high school",
                    "some high school",
                    "some high school",
                    "some high school",
                    "some high school",
                    "some college",
                    "associate's degree",
                    "bachelor's degree",
                    "some college",
                    "some college",
                    "some college",
                    "some high school",
                    "associate's degree",
                    "high school",
                    "high school",
                    "some college",
                    "some high school",
                    "associate's degree",
                    "associate's degree",
                    "some college",
                    "some high school",
                    "some high school",
                    "some college",
                    "some college",
                    "some high school",
                    "master's degree",
                    "some college",
                    "associate's degree",
                    "some college",
                    "associate's degree",
                    "some college",
                    "master's degree",
                    "high school",
                    "some high school",
                    "high school",
                    "bachelor's degree",
                    "some college",
                    "some college",
                    "some high school",
                    "high school",
                    "high school",
                    "some high school",
                    "high school",
                    "some college",
                    "bachelor's degree",
                    "bachelor's degree",
                    "some college",
                    "high school",
                    "associate's degree",
                    "some high school",
                    "master's degree",
                    "some college",
                    "some college",
                    "bachelor's degree",
                    "some college",
                    "some college",
                    "bachelor's degree",
                    "some college",
                    "master's degree",
                    "some high school",
                    "some college",
                    "associate's degree",
                    "some high school",
                    "some college",
                    "master's degree",
                    "some college",
                    "bachelor's degree",
                    "some college",
                    "associate's degree",
                    "some high school",
                    "some college",
                    "master's degree",
                    "associate's degree",
                    "high school",
                    "bachelor's degree",
                    "some college",
                    "bachelor's degree",
                    "some high school",
                    "high school",
                    "associate's degree",
                    "some high school",
                    "high school",
                    "some college",
                    "high school",
                    "some college",
                    "some college",
                    "high school",
                    "high school",
                    "bachelor's degree",
                    "high school",
                    "associate's degree",
                    "some college",
                    "associate's degree",
                    "master's degree",
                    "some college",
                    "high school",
                    "high school",
                    "master's degree",
                    "associate's degree",
                    "some high school",
                    "some college",
                    "some college",
                    "some college",
                    "high school",
                    "high school",
                    "associate's degree",
                    "some college",
                    "bachelor's degree",
                    "associate's degree",
                    "some high school",
                    "associate's degree",
                    "some college",
                    "high school",
                    "high school",
                    "some high school",
                    "some high school",
                    "associate's degree",
                    "high school",
                    "associate's degree",
                    "bachelor's degree",
                    "bachelor's degree",
                    "master's degree",
                    "associate's degree",
                    "some high school",
                    "master's degree",
                    "some high school",
                    "high school",
                    "bachelor's degree",
                    "associate's degree",
                    "some college",
                    "master's degree",
                    "some college",
                    "associate's degree",
                    "associate's degree",
                    "high school",
                    "associate's degree",
                    "some college",
                    "some college",
                    "associate's degree",
                    "some college",
                    "high school",
                    "some college"
                  ],
                  "yaxis": "y"
                },
                {
                  "customdata": [
                    [
                      "male"
                    ],
                    [
                      "female"
                    ],
                    [
                      "female"
                    ],
                    [
                      "female"
                    ],
                    [
                      "male"
                    ],
                    [
                      "male"
                    ],
                    [
                      "female"
                    ],
                    [
                      "male"
                    ],
                    [
                      "male"
                    ],
                    [
                      "female"
                    ],
                    [
                      "male"
                    ],
                    [
                      "male"
                    ],
                    [
                      "male"
                    ],
                    [
                      "female"
                    ],
                    [
                      "female"
                    ],
                    [
                      "female"
                    ],
                    [
                      "male"
                    ],
                    [
                      "female"
                    ],
                    [
                      "female"
                    ],
                    [
                      "female"
                    ],
                    [
                      "male"
                    ],
                    [
                      "male"
                    ],
                    [
                      "female"
                    ],
                    [
                      "female"
                    ],
                    [
                      "male"
                    ],
                    [
                      "female"
                    ],
                    [
                      "female"
                    ],
                    [
                      "female"
                    ],
                    [
                      "male"
                    ],
                    [
                      "female"
                    ],
                    [
                      "male"
                    ],
                    [
                      "male"
                    ],
                    [
                      "female"
                    ],
                    [
                      "female"
                    ],
                    [
                      "male"
                    ],
                    [
                      "female"
                    ],
                    [
                      "female"
                    ],
                    [
                      "female"
                    ],
                    [
                      "female"
                    ],
                    [
                      "male"
                    ],
                    [
                      "female"
                    ],
                    [
                      "female"
                    ],
                    [
                      "female"
                    ],
                    [
                      "male"
                    ],
                    [
                      "male"
                    ],
                    [
                      "female"
                    ],
                    [
                      "male"
                    ],
                    [
                      "female"
                    ],
                    [
                      "male"
                    ],
                    [
                      "male"
                    ],
                    [
                      "male"
                    ],
                    [
                      "female"
                    ],
                    [
                      "female"
                    ],
                    [
                      "male"
                    ],
                    [
                      "male"
                    ],
                    [
                      "male"
                    ],
                    [
                      "male"
                    ],
                    [
                      "female"
                    ],
                    [
                      "male"
                    ],
                    [
                      "male"
                    ],
                    [
                      "female"
                    ],
                    [
                      "female"
                    ],
                    [
                      "female"
                    ],
                    [
                      "female"
                    ],
                    [
                      "male"
                    ],
                    [
                      "male"
                    ],
                    [
                      "male"
                    ],
                    [
                      "male"
                    ],
                    [
                      "female"
                    ],
                    [
                      "male"
                    ],
                    [
                      "female"
                    ],
                    [
                      "male"
                    ],
                    [
                      "male"
                    ],
                    [
                      "female"
                    ],
                    [
                      "male"
                    ],
                    [
                      "male"
                    ],
                    [
                      "male"
                    ],
                    [
                      "male"
                    ],
                    [
                      "female"
                    ],
                    [
                      "male"
                    ],
                    [
                      "female"
                    ],
                    [
                      "male"
                    ],
                    [
                      "male"
                    ],
                    [
                      "male"
                    ],
                    [
                      "female"
                    ],
                    [
                      "female"
                    ],
                    [
                      "male"
                    ],
                    [
                      "male"
                    ],
                    [
                      "female"
                    ],
                    [
                      "female"
                    ],
                    [
                      "male"
                    ],
                    [
                      "female"
                    ],
                    [
                      "male"
                    ],
                    [
                      "female"
                    ],
                    [
                      "female"
                    ],
                    [
                      "male"
                    ],
                    [
                      "female"
                    ],
                    [
                      "female"
                    ],
                    [
                      "female"
                    ],
                    [
                      "male"
                    ],
                    [
                      "female"
                    ],
                    [
                      "male"
                    ],
                    [
                      "female"
                    ],
                    [
                      "male"
                    ],
                    [
                      "male"
                    ],
                    [
                      "female"
                    ],
                    [
                      "male"
                    ],
                    [
                      "female"
                    ],
                    [
                      "male"
                    ],
                    [
                      "male"
                    ],
                    [
                      "female"
                    ],
                    [
                      "female"
                    ],
                    [
                      "female"
                    ],
                    [
                      "male"
                    ],
                    [
                      "male"
                    ],
                    [
                      "male"
                    ],
                    [
                      "female"
                    ],
                    [
                      "female"
                    ],
                    [
                      "male"
                    ],
                    [
                      "female"
                    ],
                    [
                      "male"
                    ],
                    [
                      "female"
                    ],
                    [
                      "male"
                    ],
                    [
                      "female"
                    ],
                    [
                      "female"
                    ],
                    [
                      "male"
                    ],
                    [
                      "male"
                    ],
                    [
                      "male"
                    ],
                    [
                      "male"
                    ],
                    [
                      "female"
                    ],
                    [
                      "female"
                    ],
                    [
                      "female"
                    ],
                    [
                      "female"
                    ],
                    [
                      "female"
                    ],
                    [
                      "male"
                    ],
                    [
                      "female"
                    ],
                    [
                      "male"
                    ],
                    [
                      "female"
                    ],
                    [
                      "female"
                    ],
                    [
                      "female"
                    ],
                    [
                      "male"
                    ],
                    [
                      "male"
                    ],
                    [
                      "female"
                    ],
                    [
                      "female"
                    ],
                    [
                      "male"
                    ],
                    [
                      "male"
                    ],
                    [
                      "male"
                    ],
                    [
                      "female"
                    ],
                    [
                      "male"
                    ],
                    [
                      "female"
                    ],
                    [
                      "male"
                    ],
                    [
                      "female"
                    ],
                    [
                      "female"
                    ],
                    [
                      "female"
                    ],
                    [
                      "male"
                    ],
                    [
                      "female"
                    ],
                    [
                      "female"
                    ],
                    [
                      "female"
                    ],
                    [
                      "male"
                    ],
                    [
                      "male"
                    ],
                    [
                      "male"
                    ],
                    [
                      "female"
                    ],
                    [
                      "female"
                    ],
                    [
                      "female"
                    ],
                    [
                      "male"
                    ],
                    [
                      "male"
                    ],
                    [
                      "male"
                    ],
                    [
                      "female"
                    ],
                    [
                      "male"
                    ],
                    [
                      "male"
                    ],
                    [
                      "female"
                    ],
                    [
                      "female"
                    ],
                    [
                      "male"
                    ],
                    [
                      "female"
                    ],
                    [
                      "female"
                    ],
                    [
                      "female"
                    ],
                    [
                      "female"
                    ],
                    [
                      "female"
                    ],
                    [
                      "male"
                    ],
                    [
                      "male"
                    ]
                  ],
                  "hovertemplate": "GPA cuantiles=Medio<br>GPA=%{x}<br>parental level of education=%{y}<br>gender=%{customdata[0]}<extra></extra>",
                  "legendgroup": "Medio",
                  "marker": {
                    "color": "yellow",
                    "symbol": "circle"
                  },
                  "mode": "markers",
                  "name": "Medio",
                  "orientation": "h",
                  "showlegend": true,
                  "type": "scatter",
                  "x": [
                    4.9,
                    4.9,
                    4.919999999999999,
                    4.919999999999999,
                    4.92,
                    4.92,
                    4.92,
                    4.92,
                    4.92,
                    4.92,
                    4.92,
                    4.9399999999999995,
                    4.94,
                    4.94,
                    4.94,
                    4.94,
                    4.94,
                    4.94,
                    4.96,
                    4.96,
                    4.96,
                    4.96,
                    4.96,
                    4.96,
                    4.96,
                    4.96,
                    4.960000000000001,
                    4.9799999999999995,
                    4.9799999999999995,
                    4.9799999999999995,
                    4.9799999999999995,
                    4.98,
                    5,
                    5,
                    5,
                    5,
                    5,
                    5,
                    5,
                    5.02,
                    5.02,
                    5.02,
                    5.02,
                    5.02,
                    5.02,
                    5.02,
                    5.02,
                    5.04,
                    5.04,
                    5.04,
                    5.04,
                    5.06,
                    5.06,
                    5.06,
                    5.06,
                    5.06,
                    5.06,
                    5.06,
                    5.079999999999999,
                    5.079999999999999,
                    5.079999999999999,
                    5.079999999999999,
                    5.079999999999999,
                    5.08,
                    5.08,
                    5.08,
                    5.08,
                    5.080000000000001,
                    5.080000000000001,
                    5.080000000000001,
                    5.1,
                    5.1,
                    5.1,
                    5.1000000000000005,
                    5.1000000000000005,
                    5.1000000000000005,
                    5.1000000000000005,
                    5.1000000000000005,
                    5.1000000000000005,
                    5.1000000000000005,
                    5.12,
                    5.12,
                    5.12,
                    5.12,
                    5.12,
                    5.12,
                    5.12,
                    5.12,
                    5.12,
                    5.12,
                    5.12,
                    5.12,
                    5.14,
                    5.14,
                    5.14,
                    5.14,
                    5.14,
                    5.14,
                    5.14,
                    5.140000000000001,
                    5.140000000000001,
                    5.140000000000001,
                    5.140000000000001,
                    5.159999999999999,
                    5.159999999999999,
                    5.159999999999999,
                    5.16,
                    5.16,
                    5.16,
                    5.16,
                    5.16,
                    5.16,
                    5.16,
                    5.18,
                    5.18,
                    5.18,
                    5.18,
                    5.180000000000001,
                    5.199999999999999,
                    5.199999999999999,
                    5.2,
                    5.2,
                    5.2,
                    5.2,
                    5.2,
                    5.2,
                    5.2,
                    5.2,
                    5.2,
                    5.2,
                    5.22,
                    5.22,
                    5.22,
                    5.22,
                    5.22,
                    5.22,
                    5.22,
                    5.22,
                    5.239999999999999,
                    5.239999999999999,
                    5.24,
                    5.24,
                    5.259999999999999,
                    5.259999999999999,
                    5.26,
                    5.26,
                    5.26,
                    5.260000000000001,
                    5.260000000000001,
                    5.260000000000001,
                    5.260000000000001,
                    5.260000000000001,
                    5.260000000000001,
                    5.28,
                    5.28,
                    5.28,
                    5.28,
                    5.28,
                    5.28,
                    5.28,
                    5.28,
                    5.28,
                    5.28,
                    5.3,
                    5.3,
                    5.3,
                    5.3,
                    5.3,
                    5.3,
                    5.300000000000001,
                    5.300000000000001,
                    5.32,
                    5.32,
                    5.32,
                    5.32,
                    5.32,
                    5.32,
                    5.32,
                    5.32,
                    5.32
                  ],
                  "xaxis": "x",
                  "y": [
                    "high school",
                    "high school",
                    "some college",
                    "some college",
                    "bachelor's degree",
                    "some college",
                    "some high school",
                    "bachelor's degree",
                    "some high school",
                    "high school",
                    "some high school",
                    "associate's degree",
                    "some high school",
                    "high school",
                    "high school",
                    "some college",
                    "some college",
                    "high school",
                    "high school",
                    "associate's degree",
                    "some high school",
                    "high school",
                    "bachelor's degree",
                    "some high school",
                    "high school",
                    "associate's degree",
                    "high school",
                    "high school",
                    "bachelor's degree",
                    "associate's degree",
                    "some high school",
                    "associate's degree",
                    "some high school",
                    "some college",
                    "bachelor's degree",
                    "associate's degree",
                    "associate's degree",
                    "some college",
                    "high school",
                    "some college",
                    "some high school",
                    "high school",
                    "bachelor's degree",
                    "some college",
                    "some college",
                    "high school",
                    "some high school",
                    "bachelor's degree",
                    "some high school",
                    "high school",
                    "associate's degree",
                    "bachelor's degree",
                    "high school",
                    "bachelor's degree",
                    "some college",
                    "high school",
                    "bachelor's degree",
                    "some high school",
                    "bachelor's degree",
                    "bachelor's degree",
                    "some college",
                    "associate's degree",
                    "associate's degree",
                    "some high school",
                    "high school",
                    "some high school",
                    "high school",
                    "high school",
                    "some college",
                    "high school",
                    "associate's degree",
                    "master's degree",
                    "some high school",
                    "some college",
                    "some high school",
                    "high school",
                    "associate's degree",
                    "high school",
                    "high school",
                    "some college",
                    "associate's degree",
                    "high school",
                    "associate's degree",
                    "associate's degree",
                    "some college",
                    "high school",
                    "some college",
                    "associate's degree",
                    "some high school",
                    "some college",
                    "bachelor's degree",
                    "associate's degree",
                    "some high school",
                    "bachelor's degree",
                    "some college",
                    "associate's degree",
                    "associate's degree",
                    "master's degree",
                    "associate's degree",
                    "associate's degree",
                    "bachelor's degree",
                    "high school",
                    "some high school",
                    "some high school",
                    "some high school",
                    "high school",
                    "some college",
                    "associate's degree",
                    "some college",
                    "associate's degree",
                    "bachelor's degree",
                    "high school",
                    "some college",
                    "some high school",
                    "high school",
                    "high school",
                    "associate's degree",
                    "associate's degree",
                    "some college",
                    "some high school",
                    "high school",
                    "master's degree",
                    "bachelor's degree",
                    "some college",
                    "high school",
                    "some high school",
                    "high school",
                    "some college",
                    "master's degree",
                    "high school",
                    "bachelor's degree",
                    "some college",
                    "some high school",
                    "bachelor's degree",
                    "some college",
                    "bachelor's degree",
                    "high school",
                    "associate's degree",
                    "some college",
                    "master's degree",
                    "bachelor's degree",
                    "high school",
                    "some college",
                    "high school",
                    "associate's degree",
                    "bachelor's degree",
                    "some college",
                    "bachelor's degree",
                    "high school",
                    "high school",
                    "high school",
                    "some college",
                    "some college",
                    "associate's degree",
                    "associate's degree",
                    "bachelor's degree",
                    "associate's degree",
                    "associate's degree",
                    "associate's degree",
                    "associate's degree",
                    "some high school",
                    "some high school",
                    "bachelor's degree",
                    "some high school",
                    "high school",
                    "high school",
                    "associate's degree",
                    "some college",
                    "some high school",
                    "high school",
                    "master's degree",
                    "some high school",
                    "some college",
                    "associate's degree",
                    "associate's degree",
                    "some high school",
                    "associate's degree",
                    "associate's degree",
                    "bachelor's degree",
                    "some college"
                  ],
                  "yaxis": "y"
                },
                {
                  "customdata": [
                    [
                      "female"
                    ],
                    [
                      "female"
                    ],
                    [
                      "female"
                    ],
                    [
                      "female"
                    ],
                    [
                      "female"
                    ],
                    [
                      "male"
                    ],
                    [
                      "female"
                    ],
                    [
                      "male"
                    ],
                    [
                      "female"
                    ],
                    [
                      "female"
                    ],
                    [
                      "female"
                    ],
                    [
                      "male"
                    ],
                    [
                      "female"
                    ],
                    [
                      "female"
                    ],
                    [
                      "female"
                    ],
                    [
                      "female"
                    ],
                    [
                      "female"
                    ],
                    [
                      "male"
                    ],
                    [
                      "female"
                    ],
                    [
                      "female"
                    ],
                    [
                      "male"
                    ],
                    [
                      "female"
                    ],
                    [
                      "male"
                    ],
                    [
                      "female"
                    ],
                    [
                      "male"
                    ],
                    [
                      "male"
                    ],
                    [
                      "male"
                    ],
                    [
                      "male"
                    ],
                    [
                      "male"
                    ],
                    [
                      "male"
                    ],
                    [
                      "male"
                    ],
                    [
                      "male"
                    ],
                    [
                      "male"
                    ],
                    [
                      "male"
                    ],
                    [
                      "female"
                    ],
                    [
                      "female"
                    ],
                    [
                      "male"
                    ],
                    [
                      "male"
                    ],
                    [
                      "female"
                    ],
                    [
                      "female"
                    ],
                    [
                      "female"
                    ],
                    [
                      "female"
                    ],
                    [
                      "female"
                    ],
                    [
                      "male"
                    ],
                    [
                      "male"
                    ],
                    [
                      "female"
                    ],
                    [
                      "female"
                    ],
                    [
                      "female"
                    ],
                    [
                      "female"
                    ],
                    [
                      "female"
                    ],
                    [
                      "female"
                    ],
                    [
                      "female"
                    ],
                    [
                      "male"
                    ],
                    [
                      "female"
                    ],
                    [
                      "female"
                    ],
                    [
                      "female"
                    ],
                    [
                      "female"
                    ],
                    [
                      "female"
                    ],
                    [
                      "female"
                    ],
                    [
                      "female"
                    ],
                    [
                      "female"
                    ],
                    [
                      "male"
                    ],
                    [
                      "male"
                    ],
                    [
                      "male"
                    ],
                    [
                      "female"
                    ],
                    [
                      "female"
                    ],
                    [
                      "female"
                    ],
                    [
                      "male"
                    ],
                    [
                      "male"
                    ],
                    [
                      "male"
                    ],
                    [
                      "male"
                    ],
                    [
                      "female"
                    ],
                    [
                      "female"
                    ],
                    [
                      "female"
                    ],
                    [
                      "male"
                    ],
                    [
                      "female"
                    ],
                    [
                      "female"
                    ],
                    [
                      "male"
                    ],
                    [
                      "male"
                    ],
                    [
                      "female"
                    ],
                    [
                      "female"
                    ],
                    [
                      "male"
                    ],
                    [
                      "female"
                    ],
                    [
                      "female"
                    ],
                    [
                      "female"
                    ],
                    [
                      "male"
                    ],
                    [
                      "female"
                    ],
                    [
                      "female"
                    ],
                    [
                      "female"
                    ],
                    [
                      "male"
                    ],
                    [
                      "male"
                    ],
                    [
                      "female"
                    ],
                    [
                      "male"
                    ],
                    [
                      "female"
                    ],
                    [
                      "female"
                    ],
                    [
                      "female"
                    ],
                    [
                      "female"
                    ],
                    [
                      "male"
                    ],
                    [
                      "female"
                    ],
                    [
                      "female"
                    ],
                    [
                      "male"
                    ],
                    [
                      "male"
                    ],
                    [
                      "female"
                    ],
                    [
                      "male"
                    ],
                    [
                      "male"
                    ],
                    [
                      "female"
                    ],
                    [
                      "female"
                    ],
                    [
                      "female"
                    ],
                    [
                      "female"
                    ],
                    [
                      "female"
                    ],
                    [
                      "male"
                    ],
                    [
                      "female"
                    ],
                    [
                      "female"
                    ],
                    [
                      "female"
                    ],
                    [
                      "female"
                    ],
                    [
                      "male"
                    ],
                    [
                      "female"
                    ],
                    [
                      "female"
                    ],
                    [
                      "female"
                    ],
                    [
                      "male"
                    ],
                    [
                      "female"
                    ],
                    [
                      "female"
                    ],
                    [
                      "male"
                    ],
                    [
                      "male"
                    ],
                    [
                      "female"
                    ],
                    [
                      "female"
                    ],
                    [
                      "female"
                    ],
                    [
                      "male"
                    ],
                    [
                      "male"
                    ],
                    [
                      "male"
                    ],
                    [
                      "male"
                    ],
                    [
                      "male"
                    ],
                    [
                      "female"
                    ],
                    [
                      "male"
                    ],
                    [
                      "female"
                    ],
                    [
                      "male"
                    ],
                    [
                      "male"
                    ],
                    [
                      "female"
                    ],
                    [
                      "female"
                    ],
                    [
                      "female"
                    ],
                    [
                      "male"
                    ],
                    [
                      "female"
                    ],
                    [
                      "female"
                    ],
                    [
                      "female"
                    ],
                    [
                      "female"
                    ],
                    [
                      "female"
                    ],
                    [
                      "female"
                    ],
                    [
                      "female"
                    ],
                    [
                      "female"
                    ],
                    [
                      "female"
                    ],
                    [
                      "male"
                    ],
                    [
                      "male"
                    ],
                    [
                      "male"
                    ],
                    [
                      "female"
                    ],
                    [
                      "male"
                    ],
                    [
                      "male"
                    ],
                    [
                      "female"
                    ],
                    [
                      "female"
                    ],
                    [
                      "female"
                    ],
                    [
                      "male"
                    ],
                    [
                      "female"
                    ],
                    [
                      "female"
                    ],
                    [
                      "male"
                    ],
                    [
                      "female"
                    ],
                    [
                      "male"
                    ],
                    [
                      "male"
                    ],
                    [
                      "male"
                    ],
                    [
                      "female"
                    ],
                    [
                      "male"
                    ],
                    [
                      "female"
                    ],
                    [
                      "male"
                    ],
                    [
                      "male"
                    ]
                  ],
                  "hovertemplate": "GPA cuantiles=Alto<br>GPA=%{x}<br>parental level of education=%{y}<br>gender=%{customdata[0]}<extra></extra>",
                  "legendgroup": "Alto",
                  "marker": {
                    "color": "greenyellow",
                    "symbol": "circle"
                  },
                  "mode": "markers",
                  "name": "Alto",
                  "orientation": "h",
                  "showlegend": true,
                  "type": "scatter",
                  "x": [
                    5.34,
                    5.34,
                    5.34,
                    5.34,
                    5.34,
                    5.34,
                    5.359999999999999,
                    5.359999999999999,
                    5.359999999999999,
                    5.359999999999999,
                    5.359999999999999,
                    5.36,
                    5.36,
                    5.36,
                    5.36,
                    5.38,
                    5.38,
                    5.38,
                    5.38,
                    5.38,
                    5.38,
                    5.38,
                    5.38,
                    5.38,
                    5.38,
                    5.38,
                    5.38,
                    5.3999999999999995,
                    5.3999999999999995,
                    5.3999999999999995,
                    5.3999999999999995,
                    5.3999999999999995,
                    5.400000000000001,
                    5.400000000000001,
                    5.400000000000001,
                    5.400000000000001,
                    5.419999999999999,
                    5.419999999999999,
                    5.420000000000001,
                    5.420000000000001,
                    5.420000000000001,
                    5.44,
                    5.44,
                    5.44,
                    5.44,
                    5.44,
                    5.44,
                    5.46,
                    5.46,
                    5.46,
                    5.46,
                    5.46,
                    5.46,
                    5.46,
                    5.46,
                    5.46,
                    5.460000000000001,
                    5.4799999999999995,
                    5.4799999999999995,
                    5.4799999999999995,
                    5.48,
                    5.48,
                    5.48,
                    5.48,
                    5.5,
                    5.5,
                    5.5,
                    5.5,
                    5.5,
                    5.5,
                    5.5,
                    5.5,
                    5.5,
                    5.52,
                    5.52,
                    5.52,
                    5.5200000000000005,
                    5.5200000000000005,
                    5.5200000000000005,
                    5.539999999999999,
                    5.539999999999999,
                    5.539999999999999,
                    5.539999999999999,
                    5.54,
                    5.54,
                    5.54,
                    5.54,
                    5.54,
                    5.56,
                    5.56,
                    5.56,
                    5.56,
                    5.56,
                    5.56,
                    5.56,
                    5.56,
                    5.56,
                    5.579999999999999,
                    5.579999999999999,
                    5.579999999999999,
                    5.579999999999999,
                    5.579999999999999,
                    5.580000000000001,
                    5.6000000000000005,
                    5.6000000000000005,
                    5.6000000000000005,
                    5.6000000000000005,
                    5.62,
                    5.62,
                    5.62,
                    5.62,
                    5.62,
                    5.62,
                    5.64,
                    5.64,
                    5.64,
                    5.640000000000001,
                    5.640000000000001,
                    5.640000000000001,
                    5.640000000000001,
                    5.640000000000001,
                    5.640000000000001,
                    5.640000000000001,
                    5.640000000000001,
                    5.66,
                    5.66,
                    5.66,
                    5.66,
                    5.68,
                    5.68,
                    5.68,
                    5.68,
                    5.68,
                    5.68,
                    5.68,
                    5.68,
                    5.7,
                    5.7,
                    5.7,
                    5.7,
                    5.7,
                    5.7,
                    5.7,
                    5.7,
                    5.72,
                    5.72,
                    5.72,
                    5.72,
                    5.72,
                    5.72,
                    5.72,
                    5.739999999999999,
                    5.739999999999999,
                    5.739999999999999,
                    5.739999999999999,
                    5.739999999999999,
                    5.739999999999999,
                    5.739999999999999,
                    5.760000000000001,
                    5.760000000000001,
                    5.760000000000001,
                    5.760000000000001,
                    5.760000000000001,
                    5.760000000000001,
                    5.760000000000001,
                    5.760000000000001,
                    5.78,
                    5.78,
                    5.78,
                    5.78,
                    5.78,
                    5.78
                  ],
                  "xaxis": "x",
                  "y": [
                    "associate's degree",
                    "some college",
                    "some college",
                    "some college",
                    "associate's degree",
                    "high school",
                    "some college",
                    "master's degree",
                    "associate's degree",
                    "some college",
                    "high school",
                    "some high school",
                    "high school",
                    "bachelor's degree",
                    "some high school",
                    "high school",
                    "bachelor's degree",
                    "some high school",
                    "some high school",
                    "high school",
                    "some college",
                    "high school",
                    "bachelor's degree",
                    "bachelor's degree",
                    "high school",
                    "master's degree",
                    "some college",
                    "some college",
                    "some college",
                    "associate's degree",
                    "associate's degree",
                    "master's degree",
                    "some high school",
                    "some high school",
                    "some high school",
                    "some high school",
                    "high school",
                    "high school",
                    "bachelor's degree",
                    "bachelor's degree",
                    "some college",
                    "some college",
                    "some high school",
                    "bachelor's degree",
                    "bachelor's degree",
                    "some college",
                    "some high school",
                    "some college",
                    "some college",
                    "high school",
                    "associate's degree",
                    "some college",
                    "associate's degree",
                    "some college",
                    "some college",
                    "some college",
                    "some college",
                    "high school",
                    "high school",
                    "high school",
                    "some high school",
                    "associate's degree",
                    "some college",
                    "associate's degree",
                    "associate's degree",
                    "bachelor's degree",
                    "some high school",
                    "associate's degree",
                    "bachelor's degree",
                    "bachelor's degree",
                    "associate's degree",
                    "associate's degree",
                    "some high school",
                    "some college",
                    "high school",
                    "associate's degree",
                    "high school",
                    "associate's degree",
                    "some college",
                    "some college",
                    "some college",
                    "high school",
                    "associate's degree",
                    "associate's degree",
                    "master's degree",
                    "some college",
                    "bachelor's degree",
                    "high school",
                    "associate's degree",
                    "some college",
                    "associate's degree",
                    "some high school",
                    "bachelor's degree",
                    "some college",
                    "some high school",
                    "some high school",
                    "high school",
                    "some college",
                    "associate's degree",
                    "some college",
                    "some high school",
                    "some high school",
                    "high school",
                    "some high school",
                    "associate's degree",
                    "high school",
                    "bachelor's degree",
                    "some college",
                    "some high school",
                    "some high school",
                    "some college",
                    "some high school",
                    "some high school",
                    "associate's degree",
                    "associate's degree",
                    "some high school",
                    "some high school",
                    "some college",
                    "associate's degree",
                    "associate's degree",
                    "associate's degree",
                    "bachelor's degree",
                    "associate's degree",
                    "associate's degree",
                    "some college",
                    "bachelor's degree",
                    "associate's degree",
                    "associate's degree",
                    "associate's degree",
                    "bachelor's degree",
                    "high school",
                    "some high school",
                    "associate's degree",
                    "master's degree",
                    "some college",
                    "associate's degree",
                    "high school",
                    "some college",
                    "master's degree",
                    "associate's degree",
                    "high school",
                    "some college",
                    "high school",
                    "some college",
                    "some college",
                    "some high school",
                    "bachelor's degree",
                    "some high school",
                    "high school",
                    "bachelor's degree",
                    "some college",
                    "some high school",
                    "high school",
                    "associate's degree",
                    "some high school",
                    "associate's degree",
                    "some college",
                    "associate's degree",
                    "associate's degree",
                    "some high school",
                    "master's degree",
                    "some high school",
                    "high school",
                    "associate's degree",
                    "master's degree",
                    "some college",
                    "bachelor's degree",
                    "bachelor's degree",
                    "some college",
                    "bachelor's degree",
                    "associate's degree",
                    "bachelor's degree"
                  ],
                  "yaxis": "y"
                },
                {
                  "customdata": [
                    [
                      "female"
                    ],
                    [
                      "female"
                    ],
                    [
                      "female"
                    ],
                    [
                      "male"
                    ],
                    [
                      "male"
                    ],
                    [
                      "female"
                    ],
                    [
                      "male"
                    ],
                    [
                      "male"
                    ],
                    [
                      "male"
                    ],
                    [
                      "male"
                    ],
                    [
                      "female"
                    ],
                    [
                      "male"
                    ],
                    [
                      "female"
                    ],
                    [
                      "female"
                    ],
                    [
                      "male"
                    ],
                    [
                      "male"
                    ],
                    [
                      "female"
                    ],
                    [
                      "male"
                    ],
                    [
                      "male"
                    ],
                    [
                      "female"
                    ],
                    [
                      "male"
                    ],
                    [
                      "male"
                    ],
                    [
                      "male"
                    ],
                    [
                      "male"
                    ],
                    [
                      "male"
                    ],
                    [
                      "male"
                    ],
                    [
                      "female"
                    ],
                    [
                      "female"
                    ],
                    [
                      "female"
                    ],
                    [
                      "male"
                    ],
                    [
                      "female"
                    ],
                    [
                      "male"
                    ],
                    [
                      "female"
                    ],
                    [
                      "female"
                    ],
                    [
                      "male"
                    ],
                    [
                      "male"
                    ],
                    [
                      "male"
                    ],
                    [
                      "female"
                    ],
                    [
                      "male"
                    ],
                    [
                      "female"
                    ],
                    [
                      "male"
                    ],
                    [
                      "female"
                    ],
                    [
                      "female"
                    ],
                    [
                      "male"
                    ],
                    [
                      "female"
                    ],
                    [
                      "female"
                    ],
                    [
                      "female"
                    ],
                    [
                      "male"
                    ],
                    [
                      "female"
                    ],
                    [
                      "male"
                    ],
                    [
                      "female"
                    ],
                    [
                      "male"
                    ],
                    [
                      "female"
                    ],
                    [
                      "female"
                    ],
                    [
                      "male"
                    ],
                    [
                      "female"
                    ],
                    [
                      "male"
                    ],
                    [
                      "male"
                    ],
                    [
                      "male"
                    ],
                    [
                      "female"
                    ],
                    [
                      "female"
                    ],
                    [
                      "female"
                    ],
                    [
                      "female"
                    ],
                    [
                      "male"
                    ],
                    [
                      "male"
                    ],
                    [
                      "female"
                    ],
                    [
                      "male"
                    ],
                    [
                      "female"
                    ],
                    [
                      "female"
                    ],
                    [
                      "female"
                    ],
                    [
                      "female"
                    ],
                    [
                      "male"
                    ],
                    [
                      "male"
                    ],
                    [
                      "male"
                    ],
                    [
                      "male"
                    ],
                    [
                      "female"
                    ],
                    [
                      "female"
                    ],
                    [
                      "male"
                    ],
                    [
                      "male"
                    ],
                    [
                      "female"
                    ],
                    [
                      "male"
                    ],
                    [
                      "female"
                    ],
                    [
                      "female"
                    ],
                    [
                      "female"
                    ],
                    [
                      "female"
                    ],
                    [
                      "female"
                    ],
                    [
                      "male"
                    ],
                    [
                      "male"
                    ],
                    [
                      "male"
                    ],
                    [
                      "female"
                    ],
                    [
                      "male"
                    ],
                    [
                      "male"
                    ],
                    [
                      "female"
                    ],
                    [
                      "female"
                    ],
                    [
                      "male"
                    ],
                    [
                      "male"
                    ],
                    [
                      "male"
                    ],
                    [
                      "female"
                    ],
                    [
                      "female"
                    ],
                    [
                      "female"
                    ],
                    [
                      "female"
                    ],
                    [
                      "female"
                    ],
                    [
                      "male"
                    ],
                    [
                      "male"
                    ],
                    [
                      "male"
                    ],
                    [
                      "male"
                    ],
                    [
                      "female"
                    ],
                    [
                      "female"
                    ],
                    [
                      "female"
                    ],
                    [
                      "female"
                    ],
                    [
                      "female"
                    ],
                    [
                      "female"
                    ],
                    [
                      "male"
                    ],
                    [
                      "female"
                    ],
                    [
                      "female"
                    ],
                    [
                      "female"
                    ],
                    [
                      "male"
                    ],
                    [
                      "male"
                    ],
                    [
                      "male"
                    ],
                    [
                      "female"
                    ],
                    [
                      "male"
                    ],
                    [
                      "male"
                    ],
                    [
                      "female"
                    ],
                    [
                      "female"
                    ],
                    [
                      "female"
                    ],
                    [
                      "female"
                    ],
                    [
                      "female"
                    ],
                    [
                      "female"
                    ],
                    [
                      "female"
                    ],
                    [
                      "female"
                    ],
                    [
                      "female"
                    ],
                    [
                      "female"
                    ],
                    [
                      "male"
                    ],
                    [
                      "female"
                    ],
                    [
                      "female"
                    ],
                    [
                      "male"
                    ],
                    [
                      "male"
                    ],
                    [
                      "female"
                    ],
                    [
                      "female"
                    ],
                    [
                      "female"
                    ],
                    [
                      "male"
                    ],
                    [
                      "female"
                    ],
                    [
                      "female"
                    ],
                    [
                      "male"
                    ],
                    [
                      "female"
                    ],
                    [
                      "male"
                    ],
                    [
                      "female"
                    ],
                    [
                      "female"
                    ],
                    [
                      "male"
                    ],
                    [
                      "male"
                    ],
                    [
                      "female"
                    ],
                    [
                      "male"
                    ],
                    [
                      "female"
                    ],
                    [
                      "female"
                    ],
                    [
                      "female"
                    ],
                    [
                      "female"
                    ],
                    [
                      "female"
                    ],
                    [
                      "female"
                    ],
                    [
                      "female"
                    ],
                    [
                      "female"
                    ],
                    [
                      "female"
                    ],
                    [
                      "female"
                    ],
                    [
                      "female"
                    ],
                    [
                      "male"
                    ],
                    [
                      "female"
                    ],
                    [
                      "male"
                    ],
                    [
                      "female"
                    ],
                    [
                      "female"
                    ],
                    [
                      "female"
                    ],
                    [
                      "female"
                    ],
                    [
                      "female"
                    ],
                    [
                      "male"
                    ]
                  ],
                  "hovertemplate": "GPA cuantiles=Muy alto<br>GPA=%{x}<br>parental level of education=%{y}<br>gender=%{customdata[0]}<extra></extra>",
                  "legendgroup": "Muy alto",
                  "marker": {
                    "color": "green",
                    "symbol": "circle"
                  },
                  "mode": "markers",
                  "name": "Muy alto",
                  "orientation": "h",
                  "showlegend": true,
                  "type": "scatter",
                  "x": [
                    5.8,
                    5.8,
                    5.8,
                    5.82,
                    5.82,
                    5.82,
                    5.82,
                    5.82,
                    5.82,
                    5.82,
                    5.84,
                    5.84,
                    5.84,
                    5.84,
                    5.84,
                    5.84,
                    5.840000000000001,
                    5.859999999999999,
                    5.88,
                    5.88,
                    5.88,
                    5.88,
                    5.8999999999999995,
                    5.8999999999999995,
                    5.900000000000001,
                    5.920000000000001,
                    5.920000000000001,
                    5.94,
                    5.94,
                    5.94,
                    5.94,
                    5.94,
                    5.94,
                    5.94,
                    5.94,
                    5.94,
                    5.94,
                    5.94,
                    5.96,
                    5.96,
                    5.960000000000001,
                    5.960000000000001,
                    5.960000000000001,
                    5.9799999999999995,
                    5.9799999999999995,
                    5.9799999999999995,
                    5.98,
                    5.98,
                    5.98,
                    5.98,
                    5.98,
                    5.98,
                    6,
                    6,
                    6,
                    6,
                    6,
                    6.0200000000000005,
                    6.0200000000000005,
                    6.039999999999999,
                    6.039999999999999,
                    6.04,
                    6.04,
                    6.04,
                    6.04,
                    6.04,
                    6.04,
                    6.06,
                    6.06,
                    6.080000000000001,
                    6.080000000000001,
                    6.099999999999999,
                    6.099999999999999,
                    6.1000000000000005,
                    6.1000000000000005,
                    6.12,
                    6.12,
                    6.12,
                    6.14,
                    6.14,
                    6.140000000000001,
                    6.140000000000001,
                    6.140000000000001,
                    6.140000000000001,
                    6.16,
                    6.16,
                    6.16,
                    6.16,
                    6.18,
                    6.18,
                    6.18,
                    6.18,
                    6.2,
                    6.2,
                    6.2,
                    6.219999999999999,
                    6.219999999999999,
                    6.22,
                    6.22,
                    6.22,
                    6.239999999999999,
                    6.239999999999999,
                    6.239999999999999,
                    6.239999999999999,
                    6.260000000000001,
                    6.260000000000001,
                    6.28,
                    6.28,
                    6.3,
                    6.3,
                    6.3,
                    6.3,
                    6.300000000000001,
                    6.32,
                    6.32,
                    6.32,
                    6.32,
                    6.32,
                    6.34,
                    6.34,
                    6.34,
                    6.340000000000001,
                    6.359999999999999,
                    6.359999999999999,
                    6.359999999999999,
                    6.36,
                    6.38,
                    6.38,
                    6.3999999999999995,
                    6.419999999999999,
                    6.420000000000001,
                    6.420000000000001,
                    6.44,
                    6.46,
                    6.4799999999999995,
                    6.4799999999999995,
                    6.5,
                    6.5,
                    6.5,
                    6.5,
                    6.5,
                    6.52,
                    6.54,
                    6.56,
                    6.56,
                    6.56,
                    6.6000000000000005,
                    6.6000000000000005,
                    6.62,
                    6.64,
                    6.640000000000001,
                    6.640000000000001,
                    6.640000000000001,
                    6.739999999999999,
                    6.760000000000001,
                    6.78,
                    6.78,
                    6.8,
                    6.82,
                    6.82,
                    6.84,
                    6.859999999999999,
                    6.859999999999999,
                    6.859999999999999,
                    6.919999999999999,
                    6.920000000000001,
                    6.94,
                    6.94,
                    6.98,
                    7,
                    7,
                    7
                  ],
                  "xaxis": "x",
                  "y": [
                    "some college",
                    "high school",
                    "high school",
                    "high school",
                    "some high school",
                    "some high school",
                    "some college",
                    "associate's degree",
                    "associate's degree",
                    "some high school",
                    "some high school",
                    "high school",
                    "bachelor's degree",
                    "some high school",
                    "some high school",
                    "some college",
                    "bachelor's degree",
                    "associate's degree",
                    "associate's degree",
                    "some high school",
                    "high school",
                    "associate's degree",
                    "some high school",
                    "some college",
                    "associate's degree",
                    "master's degree",
                    "bachelor's degree",
                    "some college",
                    "some college",
                    "some high school",
                    "associate's degree",
                    "high school",
                    "some college",
                    "some college",
                    "some high school",
                    "some high school",
                    "some college",
                    "high school",
                    "some high school",
                    "high school",
                    "high school",
                    "high school",
                    "some college",
                    "some college",
                    "high school",
                    "bachelor's degree",
                    "associate's degree",
                    "bachelor's degree",
                    "some college",
                    "bachelor's degree",
                    "bachelor's degree",
                    "associate's degree",
                    "master's degree",
                    "some high school",
                    "some high school",
                    "high school",
                    "some high school",
                    "bachelor's degree",
                    "some college",
                    "some high school",
                    "some high school",
                    "associate's degree",
                    "some high school",
                    "some college",
                    "some college",
                    "bachelor's degree",
                    "associate's degree",
                    "associate's degree",
                    "associate's degree",
                    "some college",
                    "some college",
                    "high school",
                    "master's degree",
                    "bachelor's degree",
                    "associate's degree",
                    "some high school",
                    "some college",
                    "associate's degree",
                    "some high school",
                    "associate's degree",
                    "some college",
                    "bachelor's degree",
                    "associate's degree",
                    "some college",
                    "some college",
                    "associate's degree",
                    "bachelor's degree",
                    "master's degree",
                    "some high school",
                    "master's degree",
                    "master's degree",
                    "high school",
                    "some high school",
                    "bachelor's degree",
                    "some high school",
                    "associate's degree",
                    "master's degree",
                    "associate's degree",
                    "bachelor's degree",
                    "associate's degree",
                    "associate's degree",
                    "some college",
                    "associate's degree",
                    "associate's degree",
                    "high school",
                    "master's degree",
                    "master's degree",
                    "associate's degree",
                    "bachelor's degree",
                    "some college",
                    "associate's degree",
                    "master's degree",
                    "bachelor's degree",
                    "associate's degree",
                    "bachelor's degree",
                    "some college",
                    "some college",
                    "some college",
                    "some high school",
                    "some high school",
                    "associate's degree",
                    "some college",
                    "associate's degree",
                    "high school",
                    "associate's degree",
                    "master's degree",
                    "associate's degree",
                    "some college",
                    "some high school",
                    "associate's degree",
                    "associate's degree",
                    "bachelor's degree",
                    "associate's degree",
                    "associate's degree",
                    "some high school",
                    "some college",
                    "associate's degree",
                    "some college",
                    "some college",
                    "associate's degree",
                    "associate's degree",
                    "associate's degree",
                    "some college",
                    "some college",
                    "master's degree",
                    "bachelor's degree",
                    "master's degree",
                    "associate's degree",
                    "associate's degree",
                    "associate's degree",
                    "high school",
                    "some college",
                    "master's degree",
                    "high school",
                    "associate's degree",
                    "some college",
                    "bachelor's degree",
                    "bachelor's degree",
                    "associate's degree",
                    "bachelor's degree",
                    "master's degree",
                    "master's degree",
                    "bachelor's degree",
                    "associate's degree",
                    "bachelor's degree",
                    "some college",
                    "some high school",
                    "some college",
                    "bachelor's degree",
                    "associate's degree",
                    "bachelor's degree",
                    "bachelor's degree"
                  ],
                  "yaxis": "y"
                }
              ],
              "layout": {
                "legend": {
                  "title": {
                    "text": "GPA cuantiles"
                  },
                  "tracegroupgap": 0
                },
                "template": {
                  "data": {
                    "bar": [
                      {
                        "error_x": {
                          "color": "#2a3f5f"
                        },
                        "error_y": {
                          "color": "#2a3f5f"
                        },
                        "marker": {
                          "line": {
                            "color": "#E5ECF6",
                            "width": 0.5
                          },
                          "pattern": {
                            "fillmode": "overlay",
                            "size": 10,
                            "solidity": 0.2
                          }
                        },
                        "type": "bar"
                      }
                    ],
                    "barpolar": [
                      {
                        "marker": {
                          "line": {
                            "color": "#E5ECF6",
                            "width": 0.5
                          },
                          "pattern": {
                            "fillmode": "overlay",
                            "size": 10,
                            "solidity": 0.2
                          }
                        },
                        "type": "barpolar"
                      }
                    ],
                    "carpet": [
                      {
                        "aaxis": {
                          "endlinecolor": "#2a3f5f",
                          "gridcolor": "white",
                          "linecolor": "white",
                          "minorgridcolor": "white",
                          "startlinecolor": "#2a3f5f"
                        },
                        "baxis": {
                          "endlinecolor": "#2a3f5f",
                          "gridcolor": "white",
                          "linecolor": "white",
                          "minorgridcolor": "white",
                          "startlinecolor": "#2a3f5f"
                        },
                        "type": "carpet"
                      }
                    ],
                    "choropleth": [
                      {
                        "colorbar": {
                          "outlinewidth": 0,
                          "ticks": ""
                        },
                        "type": "choropleth"
                      }
                    ],
                    "contour": [
                      {
                        "colorbar": {
                          "outlinewidth": 0,
                          "ticks": ""
                        },
                        "colorscale": [
                          [
                            0,
                            "#0d0887"
                          ],
                          [
                            0.1111111111111111,
                            "#46039f"
                          ],
                          [
                            0.2222222222222222,
                            "#7201a8"
                          ],
                          [
                            0.3333333333333333,
                            "#9c179e"
                          ],
                          [
                            0.4444444444444444,
                            "#bd3786"
                          ],
                          [
                            0.5555555555555556,
                            "#d8576b"
                          ],
                          [
                            0.6666666666666666,
                            "#ed7953"
                          ],
                          [
                            0.7777777777777778,
                            "#fb9f3a"
                          ],
                          [
                            0.8888888888888888,
                            "#fdca26"
                          ],
                          [
                            1,
                            "#f0f921"
                          ]
                        ],
                        "type": "contour"
                      }
                    ],
                    "contourcarpet": [
                      {
                        "colorbar": {
                          "outlinewidth": 0,
                          "ticks": ""
                        },
                        "type": "contourcarpet"
                      }
                    ],
                    "heatmap": [
                      {
                        "colorbar": {
                          "outlinewidth": 0,
                          "ticks": ""
                        },
                        "colorscale": [
                          [
                            0,
                            "#0d0887"
                          ],
                          [
                            0.1111111111111111,
                            "#46039f"
                          ],
                          [
                            0.2222222222222222,
                            "#7201a8"
                          ],
                          [
                            0.3333333333333333,
                            "#9c179e"
                          ],
                          [
                            0.4444444444444444,
                            "#bd3786"
                          ],
                          [
                            0.5555555555555556,
                            "#d8576b"
                          ],
                          [
                            0.6666666666666666,
                            "#ed7953"
                          ],
                          [
                            0.7777777777777778,
                            "#fb9f3a"
                          ],
                          [
                            0.8888888888888888,
                            "#fdca26"
                          ],
                          [
                            1,
                            "#f0f921"
                          ]
                        ],
                        "type": "heatmap"
                      }
                    ],
                    "heatmapgl": [
                      {
                        "colorbar": {
                          "outlinewidth": 0,
                          "ticks": ""
                        },
                        "colorscale": [
                          [
                            0,
                            "#0d0887"
                          ],
                          [
                            0.1111111111111111,
                            "#46039f"
                          ],
                          [
                            0.2222222222222222,
                            "#7201a8"
                          ],
                          [
                            0.3333333333333333,
                            "#9c179e"
                          ],
                          [
                            0.4444444444444444,
                            "#bd3786"
                          ],
                          [
                            0.5555555555555556,
                            "#d8576b"
                          ],
                          [
                            0.6666666666666666,
                            "#ed7953"
                          ],
                          [
                            0.7777777777777778,
                            "#fb9f3a"
                          ],
                          [
                            0.8888888888888888,
                            "#fdca26"
                          ],
                          [
                            1,
                            "#f0f921"
                          ]
                        ],
                        "type": "heatmapgl"
                      }
                    ],
                    "histogram": [
                      {
                        "marker": {
                          "pattern": {
                            "fillmode": "overlay",
                            "size": 10,
                            "solidity": 0.2
                          }
                        },
                        "type": "histogram"
                      }
                    ],
                    "histogram2d": [
                      {
                        "colorbar": {
                          "outlinewidth": 0,
                          "ticks": ""
                        },
                        "colorscale": [
                          [
                            0,
                            "#0d0887"
                          ],
                          [
                            0.1111111111111111,
                            "#46039f"
                          ],
                          [
                            0.2222222222222222,
                            "#7201a8"
                          ],
                          [
                            0.3333333333333333,
                            "#9c179e"
                          ],
                          [
                            0.4444444444444444,
                            "#bd3786"
                          ],
                          [
                            0.5555555555555556,
                            "#d8576b"
                          ],
                          [
                            0.6666666666666666,
                            "#ed7953"
                          ],
                          [
                            0.7777777777777778,
                            "#fb9f3a"
                          ],
                          [
                            0.8888888888888888,
                            "#fdca26"
                          ],
                          [
                            1,
                            "#f0f921"
                          ]
                        ],
                        "type": "histogram2d"
                      }
                    ],
                    "histogram2dcontour": [
                      {
                        "colorbar": {
                          "outlinewidth": 0,
                          "ticks": ""
                        },
                        "colorscale": [
                          [
                            0,
                            "#0d0887"
                          ],
                          [
                            0.1111111111111111,
                            "#46039f"
                          ],
                          [
                            0.2222222222222222,
                            "#7201a8"
                          ],
                          [
                            0.3333333333333333,
                            "#9c179e"
                          ],
                          [
                            0.4444444444444444,
                            "#bd3786"
                          ],
                          [
                            0.5555555555555556,
                            "#d8576b"
                          ],
                          [
                            0.6666666666666666,
                            "#ed7953"
                          ],
                          [
                            0.7777777777777778,
                            "#fb9f3a"
                          ],
                          [
                            0.8888888888888888,
                            "#fdca26"
                          ],
                          [
                            1,
                            "#f0f921"
                          ]
                        ],
                        "type": "histogram2dcontour"
                      }
                    ],
                    "mesh3d": [
                      {
                        "colorbar": {
                          "outlinewidth": 0,
                          "ticks": ""
                        },
                        "type": "mesh3d"
                      }
                    ],
                    "parcoords": [
                      {
                        "line": {
                          "colorbar": {
                            "outlinewidth": 0,
                            "ticks": ""
                          }
                        },
                        "type": "parcoords"
                      }
                    ],
                    "pie": [
                      {
                        "automargin": true,
                        "type": "pie"
                      }
                    ],
                    "scatter": [
                      {
                        "fillpattern": {
                          "fillmode": "overlay",
                          "size": 10,
                          "solidity": 0.2
                        },
                        "type": "scatter"
                      }
                    ],
                    "scatter3d": [
                      {
                        "line": {
                          "colorbar": {
                            "outlinewidth": 0,
                            "ticks": ""
                          }
                        },
                        "marker": {
                          "colorbar": {
                            "outlinewidth": 0,
                            "ticks": ""
                          }
                        },
                        "type": "scatter3d"
                      }
                    ],
                    "scattercarpet": [
                      {
                        "marker": {
                          "colorbar": {
                            "outlinewidth": 0,
                            "ticks": ""
                          }
                        },
                        "type": "scattercarpet"
                      }
                    ],
                    "scattergeo": [
                      {
                        "marker": {
                          "colorbar": {
                            "outlinewidth": 0,
                            "ticks": ""
                          }
                        },
                        "type": "scattergeo"
                      }
                    ],
                    "scattergl": [
                      {
                        "marker": {
                          "colorbar": {
                            "outlinewidth": 0,
                            "ticks": ""
                          }
                        },
                        "type": "scattergl"
                      }
                    ],
                    "scattermapbox": [
                      {
                        "marker": {
                          "colorbar": {
                            "outlinewidth": 0,
                            "ticks": ""
                          }
                        },
                        "type": "scattermapbox"
                      }
                    ],
                    "scatterpolar": [
                      {
                        "marker": {
                          "colorbar": {
                            "outlinewidth": 0,
                            "ticks": ""
                          }
                        },
                        "type": "scatterpolar"
                      }
                    ],
                    "scatterpolargl": [
                      {
                        "marker": {
                          "colorbar": {
                            "outlinewidth": 0,
                            "ticks": ""
                          }
                        },
                        "type": "scatterpolargl"
                      }
                    ],
                    "scatterternary": [
                      {
                        "marker": {
                          "colorbar": {
                            "outlinewidth": 0,
                            "ticks": ""
                          }
                        },
                        "type": "scatterternary"
                      }
                    ],
                    "surface": [
                      {
                        "colorbar": {
                          "outlinewidth": 0,
                          "ticks": ""
                        },
                        "colorscale": [
                          [
                            0,
                            "#0d0887"
                          ],
                          [
                            0.1111111111111111,
                            "#46039f"
                          ],
                          [
                            0.2222222222222222,
                            "#7201a8"
                          ],
                          [
                            0.3333333333333333,
                            "#9c179e"
                          ],
                          [
                            0.4444444444444444,
                            "#bd3786"
                          ],
                          [
                            0.5555555555555556,
                            "#d8576b"
                          ],
                          [
                            0.6666666666666666,
                            "#ed7953"
                          ],
                          [
                            0.7777777777777778,
                            "#fb9f3a"
                          ],
                          [
                            0.8888888888888888,
                            "#fdca26"
                          ],
                          [
                            1,
                            "#f0f921"
                          ]
                        ],
                        "type": "surface"
                      }
                    ],
                    "table": [
                      {
                        "cells": {
                          "fill": {
                            "color": "#EBF0F8"
                          },
                          "line": {
                            "color": "white"
                          }
                        },
                        "header": {
                          "fill": {
                            "color": "#C8D4E3"
                          },
                          "line": {
                            "color": "white"
                          }
                        },
                        "type": "table"
                      }
                    ]
                  },
                  "layout": {
                    "annotationdefaults": {
                      "arrowcolor": "#2a3f5f",
                      "arrowhead": 0,
                      "arrowwidth": 1
                    },
                    "autotypenumbers": "strict",
                    "coloraxis": {
                      "colorbar": {
                        "outlinewidth": 0,
                        "ticks": ""
                      }
                    },
                    "colorscale": {
                      "diverging": [
                        [
                          0,
                          "#8e0152"
                        ],
                        [
                          0.1,
                          "#c51b7d"
                        ],
                        [
                          0.2,
                          "#de77ae"
                        ],
                        [
                          0.3,
                          "#f1b6da"
                        ],
                        [
                          0.4,
                          "#fde0ef"
                        ],
                        [
                          0.5,
                          "#f7f7f7"
                        ],
                        [
                          0.6,
                          "#e6f5d0"
                        ],
                        [
                          0.7,
                          "#b8e186"
                        ],
                        [
                          0.8,
                          "#7fbc41"
                        ],
                        [
                          0.9,
                          "#4d9221"
                        ],
                        [
                          1,
                          "#276419"
                        ]
                      ],
                      "sequential": [
                        [
                          0,
                          "#0d0887"
                        ],
                        [
                          0.1111111111111111,
                          "#46039f"
                        ],
                        [
                          0.2222222222222222,
                          "#7201a8"
                        ],
                        [
                          0.3333333333333333,
                          "#9c179e"
                        ],
                        [
                          0.4444444444444444,
                          "#bd3786"
                        ],
                        [
                          0.5555555555555556,
                          "#d8576b"
                        ],
                        [
                          0.6666666666666666,
                          "#ed7953"
                        ],
                        [
                          0.7777777777777778,
                          "#fb9f3a"
                        ],
                        [
                          0.8888888888888888,
                          "#fdca26"
                        ],
                        [
                          1,
                          "#f0f921"
                        ]
                      ],
                      "sequentialminus": [
                        [
                          0,
                          "#0d0887"
                        ],
                        [
                          0.1111111111111111,
                          "#46039f"
                        ],
                        [
                          0.2222222222222222,
                          "#7201a8"
                        ],
                        [
                          0.3333333333333333,
                          "#9c179e"
                        ],
                        [
                          0.4444444444444444,
                          "#bd3786"
                        ],
                        [
                          0.5555555555555556,
                          "#d8576b"
                        ],
                        [
                          0.6666666666666666,
                          "#ed7953"
                        ],
                        [
                          0.7777777777777778,
                          "#fb9f3a"
                        ],
                        [
                          0.8888888888888888,
                          "#fdca26"
                        ],
                        [
                          1,
                          "#f0f921"
                        ]
                      ]
                    },
                    "colorway": [
                      "#636efa",
                      "#EF553B",
                      "#00cc96",
                      "#ab63fa",
                      "#FFA15A",
                      "#19d3f3",
                      "#FF6692",
                      "#B6E880",
                      "#FF97FF",
                      "#FECB52"
                    ],
                    "font": {
                      "color": "#2a3f5f"
                    },
                    "geo": {
                      "bgcolor": "white",
                      "lakecolor": "white",
                      "landcolor": "#E5ECF6",
                      "showlakes": true,
                      "showland": true,
                      "subunitcolor": "white"
                    },
                    "hoverlabel": {
                      "align": "left"
                    },
                    "hovermode": "closest",
                    "mapbox": {
                      "style": "light"
                    },
                    "paper_bgcolor": "white",
                    "plot_bgcolor": "#E5ECF6",
                    "polar": {
                      "angularaxis": {
                        "gridcolor": "white",
                        "linecolor": "white",
                        "ticks": ""
                      },
                      "bgcolor": "#E5ECF6",
                      "radialaxis": {
                        "gridcolor": "white",
                        "linecolor": "white",
                        "ticks": ""
                      }
                    },
                    "scene": {
                      "xaxis": {
                        "backgroundcolor": "#E5ECF6",
                        "gridcolor": "white",
                        "gridwidth": 2,
                        "linecolor": "white",
                        "showbackground": true,
                        "ticks": "",
                        "zerolinecolor": "white"
                      },
                      "yaxis": {
                        "backgroundcolor": "#E5ECF6",
                        "gridcolor": "white",
                        "gridwidth": 2,
                        "linecolor": "white",
                        "showbackground": true,
                        "ticks": "",
                        "zerolinecolor": "white"
                      },
                      "zaxis": {
                        "backgroundcolor": "#E5ECF6",
                        "gridcolor": "white",
                        "gridwidth": 2,
                        "linecolor": "white",
                        "showbackground": true,
                        "ticks": "",
                        "zerolinecolor": "white"
                      }
                    },
                    "shapedefaults": {
                      "line": {
                        "color": "#2a3f5f"
                      }
                    },
                    "ternary": {
                      "aaxis": {
                        "gridcolor": "white",
                        "linecolor": "white",
                        "ticks": ""
                      },
                      "baxis": {
                        "gridcolor": "white",
                        "linecolor": "white",
                        "ticks": ""
                      },
                      "bgcolor": "#E5ECF6",
                      "caxis": {
                        "gridcolor": "white",
                        "linecolor": "white",
                        "ticks": ""
                      }
                    },
                    "title": {
                      "x": 0.05
                    },
                    "xaxis": {
                      "automargin": true,
                      "gridcolor": "white",
                      "linecolor": "white",
                      "ticks": "",
                      "title": {
                        "standoff": 15
                      },
                      "zerolinecolor": "white",
                      "zerolinewidth": 2
                    },
                    "yaxis": {
                      "automargin": true,
                      "gridcolor": "white",
                      "linecolor": "white",
                      "ticks": "",
                      "title": {
                        "standoff": 15
                      },
                      "zerolinecolor": "white",
                      "zerolinewidth": 2
                    }
                  }
                },
                "title": {
                  "text": "GPA por Nivel de educación de los padres"
                },
                "xaxis": {
                  "anchor": "y",
                  "domain": [
                    0,
                    1
                  ],
                  "title": {
                    "text": "GPA"
                  }
                },
                "yaxis": {
                  "anchor": "x",
                  "domain": [
                    0,
                    1
                  ],
                  "title": {
                    "text": "parental level of education"
                  }
                }
              }
            }
          },
          "metadata": {},
          "output_type": "display_data"
        }
      ],
      "source": [
        "# Código para quintiles \n",
        "# La variable que contenga los quintiles debe llamarse GPA cuantiles para que el gráfico funcione.\n",
        "df_grades.loc[:,\"GPA cuantiles\"] = pd.qcut(df_grades.loc[:,\"GPA\"],5,['Bajísimo', 'Bajo', 'Medio', 'Alto', 'Muy alto'])\n",
        "# Código de gráfico \n",
        "fig = px.scatter(\n",
        "    df_grades.sort_values(by=\"GPA\"),\n",
        "    x=\"GPA\",\n",
        "    y=\"parental level of education\",\n",
        "    hover_data=[\"gender\"],\n",
        "    color=\"GPA cuantiles\",\n",
        "    title=\"GPA por Nivel de educación de los padres\",\n",
        "    color_discrete_sequence=[\"tomato\", \"orange\", \"yellow\", \"greenyellow\", \"green\"]\n",
        ")\n",
        "\n",
        "fig\n"
      ]
    },
    {
      "cell_type": "markdown",
      "metadata": {
        "cell_id": "bed63a9b43a24aa4834f099c6bc77476",
        "deepnote_cell_height": 70.796875,
        "deepnote_cell_type": "markdown",
        "id": "cwLttOpQ8bSo",
        "tags": []
      },
      "source": [
        " A medida que aumenta el nivel de esucación de los padres, el GPA tiende a concebir una disperción mucho menor. Esto significa que a medida que los padres tienen más estudios, los hijos tienden a tener mejor rendimiento en promedio."
      ]
    },
    {
      "cell_type": "markdown",
      "metadata": {
        "cell_id": "bb6e4f776a2043c1ad240cfb8fb908b1",
        "deepnote_cell_height": 264,
        "deepnote_cell_type": "markdown",
        "id": "Rg4ZMq8ezAH6",
        "owner_user_id": "badcc427-fd3d-4615-9296-faa43ec69cfb"
      },
      "source": [
        "# Conclusión\n",
        "Eso ha sido todo para el lab de hoy, recuerden que el laboratorio tiene un plazo de entrega de una semana. Cualquier duda del laboratorio, no duden en contactarnos por mail o U-cursos.\n",
        "\n",
        "<p align=\"center\">\n",
        "  <img src=\"https://media1.tenor.com/images/2f7df460196625edc45b8380d158e5ee/tenor.gif?itemid=16669403\">\n",
        "</p>"
      ]
    },
    {
      "cell_type": "markdown",
      "metadata": {
        "cell_id": "280333d3d1e64fbb9815a64776ec3793",
        "deepnote_cell_height": 254.390625,
        "deepnote_cell_type": "markdown",
        "id": "wCL1lACBzAH7"
      },
      "source": [
        "<br>\n",
        "<center>\n",
        "<img src=\"https://i.kym-cdn.com/photos/images/original/001/194/195/b18.png\" width=100 height=50 />\n",
        "</center>\n",
        "<br>"
      ]
    },
    {
      "cell_type": "markdown",
      "metadata": {
        "created_in_deepnote_cell": true,
        "deepnote_cell_type": "markdown",
        "id": "qDf74Btr8bSp"
      },
      "source": [
        "<a style='text-decoration:none;line-height:16px;display:flex;color:#5B5B62;padding:10px;justify-content:end;' href='https://deepnote.com?utm_source=created-in-deepnote-cell&projectId=87110296-876e-426f-b91d-aaf681223468' target=\"_blank\">\n",
        "<img alt='Created in deepnote.com' style='display:inline;max-height:16px;margin:0px;margin-right:7.5px;' src='data:image/svg+xml;base64,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' > </img>\n",
        "Created in <span style='font-weight:600;margin-left:4px;'>Deepnote</span></a>"
      ]
    }
  ],
  "metadata": {
    "colab": {
      "provenance": []
    },
    "deepnote": {},
    "deepnote_execution_queue": [],
    "deepnote_notebook_id": "188eceea07074932af334d64275af976",
    "kernelspec": {
      "display_name": "Python 3",
      "language": "python",
      "name": "python3"
    },
    "language_info": {
      "codemirror_mode": {
        "name": "ipython",
        "version": 3
      },
      "file_extension": ".py",
      "mimetype": "text/x-python",
      "name": "python",
      "nbconvert_exporter": "python",
      "pygments_lexer": "ipython3",
      "version": "3.8.5"
    },
    "toc": {
      "base_numbering": 1,
      "nav_menu": {},
      "number_sections": true,
      "sideBar": true,
      "skip_h1_title": true,
      "title_cell": "Tabla de Contenidos",
      "title_sidebar": "Contenidos",
      "toc_cell": false,
      "toc_position": {
        "height": "calc(100% - 180px)",
        "left": "10px",
        "top": "150px",
        "width": "241.867px"
      },
      "toc_section_display": true,
      "toc_window_display": true
    },
    "varInspector": {
      "cols": {
        "lenName": 16,
        "lenType": 16,
        "lenVar": 40
      },
      "kernels_config": {
        "python": {
          "delete_cmd_postfix": "",
          "delete_cmd_prefix": "del ",
          "library": "var_list.py",
          "varRefreshCmd": "print(var_dic_list())"
        },
        "r": {
          "delete_cmd_postfix": ") ",
          "delete_cmd_prefix": "rm(",
          "library": "var_list.r",
          "varRefreshCmd": "cat(var_dic_list()) "
        }
      },
      "types_to_exclude": [
        "module",
        "function",
        "builtin_function_or_method",
        "instance",
        "_Feature"
      ],
      "window_display": false
    }
  },
  "nbformat": 4,
  "nbformat_minor": 0
}
