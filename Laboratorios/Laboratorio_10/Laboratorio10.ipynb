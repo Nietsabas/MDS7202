{
  "cells": [
    {
      "attachments": {},
      "cell_type": "markdown",
      "metadata": {
        "cell_id": "6db569e7c5d04f9e9b48cb129df732fc",
        "deepnote_cell_type": "markdown",
        "id": "XUZ1dFPHzAHl"
      },
      "source": [
        "<h1><center>Laboratorio 10: Interpretabilidad 🤖</center></h1>\n",
        "\n",
        "<center><strong>MDS7202: Laboratorio de Programación Científica para Ciencia de Datos</strong></center>"
      ]
    },
    {
      "attachments": {},
      "cell_type": "markdown",
      "metadata": {
        "cell_id": "737a4540885f41acb34b9863a968b907",
        "deepnote_cell_type": "markdown",
        "id": "UD8X1uhGzAHq"
      },
      "source": [
        "### Cuerpo Docente:\n",
        "\n",
        "- Profesor: Pablo Badilla y Ignacio Meza D.\n",
        "- Auxiliar: Sebastián Tinoco\n",
        "- Ayudante: Felipe Arias y Diego Cortez"
      ]
    },
    {
      "attachments": {},
      "cell_type": "markdown",
      "metadata": {
        "cell_id": "e4a6f26138654eb49ee963fb4c7ecf46",
        "deepnote_cell_type": "markdown",
        "id": "tXflExjqzAHr"
      },
      "source": [
        "### Equipo: SUPER IMPORTANTE - notebooks sin nombre no serán revisados\n",
        "\n",
        "- Nombre de alumno 1:\n",
        "- Nombre de alumno 2:\n"
      ]
    },
    {
      "attachments": {},
      "cell_type": "markdown",
      "metadata": {
        "cell_id": "7dd4aaebd4f44063aedbb47ea36349a5",
        "deepnote_cell_type": "markdown",
        "id": "AD-V0bbZzAHr",
        "owner_user_id": "badcc427-fd3d-4615-9296-faa43ec69cfb"
      },
      "source": [
        "### **Link de repositorio de GitHub:** `http://....`"
      ]
    },
    {
      "attachments": {},
      "cell_type": "markdown",
      "metadata": {
        "cell_id": "abe08e51696a471e8cc8ac1fa4216f0b",
        "deepnote_cell_type": "markdown",
        "id": "EcnsiQMkzAHr"
      },
      "source": [
        "### Indice\n",
        "\n",
        "1. [Temas a tratar](#Temas-a-tratar:)\n",
        "3. [Descripcción del laboratorio](#Descripción-del-laboratorio.)\n",
        "4. [Desarrollo](#Desarrollo)"
      ]
    },
    {
      "attachments": {},
      "cell_type": "markdown",
      "metadata": {
        "cell_id": "0174e9377ebb43eaa0d12718db4c81ec",
        "deepnote_cell_type": "markdown",
        "id": "6uBLPj1PzAHs"
      },
      "source": [
        "## Temas a tratar\n",
        "\n",
        "- Clasificación usando `XGBoost`.\n",
        "- Métodos Agnósticos Globales de Interpretabilidad (`Partial Dependence Plot`, `Permutation Feature Importance`)\n",
        "- Métodos Agnósticos Locales de Interpretabilidad (`Scoped Rules`, `SHAP`)\n",
        "\n",
        "## Reglas:\n",
        "\n",
        "- **Grupos de 2 personas**\n",
        "- Asistencia **obligatoria** a instrucciones del lab (viernes 16.15). Luego, pueden quedarse trabajando en las salas o irse.\n",
        "- **No se revisarán entregas de personas ausentes**.\n",
        "- Cualquier duda fuera del horario de clases al foro. Mensajes al equipo docente serán respondidos por este medio.\n",
        "- Prohibidas las copias.\n",
        "- Pueden usar cualquer matrial del curso que estimen conveniente.\n",
        "\n",
        "### Objetivos principales del laboratorio\n",
        "\n",
        "- Generar un pipeline de clasificación con `XGBoost`.\n",
        "- Implementar modelos de interpretabilidad para explicar el funcionamiento del modelo de clasificación.\n",
        "\n",
        "El laboratorio deberá ser desarrollado sin el uso indiscriminado de iteradores nativos de python (aka \"for\", \"while\"). La idea es que aprendan a exprimir al máximo las funciones optimizadas que nos entrega `pandas`, las cuales vale mencionar, son bastante más eficientes que los iteradores nativos sobre DataFrames."
      ]
    },
    {
      "attachments": {},
      "cell_type": "markdown",
      "metadata": {
        "cell_id": "e2c4f9b4097846b680f8d1c500aa49df",
        "deepnote_cell_type": "markdown",
        "id": "xpOTbQcxbSiy"
      },
      "source": [
        "# 1. Problemas Clínicos del Dr. Simi"
      ]
    },
    {
      "attachments": {},
      "cell_type": "markdown",
      "metadata": {
        "cell_id": "2911f2d6934f43fe8950320d84f3b031",
        "deepnote_cell_type": "markdown",
        "id": "3Q93vbNS25bM"
      },
      "source": [
        "<p align=\"center\">\n",
        "  <img src=\"https://gantz.cl/wp-content/uploads/2020/01/79024136_2718114448239059_7240913062570491904_o.jpg\" width=\"350\">\n",
        "</p>"
      ]
    },
    {
      "attachments": {},
      "cell_type": "markdown",
      "metadata": {
        "cell_id": "2bb2213a347e4d55bfc8fea55068a88f",
        "deepnote_cell_type": "markdown",
        "id": "QS0diGr8hezg"
      },
      "source": [
        "El reconocido **Dr. Simi**, famoso vendedor de medicamentos en latinoamerica, debido a la creciente prevalencia de enfermedades crónicas, como la diabetes, decidió abrir una clínica especializada en el tratamiento de esta enfermedad en nuestro país.\n",
        "\n",
        "La clínica del Doctor Simi se convirtió en un lugar donde los pacientes con diabetes podrían recibir atención médica integral. El personal médico estaba compuesto por especialistas en endocrinología, nutrición y enfermería, todos capacitados en el manejo de la diabetes.\n",
        "\n",
        "Sin embargo él se ha dado cuenta que los tiempos han cambiado y gracias a las tecnologías es posible generar mejores predicciones en la diabetes conociendo el historial médico de las personas. Por esto, el doctor se ha colocado una meta de incluir modelos de machine learning dentro de sus clínicas, para ello le ha solicitado crear un modelo capaz de predecir/clasificar diabetes pero le rogó que el desarrollo del modelo tuviera un especial enfoque en la interpretabilidad de lo que hace su modelo.\n",
        "\n",
        "Para que usted pueda entrenar el modelo, Dr. Simi le ha entregado un dataset de todos los clientes que fueron detectados con diabetes a lo largo de la historia de la clinica. Con ello, adjunta el historial médico de las personas en forma de datos tabulares para que usted pueda realizar fácilmente la clasificación.\n"
      ]
    },
    {
      "cell_type": "code",
      "execution_count": null,
      "metadata": {
        "colab": {
          "base_uri": "https://localhost:8080/"
        },
        "id": "NJQt9RTJjO50",
        "outputId": "2180cf86-69f6-427f-af63-438caee632a7"
      },
      "outputs": [],
      "source": [
        "!pip install pandas-profiling"
      ]
    },
    {
      "cell_type": "code",
      "execution_count": null,
      "metadata": {
        "cell_id": "85306f784b434ca1a6db2d4751525cf0",
        "deepnote_cell_type": "code",
        "deepnote_to_be_reexecuted": false,
        "execution_millis": 11299,
        "execution_start": 1686884005212,
        "id": "nGuQyBN_hezk",
        "outputId": "8b35f31d-2661-4444-cc25-6dffce7a3642",
        "source_hash": "4d27a39e"
      },
      "outputs": [],
      "source": [
        "!pip install xgboost"
      ]
    },
    {
      "cell_type": "code",
      "execution_count": null,
      "metadata": {
        "cell_id": "3252f09552814a80ac2d5e3cc67a1447",
        "colab": {
          "base_uri": "https://localhost:8080/",
          "height": 175
        },
        "deepnote_cell_type": "code",
        "deepnote_to_be_reexecuted": false,
        "execution_millis": 294,
        "execution_start": 1686884002582,
        "id": "bED3w3tDbSCf",
        "outputId": "80034982-1173-491f-9aa8-52895d26d5aa",
        "source_hash": "fa5e6129"
      },
      "outputs": [],
      "source": [
        "import numpy as np\n",
        "import pandas as pd\n",
        "import pandas_profiling\n",
        "import matplotlib.pyplot as plt\n",
        "import xgboost as xgb\n",
        "\n",
        "from sklearn.model_selection import train_test_split\n",
        "from sklearn.pipeline import Pipeline\n",
        "from sklearn.compose import ColumnTransformer\n",
        "from sklearn.preprocessing import StandardScaler, MinMaxScaler\n",
        "from sklearn.metrics import accuracy_score, precision_score, recall_score, f1_score, classification_report\n",
        "from xgboost import XGBClassifier, plot_importance\n",
        "from sklearn.inspection import permutation_importance\n",
        "\n",
        "df = pd.read_csv('diabetes_data.csv')\n",
        "df.head(4)"
      ]
    },
    {
      "cell_type": "code",
      "execution_count": null,
      "metadata": {
        "colab": {
          "base_uri": "https://localhost:8080/",
          "height": 145,
          "referenced_widgets": [
            "dc13e0157d5a4e5db758f0362c8742ab",
            "a785fad508c04b4489d6169d86ab1801",
            "3bb5125b1a86499d848054e456b575a7",
            "8439a7abc79248848b6a56220e72bf37",
            "8d5518ba875b432095a1c10cac7bc274",
            "b0148827a0e74e8b9796827232b1b6c2",
            "3515e2997ae449b2a48ad1259445613b",
            "9647642a4523488a8090a4d063304112",
            "eb6cb9545d6e4dc3945b6e82ea145426",
            "e41505182741441a90515782842303c9",
            "7af367f77c4f484a93e27c2d0b25888d",
            "aafd1300f00e4c9ca06e88da4272fab6",
            "f17801c05e8544d4a1691b74473c9231",
            "95099324bdb84adf878379c61bbb3967",
            "e14f5447310348ffa6f740a4a586e685",
            "1dd94c9b92a94e5a9b80af5ddb47bb0c",
            "584a2fbaf411492087ac0ed5a4ba12f1",
            "2a7a2302a07c4e069fb89cacd5dbb0b5",
            "aed2c27710004c3ba1e68d6802ae863e",
            "62b8da69487142ceb7c8409937862fef",
            "455290c7068f45f3a81ee3ab0bff657a",
            "6ebd0845d12741f08757d88356cb02e7",
            "c87d79dc2c5d4f9abfd054121c5d387d",
            "bc5c705315c046deb0710c83a53a832d",
            "6d5a85d454144de09b8b45e7ad20ab74",
            "aaa83300bdde4acf812880ad8fd6a0a8",
            "e3e17043e8a743cc9ed340ff5d3103ad",
            "1bb4709a0f674fb79a08cbe7fd298f9f",
            "63c172be8f23453683c24f85a9abb0a2",
            "8d6d9199f13443b5af0a83c6a289a84e",
            "15b428c2f00f470aacf41d912f677f20",
            "0c7e7072ca454d1ea09bc3c952ce553c",
            "ec1f075286c643a08326a85e12d4f528",
            "4805a45954b2413aa0185a99e5db66d8",
            "7dd63364a6d0419eb32256f9f6900d97",
            "4c2d7003700a4d5392f6bcfaf03fcd7d",
            "b20d433ad7be46d88904444f6600f4d9",
            "3d04880bafb44170a7be91bad484de81",
            "ac6d95894f284f0b9db808d35705e708",
            "a43b7238d12447468a33e49b6348ef6e",
            "1a3b3689ee7c4a7a9343e1617dd59510",
            "097c548feed548b4ac629c241f77227c",
            "25636c69b1c94ab99ac45ec01b661a25",
            "49bbd59dd76640c6a9edaaafba524f0f"
          ]
        },
        "id": "u7r1wSEGimMw",
        "outputId": "b676901a-5cfe-4c04-e89b-c4ca4095ca67"
      },
      "outputs": [],
      "source": [
        "profile = pandas_profiling.ProfileReport(df)\n",
        "profile.to_file(\"informe.html\")"
      ]
    },
    {
      "attachments": {},
      "cell_type": "markdown",
      "metadata": {
        "cell_id": "2fa50e56411a46858d61f2a42b715ee8",
        "deepnote_cell_type": "markdown",
        "id": "V3HCwS0lhezk"
      },
      "source": [
        "## 2. Clasificación de pacientes con diabetes (0.5 pt)\n",
        "\n",
        "<p align=\"center\">\n",
        "  <img src=\"https://media.tenor.com/QH--g3ZaSbsAAAAC/dr-simi-abrazo.gif\" width=\"400\">\n",
        "</p>"
      ]
    },
    {
      "attachments": {},
      "cell_type": "markdown",
      "metadata": {
        "cell_id": "d9f2091b610941f989e7720573424d8a",
        "deepnote_cell_type": "markdown",
        "id": "jnmZfFpxTTYX"
      },
      "source": [
        "En primer lugar, el reconocido doctor le pide entrenar un modelo de `XGBoost` utilizando como target la columna `Diabetes` del dataset `diabetes_data.csv`. Para el entrenamiento tome en cuenta **todos** los pasos necesarios para entrenar un modelo de aprendizaje supervisado vistos hasta la fecha (use `Pipeline`, `ColumnTransformer`, etc.), comente sus decisiones y los resultados obtenidos con el modelo. ¿Es acaso un buen predictor de diabetes?, ¿Qué buscan explicar las métricas utilizadas?, ¿las métricas utilizadas para medir la predictibilidad le permiten asegurar que su modelo una buena elección de las features?."
      ]
    },
    {
      "cell_type": "code",
      "execution_count": null,
      "metadata": {
        "cell_id": "a928e00142bf45ee8d26207bab5a920d",
        "colab": {
          "base_uri": "https://localhost:8080/"
        },
        "deepnote_cell_type": "code",
        "deepnote_to_be_reexecuted": false,
        "execution_millis": 50,
        "execution_start": 1686930782578,
        "id": "-R4C_X14hezk",
        "outputId": "dfe37140-f1f2-4033-beeb-debd1bdbf964",
        "source_hash": "553ccab0"
      },
      "outputs": [],
      "source": [
        "# Cargar el dataset\n",
        "data = pd.read_csv('diabetes_data.csv')\n",
        "\n",
        "# Dividir los datos en características y objetivo\n",
        "X = data.drop('Diabetes', axis=1)\n",
        "y = data['Diabetes']\n",
        "\n",
        "# Definir las columnas numéricas y categóricas\n",
        "std_features = ['Age', 'BMI', 'GenHlth']\n",
        "minmax_features = ['MentHlth', 'PhysHlth']\n",
        "\n",
        "# Definir las transformaciones para las características numéricas\n",
        "transformadores = [\n",
        "    ('escala_minmax', MinMaxScaler(), minmax_features),\n",
        "    ('escala_estandar', StandardScaler(), std_features)\n",
        "]\n",
        "# Combinar las transformaciones\n",
        "preprocessor = ColumnTransformer(transformadores)\n",
        "\n",
        "# Definir el modelo de XGBoost\n",
        "model = XGBClassifier()\n",
        "\n",
        "# Crear el pipeline con preprocesamiento y modelo\n",
        "pipeline = Pipeline(steps=[('preprocessor', preprocessor),\n",
        "                           ('model', model)])\n",
        "\n",
        "# Dividir los datos en conjuntos de entrenamiento y prueba\n",
        "X_train, X_test, y_train, y_test = train_test_split(X, y, test_size=0.2, random_state=42)\n",
        "\n",
        "# Entrenar el modelo\n",
        "pipeline.fit(X_train, y_train)\n",
        "\n",
        "# Realizar predicciones en el conjunto de prueba\n",
        "y_pred = pipeline.predict(X_test)\n",
        "\n",
        "# Calcular las métricas de evaluación\n",
        "\n",
        "# Obtener el informe de clasificación\n",
        "print(\"Pipeline 1:\")\n",
        "print(classification_report(y_test, y_pred))\n",
        "\n",
        "# accuracy = accuracy_score(y_test, y_pred)\n",
        "# precision = precision_score(y_test, y_pred)\n",
        "# recall = recall_score(y_test, y_pred)\n",
        "# f1 = f1_score(y_test, y_pred)\n",
        "\n",
        "# # Imprimir las métricas de evaluación\n",
        "# print('Accuracy:', accuracy)\n",
        "# print('Precision:', precision)\n",
        "# print('Recall:', recall)\n",
        "# print('F1-score:', f1)"
      ]
    },
    {
      "attachments": {},
      "cell_type": "markdown",
      "metadata": {},
      "source": [
        "Este primer modelo desarrollado para predecir la diabetes muestra resultados aceptables en términos de métricas de evaluación.\n",
        "\n",
        "Precisión: El modelo tiene una precisión del 71% para las personas con diabetes y del 75% para las personas sin diabetes. Esto significa que de todas las predicciones clasificadas como diabetes o no diabetes, el modelo acierta en aproximadamente el 71% y el 75% respectivamente.\n",
        "\n",
        "Recall: El recall es del 78% para las personas con diabetes y del 69% para las personas sin diabetes. Esto indica que el modelo logra identificar correctamente alrededor del 78% de las personas con diabetes y alrededor del 69% de las personas sin diabetes en el conjunto de prueba.\n",
        "\n",
        "F1-score: El f1-score, que combina la precisión y el recall, es del 74% para las personas con diabetes y del 72% para las personas sin diabetes. Estas métricas reflejan un buen equilibrio entre la precisión y la capacidad del modelo para identificar correctamente las clases.\n",
        "\n",
        "Accuracy: El accuracy general del modelo en el conjunto de prueba es del 73%. Esto significa que el 73% de las predicciones del modelo coinciden con las etiquetas reales de diabetes o no diabetes."
      ]
    },
    {
      "attachments": {},
      "cell_type": "markdown",
      "metadata": {
        "cell_id": "58111a309a0c4aafb323c62c03b9b1d0",
        "deepnote_cell_type": "markdown",
        "id": "-aCSJCbIhezk"
      },
      "source": [
        "## 3. Importancia de las features con XGBoost (0.5 pt)\n",
        "\n",
        "<p align=\"center\">\n",
        "  <img src=\"https://media.tenor.com/5JAj5_IiagEAAAAd/dr-simi-dr-simi-dance.gif\" width=\"400\">\n",
        "</p>"
      ]
    },
    {
      "attachments": {},
      "cell_type": "markdown",
      "metadata": {
        "cell_id": "5e0707b14bbd4ed7b4646cba8e7e53cc",
        "deepnote_cell_type": "markdown",
        "id": "i0tb8tPYhezl"
      },
      "source": [
        "Para añadir el toque de interpretabilidad que Dr. Simi le pide, se le pide calcular la **importancia de las features** del modelo entrenado utilizando todos los métodos (*weight*, *cover*, *gain*) que posee xgboost usando `plot_importance`. ¿Los resultados obtenidos con los diferentes métodos son compatibles?, comente sus resultados y a que se debe la igualdad o desigualdad que ve en los resultados. Finalmente, ¿las importancias obtenidas son suficientes para obtener la interpretabilidad de un modelo que utiliza árboles? ¿Qué debilidad presenta este método?"
      ]
    },
    {
      "cell_type": "code",
      "execution_count": null,
      "metadata": {
        "colab": {
          "base_uri": "https://localhost:8080/",
          "height": 797
        },
        "id": "4JyE1tLX8NZa",
        "outputId": "6cf58f77-2f80-48d5-f7db-e7fb4ed0ed4e"
      },
      "outputs": [],
      "source": [
        "# Obtener los nombres de las columnas\n",
        "column_names = X.columns\n",
        "\n",
        "# Obtener la importancia de las características\n",
        "feature_importance_weight = model.feature_importances_\n",
        "feature_importance_cover = model.get_booster().get_score(importance_type='cover')\n",
        "feature_importance_gain = model.get_booster().get_score(importance_type='gain')\n",
        "\n",
        "\n",
        "# Redondear los valores de cover y gain\n",
        "rounded_cover = {column_names[int(key[1:])]: np.round(val, 2) for key, val in feature_importance_cover.items()}\n",
        "rounded_gain = {column_names[int(key[1:])]: np.round(val, 2) for key, val in feature_importance_gain.items()}\n",
        "\n",
        "# Crear una figura y los subplots\n",
        "fig, axs = plt.subplots(1, 3, figsize=(12, 4))\n",
        "\n",
        "# Plot de la importancia basada en weight\n",
        "plot_importance(model, importance_type='weight', ax=axs[0])\n",
        "axs[0].set_title('Importancia (Weight)')\n",
        "\n",
        "# Plot de la importancia basada en cover\n",
        "plot_importance(rounded_cover, ax=axs[1])\n",
        "axs[1].set_title('Importancia (Cover)')\n",
        "\n",
        "# Plot de la importancia basada en gain\n",
        "plot_importance(rounded_gain, ax=axs[2])\n",
        "axs[2].set_title('Importancia (Gain)')\n",
        "\n",
        "# Ajustar los subplots para una mejor visualización\n",
        "plt.tight_layout()\n",
        "plt.show()\n",
        "\n",
        "# Redondear los valores de cover y gain\n",
        "rounded_cover = {key: np.round(val, 2) for key, val in feature_importance_cover.items()}\n",
        "rounded_gain = {key: np.round(val, 2) for key, val in feature_importance_gain.items()}\n",
        "\n",
        "# Crear una figura y los subplots\n",
        "fig, axs = plt.subplots(1, 3, figsize=(12, 4))\n",
        "\n",
        "# Plot de la importancia basada en weight\n",
        "plot_importance(model, importance_type='weight', ax=axs[0])\n",
        "axs[0].set_title('Importancia (Weight)')\n",
        "\n",
        "# Plot de la importancia basada en cover\n",
        "plot_importance(rounded_cover, ax=axs[1])\n",
        "axs[1].set_title('Importancia (Cover)')\n",
        "\n",
        "# Plot de la importancia basada en gain\n",
        "plot_importance(rounded_gain, ax=axs[2])\n",
        "axs[2].set_title('Importancia (Gain)')\n",
        "\n",
        "# Ajustar los subplots para una mejor visualización\n",
        "plt.tight_layout()\n",
        "plt.show()"
      ]
    },
    {
      "attachments": {},
      "cell_type": "markdown",
      "metadata": {
        "id": "gM6Fl3x8RD9f"
      },
      "source": [
        "**Respuesta:**\n",
        "\n",
        "Se puede notar que los resultados de los distintos métodos toman en consideración en su top las mismas variables, pero les otorgan distintos niveles de importancia. Esto se debe a las apariciones en los diferentes niveles de los arboles generados. Si una variable tiene una mayor variedad de de valores posibles, donde esto afecta directamente a los pesos.\n",
        "\n",
        "Junto a lo anterior un problema que presenta el método, radica en las correlacioens que existen entre los datos. Esto puede llevar a sesgos, ya que se les dan importancia a las características más correlacionadas, no entregando mayor información, mientran que otras que si entregan información adicional son subestimadas. Por lo que las interpretaciones no serían suficientes.\n",
        "\n",
        "Por lo tanto, para obtener una interpretación más sólida y completa de un modelo basado en árboles, es recomendable complementar el análisis de importancia de características con otras técnicas, como el análisis de permuted feature importance o el análisis de partial dependence plots, que pueden ayudar a comprender mejor las relaciones entre las variables y su efecto en las predicciones del modelo."
      ]
    },
    {
      "attachments": {},
      "cell_type": "markdown",
      "metadata": {
        "cell_id": "37e42da05d404e6988e5cb213124d1a2",
        "deepnote_cell_type": "markdown",
        "id": "B6lT1Wvehezl"
      },
      "source": [
        "## 4. Métodos Agnósticos Globales (1 pt)\n",
        "\n",
        "<p align=\"center\">\n",
        "  <img src=\"https://media.tenor.com/JcRHtjVuXN8AAAAC/dr-simi-farmacias-similares.gif\" width=\"400\">\n",
        "</p>"
      ]
    },
    {
      "attachments": {},
      "cell_type": "markdown",
      "metadata": {
        "cell_id": "2a5763d9e5744d4fb2a5b8c0478b67fd",
        "deepnote_cell_type": "markdown",
        "id": "Ch4F5Cynhezl"
      },
      "source": [
        "Para mitigar los problemas encontrados en la sección anterior, Dr. Simi le pide implementar un **método de permutación** que le permita observar la importancia de las features. Visualice los resultados de este método en un gráfico. Para que su modelo sea consistente, repita el proceso **30 veces** y verifique la desviación estándar de sus resultados (¿Qué señala está?). Además, responda las siguientes preguntas:\n",
        "\n",
        "\n",
        "- ¿Cómo mide la importancia de las features su propuesta?\n",
        "- ¿Qué features tienen un mayor impacto en la salida del modelo?. Comente las 5 primeras, ¿Tienen sentido?\n",
        "- ¿Cómo cambian sus conclusiones con respecto a las features importances del punto anterior?\n",
        "- Nombre y explique 3 ventajas y 3 desventajas del método implementado."
      ]
    },
    {
      "cell_type": "code",
      "execution_count": null,
      "metadata": {
        "colab": {
          "base_uri": "https://localhost:8080/"
        },
        "id": "4x3zzgqg2uV3",
        "outputId": "a963f215-06be-4c70-c413-4296d246fa84"
      },
      "outputs": [],
      "source": [
        "\n",
        "res_pi = permutation_importance(pipeline, X_train, y_train, n_repeats= 30 , n_jobs= 2 ,\n",
        "                                scoring= 'neg_mean_squared_error' , random_state= 42 )\n",
        "res_pi"
      ]
    },
    {
      "cell_type": "code",
      "execution_count": null,
      "metadata": {
        "colab": {
          "base_uri": "https://localhost:8080/",
          "height": 487
        },
        "id": "s2LWlUmg3tDt",
        "outputId": "3c447fac-5971-44eb-ebaf-611e749de68c"
      },
      "outputs": [],
      "source": [
        "sorted_idx = res_pi.importances_mean.argsort()\n",
        "\n",
        "fig, ax = plt.subplots()\n",
        "ax.boxplot(\n",
        "    res_pi.importances[sorted_idx].T, vert= False , labels=X_train.columns[sorted_idx]\n",
        ")\n",
        "ax.set_title( \"Importancias de la permutación\" )\n",
        "fig.tight_layout()\n",
        "plt.show()"
      ]
    },
    {
      "attachments": {},
      "cell_type": "markdown",
      "metadata": {
        "id": "v3H5LnvTUEOY"
      },
      "source": [
        "**Respuesta:**\n",
        "\n",
        "Se mide la importancia de una característica calculando el aumento en el error de predicción del modelo después de permutar la característica. Por ejemplo se mantienen todas las columnas fijas, a excepción por la que se quiere estudiar ordenando de forma aleatoria sus elementos. Se considera una característica es \"importante\" si al mezclar sus valores aumenta el error del modelo. Por otro lado, se considera una característica es \"sin importancia\" si al mezclar sus valores deja no modifica el error del modelo.\n",
        "\n",
        "Los 5 valores más importantes, fueron los que tienen una mayor posibilidad de valores, por lo que es mucho más probable que estas afecten de mayor manera al ordenarse al azar, ya que es más dificil mantener el valor original. En cambio en la variables binarias, es mucho más posible repetir los valores, y aun más cuando existen clases desbalanceadas como lo es en este caso.\n",
        "\n",
        "En comparación al modelo anterior, este le da mayores importancias a aquellos valores que tienen una mayor gama de valores posibles, pero solo limitada a entender estos valores. En cambio la otra forma de análisis comprende ambas formas. De igual forma este método también deja visualizar como afectarían estas variables al modelo.\n",
        "\n",
        "**Ventajas:**\n",
        "\n",
        "- La medida de importancia tiene en cuenta automáticamente todas las interacciones con otras características. Por lo que es posible ver como interactuan las variables con el modelo.\n",
        "\n",
        "- La importancia de la función de permutación no requiere volver a entrenar el modelo, ya que al metodo solo le importa la variación de respuesta frente a un mismo modelo.\n",
        "\n",
        "- Tiene una fácil interpretabilidad, ya que al aumentar el error, es fácil darse cuenta cuales son las variables que afectan mayormente a la predicción.\n",
        "\n",
        "**Desventajas:**\n",
        "\n",
        "- Se necesita tener acceso a los valores reales de la clasificación, ya que de otra manera es imposible corroborar cuanto error es el que se le agrega al resultado.\n",
        "\n",
        "- Depende demasiado de la aleatoridad. Si bien en este caso se trata de estabilizar el error asociado repitiendo el proceso 30 veces, aumenta demasiado el costo computacional.\n",
        "\n",
        "- Cuando existen datos correlacionados y reales, puede generar situaciones improbables e inexistentes, los cual puede entorpecer aún más el análisis. Por ejemplo con esta aleatoreidad es posible que se cree un caso donde la altura de un individiu no corresponda con el peso (Caso extremo: 1.80m altura y 30 kg de peso)."
      ]
    },
    {
      "attachments": {},
      "cell_type": "markdown",
      "metadata": {
        "id": "1oKENBK04jbk"
      },
      "source": [
        "[1] https://medium.com/the-modern-scientist/agnostic-explainable-artificial-intelligence-xai-f998309a0c09\n",
        "\n",
        "[2] https://christophm.github.io/interpretable-ml-book/feature-importance.html"
      ]
    },
    {
      "attachments": {},
      "cell_type": "markdown",
      "metadata": {
        "cell_id": "bd24642fe85143b9bcdae0607e0bb2f6",
        "deepnote_cell_type": "markdown",
        "id": "n-wXEMOKhezl"
      },
      "source": [
        "## 5. Métodos Agnósticos Locales (2 pt)\n",
        "\n",
        "<p align=\"center\">\n",
        "  <img src=\"https://i.makeagif.com/media/1-27-2017/fBrzT8.mp4\" width=\"400\">\n",
        "</p>"
      ]
    },
    {
      "attachments": {},
      "cell_type": "markdown",
      "metadata": {
        "cell_id": "feffba3234c9428abbc9f7db957c5b64",
        "deepnote_cell_type": "markdown",
        "id": "XlPeLTjVhezl"
      },
      "source": [
        "### Parte A (0.4 pt)"
      ]
    },
    {
      "attachments": {},
      "cell_type": "markdown",
      "metadata": {
        "cell_id": "3dd06a63b4b045c1ab3e51ac01e0fbc0",
        "deepnote_cell_type": "markdown",
        "id": "ybTz0VQqhezm"
      },
      "source": [
        "Alegre por saber cómo funciona el modelo de predicción a nivel general, Dr. Simi le pide ahora interpretar las predicciones de su modelo a nivel de paciente (es decir, desde un punto de vista **local**). Para esto, el ilustre farmacéutico le pide calcular los *shap values* de su modelo. ¿Qué representa cada número en su resultado? ¿Es posible atribuir un significado a la positividad/negatividad de cada valor?"
      ]
    },
    {
      "cell_type": "code",
      "execution_count": null,
      "metadata": {
        "cell_id": "dada61becc854fe4830665a1e1fcfb8b",
        "colab": {
          "base_uri": "https://localhost:8080/"
        },
        "deepnote_cell_type": "code",
        "deepnote_to_be_reexecuted": false,
        "execution_millis": 7982,
        "execution_start": 1686925464848,
        "id": "F6lHmVrOhezm",
        "outputId": "4c61b1ec-2da2-48b1-ede0-b7b9751f0fbb",
        "source_hash": "5d97bad"
      },
      "outputs": [],
      "source": [
        "!pip install shap"
      ]
    },
    {
      "cell_type": "code",
      "execution_count": null,
      "metadata": {
        "cell_id": "c2d01e18bb9946579275006ac63f29f8",
        "deepnote_cell_type": "code",
        "deepnote_to_be_reexecuted": false,
        "execution_millis": 2,
        "execution_start": 1686884837621,
        "id": "QV1CtxMmhezm",
        "source_hash": "7220fd12"
      },
      "outputs": [],
      "source": [
        "import warnings\n",
        "import shap\n",
        "import pickle\n",
        "warnings.filterwarnings(\"ignore\", message=\".*The 'nopython' keyword.*\")"
      ]
    },
    {
      "cell_type": "code",
      "execution_count": null,
      "metadata": {
        "colab": {
          "base_uri": "https://localhost:8080/"
        },
        "id": "cDw79fLEd25w",
        "outputId": "fc5d5132-c526-44e4-92f1-b28fd150fc5e"
      },
      "outputs": [],
      "source": [
        "# Se da por hecho y en su lugar se cargan los datos de pickle\n",
        "\n",
        "# explainer = shap.Explainer(pipeline.predict, X_test)\n",
        "# shap_values = explainer(X_test)\n",
        "\n",
        "# # Guardar los valores SHAP en un archivo\n",
        "# with open('shap_values.pkl', 'wb') as f:\n",
        "#     pickle.dump(shap_values, f)\n",
        "\n",
        "# Cargar los valores SHAP desde un archivo\n",
        "with open('shap_values.pkl', 'rb') as f:\n",
        "    shap_values = pickle.load(f)"
      ]
    },
    {
      "attachments": {},
      "cell_type": "markdown",
      "metadata": {
        "id": "xfJSlLZLoo75"
      },
      "source": [
        "Cada número en el resultado de los Shap values representa la contribución de una característica específica a la predicción del modelo para un ejemplo de entrada dado. Un valor positivo indica que la presencia o un valor más alto de esa característica aumenta la predicción del modelo, mientras que un valor negativo indica que la presencia o un valor más bajo de esa característica disminuye la predicción del modelo. El valor absoluto de un Shap value indica la importancia de la característica en la predicción."
      ]
    },
    {
      "attachments": {},
      "cell_type": "markdown",
      "metadata": {
        "cell_id": "ca1ccbeae2b2444d925329e0fd1c7bff",
        "deepnote_cell_type": "markdown",
        "id": "ysVhDkqNhezm"
      },
      "source": [
        "### Parte B (0.4 pt)"
      ]
    },
    {
      "attachments": {},
      "cell_type": "markdown",
      "metadata": {
        "cell_id": "d1bd38afb30a418dad4d5229826459a3",
        "deepnote_cell_type": "markdown",
        "id": "SyX4umwVhezm"
      },
      "source": [
        "Usando los *shap values* calculados, grafique el **aporte** de las diferentes variables para las instancias **1**, **9** y **150**, interprete sus resultados y responda:\n",
        "- ¿Qué variables afectan de manera positiva/negativa a la probabilidad de poseer diabetes?\n",
        "- ¿Existe algún patrón común entre las instancias analizadas?\n",
        "- ¿Es posible generalizar estas conclusiones a todo el dataset?"
      ]
    },
    {
      "cell_type": "code",
      "execution_count": null,
      "metadata": {},
      "outputs": [],
      "source": [
        "import numpy as np\n",
        "import pandas as pd\n",
        "\n",
        "instancias = [1, 9, 150]\n",
        "columnas = ['Age', 'Sex', 'HighChol', 'CholCheck', 'BMI', 'Smoker', 'HeartDiseaseorAttack', 'PhysActivity', 'Fruits', 'Veggies',\n",
        "            'HvyAlcoholConsump', 'GenHlth', 'MentHlth', 'PhysHlth', 'DiffWalk', 'Stroke', 'HighBP']\n",
        "\n",
        "data = []\n",
        "for i in instancias:\n",
        "    arreglo_instancia = shap_values[i].values.flatten().tolist()\n",
        "    data.append([i] + arreglo_instancia)\n",
        "\n",
        "db = pd.DataFrame(data, columns=['Instancia'] + columnas)\n",
        "db\n"
      ]
    },
    {
      "cell_type": "code",
      "execution_count": null,
      "metadata": {
        "colab": {
          "base_uri": "https://localhost:8080/",
          "height": 1000
        },
        "id": "tCPYx0s1p2cm",
        "outputId": "d74e57cc-1ab0-480d-ab5b-3196249a1a27"
      },
      "outputs": [],
      "source": [
        "instancias = [1, 9, 150]\n",
        "\n",
        "for i in instancias:\n",
        "  print(f\"Aporte de variables - Instancia {i}\")\n",
        "  shap.plots.bar(shap_values[i])"
      ]
    },
    {
      "attachments": {},
      "cell_type": "markdown",
      "metadata": {},
      "source": [
        "- ¿Qué variables afectan de manera positiva/negativa a la probabilidad de poseer diabetes?\n",
        "En la instancia 1, las variables que afectan positivamente la probabilidad de tener diabetes son Age (0.23), BMI (0.13), GenHlth (0.1), y MentHlth (0.01). En la instancia 2, Age (0.06), MentHlth (0.01), y PhysHlth (0.01) tienen un aporte positivo, mientras que BMI (-0.32), GenHlth (-0.29) tienen un impacto negativo en la probabilidad de diabetes. En la instancia 3, Age (0.2) afecta positivamente, mientras que GenHlth (-0.34), BMI (-0.21), MentHlth (-0.04), y PhysHlth (-0.13) tienen un aporte negativo a la probabilidad de tener diabetes.\n",
        "\n",
        "- ¿Existe algún patrón común entre las instancias analizadas?\n",
        "El patrón común entre las instancias analizadas es que la variable Age tiene un impacto positivo en la probabilidad de tener diabetes en todas las instancias. Además, la variable GenHlth muestra una influencia negativa en dos de las tres instancias. Las variables BMI, MentHlth y PhysHlth tienen un impacto variable en diferentes instancias, con aportes positivos en algunas y negativos en otras. \n",
        "\n",
        "- ¿Es posible generalizar estas conclusiones a todo el dataset?\n",
        "Como se puede ver todas las demas variables no mencionadas tienen un aporte nulo tales alto colesterol, ataque de corazón lo cual es sospechoso ya médicamente hablando estos pueden ser factores de riesgo o consecuencias que podrían estar asociados a diabetes, por tanto dado que estamos analizando solo tres instancias, no podemos generalizar estas conclusiones a todo el dataset, pues pueden existir variables de las cuales no se este caturando su efecto. Es importante realizar un análisis más amplio y representativo del dataset para obtener conclusiones más sólidas y generalizables."
      ]
    },
    {
      "attachments": {},
      "cell_type": "markdown",
      "metadata": {
        "cell_id": "717f41e3ccf143a483af4f350e510225",
        "deepnote_cell_type": "markdown",
        "id": "W8j3VgAwhezn"
      },
      "source": [
        "### Parte C (0.4 pt)"
      ]
    },
    {
      "attachments": {},
      "cell_type": "markdown",
      "metadata": {
        "cell_id": "691dfe735fa644d5a8cac6e7053621ce",
        "deepnote_cell_type": "markdown",
        "id": "Joo7S6D7hezn"
      },
      "source": [
        "Genere ahora una visualización donde se grafique el aporte de cada feature a nivel **global** e interprete sus resultados. ¿Qué diferencias existen con las conclusiones generadas a nivel de instancia?"
      ]
    },
    {
      "cell_type": "code",
      "execution_count": null,
      "metadata": {
        "cell_id": "54e88d349b7c476d82a95b977ce23fd4",
        "colab": {
          "base_uri": "https://localhost:8080/",
          "height": 585
        },
        "deepnote_cell_type": "code",
        "deepnote_to_be_reexecuted": false,
        "execution_millis": 4,
        "execution_start": 1686930956967,
        "id": "egXRA9TLhezn",
        "outputId": "47eab3e9-3bcb-4413-8725-e93c9bcffb91",
        "source_hash": "99e7a96a"
      },
      "outputs": [],
      "source": [
        "shap.plots.bar(shap_values)"
      ]
    },
    {
      "attachments": {},
      "cell_type": "markdown",
      "metadata": {},
      "source": [
        "Las conclusiones a nivel de instancia se centran en el impacto específico de las variables en cada caso individual, mientras que los mean shap values representan el impacto promedio de las variables en el conjunto de datos completo. A nivel de instancia, los shape values capturan el efecto individual de cada variable, mientras que los mean shap values consideran las interacciones entre las variables al calcular el impacto promedio. Para generalizar estos resultados al dataset completo, es necesario tener en cuenta tanto las conclusiones a nivel de instancia como las interacciones entre las variables."
      ]
    },
    {
      "attachments": {},
      "cell_type": "markdown",
      "metadata": {},
      "source": [
        "Dado que el gráfico de los mean shap values de todas las variables proporciona información relevante sobre el impacto promedio de cada variable en el conjunto de datos completo, en los que se puede apreciar que solo 4 variables resultando en un aporte no nulo en la diabetes tal cual se tenia en el análisis de instancias, se puede generalizar el efecto de estas variables en la probabilidad de tener diabetes para todo el dataset.\n",
        "\n",
        "Sin embargo, es importante tener en cuenta que los mean shap values representan una medida promedio y no capturan necesariamente las variaciones individuales. Puede haber casos específicos dentro del dataset donde algunas variables tengan un impacto diferente al promedio."
      ]
    },
    {
      "attachments": {},
      "cell_type": "markdown",
      "metadata": {
        "cell_id": "8c6e3e238a6c48719cd048ce9e5201d5",
        "deepnote_cell_type": "markdown",
        "id": "2cMcuQPbhezn"
      },
      "source": [
        "### Parte D (0.4 pt)"
      ]
    },
    {
      "attachments": {},
      "cell_type": "markdown",
      "metadata": {
        "cell_id": "4cfe79b39ac646658225180063391369",
        "deepnote_cell_type": "markdown",
        "id": "Df-8mO_bhezn"
      },
      "source": [
        "Grafique ahora un *scatterplot* entre los *shap values* y las primeras 5 features con mayor impacto global (un gráfico por cada feature), coloreando cada punto por la probabilidad de tener diabetes. ¿Qué puede concluir de sus resultados?"
      ]
    },
    {
      "cell_type": "code",
      "execution_count": null,
      "metadata": {},
      "outputs": [],
      "source": [
        "probabilities = pipeline.predict_proba(X_test)[:, 1]\n",
        "\n",
        "shap_values_abs = np.mean(np.abs(shap_values.values), axis=0)\n",
        "\n",
        "feature_importance_names = X_train.columns[shap_values_abs.argsort()[::-1]]\n",
        "\n",
        "for name in feature_importance_names[:5]:\n",
        "    shap.plots.scatter(shap_values[:,name], \n",
        "                   color=probabilities) "
      ]
    },
    {
      "attachments": {},
      "cell_type": "markdown",
      "metadata": {
        "cell_id": "4204ce61132f4a91b465bd1324668ec4",
        "deepnote_cell_type": "markdown",
        "id": "YHd6oBSAhezn"
      },
      "source": [
        "### Parte E (0.4 pt)"
      ]
    },
    {
      "attachments": {},
      "cell_type": "markdown",
      "metadata": {
        "cell_id": "6b8d9852882144569a4f663594bed705",
        "deepnote_cell_type": "markdown",
        "id": "UUgERpKWhezo"
      },
      "source": [
        "Finalmente, se le pide generar un gráfico del tipo **Partial Dependence Plot** para las mismas 5 variables con mayor impacto global usando una submuestra de **1000 observaciones**. ¿Qué relación existe entre la salida promedio del modelo y cada feature analizada? ¿Son estas conclusiones generalizables para todo el conjunto de datos?"
      ]
    },
    {
      "cell_type": "code",
      "execution_count": null,
      "metadata": {},
      "outputs": [],
      "source": [
        "X100 = shap.utils.sample(X, 1000)\n",
        "sample_ind = 20\n",
        "for name in feature_importance_names[:5]:\n",
        "    shap.partial_dependence_plot(\n",
        "        name, pipeline.predict, X100, model_expected_value=True,\n",
        "        feature_expected_value=True, ice=True,\n",
        "        shap_values=shap_values[sample_ind:sample_ind+1,:]\n",
        "    )\n"
      ]
    },
    {
      "attachments": {},
      "cell_type": "markdown",
      "metadata": {},
      "source": []
    },
    {
      "attachments": {},
      "cell_type": "markdown",
      "metadata": {
        "cell_id": "22e4da384e83491e8e7c8dc9b875ad6b",
        "deepnote_cell_type": "markdown",
        "id": "i4tFPrFA4_O5"
      },
      "source": [
        "## 6. Sistema de Reglas! (1 pt)\n",
        "\n",
        "<p align=\"center\">\n",
        "  <img src=\"https://media.baamboozle.com/uploads/images/125978/1638281150_1380186_gif-url.gif\" width=\"400\">\n",
        "</p>"
      ]
    },
    {
      "attachments": {},
      "cell_type": "markdown",
      "metadata": {
        "cell_id": "cbf4bdc66df14a948ee275be86501d4a",
        "deepnote_cell_type": "markdown",
        "id": "f_4NF0_V5XZ-"
      },
      "source": [
        "Después de todo el trabajo hecho, Dr. Simi le pide simplificar el funcionamiento de su modelo en un sistema de reglas que le permita explicar a sus clientes las predicciones que genera su modelo. En particular, Dr. Simi le pide explicar la decisión tomada para las observaciones **1000**, **3001** y **5751**. Con las reglas propuestas señale a **cuánta población** es posible explicar con estas reglas e indique la **precisión** que poseen las reglas en la totalidad de los datos. ¿Tienen sentido sus reglas propuestas para las observaciones?. Fundamente sus respuesta señalando el impacto que tienen sus reglas sobre todo el conjunto de datos."
      ]
    },
    {
      "cell_type": "code",
      "execution_count": null,
      "metadata": {
        "cell_id": "9e3327e11a104dd5917f594a5e10baee",
        "deepnote_cell_type": "code",
        "deepnote_to_be_reexecuted": false,
        "execution_millis": 21693,
        "execution_start": 1686885552805,
        "id": "oaLQAmXChezs",
        "outputId": "8ef414ae-caf4-414f-cde3-18cc752f60ce",
        "source_hash": "e7a6b6c4",
        "tags": []
      },
      "outputs": [],
      "source": [
        "!pip install alibi"
      ]
    },
    {
      "cell_type": "code",
      "execution_count": null,
      "metadata": {
        "cell_id": "bb38bb05376b429297fb0b3618fec6d4",
        "deepnote_cell_type": "code",
        "deepnote_to_be_reexecuted": false,
        "execution_millis": 10473,
        "execution_start": 1686885694481,
        "id": "b61cFOfdhezt",
        "outputId": "ca20124c-6021-4621-cdd2-97dcfccb25a5",
        "source_hash": "e4ec2c4b"
      },
      "outputs": [],
      "source": [
        "from alibi.explainers import AnchorTabular"
      ]
    },
    {
      "cell_type": "code",
      "execution_count": null,
      "metadata": {
        "cell_id": "c51b7d6bfea74288b77cb73ba8c86978",
        "deepnote_cell_type": "code",
        "deepnote_to_be_reexecuted": false,
        "execution_millis": 76,
        "execution_start": 1686931515362,
        "id": "vauZmjM9hezt",
        "source_hash": "51992da3"
      },
      "outputs": [],
      "source": [
        "# Inserte su código para generar sistema de reglas aquí\n",
        "\n",
        "idx = 1000\n",
        "# explicar predicción idx 1000\n",
        "\n",
        "idx = 3001\n",
        "# explicar predicción idx 3001\n",
        "\n",
        "idx = 5751\n",
        "# explicar predicción idx 5751"
      ]
    },
    {
      "attachments": {},
      "cell_type": "markdown",
      "metadata": {
        "cell_id": "b358083895d844bbafee6969082e98db",
        "deepnote_cell_type": "markdown",
        "id": "SNpKP6Ubhezt"
      },
      "source": [
        "# Retrospectiva... (1 pt)"
      ]
    },
    {
      "attachments": {},
      "cell_type": "markdown",
      "metadata": {
        "cell_id": "1db767e048bd4bf2bc86d9c49acc0c36",
        "deepnote_cell_type": "markdown",
        "id": "HWTv3hcWhezt"
      },
      "source": [
        "En base a los diferentes métodos que implementa y ha comentado en este laboratorio, comente qué métodos le permiten entregar mejores conclusiones para la tarea de clasificación de diabetes. Por otro lado, ¿qué métodos son más útiles para el problema del doctor Simi, métodos agnosticos locales o globales?"
      ]
    },
    {
      "attachments": {},
      "cell_type": "markdown",
      "metadata": {
        "cell_id": "c841a2af491648f591108c7483afc66f",
        "deepnote_cell_type": "markdown",
        "id": "gjvuQXAmhezt"
      },
      "source": [
        "> Fundamente su Respuesta aquí"
      ]
    },
    {
      "attachments": {},
      "cell_type": "markdown",
      "metadata": {
        "cell_id": "ad6f278e9e12463dbdde6a009cd0b97a",
        "deepnote_cell_type": "markdown",
        "id": "gP1zKR8Yhezt"
      },
      "source": [
        "# Conclusión\n",
        "Eso ha sido todo para el lab de hoy, recuerden que el laboratorio tiene un plazo de entrega de una semana. Cualquier duda del laboratorio, no duden en contactarnos por mail o U-cursos.\n",
        "\n",
        "![Gracias Totales!](https://media.tenor.com/ctnq4bhZE3gAAAAC/drsimi-simi.gif)"
      ]
    },
    {
      "attachments": {},
      "cell_type": "markdown",
      "metadata": {
        "created_in_deepnote_cell": true,
        "deepnote_cell_type": "markdown",
        "id": "Y-_lD6lDhezu"
      },
      "source": [
        "<a style='text-decoration:none;line-height:16px;display:flex;color:#5B5B62;padding:10px;justify-content:end;' href='https://deepnote.com?utm_source=created-in-deepnote-cell&projectId=87110296-876e-426f-b91d-aaf681223468' target=\"_blank\">\n",
        "<img alt='Created in deepnote.com' style='display:inline;max-height:16px;margin:0px;margin-right:7.5px;' src='data:image/svg+xml;base64,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' > </img>\n",
        "Created in <span style='font-weight:600;margin-left:4px;'>Deepnote</span></a>"
      ]
    }
  ],
  "metadata": {
    "colab": {
      "collapsed_sections": [
        "LCOUC4jss148",
        "GtG74Cphq56p"
      ],
      "provenance": []
    },
    "deepnote": {},
    "deepnote_execution_queue": [],
    "deepnote_notebook_id": "0afd011ae5da4596ac4144fb27adc429",
    "deepnote_persisted_session": {
      "createdAt": "2023-06-16T16:30:21.663Z"
    },
    "kernelspec": {
      "display_name": "Python 3",
      "language": "python",
      "name": "python3"
    },
    "language_info": {
      "codemirror_mode": {
        "name": "ipython",
        "version": 3
      },
      "file_extension": ".py",
      "mimetype": "text/x-python",
      "name": "python",
      "nbconvert_exporter": "python",
      "pygments_lexer": "ipython3",
      "version": "3.10.0"
    },
    "toc": {
      "base_numbering": 1,
      "nav_menu": {},
      "number_sections": true,
      "sideBar": true,
      "skip_h1_title": true,
      "title_cell": "Tabla de Contenidos",
      "title_sidebar": "Contenidos",
      "toc_cell": false,
      "toc_position": {
        "height": "calc(100% - 180px)",
        "left": "10px",
        "top": "150px",
        "width": "241.867px"
      },
      "toc_section_display": true,
      "toc_window_display": true
    },
    "varInspector": {
      "cols": {
        "lenName": 16,
        "lenType": 16,
        "lenVar": 40
      },
      "kernels_config": {
        "python": {
          "delete_cmd_postfix": "",
          "delete_cmd_prefix": "del ",
          "library": "var_list.py",
          "varRefreshCmd": "print(var_dic_list())"
        },
        "r": {
          "delete_cmd_postfix": ") ",
          "delete_cmd_prefix": "rm(",
          "library": "var_list.r",
          "varRefreshCmd": "cat(var_dic_list()) "
        }
      },
      "types_to_exclude": [
        "module",
        "function",
        "builtin_function_or_method",
        "instance",
        "_Feature"
      ],
      "window_display": false
    },
    "widgets": {
      "application/vnd.jupyter.widget-state+json": {
        "097c548feed548b4ac629c241f77227c": {
          "model_module": "@jupyter-widgets/controls",
          "model_module_version": "1.5.0",
          "model_name": "ProgressStyleModel",
          "state": {
            "_model_module": "@jupyter-widgets/controls",
            "_model_module_version": "1.5.0",
            "_model_name": "ProgressStyleModel",
            "_view_count": null,
            "_view_module": "@jupyter-widgets/base",
            "_view_module_version": "1.2.0",
            "_view_name": "StyleView",
            "bar_color": null,
            "description_width": ""
          }
        },
        "0c7e7072ca454d1ea09bc3c952ce553c": {
          "model_module": "@jupyter-widgets/base",
          "model_module_version": "1.2.0",
          "model_name": "LayoutModel",
          "state": {
            "_model_module": "@jupyter-widgets/base",
            "_model_module_version": "1.2.0",
            "_model_name": "LayoutModel",
            "_view_count": null,
            "_view_module": "@jupyter-widgets/base",
            "_view_module_version": "1.2.0",
            "_view_name": "LayoutView",
            "align_content": null,
            "align_items": null,
            "align_self": null,
            "border": null,
            "bottom": null,
            "display": null,
            "flex": null,
            "flex_flow": null,
            "grid_area": null,
            "grid_auto_columns": null,
            "grid_auto_flow": null,
            "grid_auto_rows": null,
            "grid_column": null,
            "grid_gap": null,
            "grid_row": null,
            "grid_template_areas": null,
            "grid_template_columns": null,
            "grid_template_rows": null,
            "height": null,
            "justify_content": null,
            "justify_items": null,
            "left": null,
            "margin": null,
            "max_height": null,
            "max_width": null,
            "min_height": null,
            "min_width": null,
            "object_fit": null,
            "object_position": null,
            "order": null,
            "overflow": null,
            "overflow_x": null,
            "overflow_y": null,
            "padding": null,
            "right": null,
            "top": null,
            "visibility": null,
            "width": null
          }
        },
        "15b428c2f00f470aacf41d912f677f20": {
          "model_module": "@jupyter-widgets/controls",
          "model_module_version": "1.5.0",
          "model_name": "ProgressStyleModel",
          "state": {
            "_model_module": "@jupyter-widgets/controls",
            "_model_module_version": "1.5.0",
            "_model_name": "ProgressStyleModel",
            "_view_count": null,
            "_view_module": "@jupyter-widgets/base",
            "_view_module_version": "1.2.0",
            "_view_name": "StyleView",
            "bar_color": null,
            "description_width": ""
          }
        },
        "1a3b3689ee7c4a7a9343e1617dd59510": {
          "model_module": "@jupyter-widgets/base",
          "model_module_version": "1.2.0",
          "model_name": "LayoutModel",
          "state": {
            "_model_module": "@jupyter-widgets/base",
            "_model_module_version": "1.2.0",
            "_model_name": "LayoutModel",
            "_view_count": null,
            "_view_module": "@jupyter-widgets/base",
            "_view_module_version": "1.2.0",
            "_view_name": "LayoutView",
            "align_content": null,
            "align_items": null,
            "align_self": null,
            "border": null,
            "bottom": null,
            "display": null,
            "flex": null,
            "flex_flow": null,
            "grid_area": null,
            "grid_auto_columns": null,
            "grid_auto_flow": null,
            "grid_auto_rows": null,
            "grid_column": null,
            "grid_gap": null,
            "grid_row": null,
            "grid_template_areas": null,
            "grid_template_columns": null,
            "grid_template_rows": null,
            "height": null,
            "justify_content": null,
            "justify_items": null,
            "left": null,
            "margin": null,
            "max_height": null,
            "max_width": null,
            "min_height": null,
            "min_width": null,
            "object_fit": null,
            "object_position": null,
            "order": null,
            "overflow": null,
            "overflow_x": null,
            "overflow_y": null,
            "padding": null,
            "right": null,
            "top": null,
            "visibility": null,
            "width": null
          }
        },
        "1bb4709a0f674fb79a08cbe7fd298f9f": {
          "model_module": "@jupyter-widgets/base",
          "model_module_version": "1.2.0",
          "model_name": "LayoutModel",
          "state": {
            "_model_module": "@jupyter-widgets/base",
            "_model_module_version": "1.2.0",
            "_model_name": "LayoutModel",
            "_view_count": null,
            "_view_module": "@jupyter-widgets/base",
            "_view_module_version": "1.2.0",
            "_view_name": "LayoutView",
            "align_content": null,
            "align_items": null,
            "align_self": null,
            "border": null,
            "bottom": null,
            "display": null,
            "flex": null,
            "flex_flow": null,
            "grid_area": null,
            "grid_auto_columns": null,
            "grid_auto_flow": null,
            "grid_auto_rows": null,
            "grid_column": null,
            "grid_gap": null,
            "grid_row": null,
            "grid_template_areas": null,
            "grid_template_columns": null,
            "grid_template_rows": null,
            "height": null,
            "justify_content": null,
            "justify_items": null,
            "left": null,
            "margin": null,
            "max_height": null,
            "max_width": null,
            "min_height": null,
            "min_width": null,
            "object_fit": null,
            "object_position": null,
            "order": null,
            "overflow": null,
            "overflow_x": null,
            "overflow_y": null,
            "padding": null,
            "right": null,
            "top": null,
            "visibility": null,
            "width": null
          }
        },
        "1dd94c9b92a94e5a9b80af5ddb47bb0c": {
          "model_module": "@jupyter-widgets/base",
          "model_module_version": "1.2.0",
          "model_name": "LayoutModel",
          "state": {
            "_model_module": "@jupyter-widgets/base",
            "_model_module_version": "1.2.0",
            "_model_name": "LayoutModel",
            "_view_count": null,
            "_view_module": "@jupyter-widgets/base",
            "_view_module_version": "1.2.0",
            "_view_name": "LayoutView",
            "align_content": null,
            "align_items": null,
            "align_self": null,
            "border": null,
            "bottom": null,
            "display": null,
            "flex": null,
            "flex_flow": null,
            "grid_area": null,
            "grid_auto_columns": null,
            "grid_auto_flow": null,
            "grid_auto_rows": null,
            "grid_column": null,
            "grid_gap": null,
            "grid_row": null,
            "grid_template_areas": null,
            "grid_template_columns": null,
            "grid_template_rows": null,
            "height": null,
            "justify_content": null,
            "justify_items": null,
            "left": null,
            "margin": null,
            "max_height": null,
            "max_width": null,
            "min_height": null,
            "min_width": null,
            "object_fit": null,
            "object_position": null,
            "order": null,
            "overflow": null,
            "overflow_x": null,
            "overflow_y": null,
            "padding": null,
            "right": null,
            "top": null,
            "visibility": null,
            "width": null
          }
        },
        "25636c69b1c94ab99ac45ec01b661a25": {
          "model_module": "@jupyter-widgets/base",
          "model_module_version": "1.2.0",
          "model_name": "LayoutModel",
          "state": {
            "_model_module": "@jupyter-widgets/base",
            "_model_module_version": "1.2.0",
            "_model_name": "LayoutModel",
            "_view_count": null,
            "_view_module": "@jupyter-widgets/base",
            "_view_module_version": "1.2.0",
            "_view_name": "LayoutView",
            "align_content": null,
            "align_items": null,
            "align_self": null,
            "border": null,
            "bottom": null,
            "display": null,
            "flex": null,
            "flex_flow": null,
            "grid_area": null,
            "grid_auto_columns": null,
            "grid_auto_flow": null,
            "grid_auto_rows": null,
            "grid_column": null,
            "grid_gap": null,
            "grid_row": null,
            "grid_template_areas": null,
            "grid_template_columns": null,
            "grid_template_rows": null,
            "height": null,
            "justify_content": null,
            "justify_items": null,
            "left": null,
            "margin": null,
            "max_height": null,
            "max_width": null,
            "min_height": null,
            "min_width": null,
            "object_fit": null,
            "object_position": null,
            "order": null,
            "overflow": null,
            "overflow_x": null,
            "overflow_y": null,
            "padding": null,
            "right": null,
            "top": null,
            "visibility": null,
            "width": null
          }
        },
        "2a7a2302a07c4e069fb89cacd5dbb0b5": {
          "model_module": "@jupyter-widgets/controls",
          "model_module_version": "1.5.0",
          "model_name": "DescriptionStyleModel",
          "state": {
            "_model_module": "@jupyter-widgets/controls",
            "_model_module_version": "1.5.0",
            "_model_name": "DescriptionStyleModel",
            "_view_count": null,
            "_view_module": "@jupyter-widgets/base",
            "_view_module_version": "1.2.0",
            "_view_name": "StyleView",
            "description_width": ""
          }
        },
        "3515e2997ae449b2a48ad1259445613b": {
          "model_module": "@jupyter-widgets/controls",
          "model_module_version": "1.5.0",
          "model_name": "DescriptionStyleModel",
          "state": {
            "_model_module": "@jupyter-widgets/controls",
            "_model_module_version": "1.5.0",
            "_model_name": "DescriptionStyleModel",
            "_view_count": null,
            "_view_module": "@jupyter-widgets/base",
            "_view_module_version": "1.2.0",
            "_view_name": "StyleView",
            "description_width": ""
          }
        },
        "3bb5125b1a86499d848054e456b575a7": {
          "model_module": "@jupyter-widgets/controls",
          "model_module_version": "1.5.0",
          "model_name": "FloatProgressModel",
          "state": {
            "_dom_classes": [],
            "_model_module": "@jupyter-widgets/controls",
            "_model_module_version": "1.5.0",
            "_model_name": "FloatProgressModel",
            "_view_count": null,
            "_view_module": "@jupyter-widgets/controls",
            "_view_module_version": "1.5.0",
            "_view_name": "ProgressView",
            "bar_style": "success",
            "description": "",
            "description_tooltip": null,
            "layout": "IPY_MODEL_9647642a4523488a8090a4d063304112",
            "max": 5,
            "min": 0,
            "orientation": "horizontal",
            "style": "IPY_MODEL_eb6cb9545d6e4dc3945b6e82ea145426",
            "value": 5
          }
        },
        "3d04880bafb44170a7be91bad484de81": {
          "model_module": "@jupyter-widgets/base",
          "model_module_version": "1.2.0",
          "model_name": "LayoutModel",
          "state": {
            "_model_module": "@jupyter-widgets/base",
            "_model_module_version": "1.2.0",
            "_model_name": "LayoutModel",
            "_view_count": null,
            "_view_module": "@jupyter-widgets/base",
            "_view_module_version": "1.2.0",
            "_view_name": "LayoutView",
            "align_content": null,
            "align_items": null,
            "align_self": null,
            "border": null,
            "bottom": null,
            "display": null,
            "flex": null,
            "flex_flow": null,
            "grid_area": null,
            "grid_auto_columns": null,
            "grid_auto_flow": null,
            "grid_auto_rows": null,
            "grid_column": null,
            "grid_gap": null,
            "grid_row": null,
            "grid_template_areas": null,
            "grid_template_columns": null,
            "grid_template_rows": null,
            "height": null,
            "justify_content": null,
            "justify_items": null,
            "left": null,
            "margin": null,
            "max_height": null,
            "max_width": null,
            "min_height": null,
            "min_width": null,
            "object_fit": null,
            "object_position": null,
            "order": null,
            "overflow": null,
            "overflow_x": null,
            "overflow_y": null,
            "padding": null,
            "right": null,
            "top": null,
            "visibility": null,
            "width": null
          }
        },
        "455290c7068f45f3a81ee3ab0bff657a": {
          "model_module": "@jupyter-widgets/base",
          "model_module_version": "1.2.0",
          "model_name": "LayoutModel",
          "state": {
            "_model_module": "@jupyter-widgets/base",
            "_model_module_version": "1.2.0",
            "_model_name": "LayoutModel",
            "_view_count": null,
            "_view_module": "@jupyter-widgets/base",
            "_view_module_version": "1.2.0",
            "_view_name": "LayoutView",
            "align_content": null,
            "align_items": null,
            "align_self": null,
            "border": null,
            "bottom": null,
            "display": null,
            "flex": null,
            "flex_flow": null,
            "grid_area": null,
            "grid_auto_columns": null,
            "grid_auto_flow": null,
            "grid_auto_rows": null,
            "grid_column": null,
            "grid_gap": null,
            "grid_row": null,
            "grid_template_areas": null,
            "grid_template_columns": null,
            "grid_template_rows": null,
            "height": null,
            "justify_content": null,
            "justify_items": null,
            "left": null,
            "margin": null,
            "max_height": null,
            "max_width": null,
            "min_height": null,
            "min_width": null,
            "object_fit": null,
            "object_position": null,
            "order": null,
            "overflow": null,
            "overflow_x": null,
            "overflow_y": null,
            "padding": null,
            "right": null,
            "top": null,
            "visibility": null,
            "width": null
          }
        },
        "4805a45954b2413aa0185a99e5db66d8": {
          "model_module": "@jupyter-widgets/controls",
          "model_module_version": "1.5.0",
          "model_name": "HBoxModel",
          "state": {
            "_dom_classes": [],
            "_model_module": "@jupyter-widgets/controls",
            "_model_module_version": "1.5.0",
            "_model_name": "HBoxModel",
            "_view_count": null,
            "_view_module": "@jupyter-widgets/controls",
            "_view_module_version": "1.5.0",
            "_view_name": "HBoxView",
            "box_style": "",
            "children": [
              "IPY_MODEL_7dd63364a6d0419eb32256f9f6900d97",
              "IPY_MODEL_4c2d7003700a4d5392f6bcfaf03fcd7d",
              "IPY_MODEL_b20d433ad7be46d88904444f6600f4d9"
            ],
            "layout": "IPY_MODEL_3d04880bafb44170a7be91bad484de81"
          }
        },
        "49bbd59dd76640c6a9edaaafba524f0f": {
          "model_module": "@jupyter-widgets/controls",
          "model_module_version": "1.5.0",
          "model_name": "DescriptionStyleModel",
          "state": {
            "_model_module": "@jupyter-widgets/controls",
            "_model_module_version": "1.5.0",
            "_model_name": "DescriptionStyleModel",
            "_view_count": null,
            "_view_module": "@jupyter-widgets/base",
            "_view_module_version": "1.2.0",
            "_view_name": "StyleView",
            "description_width": ""
          }
        },
        "4c2d7003700a4d5392f6bcfaf03fcd7d": {
          "model_module": "@jupyter-widgets/controls",
          "model_module_version": "1.5.0",
          "model_name": "FloatProgressModel",
          "state": {
            "_dom_classes": [],
            "_model_module": "@jupyter-widgets/controls",
            "_model_module_version": "1.5.0",
            "_model_name": "FloatProgressModel",
            "_view_count": null,
            "_view_module": "@jupyter-widgets/controls",
            "_view_module_version": "1.5.0",
            "_view_name": "ProgressView",
            "bar_style": "success",
            "description": "",
            "description_tooltip": null,
            "layout": "IPY_MODEL_1a3b3689ee7c4a7a9343e1617dd59510",
            "max": 1,
            "min": 0,
            "orientation": "horizontal",
            "style": "IPY_MODEL_097c548feed548b4ac629c241f77227c",
            "value": 1
          }
        },
        "584a2fbaf411492087ac0ed5a4ba12f1": {
          "model_module": "@jupyter-widgets/base",
          "model_module_version": "1.2.0",
          "model_name": "LayoutModel",
          "state": {
            "_model_module": "@jupyter-widgets/base",
            "_model_module_version": "1.2.0",
            "_model_name": "LayoutModel",
            "_view_count": null,
            "_view_module": "@jupyter-widgets/base",
            "_view_module_version": "1.2.0",
            "_view_name": "LayoutView",
            "align_content": null,
            "align_items": null,
            "align_self": null,
            "border": null,
            "bottom": null,
            "display": null,
            "flex": null,
            "flex_flow": null,
            "grid_area": null,
            "grid_auto_columns": null,
            "grid_auto_flow": null,
            "grid_auto_rows": null,
            "grid_column": null,
            "grid_gap": null,
            "grid_row": null,
            "grid_template_areas": null,
            "grid_template_columns": null,
            "grid_template_rows": null,
            "height": null,
            "justify_content": null,
            "justify_items": null,
            "left": null,
            "margin": null,
            "max_height": null,
            "max_width": null,
            "min_height": null,
            "min_width": null,
            "object_fit": null,
            "object_position": null,
            "order": null,
            "overflow": null,
            "overflow_x": null,
            "overflow_y": null,
            "padding": null,
            "right": null,
            "top": null,
            "visibility": null,
            "width": null
          }
        },
        "62b8da69487142ceb7c8409937862fef": {
          "model_module": "@jupyter-widgets/controls",
          "model_module_version": "1.5.0",
          "model_name": "ProgressStyleModel",
          "state": {
            "_model_module": "@jupyter-widgets/controls",
            "_model_module_version": "1.5.0",
            "_model_name": "ProgressStyleModel",
            "_view_count": null,
            "_view_module": "@jupyter-widgets/base",
            "_view_module_version": "1.2.0",
            "_view_name": "StyleView",
            "bar_color": null,
            "description_width": ""
          }
        },
        "63c172be8f23453683c24f85a9abb0a2": {
          "model_module": "@jupyter-widgets/controls",
          "model_module_version": "1.5.0",
          "model_name": "DescriptionStyleModel",
          "state": {
            "_model_module": "@jupyter-widgets/controls",
            "_model_module_version": "1.5.0",
            "_model_name": "DescriptionStyleModel",
            "_view_count": null,
            "_view_module": "@jupyter-widgets/base",
            "_view_module_version": "1.2.0",
            "_view_name": "StyleView",
            "description_width": ""
          }
        },
        "6d5a85d454144de09b8b45e7ad20ab74": {
          "model_module": "@jupyter-widgets/controls",
          "model_module_version": "1.5.0",
          "model_name": "FloatProgressModel",
          "state": {
            "_dom_classes": [],
            "_model_module": "@jupyter-widgets/controls",
            "_model_module_version": "1.5.0",
            "_model_name": "FloatProgressModel",
            "_view_count": null,
            "_view_module": "@jupyter-widgets/controls",
            "_view_module_version": "1.5.0",
            "_view_name": "ProgressView",
            "bar_style": "success",
            "description": "",
            "description_tooltip": null,
            "layout": "IPY_MODEL_8d6d9199f13443b5af0a83c6a289a84e",
            "max": 1,
            "min": 0,
            "orientation": "horizontal",
            "style": "IPY_MODEL_15b428c2f00f470aacf41d912f677f20",
            "value": 1
          }
        },
        "6ebd0845d12741f08757d88356cb02e7": {
          "model_module": "@jupyter-widgets/controls",
          "model_module_version": "1.5.0",
          "model_name": "DescriptionStyleModel",
          "state": {
            "_model_module": "@jupyter-widgets/controls",
            "_model_module_version": "1.5.0",
            "_model_name": "DescriptionStyleModel",
            "_view_count": null,
            "_view_module": "@jupyter-widgets/base",
            "_view_module_version": "1.2.0",
            "_view_name": "StyleView",
            "description_width": ""
          }
        },
        "7af367f77c4f484a93e27c2d0b25888d": {
          "model_module": "@jupyter-widgets/controls",
          "model_module_version": "1.5.0",
          "model_name": "DescriptionStyleModel",
          "state": {
            "_model_module": "@jupyter-widgets/controls",
            "_model_module_version": "1.5.0",
            "_model_name": "DescriptionStyleModel",
            "_view_count": null,
            "_view_module": "@jupyter-widgets/base",
            "_view_module_version": "1.2.0",
            "_view_name": "StyleView",
            "description_width": ""
          }
        },
        "7dd63364a6d0419eb32256f9f6900d97": {
          "model_module": "@jupyter-widgets/controls",
          "model_module_version": "1.5.0",
          "model_name": "HTMLModel",
          "state": {
            "_dom_classes": [],
            "_model_module": "@jupyter-widgets/controls",
            "_model_module_version": "1.5.0",
            "_model_name": "HTMLModel",
            "_view_count": null,
            "_view_module": "@jupyter-widgets/controls",
            "_view_module_version": "1.5.0",
            "_view_name": "HTMLView",
            "description": "",
            "description_tooltip": null,
            "layout": "IPY_MODEL_ac6d95894f284f0b9db808d35705e708",
            "placeholder": "​",
            "style": "IPY_MODEL_a43b7238d12447468a33e49b6348ef6e",
            "value": "Export report to file: 100%"
          }
        },
        "8439a7abc79248848b6a56220e72bf37": {
          "model_module": "@jupyter-widgets/controls",
          "model_module_version": "1.5.0",
          "model_name": "HTMLModel",
          "state": {
            "_dom_classes": [],
            "_model_module": "@jupyter-widgets/controls",
            "_model_module_version": "1.5.0",
            "_model_name": "HTMLModel",
            "_view_count": null,
            "_view_module": "@jupyter-widgets/controls",
            "_view_module_version": "1.5.0",
            "_view_name": "HTMLView",
            "description": "",
            "description_tooltip": null,
            "layout": "IPY_MODEL_e41505182741441a90515782842303c9",
            "placeholder": "​",
            "style": "IPY_MODEL_7af367f77c4f484a93e27c2d0b25888d",
            "value": " 43/43 [00:39&lt;00:00,  1.72it/s, Completed]"
          }
        },
        "8d5518ba875b432095a1c10cac7bc274": {
          "model_module": "@jupyter-widgets/base",
          "model_module_version": "1.2.0",
          "model_name": "LayoutModel",
          "state": {
            "_model_module": "@jupyter-widgets/base",
            "_model_module_version": "1.2.0",
            "_model_name": "LayoutModel",
            "_view_count": null,
            "_view_module": "@jupyter-widgets/base",
            "_view_module_version": "1.2.0",
            "_view_name": "LayoutView",
            "align_content": null,
            "align_items": null,
            "align_self": null,
            "border": null,
            "bottom": null,
            "display": null,
            "flex": null,
            "flex_flow": null,
            "grid_area": null,
            "grid_auto_columns": null,
            "grid_auto_flow": null,
            "grid_auto_rows": null,
            "grid_column": null,
            "grid_gap": null,
            "grid_row": null,
            "grid_template_areas": null,
            "grid_template_columns": null,
            "grid_template_rows": null,
            "height": null,
            "justify_content": null,
            "justify_items": null,
            "left": null,
            "margin": null,
            "max_height": null,
            "max_width": null,
            "min_height": null,
            "min_width": null,
            "object_fit": null,
            "object_position": null,
            "order": null,
            "overflow": null,
            "overflow_x": null,
            "overflow_y": null,
            "padding": null,
            "right": null,
            "top": null,
            "visibility": null,
            "width": null
          }
        },
        "8d6d9199f13443b5af0a83c6a289a84e": {
          "model_module": "@jupyter-widgets/base",
          "model_module_version": "1.2.0",
          "model_name": "LayoutModel",
          "state": {
            "_model_module": "@jupyter-widgets/base",
            "_model_module_version": "1.2.0",
            "_model_name": "LayoutModel",
            "_view_count": null,
            "_view_module": "@jupyter-widgets/base",
            "_view_module_version": "1.2.0",
            "_view_name": "LayoutView",
            "align_content": null,
            "align_items": null,
            "align_self": null,
            "border": null,
            "bottom": null,
            "display": null,
            "flex": null,
            "flex_flow": null,
            "grid_area": null,
            "grid_auto_columns": null,
            "grid_auto_flow": null,
            "grid_auto_rows": null,
            "grid_column": null,
            "grid_gap": null,
            "grid_row": null,
            "grid_template_areas": null,
            "grid_template_columns": null,
            "grid_template_rows": null,
            "height": null,
            "justify_content": null,
            "justify_items": null,
            "left": null,
            "margin": null,
            "max_height": null,
            "max_width": null,
            "min_height": null,
            "min_width": null,
            "object_fit": null,
            "object_position": null,
            "order": null,
            "overflow": null,
            "overflow_x": null,
            "overflow_y": null,
            "padding": null,
            "right": null,
            "top": null,
            "visibility": null,
            "width": null
          }
        },
        "95099324bdb84adf878379c61bbb3967": {
          "model_module": "@jupyter-widgets/controls",
          "model_module_version": "1.5.0",
          "model_name": "FloatProgressModel",
          "state": {
            "_dom_classes": [],
            "_model_module": "@jupyter-widgets/controls",
            "_model_module_version": "1.5.0",
            "_model_name": "FloatProgressModel",
            "_view_count": null,
            "_view_module": "@jupyter-widgets/controls",
            "_view_module_version": "1.5.0",
            "_view_name": "ProgressView",
            "bar_style": "success",
            "description": "",
            "description_tooltip": null,
            "layout": "IPY_MODEL_aed2c27710004c3ba1e68d6802ae863e",
            "max": 1,
            "min": 0,
            "orientation": "horizontal",
            "style": "IPY_MODEL_62b8da69487142ceb7c8409937862fef",
            "value": 1
          }
        },
        "9647642a4523488a8090a4d063304112": {
          "model_module": "@jupyter-widgets/base",
          "model_module_version": "1.2.0",
          "model_name": "LayoutModel",
          "state": {
            "_model_module": "@jupyter-widgets/base",
            "_model_module_version": "1.2.0",
            "_model_name": "LayoutModel",
            "_view_count": null,
            "_view_module": "@jupyter-widgets/base",
            "_view_module_version": "1.2.0",
            "_view_name": "LayoutView",
            "align_content": null,
            "align_items": null,
            "align_self": null,
            "border": null,
            "bottom": null,
            "display": null,
            "flex": null,
            "flex_flow": null,
            "grid_area": null,
            "grid_auto_columns": null,
            "grid_auto_flow": null,
            "grid_auto_rows": null,
            "grid_column": null,
            "grid_gap": null,
            "grid_row": null,
            "grid_template_areas": null,
            "grid_template_columns": null,
            "grid_template_rows": null,
            "height": null,
            "justify_content": null,
            "justify_items": null,
            "left": null,
            "margin": null,
            "max_height": null,
            "max_width": null,
            "min_height": null,
            "min_width": null,
            "object_fit": null,
            "object_position": null,
            "order": null,
            "overflow": null,
            "overflow_x": null,
            "overflow_y": null,
            "padding": null,
            "right": null,
            "top": null,
            "visibility": null,
            "width": null
          }
        },
        "a43b7238d12447468a33e49b6348ef6e": {
          "model_module": "@jupyter-widgets/controls",
          "model_module_version": "1.5.0",
          "model_name": "DescriptionStyleModel",
          "state": {
            "_model_module": "@jupyter-widgets/controls",
            "_model_module_version": "1.5.0",
            "_model_name": "DescriptionStyleModel",
            "_view_count": null,
            "_view_module": "@jupyter-widgets/base",
            "_view_module_version": "1.2.0",
            "_view_name": "StyleView",
            "description_width": ""
          }
        },
        "a785fad508c04b4489d6169d86ab1801": {
          "model_module": "@jupyter-widgets/controls",
          "model_module_version": "1.5.0",
          "model_name": "HTMLModel",
          "state": {
            "_dom_classes": [],
            "_model_module": "@jupyter-widgets/controls",
            "_model_module_version": "1.5.0",
            "_model_name": "HTMLModel",
            "_view_count": null,
            "_view_module": "@jupyter-widgets/controls",
            "_view_module_version": "1.5.0",
            "_view_name": "HTMLView",
            "description": "",
            "description_tooltip": null,
            "layout": "IPY_MODEL_b0148827a0e74e8b9796827232b1b6c2",
            "placeholder": "​",
            "style": "IPY_MODEL_3515e2997ae449b2a48ad1259445613b",
            "value": "Summarize dataset: 100%"
          }
        },
        "aaa83300bdde4acf812880ad8fd6a0a8": {
          "model_module": "@jupyter-widgets/controls",
          "model_module_version": "1.5.0",
          "model_name": "HTMLModel",
          "state": {
            "_dom_classes": [],
            "_model_module": "@jupyter-widgets/controls",
            "_model_module_version": "1.5.0",
            "_model_name": "HTMLModel",
            "_view_count": null,
            "_view_module": "@jupyter-widgets/controls",
            "_view_module_version": "1.5.0",
            "_view_name": "HTMLView",
            "description": "",
            "description_tooltip": null,
            "layout": "IPY_MODEL_0c7e7072ca454d1ea09bc3c952ce553c",
            "placeholder": "​",
            "style": "IPY_MODEL_ec1f075286c643a08326a85e12d4f528",
            "value": " 1/1 [00:02&lt;00:00,  2.87s/it]"
          }
        },
        "aafd1300f00e4c9ca06e88da4272fab6": {
          "model_module": "@jupyter-widgets/controls",
          "model_module_version": "1.5.0",
          "model_name": "HBoxModel",
          "state": {
            "_dom_classes": [],
            "_model_module": "@jupyter-widgets/controls",
            "_model_module_version": "1.5.0",
            "_model_name": "HBoxModel",
            "_view_count": null,
            "_view_module": "@jupyter-widgets/controls",
            "_view_module_version": "1.5.0",
            "_view_name": "HBoxView",
            "box_style": "",
            "children": [
              "IPY_MODEL_f17801c05e8544d4a1691b74473c9231",
              "IPY_MODEL_95099324bdb84adf878379c61bbb3967",
              "IPY_MODEL_e14f5447310348ffa6f740a4a586e685"
            ],
            "layout": "IPY_MODEL_1dd94c9b92a94e5a9b80af5ddb47bb0c"
          }
        },
        "ac6d95894f284f0b9db808d35705e708": {
          "model_module": "@jupyter-widgets/base",
          "model_module_version": "1.2.0",
          "model_name": "LayoutModel",
          "state": {
            "_model_module": "@jupyter-widgets/base",
            "_model_module_version": "1.2.0",
            "_model_name": "LayoutModel",
            "_view_count": null,
            "_view_module": "@jupyter-widgets/base",
            "_view_module_version": "1.2.0",
            "_view_name": "LayoutView",
            "align_content": null,
            "align_items": null,
            "align_self": null,
            "border": null,
            "bottom": null,
            "display": null,
            "flex": null,
            "flex_flow": null,
            "grid_area": null,
            "grid_auto_columns": null,
            "grid_auto_flow": null,
            "grid_auto_rows": null,
            "grid_column": null,
            "grid_gap": null,
            "grid_row": null,
            "grid_template_areas": null,
            "grid_template_columns": null,
            "grid_template_rows": null,
            "height": null,
            "justify_content": null,
            "justify_items": null,
            "left": null,
            "margin": null,
            "max_height": null,
            "max_width": null,
            "min_height": null,
            "min_width": null,
            "object_fit": null,
            "object_position": null,
            "order": null,
            "overflow": null,
            "overflow_x": null,
            "overflow_y": null,
            "padding": null,
            "right": null,
            "top": null,
            "visibility": null,
            "width": null
          }
        },
        "aed2c27710004c3ba1e68d6802ae863e": {
          "model_module": "@jupyter-widgets/base",
          "model_module_version": "1.2.0",
          "model_name": "LayoutModel",
          "state": {
            "_model_module": "@jupyter-widgets/base",
            "_model_module_version": "1.2.0",
            "_model_name": "LayoutModel",
            "_view_count": null,
            "_view_module": "@jupyter-widgets/base",
            "_view_module_version": "1.2.0",
            "_view_name": "LayoutView",
            "align_content": null,
            "align_items": null,
            "align_self": null,
            "border": null,
            "bottom": null,
            "display": null,
            "flex": null,
            "flex_flow": null,
            "grid_area": null,
            "grid_auto_columns": null,
            "grid_auto_flow": null,
            "grid_auto_rows": null,
            "grid_column": null,
            "grid_gap": null,
            "grid_row": null,
            "grid_template_areas": null,
            "grid_template_columns": null,
            "grid_template_rows": null,
            "height": null,
            "justify_content": null,
            "justify_items": null,
            "left": null,
            "margin": null,
            "max_height": null,
            "max_width": null,
            "min_height": null,
            "min_width": null,
            "object_fit": null,
            "object_position": null,
            "order": null,
            "overflow": null,
            "overflow_x": null,
            "overflow_y": null,
            "padding": null,
            "right": null,
            "top": null,
            "visibility": null,
            "width": null
          }
        },
        "b0148827a0e74e8b9796827232b1b6c2": {
          "model_module": "@jupyter-widgets/base",
          "model_module_version": "1.2.0",
          "model_name": "LayoutModel",
          "state": {
            "_model_module": "@jupyter-widgets/base",
            "_model_module_version": "1.2.0",
            "_model_name": "LayoutModel",
            "_view_count": null,
            "_view_module": "@jupyter-widgets/base",
            "_view_module_version": "1.2.0",
            "_view_name": "LayoutView",
            "align_content": null,
            "align_items": null,
            "align_self": null,
            "border": null,
            "bottom": null,
            "display": null,
            "flex": null,
            "flex_flow": null,
            "grid_area": null,
            "grid_auto_columns": null,
            "grid_auto_flow": null,
            "grid_auto_rows": null,
            "grid_column": null,
            "grid_gap": null,
            "grid_row": null,
            "grid_template_areas": null,
            "grid_template_columns": null,
            "grid_template_rows": null,
            "height": null,
            "justify_content": null,
            "justify_items": null,
            "left": null,
            "margin": null,
            "max_height": null,
            "max_width": null,
            "min_height": null,
            "min_width": null,
            "object_fit": null,
            "object_position": null,
            "order": null,
            "overflow": null,
            "overflow_x": null,
            "overflow_y": null,
            "padding": null,
            "right": null,
            "top": null,
            "visibility": null,
            "width": null
          }
        },
        "b20d433ad7be46d88904444f6600f4d9": {
          "model_module": "@jupyter-widgets/controls",
          "model_module_version": "1.5.0",
          "model_name": "HTMLModel",
          "state": {
            "_dom_classes": [],
            "_model_module": "@jupyter-widgets/controls",
            "_model_module_version": "1.5.0",
            "_model_name": "HTMLModel",
            "_view_count": null,
            "_view_module": "@jupyter-widgets/controls",
            "_view_module_version": "1.5.0",
            "_view_name": "HTMLView",
            "description": "",
            "description_tooltip": null,
            "layout": "IPY_MODEL_25636c69b1c94ab99ac45ec01b661a25",
            "placeholder": "​",
            "style": "IPY_MODEL_49bbd59dd76640c6a9edaaafba524f0f",
            "value": " 1/1 [00:00&lt;00:00,  9.34it/s]"
          }
        },
        "bc5c705315c046deb0710c83a53a832d": {
          "model_module": "@jupyter-widgets/controls",
          "model_module_version": "1.5.0",
          "model_name": "HTMLModel",
          "state": {
            "_dom_classes": [],
            "_model_module": "@jupyter-widgets/controls",
            "_model_module_version": "1.5.0",
            "_model_name": "HTMLModel",
            "_view_count": null,
            "_view_module": "@jupyter-widgets/controls",
            "_view_module_version": "1.5.0",
            "_view_name": "HTMLView",
            "description": "",
            "description_tooltip": null,
            "layout": "IPY_MODEL_1bb4709a0f674fb79a08cbe7fd298f9f",
            "placeholder": "​",
            "style": "IPY_MODEL_63c172be8f23453683c24f85a9abb0a2",
            "value": "Render HTML: 100%"
          }
        },
        "c87d79dc2c5d4f9abfd054121c5d387d": {
          "model_module": "@jupyter-widgets/controls",
          "model_module_version": "1.5.0",
          "model_name": "HBoxModel",
          "state": {
            "_dom_classes": [],
            "_model_module": "@jupyter-widgets/controls",
            "_model_module_version": "1.5.0",
            "_model_name": "HBoxModel",
            "_view_count": null,
            "_view_module": "@jupyter-widgets/controls",
            "_view_module_version": "1.5.0",
            "_view_name": "HBoxView",
            "box_style": "",
            "children": [
              "IPY_MODEL_bc5c705315c046deb0710c83a53a832d",
              "IPY_MODEL_6d5a85d454144de09b8b45e7ad20ab74",
              "IPY_MODEL_aaa83300bdde4acf812880ad8fd6a0a8"
            ],
            "layout": "IPY_MODEL_e3e17043e8a743cc9ed340ff5d3103ad"
          }
        },
        "dc13e0157d5a4e5db758f0362c8742ab": {
          "model_module": "@jupyter-widgets/controls",
          "model_module_version": "1.5.0",
          "model_name": "HBoxModel",
          "state": {
            "_dom_classes": [],
            "_model_module": "@jupyter-widgets/controls",
            "_model_module_version": "1.5.0",
            "_model_name": "HBoxModel",
            "_view_count": null,
            "_view_module": "@jupyter-widgets/controls",
            "_view_module_version": "1.5.0",
            "_view_name": "HBoxView",
            "box_style": "",
            "children": [
              "IPY_MODEL_a785fad508c04b4489d6169d86ab1801",
              "IPY_MODEL_3bb5125b1a86499d848054e456b575a7",
              "IPY_MODEL_8439a7abc79248848b6a56220e72bf37"
            ],
            "layout": "IPY_MODEL_8d5518ba875b432095a1c10cac7bc274"
          }
        },
        "e14f5447310348ffa6f740a4a586e685": {
          "model_module": "@jupyter-widgets/controls",
          "model_module_version": "1.5.0",
          "model_name": "HTMLModel",
          "state": {
            "_dom_classes": [],
            "_model_module": "@jupyter-widgets/controls",
            "_model_module_version": "1.5.0",
            "_model_name": "HTMLModel",
            "_view_count": null,
            "_view_module": "@jupyter-widgets/controls",
            "_view_module_version": "1.5.0",
            "_view_name": "HTMLView",
            "description": "",
            "description_tooltip": null,
            "layout": "IPY_MODEL_455290c7068f45f3a81ee3ab0bff657a",
            "placeholder": "​",
            "style": "IPY_MODEL_6ebd0845d12741f08757d88356cb02e7",
            "value": " 1/1 [00:14&lt;00:00, 14.59s/it]"
          }
        },
        "e3e17043e8a743cc9ed340ff5d3103ad": {
          "model_module": "@jupyter-widgets/base",
          "model_module_version": "1.2.0",
          "model_name": "LayoutModel",
          "state": {
            "_model_module": "@jupyter-widgets/base",
            "_model_module_version": "1.2.0",
            "_model_name": "LayoutModel",
            "_view_count": null,
            "_view_module": "@jupyter-widgets/base",
            "_view_module_version": "1.2.0",
            "_view_name": "LayoutView",
            "align_content": null,
            "align_items": null,
            "align_self": null,
            "border": null,
            "bottom": null,
            "display": null,
            "flex": null,
            "flex_flow": null,
            "grid_area": null,
            "grid_auto_columns": null,
            "grid_auto_flow": null,
            "grid_auto_rows": null,
            "grid_column": null,
            "grid_gap": null,
            "grid_row": null,
            "grid_template_areas": null,
            "grid_template_columns": null,
            "grid_template_rows": null,
            "height": null,
            "justify_content": null,
            "justify_items": null,
            "left": null,
            "margin": null,
            "max_height": null,
            "max_width": null,
            "min_height": null,
            "min_width": null,
            "object_fit": null,
            "object_position": null,
            "order": null,
            "overflow": null,
            "overflow_x": null,
            "overflow_y": null,
            "padding": null,
            "right": null,
            "top": null,
            "visibility": null,
            "width": null
          }
        },
        "e41505182741441a90515782842303c9": {
          "model_module": "@jupyter-widgets/base",
          "model_module_version": "1.2.0",
          "model_name": "LayoutModel",
          "state": {
            "_model_module": "@jupyter-widgets/base",
            "_model_module_version": "1.2.0",
            "_model_name": "LayoutModel",
            "_view_count": null,
            "_view_module": "@jupyter-widgets/base",
            "_view_module_version": "1.2.0",
            "_view_name": "LayoutView",
            "align_content": null,
            "align_items": null,
            "align_self": null,
            "border": null,
            "bottom": null,
            "display": null,
            "flex": null,
            "flex_flow": null,
            "grid_area": null,
            "grid_auto_columns": null,
            "grid_auto_flow": null,
            "grid_auto_rows": null,
            "grid_column": null,
            "grid_gap": null,
            "grid_row": null,
            "grid_template_areas": null,
            "grid_template_columns": null,
            "grid_template_rows": null,
            "height": null,
            "justify_content": null,
            "justify_items": null,
            "left": null,
            "margin": null,
            "max_height": null,
            "max_width": null,
            "min_height": null,
            "min_width": null,
            "object_fit": null,
            "object_position": null,
            "order": null,
            "overflow": null,
            "overflow_x": null,
            "overflow_y": null,
            "padding": null,
            "right": null,
            "top": null,
            "visibility": null,
            "width": null
          }
        },
        "eb6cb9545d6e4dc3945b6e82ea145426": {
          "model_module": "@jupyter-widgets/controls",
          "model_module_version": "1.5.0",
          "model_name": "ProgressStyleModel",
          "state": {
            "_model_module": "@jupyter-widgets/controls",
            "_model_module_version": "1.5.0",
            "_model_name": "ProgressStyleModel",
            "_view_count": null,
            "_view_module": "@jupyter-widgets/base",
            "_view_module_version": "1.2.0",
            "_view_name": "StyleView",
            "bar_color": null,
            "description_width": ""
          }
        },
        "ec1f075286c643a08326a85e12d4f528": {
          "model_module": "@jupyter-widgets/controls",
          "model_module_version": "1.5.0",
          "model_name": "DescriptionStyleModel",
          "state": {
            "_model_module": "@jupyter-widgets/controls",
            "_model_module_version": "1.5.0",
            "_model_name": "DescriptionStyleModel",
            "_view_count": null,
            "_view_module": "@jupyter-widgets/base",
            "_view_module_version": "1.2.0",
            "_view_name": "StyleView",
            "description_width": ""
          }
        },
        "f17801c05e8544d4a1691b74473c9231": {
          "model_module": "@jupyter-widgets/controls",
          "model_module_version": "1.5.0",
          "model_name": "HTMLModel",
          "state": {
            "_dom_classes": [],
            "_model_module": "@jupyter-widgets/controls",
            "_model_module_version": "1.5.0",
            "_model_name": "HTMLModel",
            "_view_count": null,
            "_view_module": "@jupyter-widgets/controls",
            "_view_module_version": "1.5.0",
            "_view_name": "HTMLView",
            "description": "",
            "description_tooltip": null,
            "layout": "IPY_MODEL_584a2fbaf411492087ac0ed5a4ba12f1",
            "placeholder": "​",
            "style": "IPY_MODEL_2a7a2302a07c4e069fb89cacd5dbb0b5",
            "value": "Generate report structure: 100%"
          }
        }
      }
    }
  },
  "nbformat": 4,
  "nbformat_minor": 0
}
