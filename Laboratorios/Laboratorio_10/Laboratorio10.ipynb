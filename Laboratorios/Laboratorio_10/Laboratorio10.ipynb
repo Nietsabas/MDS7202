{
  "cells": [
    {
      "cell_type": "markdown",
      "metadata": {
        "id": "XUZ1dFPHzAHl",
        "cell_id": "6db569e7c5d04f9e9b48cb129df732fc",
        "deepnote_cell_type": "markdown"
      },
      "source": [
        "<h1><center>Laboratorio 10: Interpretabilidad 🤖</center></h1>\n",
        "\n",
        "<center><strong>MDS7202: Laboratorio de Programación Científica para Ciencia de Datos</strong></center>"
      ]
    },
    {
      "cell_type": "markdown",
      "metadata": {
        "id": "UD8X1uhGzAHq",
        "cell_id": "737a4540885f41acb34b9863a968b907",
        "deepnote_cell_type": "markdown"
      },
      "source": [
        "### Cuerpo Docente:\n",
        "\n",
        "- Profesor: Pablo Badilla y Ignacio Meza D.\n",
        "- Auxiliar: Sebastián Tinoco\n",
        "- Ayudante: Felipe Arias y Diego Cortez"
      ]
    },
    {
      "cell_type": "markdown",
      "metadata": {
        "id": "tXflExjqzAHr",
        "cell_id": "e4a6f26138654eb49ee963fb4c7ecf46",
        "deepnote_cell_type": "markdown"
      },
      "source": [
        "### Equipo: SUPER IMPORTANTE - notebooks sin nombre no serán revisados\n",
        "\n",
        "- Nombre de alumno 1:\n",
        "- Nombre de alumno 2:\n"
      ]
    },
    {
      "cell_type": "markdown",
      "metadata": {
        "id": "AD-V0bbZzAHr",
        "owner_user_id": "badcc427-fd3d-4615-9296-faa43ec69cfb",
        "cell_id": "7dd4aaebd4f44063aedbb47ea36349a5",
        "deepnote_cell_type": "markdown"
      },
      "source": [
        "### **Link de repositorio de GitHub:** `http://....`"
      ]
    },
    {
      "cell_type": "markdown",
      "metadata": {
        "id": "EcnsiQMkzAHr",
        "cell_id": "abe08e51696a471e8cc8ac1fa4216f0b",
        "deepnote_cell_type": "markdown"
      },
      "source": [
        "### Indice\n",
        "\n",
        "1. [Temas a tratar](#Temas-a-tratar:)\n",
        "3. [Descripcción del laboratorio](#Descripción-del-laboratorio.)\n",
        "4. [Desarrollo](#Desarrollo)"
      ]
    },
    {
      "cell_type": "markdown",
      "metadata": {
        "id": "6uBLPj1PzAHs",
        "cell_id": "0174e9377ebb43eaa0d12718db4c81ec",
        "deepnote_cell_type": "markdown"
      },
      "source": [
        "## Temas a tratar\n",
        "\n",
        "- Clasificación usando `XGBoost`.\n",
        "- Métodos Agnósticos Globales de Interpretabilidad (`Partial Dependence Plot`, `Permutation Feature Importance`)\n",
        "- Métodos Agnósticos Locales de Interpretabilidad (`Scoped Rules`, `SHAP`)\n",
        "\n",
        "## Reglas:\n",
        "\n",
        "- **Grupos de 2 personas**\n",
        "- Asistencia **obligatoria** a instrucciones del lab (viernes 16.15). Luego, pueden quedarse trabajando en las salas o irse.\n",
        "- **No se revisarán entregas de personas ausentes**.\n",
        "- Cualquier duda fuera del horario de clases al foro. Mensajes al equipo docente serán respondidos por este medio.\n",
        "- Prohibidas las copias.\n",
        "- Pueden usar cualquer matrial del curso que estimen conveniente.\n",
        "\n",
        "### Objetivos principales del laboratorio\n",
        "\n",
        "- Generar un pipeline de clasificación con `XGBoost`.\n",
        "- Implementar modelos de interpretabilidad para explicar el funcionamiento del modelo de clasificación.\n",
        "\n",
        "El laboratorio deberá ser desarrollado sin el uso indiscriminado de iteradores nativos de python (aka \"for\", \"while\"). La idea es que aprendan a exprimir al máximo las funciones optimizadas que nos entrega `pandas`, las cuales vale mencionar, son bastante más eficientes que los iteradores nativos sobre DataFrames."
      ]
    },
    {
      "cell_type": "markdown",
      "metadata": {
        "id": "xpOTbQcxbSiy",
        "cell_id": "e2c4f9b4097846b680f8d1c500aa49df",
        "deepnote_cell_type": "markdown"
      },
      "source": [
        "# 1. Problemas Clínicos del Dr. Simi"
      ]
    },
    {
      "cell_type": "markdown",
      "metadata": {
        "id": "3Q93vbNS25bM",
        "cell_id": "2911f2d6934f43fe8950320d84f3b031",
        "deepnote_cell_type": "markdown"
      },
      "source": [
        "<p align=\"center\">\n",
        "  <img src=\"https://gantz.cl/wp-content/uploads/2020/01/79024136_2718114448239059_7240913062570491904_o.jpg\" width=\"350\">\n",
        "</p>"
      ]
    },
    {
      "cell_type": "markdown",
      "metadata": {
        "cell_id": "2bb2213a347e4d55bfc8fea55068a88f",
        "deepnote_cell_type": "markdown",
        "id": "QS0diGr8hezg"
      },
      "source": [
        "El reconocido **Dr. Simi**, famoso vendedor de medicamentos en latinoamerica, debido a la creciente prevalencia de enfermedades crónicas, como la diabetes, decidió abrir una clínica especializada en el tratamiento de esta enfermedad en nuestro país.\n",
        "\n",
        "La clínica del Doctor Simi se convirtió en un lugar donde los pacientes con diabetes podrían recibir atención médica integral. El personal médico estaba compuesto por especialistas en endocrinología, nutrición y enfermería, todos capacitados en el manejo de la diabetes.\n",
        "\n",
        "Sin embargo él se ha dado cuenta que los tiempos han cambiado y gracias a las tecnologías es posible generar mejores predicciones en la diabetes conociendo el historial médico de las personas. Por esto, el doctor se ha colocado una meta de incluir modelos de machine learning dentro de sus clínicas, para ello le ha solicitado crear un modelo capaz de predecir/clasificar diabetes pero le rogó que el desarrollo del modelo tuviera un especial enfoque en la interpretabilidad de lo que hace su modelo.\n",
        "\n",
        "Para que usted pueda entrenar el modelo, Dr. Simi le ha entregado un dataset de todos los clientes que fueron detectados con diabetes a lo largo de la historia de la clinica. Con ello, adjunta el historial médico de las personas en forma de datos tabulares para que usted pueda realizar fácilmente la clasificación.\n"
      ]
    },
    {
      "cell_type": "code",
      "source": [
        "!pip install pandas-profiling"
      ],
      "metadata": {
        "colab": {
          "base_uri": "https://localhost:8080/"
        },
        "id": "NJQt9RTJjO50",
        "outputId": "2180cf86-69f6-427f-af63-438caee632a7"
      },
      "execution_count": 3,
      "outputs": [
        {
          "output_type": "stream",
          "name": "stdout",
          "text": [
            "Collecting pandas-profiling\n",
            "  Using cached pandas_profiling-3.6.6-py2.py3-none-any.whl (324 kB)\n",
            "Collecting ydata-profiling (from pandas-profiling)\n",
            "  Using cached ydata_profiling-4.3.1-py2.py3-none-any.whl (352 kB)\n",
            "Requirement already satisfied: scipy<1.11,>=1.4.1 in /usr/local/lib/python3.10/dist-packages (from ydata-profiling->pandas-profiling) (1.10.1)\n",
            "Requirement already satisfied: pandas!=1.4.0,<2.1,>1.1 in /usr/local/lib/python3.10/dist-packages (from ydata-profiling->pandas-profiling) (1.5.3)\n",
            "Requirement already satisfied: matplotlib<4,>=3.2 in /usr/local/lib/python3.10/dist-packages (from ydata-profiling->pandas-profiling) (3.7.1)\n",
            "Requirement already satisfied: pydantic<2,>=1.8.1 in /usr/local/lib/python3.10/dist-packages (from ydata-profiling->pandas-profiling) (1.10.9)\n",
            "Requirement already satisfied: PyYAML<6.1,>=5.0.0 in /usr/local/lib/python3.10/dist-packages (from ydata-profiling->pandas-profiling) (6.0)\n",
            "Requirement already satisfied: jinja2<3.2,>=2.11.1 in /usr/local/lib/python3.10/dist-packages (from ydata-profiling->pandas-profiling) (3.1.2)\n",
            "Collecting visions[type_image_path]==0.7.5 (from ydata-profiling->pandas-profiling)\n",
            "  Using cached visions-0.7.5-py3-none-any.whl (102 kB)\n",
            "Requirement already satisfied: numpy<1.24,>=1.16.0 in /usr/local/lib/python3.10/dist-packages (from ydata-profiling->pandas-profiling) (1.22.4)\n",
            "Requirement already satisfied: htmlmin==0.1.12 in /usr/local/lib/python3.10/dist-packages (from ydata-profiling->pandas-profiling) (0.1.12)\n",
            "Collecting phik<0.13,>=0.11.1 (from ydata-profiling->pandas-profiling)\n",
            "  Using cached phik-0.12.3-cp310-cp310-manylinux_2_17_x86_64.manylinux2014_x86_64.whl (679 kB)\n",
            "Requirement already satisfied: requests<3,>=2.24.0 in /usr/local/lib/python3.10/dist-packages (from ydata-profiling->pandas-profiling) (2.27.1)\n",
            "Requirement already satisfied: tqdm<5,>=4.48.2 in /usr/local/lib/python3.10/dist-packages (from ydata-profiling->pandas-profiling) (4.65.0)\n",
            "Requirement already satisfied: seaborn<0.13,>=0.10.1 in /usr/local/lib/python3.10/dist-packages (from ydata-profiling->pandas-profiling) (0.12.2)\n",
            "Collecting multimethod<2,>=1.4 (from ydata-profiling->pandas-profiling)\n",
            "  Using cached multimethod-1.9.1-py3-none-any.whl (10 kB)\n",
            "Requirement already satisfied: statsmodels<1,>=0.13.2 in /usr/local/lib/python3.10/dist-packages (from ydata-profiling->pandas-profiling) (0.13.5)\n",
            "Requirement already satisfied: typeguard<3,>=2.13.2 in /usr/local/lib/python3.10/dist-packages (from ydata-profiling->pandas-profiling) (2.13.3)\n",
            "Collecting imagehash==4.3.1 (from ydata-profiling->pandas-profiling)\n",
            "  Using cached ImageHash-4.3.1-py2.py3-none-any.whl (296 kB)\n",
            "Collecting wordcloud>=1.9.1 (from ydata-profiling->pandas-profiling)\n",
            "  Using cached wordcloud-1.9.2-cp310-cp310-manylinux_2_17_x86_64.manylinux2014_x86_64.whl (455 kB)\n",
            "Collecting dacite>=1.8 (from ydata-profiling->pandas-profiling)\n",
            "  Using cached dacite-1.8.1-py3-none-any.whl (14 kB)\n",
            "Requirement already satisfied: PyWavelets in /usr/local/lib/python3.10/dist-packages (from imagehash==4.3.1->ydata-profiling->pandas-profiling) (1.4.1)\n",
            "Requirement already satisfied: pillow in /usr/local/lib/python3.10/dist-packages (from imagehash==4.3.1->ydata-profiling->pandas-profiling) (8.4.0)\n",
            "Requirement already satisfied: attrs>=19.3.0 in /usr/local/lib/python3.10/dist-packages (from visions[type_image_path]==0.7.5->ydata-profiling->pandas-profiling) (23.1.0)\n",
            "Requirement already satisfied: networkx>=2.4 in /usr/local/lib/python3.10/dist-packages (from visions[type_image_path]==0.7.5->ydata-profiling->pandas-profiling) (3.1)\n",
            "Requirement already satisfied: tangled-up-in-unicode>=0.0.4 in /usr/local/lib/python3.10/dist-packages (from visions[type_image_path]==0.7.5->ydata-profiling->pandas-profiling) (0.2.0)\n",
            "Requirement already satisfied: MarkupSafe>=2.0 in /usr/local/lib/python3.10/dist-packages (from jinja2<3.2,>=2.11.1->ydata-profiling->pandas-profiling) (2.1.3)\n",
            "Requirement already satisfied: contourpy>=1.0.1 in /usr/local/lib/python3.10/dist-packages (from matplotlib<4,>=3.2->ydata-profiling->pandas-profiling) (1.1.0)\n",
            "Requirement already satisfied: cycler>=0.10 in /usr/local/lib/python3.10/dist-packages (from matplotlib<4,>=3.2->ydata-profiling->pandas-profiling) (0.11.0)\n",
            "Requirement already satisfied: fonttools>=4.22.0 in /usr/local/lib/python3.10/dist-packages (from matplotlib<4,>=3.2->ydata-profiling->pandas-profiling) (4.40.0)\n",
            "Requirement already satisfied: kiwisolver>=1.0.1 in /usr/local/lib/python3.10/dist-packages (from matplotlib<4,>=3.2->ydata-profiling->pandas-profiling) (1.4.4)\n",
            "Requirement already satisfied: packaging>=20.0 in /usr/local/lib/python3.10/dist-packages (from matplotlib<4,>=3.2->ydata-profiling->pandas-profiling) (23.1)\n",
            "Requirement already satisfied: pyparsing>=2.3.1 in /usr/local/lib/python3.10/dist-packages (from matplotlib<4,>=3.2->ydata-profiling->pandas-profiling) (3.1.0)\n",
            "Requirement already satisfied: python-dateutil>=2.7 in /usr/local/lib/python3.10/dist-packages (from matplotlib<4,>=3.2->ydata-profiling->pandas-profiling) (2.8.2)\n",
            "Requirement already satisfied: pytz>=2020.1 in /usr/local/lib/python3.10/dist-packages (from pandas!=1.4.0,<2.1,>1.1->ydata-profiling->pandas-profiling) (2022.7.1)\n",
            "Requirement already satisfied: joblib>=0.14.1 in /usr/local/lib/python3.10/dist-packages (from phik<0.13,>=0.11.1->ydata-profiling->pandas-profiling) (1.2.0)\n",
            "Requirement already satisfied: typing-extensions>=4.2.0 in /usr/local/lib/python3.10/dist-packages (from pydantic<2,>=1.8.1->ydata-profiling->pandas-profiling) (4.6.3)\n",
            "Requirement already satisfied: urllib3<1.27,>=1.21.1 in /usr/local/lib/python3.10/dist-packages (from requests<3,>=2.24.0->ydata-profiling->pandas-profiling) (1.26.16)\n",
            "Requirement already satisfied: certifi>=2017.4.17 in /usr/local/lib/python3.10/dist-packages (from requests<3,>=2.24.0->ydata-profiling->pandas-profiling) (2023.5.7)\n",
            "Requirement already satisfied: charset-normalizer~=2.0.0 in /usr/local/lib/python3.10/dist-packages (from requests<3,>=2.24.0->ydata-profiling->pandas-profiling) (2.0.12)\n",
            "Requirement already satisfied: idna<4,>=2.5 in /usr/local/lib/python3.10/dist-packages (from requests<3,>=2.24.0->ydata-profiling->pandas-profiling) (3.4)\n",
            "Requirement already satisfied: patsy>=0.5.2 in /usr/local/lib/python3.10/dist-packages (from statsmodels<1,>=0.13.2->ydata-profiling->pandas-profiling) (0.5.3)\n",
            "Requirement already satisfied: six in /usr/local/lib/python3.10/dist-packages (from patsy>=0.5.2->statsmodels<1,>=0.13.2->ydata-profiling->pandas-profiling) (1.16.0)\n",
            "Installing collected packages: multimethod, dacite, imagehash, wordcloud, visions, phik, ydata-profiling, pandas-profiling\n",
            "  Attempting uninstall: wordcloud\n",
            "    Found existing installation: wordcloud 1.8.2.2\n",
            "    Uninstalling wordcloud-1.8.2.2:\n",
            "      Successfully uninstalled wordcloud-1.8.2.2\n",
            "Successfully installed dacite-1.8.1 imagehash-4.3.1 multimethod-1.9.1 pandas-profiling-3.6.6 phik-0.12.3 visions-0.7.5 wordcloud-1.9.2 ydata-profiling-4.3.1\n"
          ]
        }
      ]
    },
    {
      "cell_type": "code",
      "metadata": {
        "id": "bED3w3tDbSCf",
        "source_hash": "fa5e6129",
        "execution_start": 1686884002582,
        "execution_millis": 294,
        "deepnote_to_be_reexecuted": false,
        "cell_id": "3252f09552814a80ac2d5e3cc67a1447",
        "deepnote_cell_type": "code",
        "colab": {
          "base_uri": "https://localhost:8080/",
          "height": 175
        },
        "outputId": "80034982-1173-491f-9aa8-52895d26d5aa"
      },
      "source": [
        "import numpy as np\n",
        "import pandas as pd\n",
        "import pandas_profiling\n",
        "import matplotlib.pyplot as plt\n",
        "import xgboost as xgb\n",
        "\n",
        "from sklearn.model_selection import train_test_split\n",
        "from sklearn.pipeline import Pipeline\n",
        "from sklearn.compose import ColumnTransformer\n",
        "from sklearn.preprocessing import StandardScaler, MinMaxScaler\n",
        "from sklearn.metrics import accuracy_score, precision_score, recall_score, f1_score, classification_report\n",
        "from xgboost import XGBClassifier, plot_importance\n",
        "from sklearn.inspection import permutation_importance\n",
        "\n",
        "df = pd.read_csv('diabetes_data.csv')\n",
        "df.head(4)"
      ],
      "execution_count": 45,
      "outputs": [
        {
          "output_type": "execute_result",
          "data": {
            "text/plain": [
              "    Age  Sex  HighChol  CholCheck   BMI  Smoker  HeartDiseaseorAttack  \\\n",
              "0   4.0  1.0       0.0        1.0  26.0     0.0                   0.0   \n",
              "1  12.0  1.0       1.0        1.0  26.0     1.0                   0.0   \n",
              "2  13.0  1.0       0.0        1.0  26.0     0.0                   0.0   \n",
              "3  11.0  1.0       1.0        1.0  28.0     1.0                   0.0   \n",
              "\n",
              "   PhysActivity  Fruits  Veggies  HvyAlcoholConsump  GenHlth  MentHlth  \\\n",
              "0           1.0     0.0      1.0                0.0      3.0       5.0   \n",
              "1           0.0     1.0      0.0                0.0      3.0       0.0   \n",
              "2           1.0     1.0      1.0                0.0      1.0       0.0   \n",
              "3           1.0     1.0      1.0                0.0      3.0       0.0   \n",
              "\n",
              "   PhysHlth  DiffWalk  Stroke  HighBP  Diabetes  \n",
              "0      30.0       0.0     0.0     1.0       0.0  \n",
              "1       0.0       0.0     1.0     1.0       0.0  \n",
              "2      10.0       0.0     0.0     0.0       0.0  \n",
              "3       3.0       0.0     0.0     1.0       0.0  "
            ],
            "text/html": [
              "\n",
              "  <div id=\"df-f9c37b39-9344-4e2f-8088-786171c90652\">\n",
              "    <div class=\"colab-df-container\">\n",
              "      <div>\n",
              "<style scoped>\n",
              "    .dataframe tbody tr th:only-of-type {\n",
              "        vertical-align: middle;\n",
              "    }\n",
              "\n",
              "    .dataframe tbody tr th {\n",
              "        vertical-align: top;\n",
              "    }\n",
              "\n",
              "    .dataframe thead th {\n",
              "        text-align: right;\n",
              "    }\n",
              "</style>\n",
              "<table border=\"1\" class=\"dataframe\">\n",
              "  <thead>\n",
              "    <tr style=\"text-align: right;\">\n",
              "      <th></th>\n",
              "      <th>Age</th>\n",
              "      <th>Sex</th>\n",
              "      <th>HighChol</th>\n",
              "      <th>CholCheck</th>\n",
              "      <th>BMI</th>\n",
              "      <th>Smoker</th>\n",
              "      <th>HeartDiseaseorAttack</th>\n",
              "      <th>PhysActivity</th>\n",
              "      <th>Fruits</th>\n",
              "      <th>Veggies</th>\n",
              "      <th>HvyAlcoholConsump</th>\n",
              "      <th>GenHlth</th>\n",
              "      <th>MentHlth</th>\n",
              "      <th>PhysHlth</th>\n",
              "      <th>DiffWalk</th>\n",
              "      <th>Stroke</th>\n",
              "      <th>HighBP</th>\n",
              "      <th>Diabetes</th>\n",
              "    </tr>\n",
              "  </thead>\n",
              "  <tbody>\n",
              "    <tr>\n",
              "      <th>0</th>\n",
              "      <td>4.0</td>\n",
              "      <td>1.0</td>\n",
              "      <td>0.0</td>\n",
              "      <td>1.0</td>\n",
              "      <td>26.0</td>\n",
              "      <td>0.0</td>\n",
              "      <td>0.0</td>\n",
              "      <td>1.0</td>\n",
              "      <td>0.0</td>\n",
              "      <td>1.0</td>\n",
              "      <td>0.0</td>\n",
              "      <td>3.0</td>\n",
              "      <td>5.0</td>\n",
              "      <td>30.0</td>\n",
              "      <td>0.0</td>\n",
              "      <td>0.0</td>\n",
              "      <td>1.0</td>\n",
              "      <td>0.0</td>\n",
              "    </tr>\n",
              "    <tr>\n",
              "      <th>1</th>\n",
              "      <td>12.0</td>\n",
              "      <td>1.0</td>\n",
              "      <td>1.0</td>\n",
              "      <td>1.0</td>\n",
              "      <td>26.0</td>\n",
              "      <td>1.0</td>\n",
              "      <td>0.0</td>\n",
              "      <td>0.0</td>\n",
              "      <td>1.0</td>\n",
              "      <td>0.0</td>\n",
              "      <td>0.0</td>\n",
              "      <td>3.0</td>\n",
              "      <td>0.0</td>\n",
              "      <td>0.0</td>\n",
              "      <td>0.0</td>\n",
              "      <td>1.0</td>\n",
              "      <td>1.0</td>\n",
              "      <td>0.0</td>\n",
              "    </tr>\n",
              "    <tr>\n",
              "      <th>2</th>\n",
              "      <td>13.0</td>\n",
              "      <td>1.0</td>\n",
              "      <td>0.0</td>\n",
              "      <td>1.0</td>\n",
              "      <td>26.0</td>\n",
              "      <td>0.0</td>\n",
              "      <td>0.0</td>\n",
              "      <td>1.0</td>\n",
              "      <td>1.0</td>\n",
              "      <td>1.0</td>\n",
              "      <td>0.0</td>\n",
              "      <td>1.0</td>\n",
              "      <td>0.0</td>\n",
              "      <td>10.0</td>\n",
              "      <td>0.0</td>\n",
              "      <td>0.0</td>\n",
              "      <td>0.0</td>\n",
              "      <td>0.0</td>\n",
              "    </tr>\n",
              "    <tr>\n",
              "      <th>3</th>\n",
              "      <td>11.0</td>\n",
              "      <td>1.0</td>\n",
              "      <td>1.0</td>\n",
              "      <td>1.0</td>\n",
              "      <td>28.0</td>\n",
              "      <td>1.0</td>\n",
              "      <td>0.0</td>\n",
              "      <td>1.0</td>\n",
              "      <td>1.0</td>\n",
              "      <td>1.0</td>\n",
              "      <td>0.0</td>\n",
              "      <td>3.0</td>\n",
              "      <td>0.0</td>\n",
              "      <td>3.0</td>\n",
              "      <td>0.0</td>\n",
              "      <td>0.0</td>\n",
              "      <td>1.0</td>\n",
              "      <td>0.0</td>\n",
              "    </tr>\n",
              "  </tbody>\n",
              "</table>\n",
              "</div>\n",
              "      <button class=\"colab-df-convert\" onclick=\"convertToInteractive('df-f9c37b39-9344-4e2f-8088-786171c90652')\"\n",
              "              title=\"Convert this dataframe to an interactive table.\"\n",
              "              style=\"display:none;\">\n",
              "        \n",
              "  <svg xmlns=\"http://www.w3.org/2000/svg\" height=\"24px\"viewBox=\"0 0 24 24\"\n",
              "       width=\"24px\">\n",
              "    <path d=\"M0 0h24v24H0V0z\" fill=\"none\"/>\n",
              "    <path d=\"M18.56 5.44l.94 2.06.94-2.06 2.06-.94-2.06-.94-.94-2.06-.94 2.06-2.06.94zm-11 1L8.5 8.5l.94-2.06 2.06-.94-2.06-.94L8.5 2.5l-.94 2.06-2.06.94zm10 10l.94 2.06.94-2.06 2.06-.94-2.06-.94-.94-2.06-.94 2.06-2.06.94z\"/><path d=\"M17.41 7.96l-1.37-1.37c-.4-.4-.92-.59-1.43-.59-.52 0-1.04.2-1.43.59L10.3 9.45l-7.72 7.72c-.78.78-.78 2.05 0 2.83L4 21.41c.39.39.9.59 1.41.59.51 0 1.02-.2 1.41-.59l7.78-7.78 2.81-2.81c.8-.78.8-2.07 0-2.86zM5.41 20L4 18.59l7.72-7.72 1.47 1.35L5.41 20z\"/>\n",
              "  </svg>\n",
              "      </button>\n",
              "      \n",
              "  <style>\n",
              "    .colab-df-container {\n",
              "      display:flex;\n",
              "      flex-wrap:wrap;\n",
              "      gap: 12px;\n",
              "    }\n",
              "\n",
              "    .colab-df-convert {\n",
              "      background-color: #E8F0FE;\n",
              "      border: none;\n",
              "      border-radius: 50%;\n",
              "      cursor: pointer;\n",
              "      display: none;\n",
              "      fill: #1967D2;\n",
              "      height: 32px;\n",
              "      padding: 0 0 0 0;\n",
              "      width: 32px;\n",
              "    }\n",
              "\n",
              "    .colab-df-convert:hover {\n",
              "      background-color: #E2EBFA;\n",
              "      box-shadow: 0px 1px 2px rgba(60, 64, 67, 0.3), 0px 1px 3px 1px rgba(60, 64, 67, 0.15);\n",
              "      fill: #174EA6;\n",
              "    }\n",
              "\n",
              "    [theme=dark] .colab-df-convert {\n",
              "      background-color: #3B4455;\n",
              "      fill: #D2E3FC;\n",
              "    }\n",
              "\n",
              "    [theme=dark] .colab-df-convert:hover {\n",
              "      background-color: #434B5C;\n",
              "      box-shadow: 0px 1px 3px 1px rgba(0, 0, 0, 0.15);\n",
              "      filter: drop-shadow(0px 1px 2px rgba(0, 0, 0, 0.3));\n",
              "      fill: #FFFFFF;\n",
              "    }\n",
              "  </style>\n",
              "\n",
              "      <script>\n",
              "        const buttonEl =\n",
              "          document.querySelector('#df-f9c37b39-9344-4e2f-8088-786171c90652 button.colab-df-convert');\n",
              "        buttonEl.style.display =\n",
              "          google.colab.kernel.accessAllowed ? 'block' : 'none';\n",
              "\n",
              "        async function convertToInteractive(key) {\n",
              "          const element = document.querySelector('#df-f9c37b39-9344-4e2f-8088-786171c90652');\n",
              "          const dataTable =\n",
              "            await google.colab.kernel.invokeFunction('convertToInteractive',\n",
              "                                                     [key], {});\n",
              "          if (!dataTable) return;\n",
              "\n",
              "          const docLinkHtml = 'Like what you see? Visit the ' +\n",
              "            '<a target=\"_blank\" href=https://colab.research.google.com/notebooks/data_table.ipynb>data table notebook</a>'\n",
              "            + ' to learn more about interactive tables.';\n",
              "          element.innerHTML = '';\n",
              "          dataTable['output_type'] = 'display_data';\n",
              "          await google.colab.output.renderOutput(dataTable, element);\n",
              "          const docLink = document.createElement('div');\n",
              "          docLink.innerHTML = docLinkHtml;\n",
              "          element.appendChild(docLink);\n",
              "        }\n",
              "      </script>\n",
              "    </div>\n",
              "  </div>\n",
              "  "
            ]
          },
          "metadata": {},
          "execution_count": 45
        }
      ]
    },
    {
      "cell_type": "code",
      "source": [
        "profile = pandas_profiling.ProfileReport(df)\n",
        "profile.to_file(\"informe.html\")"
      ],
      "metadata": {
        "colab": {
          "base_uri": "https://localhost:8080/",
          "height": 145,
          "referenced_widgets": [
            "dc13e0157d5a4e5db758f0362c8742ab",
            "a785fad508c04b4489d6169d86ab1801",
            "3bb5125b1a86499d848054e456b575a7",
            "8439a7abc79248848b6a56220e72bf37",
            "8d5518ba875b432095a1c10cac7bc274",
            "b0148827a0e74e8b9796827232b1b6c2",
            "3515e2997ae449b2a48ad1259445613b",
            "9647642a4523488a8090a4d063304112",
            "eb6cb9545d6e4dc3945b6e82ea145426",
            "e41505182741441a90515782842303c9",
            "7af367f77c4f484a93e27c2d0b25888d",
            "aafd1300f00e4c9ca06e88da4272fab6",
            "f17801c05e8544d4a1691b74473c9231",
            "95099324bdb84adf878379c61bbb3967",
            "e14f5447310348ffa6f740a4a586e685",
            "1dd94c9b92a94e5a9b80af5ddb47bb0c",
            "584a2fbaf411492087ac0ed5a4ba12f1",
            "2a7a2302a07c4e069fb89cacd5dbb0b5",
            "aed2c27710004c3ba1e68d6802ae863e",
            "62b8da69487142ceb7c8409937862fef",
            "455290c7068f45f3a81ee3ab0bff657a",
            "6ebd0845d12741f08757d88356cb02e7",
            "c87d79dc2c5d4f9abfd054121c5d387d",
            "bc5c705315c046deb0710c83a53a832d",
            "6d5a85d454144de09b8b45e7ad20ab74",
            "aaa83300bdde4acf812880ad8fd6a0a8",
            "e3e17043e8a743cc9ed340ff5d3103ad",
            "1bb4709a0f674fb79a08cbe7fd298f9f",
            "63c172be8f23453683c24f85a9abb0a2",
            "8d6d9199f13443b5af0a83c6a289a84e",
            "15b428c2f00f470aacf41d912f677f20",
            "0c7e7072ca454d1ea09bc3c952ce553c",
            "ec1f075286c643a08326a85e12d4f528",
            "4805a45954b2413aa0185a99e5db66d8",
            "7dd63364a6d0419eb32256f9f6900d97",
            "4c2d7003700a4d5392f6bcfaf03fcd7d",
            "b20d433ad7be46d88904444f6600f4d9",
            "3d04880bafb44170a7be91bad484de81",
            "ac6d95894f284f0b9db808d35705e708",
            "a43b7238d12447468a33e49b6348ef6e",
            "1a3b3689ee7c4a7a9343e1617dd59510",
            "097c548feed548b4ac629c241f77227c",
            "25636c69b1c94ab99ac45ec01b661a25",
            "49bbd59dd76640c6a9edaaafba524f0f"
          ]
        },
        "id": "u7r1wSEGimMw",
        "outputId": "b676901a-5cfe-4c04-e89b-c4ca4095ca67"
      },
      "execution_count": 5,
      "outputs": [
        {
          "output_type": "display_data",
          "data": {
            "text/plain": [
              "Summarize dataset:   0%|          | 0/5 [00:00<?, ?it/s]"
            ],
            "application/vnd.jupyter.widget-view+json": {
              "version_major": 2,
              "version_minor": 0,
              "model_id": "dc13e0157d5a4e5db758f0362c8742ab"
            }
          },
          "metadata": {}
        },
        {
          "output_type": "display_data",
          "data": {
            "text/plain": [
              "Generate report structure:   0%|          | 0/1 [00:00<?, ?it/s]"
            ],
            "application/vnd.jupyter.widget-view+json": {
              "version_major": 2,
              "version_minor": 0,
              "model_id": "aafd1300f00e4c9ca06e88da4272fab6"
            }
          },
          "metadata": {}
        },
        {
          "output_type": "display_data",
          "data": {
            "text/plain": [
              "Render HTML:   0%|          | 0/1 [00:00<?, ?it/s]"
            ],
            "application/vnd.jupyter.widget-view+json": {
              "version_major": 2,
              "version_minor": 0,
              "model_id": "c87d79dc2c5d4f9abfd054121c5d387d"
            }
          },
          "metadata": {}
        },
        {
          "output_type": "display_data",
          "data": {
            "text/plain": [
              "Export report to file:   0%|          | 0/1 [00:00<?, ?it/s]"
            ],
            "application/vnd.jupyter.widget-view+json": {
              "version_major": 2,
              "version_minor": 0,
              "model_id": "4805a45954b2413aa0185a99e5db66d8"
            }
          },
          "metadata": {}
        }
      ]
    },
    {
      "cell_type": "markdown",
      "metadata": {
        "cell_id": "2fa50e56411a46858d61f2a42b715ee8",
        "deepnote_cell_type": "markdown",
        "id": "V3HCwS0lhezk"
      },
      "source": [
        "## 2. Clasificación de pacientes con diabetes (0.5 pt)\n",
        "\n",
        "<p align=\"center\">\n",
        "  <img src=\"https://media.tenor.com/QH--g3ZaSbsAAAAC/dr-simi-abrazo.gif\" width=\"400\">\n",
        "</p>"
      ]
    },
    {
      "cell_type": "markdown",
      "metadata": {
        "id": "jnmZfFpxTTYX",
        "cell_id": "d9f2091b610941f989e7720573424d8a",
        "deepnote_cell_type": "markdown"
      },
      "source": [
        "En primer lugar, el reconocido doctor le pide entrenar un modelo de `XGBoost` utilizando como target la columna `Diabetes` del dataset `diabetes_data.csv`. Para el entrenamiento tome en cuenta **todos** los pasos necesarios para entrenar un modelo de aprendizaje supervisado vistos hasta la fecha (use `Pipeline`, `ColumnTransformer`, etc.), comente sus decisiones y los resultados obtenidos con el modelo. ¿Es acaso un buen predictor de diabetes?, ¿Qué buscan explicar las métricas utilizadas?, ¿las métricas utilizadas para medir la predictibilidad le permiten asegurar que su modelo una buena elección de las features?."
      ]
    },
    {
      "cell_type": "code",
      "metadata": {
        "source_hash": "4d27a39e",
        "execution_start": 1686884005212,
        "execution_millis": 11299,
        "deepnote_to_be_reexecuted": false,
        "cell_id": "85306f784b434ca1a6db2d4751525cf0",
        "deepnote_cell_type": "code",
        "id": "nGuQyBN_hezk",
        "outputId": "8b35f31d-2661-4444-cc25-6dffce7a3642"
      },
      "source": [
        "!pip install xgboost"
      ],
      "execution_count": null,
      "outputs": [
        {
          "name": "stdout",
          "text": "Collecting xgboost\n  Downloading xgboost-1.7.5-py3-none-manylinux2014_x86_64.whl (200.3 MB)\n\u001b[2K     \u001b[90m━━━━━━━━━━━━━━━━━━━━━━━━━━━━━━━━━━━━━━━\u001b[0m \u001b[32m200.3/200.3 MB\u001b[0m \u001b[31m9.5 MB/s\u001b[0m eta \u001b[36m0:00:00\u001b[0m\n\u001b[?25hRequirement already satisfied: scipy in /shared-libs/python3.10/py/lib/python3.10/site-packages (from xgboost) (1.9.3)\nRequirement already satisfied: numpy in /shared-libs/python3.10/py/lib/python3.10/site-packages (from xgboost) (1.23.4)\nInstalling collected packages: xgboost\nSuccessfully installed xgboost-1.7.5\n\n\u001b[1m[\u001b[0m\u001b[34;49mnotice\u001b[0m\u001b[1;39;49m]\u001b[0m\u001b[39;49m A new release of pip is available: \u001b[0m\u001b[31;49m23.0.1\u001b[0m\u001b[39;49m -> \u001b[0m\u001b[32;49m23.1.2\u001b[0m\n\u001b[1m[\u001b[0m\u001b[34;49mnotice\u001b[0m\u001b[1;39;49m]\u001b[0m\u001b[39;49m To update, run: \u001b[0m\u001b[32;49mpip install --upgrade pip\u001b[0m\n",
          "output_type": "stream"
        }
      ]
    },
    {
      "cell_type": "code",
      "metadata": {
        "source_hash": "553ccab0",
        "execution_start": 1686930782578,
        "execution_millis": 50,
        "deepnote_to_be_reexecuted": false,
        "cell_id": "a928e00142bf45ee8d26207bab5a920d",
        "deepnote_cell_type": "code",
        "colab": {
          "base_uri": "https://localhost:8080/"
        },
        "id": "-R4C_X14hezk",
        "outputId": "dfe37140-f1f2-4033-beeb-debd1bdbf964"
      },
      "source": [
        "# Cargar el dataset\n",
        "data = pd.read_csv('diabetes_data.csv')\n",
        "\n",
        "# Dividir los datos en características y objetivo\n",
        "X = data.drop('Diabetes', axis=1)\n",
        "y = data['Diabetes']\n",
        "\n",
        "# Definir las columnas numéricas y categóricas\n",
        "std_features = ['Age', 'BMI', 'GenHlth']\n",
        "minmax_features = ['MentHlth', 'PhysHlth']\n",
        "\n",
        "# Definir las transformaciones para las características numéricas\n",
        "transformadores = [\n",
        "    ('escala_minmax', MinMaxScaler(), minmax_features),\n",
        "    ('escala_estandar', StandardScaler(), std_features)\n",
        "]\n",
        "# Combinar las transformaciones\n",
        "preprocessor = ColumnTransformer(transformadores)\n",
        "\n",
        "# Definir el modelo de XGBoost\n",
        "model = XGBClassifier()\n",
        "\n",
        "# Crear el pipeline con preprocesamiento y modelo\n",
        "pipeline = Pipeline(steps=[('preprocessor', preprocessor),\n",
        "                           ('model', model)])\n",
        "\n",
        "# Dividir los datos en conjuntos de entrenamiento y prueba\n",
        "X_train, X_test, y_train, y_test = train_test_split(X, y, test_size=0.2, random_state=42)\n",
        "\n",
        "# Entrenar el modelo\n",
        "pipeline.fit(X_train, y_train)\n",
        "\n",
        "# Realizar predicciones en el conjunto de prueba\n",
        "y_pred = pipeline.predict(X_test)\n",
        "\n",
        "# Calcular las métricas de evaluación\n",
        "\n",
        "# Obtener el informe de clasificación\n",
        "print(\"Pipeline 1:\")\n",
        "print(classification_report(y_test, y_pred))\n",
        "\n",
        "# accuracy = accuracy_score(y_test, y_pred)\n",
        "# precision = precision_score(y_test, y_pred)\n",
        "# recall = recall_score(y_test, y_pred)\n",
        "# f1 = f1_score(y_test, y_pred)\n",
        "\n",
        "# # Imprimir las métricas de evaluación\n",
        "# print('Accuracy:', accuracy)\n",
        "# print('Precision:', precision)\n",
        "# print('Recall:', recall)\n",
        "# print('F1-score:', f1)"
      ],
      "execution_count": 10,
      "outputs": [
        {
          "output_type": "stream",
          "name": "stdout",
          "text": [
            "Pipeline 1:\n",
            "              precision    recall  f1-score   support\n",
            "\n",
            "         0.0       0.75      0.69      0.72      7090\n",
            "         1.0       0.71      0.78      0.74      7049\n",
            "\n",
            "    accuracy                           0.73     14139\n",
            "   macro avg       0.73      0.73      0.73     14139\n",
            "weighted avg       0.73      0.73      0.73     14139\n",
            "\n"
          ]
        }
      ]
    },
    {
      "cell_type": "markdown",
      "metadata": {
        "cell_id": "58111a309a0c4aafb323c62c03b9b1d0",
        "deepnote_cell_type": "markdown",
        "id": "-aCSJCbIhezk"
      },
      "source": [
        "## 3. Importancia de las features con XGBoost (0.5 pt)\n",
        "\n",
        "<p align=\"center\">\n",
        "  <img src=\"https://media.tenor.com/5JAj5_IiagEAAAAd/dr-simi-dr-simi-dance.gif\" width=\"400\">\n",
        "</p>"
      ]
    },
    {
      "cell_type": "markdown",
      "metadata": {
        "cell_id": "5e0707b14bbd4ed7b4646cba8e7e53cc",
        "deepnote_cell_type": "markdown",
        "id": "i0tb8tPYhezl"
      },
      "source": [
        "Para añadir el toque de interpretabilidad que Dr. Simi le pide, se le pide calcular la **importancia de las features** del modelo entrenado utilizando todos los métodos (*weight*, *cover*, *gain*) que posee xgboost usando `plot_importance`. ¿Los resultados obtenidos con los diferentes métodos son compatibles?, comente sus resultados y a que se debe la igualdad o desigualdad que ve en los resultados. Finalmente, ¿las importancias obtenidas son suficientes para obtener la interpretabilidad de un modelo que utiliza árboles? ¿Qué debilidad presenta este método?"
      ]
    },
    {
      "cell_type": "code",
      "source": [
        "# Obtener los nombres de las columnas\n",
        "column_names = X.columns\n",
        "\n",
        "# Obtener la importancia de las características\n",
        "feature_importance_weight = model.feature_importances_\n",
        "feature_importance_cover = model.get_booster().get_score(importance_type='cover')\n",
        "feature_importance_gain = model.get_booster().get_score(importance_type='gain')\n",
        "\n",
        "\n",
        "# Redondear los valores de cover y gain\n",
        "rounded_cover = {column_names[int(key[1:])]: np.round(val, 2) for key, val in feature_importance_cover.items()}\n",
        "rounded_gain = {column_names[int(key[1:])]: np.round(val, 2) for key, val in feature_importance_gain.items()}\n",
        "\n",
        "# Crear una figura y los subplots\n",
        "fig, axs = plt.subplots(1, 3, figsize=(12, 4))\n",
        "\n",
        "# Plot de la importancia basada en weight\n",
        "plot_importance(model, importance_type='weight', ax=axs[0])\n",
        "axs[0].set_title('Importancia (Weight)')\n",
        "\n",
        "# Plot de la importancia basada en cover\n",
        "plot_importance(rounded_cover, ax=axs[1])\n",
        "axs[1].set_title('Importancia (Cover)')\n",
        "\n",
        "# Plot de la importancia basada en gain\n",
        "plot_importance(rounded_gain, ax=axs[2])\n",
        "axs[2].set_title('Importancia (Gain)')\n",
        "\n",
        "# Ajustar los subplots para una mejor visualización\n",
        "plt.tight_layout()\n",
        "plt.show()\n",
        "\n",
        "# Redondear los valores de cover y gain\n",
        "rounded_cover = {key: np.round(val, 2) for key, val in feature_importance_cover.items()}\n",
        "rounded_gain = {key: np.round(val, 2) for key, val in feature_importance_gain.items()}\n",
        "\n",
        "# Crear una figura y los subplots\n",
        "fig, axs = plt.subplots(1, 3, figsize=(12, 4))\n",
        "\n",
        "# Plot de la importancia basada en weight\n",
        "plot_importance(model, importance_type='weight', ax=axs[0])\n",
        "axs[0].set_title('Importancia (Weight)')\n",
        "\n",
        "# Plot de la importancia basada en cover\n",
        "plot_importance(rounded_cover, ax=axs[1])\n",
        "axs[1].set_title('Importancia (Cover)')\n",
        "\n",
        "# Plot de la importancia basada en gain\n",
        "plot_importance(rounded_gain, ax=axs[2])\n",
        "axs[2].set_title('Importancia (Gain)')\n",
        "\n",
        "# Ajustar los subplots para una mejor visualización\n",
        "plt.tight_layout()\n",
        "plt.show()"
      ],
      "metadata": {
        "colab": {
          "base_uri": "https://localhost:8080/",
          "height": 797
        },
        "id": "4JyE1tLX8NZa",
        "outputId": "6cf58f77-2f80-48d5-f7db-e7fb4ed0ed4e"
      },
      "execution_count": 37,
      "outputs": [
        {
          "output_type": "display_data",
          "data": {
            "text/plain": [
              "<Figure size 1200x400 with 3 Axes>"
            ],
            "image/png": "[encoded data removed]"
          },
          "metadata": {}
        },
        {
          "output_type": "display_data",
          "data": {
            "text/plain": [
              "<Figure size 1200x400 with 3 Axes>"
            ],
            "image/png": "[encoded data removed]"
          },
          "metadata": {}
        }
      ]
    },
    {
      "cell_type": "markdown",
      "source": [
        "**Respuesta:**\n",
        "\n",
        "Se puede notar que los resultados de los distintos métodos toman en consideración en su top las mismas variables, pero les otorgan distintos niveles de importancia. Esto se debe a las apariciones en los diferentes niveles de los arboles generados. Si una variable tiene una mayor variedad de de valores posibles, donde esto afecta directamente a los pesos.\n",
        "\n",
        "Junto a lo anterior un problema que presenta el método, radica en las correlacioens que existen entre los datos. Esto puede llevar a sesgos, ya que se les dan importancia a las características más correlacionadas, no entregando mayor información, mientran que otras que si entregan información adicional son subestimadas. Por lo que las interpretaciones no serían suficientes.\n",
        "\n",
        "\n"
      ],
      "metadata": {
        "id": "gM6Fl3x8RD9f"
      }
    },
    {
      "cell_type": "markdown",
      "metadata": {
        "cell_id": "37e42da05d404e6988e5cb213124d1a2",
        "deepnote_cell_type": "markdown",
        "id": "B6lT1Wvehezl"
      },
      "source": [
        "## 4. Métodos Agnósticos Globales (1 pt)\n",
        "\n",
        "<p align=\"center\">\n",
        "  <img src=\"https://media.tenor.com/JcRHtjVuXN8AAAAC/dr-simi-farmacias-similares.gif\" width=\"400\">\n",
        "</p>"
      ]
    },
    {
      "cell_type": "markdown",
      "metadata": {
        "cell_id": "2a5763d9e5744d4fb2a5b8c0478b67fd",
        "deepnote_cell_type": "markdown",
        "id": "Ch4F5Cynhezl"
      },
      "source": [
        "Para mitigar los problemas encontrados en la sección anterior, Dr. Simi le pide implementar un **método de permutación** que le permita observar la importancia de las features. Visualice los resultados de este método en un gráfico. Para que su modelo sea consistente, repita el proceso **30 veces** y verifique la desviación estándar de sus resultados (¿Qué señala está?). Además, responda las siguientes preguntas:\n",
        "\n",
        "\n",
        "- ¿Cómo mide la importancia de las features su propuesta?\n",
        "- ¿Qué features tienen un mayor impacto en la salida del modelo?. Comente las 5 primeras, ¿Tienen sentido?\n",
        "- ¿Cómo cambian sus conclusiones con respecto a las features importances del punto anterior?\n",
        "- Nombre y explique 3 ventajas y 3 desventajas del método implementado."
      ]
    },
    {
      "cell_type": "code",
      "source": [
        "\n",
        "res_pi = permutation_importance(pipeline, X_train, y_train, n_repeats= 30 , n_jobs= 2 ,\n",
        "                                scoring= 'neg_mean_squared_error' , random_state= 42 )\n",
        "res_pi"
      ],
      "metadata": {
        "colab": {
          "base_uri": "https://localhost:8080/"
        },
        "id": "4x3zzgqg2uV3",
        "outputId": "a963f215-06be-4c70-c413-4296d246fa84"
      },
      "execution_count": 21,
      "outputs": [
        {
          "output_type": "execute_result",
          "data": {
            "text/plain": [
              "{'importances_mean': array([0.06866185, 0.        , 0.        , 0.        , 0.0706358 ,\n",
              "        0.        , 0.        , 0.        , 0.        , 0.        ,\n",
              "        0.        , 0.10296477, 0.01028357, 0.01439004, 0.        ,\n",
              "        0.        , 0.        ]),\n",
              " 'importances_std': array([0.00143286, 0.        , 0.        , 0.        , 0.00101413,\n",
              "        0.        , 0.        , 0.        , 0.        , 0.        ,\n",
              "        0.        , 0.00147347, 0.00061742, 0.000672  , 0.        ,\n",
              "        0.        , 0.        ]),\n",
              " 'importances': array([[0.06862589, 0.07027037, 0.07018195, 0.0705356 , 0.06813078,\n",
              "         0.06551377, 0.06951002, 0.07027037, 0.07057097, 0.06867894,\n",
              "         0.06837834, 0.06920941, 0.0703411 , 0.06818383, 0.06889113,\n",
              "         0.06752957, 0.0705356 , 0.06940392, 0.06804237, 0.06645094,\n",
              "         0.07152583, 0.06788322, 0.0688204 , 0.06880272, 0.06710519,\n",
              "         0.06761799, 0.06638021, 0.06733507, 0.06724665, 0.06788322],\n",
              "        [0.        , 0.        , 0.        , 0.        , 0.        ,\n",
              "         0.        , 0.        , 0.        , 0.        , 0.        ,\n",
              "         0.        , 0.        , 0.        , 0.        , 0.        ,\n",
              "         0.        , 0.        , 0.        , 0.        , 0.        ,\n",
              "         0.        , 0.        , 0.        , 0.        , 0.        ,\n",
              "         0.        , 0.        , 0.        , 0.        , 0.        ],\n",
              "        [0.        , 0.        , 0.        , 0.        , 0.        ,\n",
              "         0.        , 0.        , 0.        , 0.        , 0.        ,\n",
              "         0.        , 0.        , 0.        , 0.        , 0.        ,\n",
              "         0.        , 0.        , 0.        , 0.        , 0.        ,\n",
              "         0.        , 0.        , 0.        , 0.        , 0.        ,\n",
              "         0.        , 0.        , 0.        , 0.        , 0.        ],\n",
              "        [0.        , 0.        , 0.        , 0.        , 0.        ,\n",
              "         0.        , 0.        , 0.        , 0.        , 0.        ,\n",
              "         0.        , 0.        , 0.        , 0.        , 0.        ,\n",
              "         0.        , 0.        , 0.        , 0.        , 0.        ,\n",
              "         0.        , 0.        , 0.        , 0.        , 0.        ,\n",
              "         0.        , 0.        , 0.        , 0.        , 0.        ],\n",
              "        [0.07152583, 0.07002281, 0.07085389, 0.07111913, 0.07140205,\n",
              "         0.07131363, 0.07095998, 0.07240995, 0.07140205, 0.0695277 ,\n",
              "         0.06820151, 0.07083621, 0.07179106, 0.07126059, 0.06975757,\n",
              "         0.07133132, 0.07011122, 0.06981062, 0.07136668, 0.07141973,\n",
              "         0.07163192, 0.07088925, 0.06827224, 0.06940392, 0.07081852,\n",
              "         0.0709423 , 0.07076548, 0.07085389, 0.07039414, 0.06867894],\n",
              "        [0.        , 0.        , 0.        , 0.        , 0.        ,\n",
              "         0.        , 0.        , 0.        , 0.        , 0.        ,\n",
              "         0.        , 0.        , 0.        , 0.        , 0.        ,\n",
              "         0.        , 0.        , 0.        , 0.        , 0.        ,\n",
              "         0.        , 0.        , 0.        , 0.        , 0.        ,\n",
              "         0.        , 0.        , 0.        , 0.        , 0.        ],\n",
              "        [0.        , 0.        , 0.        , 0.        , 0.        ,\n",
              "         0.        , 0.        , 0.        , 0.        , 0.        ,\n",
              "         0.        , 0.        , 0.        , 0.        , 0.        ,\n",
              "         0.        , 0.        , 0.        , 0.        , 0.        ,\n",
              "         0.        , 0.        , 0.        , 0.        , 0.        ,\n",
              "         0.        , 0.        , 0.        , 0.        , 0.        ],\n",
              "        [0.        , 0.        , 0.        , 0.        , 0.        ,\n",
              "         0.        , 0.        , 0.        , 0.        , 0.        ,\n",
              "         0.        , 0.        , 0.        , 0.        , 0.        ,\n",
              "         0.        , 0.        , 0.        , 0.        , 0.        ,\n",
              "         0.        , 0.        , 0.        , 0.        , 0.        ,\n",
              "         0.        , 0.        , 0.        , 0.        , 0.        ],\n",
              "        [0.        , 0.        , 0.        , 0.        , 0.        ,\n",
              "         0.        , 0.        , 0.        , 0.        , 0.        ,\n",
              "         0.        , 0.        , 0.        , 0.        , 0.        ,\n",
              "         0.        , 0.        , 0.        , 0.        , 0.        ,\n",
              "         0.        , 0.        , 0.        , 0.        , 0.        ,\n",
              "         0.        , 0.        , 0.        , 0.        , 0.        ],\n",
              "        [0.        , 0.        , 0.        , 0.        , 0.        ,\n",
              "         0.        , 0.        , 0.        , 0.        , 0.        ,\n",
              "         0.        , 0.        , 0.        , 0.        , 0.        ,\n",
              "         0.        , 0.        , 0.        , 0.        , 0.        ,\n",
              "         0.        , 0.        , 0.        , 0.        , 0.        ,\n",
              "         0.        , 0.        , 0.        , 0.        , 0.        ],\n",
              "        [0.        , 0.        , 0.        , 0.        , 0.        ,\n",
              "         0.        , 0.        , 0.        , 0.        , 0.        ,\n",
              "         0.        , 0.        , 0.        , 0.        , 0.        ,\n",
              "         0.        , 0.        , 0.        , 0.        , 0.        ,\n",
              "         0.        , 0.        , 0.        , 0.        , 0.        ,\n",
              "         0.        , 0.        , 0.        , 0.        , 0.        ],\n",
              "        [0.10098492, 0.10292999, 0.10117942, 0.10103796, 0.10492812,\n",
              "         0.10086114, 0.10538787, 0.10437996, 0.10034835, 0.10485739,\n",
              "         0.10358425, 0.10376107, 0.10261171, 0.10365498, 0.10496349,\n",
              "         0.10264707, 0.10277085, 0.10169222, 0.10305377, 0.10558237,\n",
              "         0.10077273, 0.10294768, 0.10206355, 0.10277085, 0.10270012,\n",
              "         0.10133857, 0.10367266, 0.10420314, 0.10468057, 0.10257634],\n",
              "        [0.01193571, 0.01046806, 0.01060952, 0.00938942, 0.01112231,\n",
              "         0.00976076, 0.00944247, 0.01025587, 0.01034428, 0.0098138 ,\n",
              "         0.01036196, 0.01096317, 0.01048574, 0.0094071 , 0.01078634,\n",
              "         0.00995526, 0.01013209, 0.00990222, 0.00988453, 0.0103266 ,\n",
              "         0.01115768, 0.00947783, 0.00954857, 0.00965466, 0.01064488,\n",
              "         0.00970771, 0.0109278 , 0.01069793, 0.01036196, 0.01098085],\n",
              "        [0.01464113, 0.01434053, 0.01423443, 0.01441126, 0.01398688,\n",
              "         0.01428748, 0.01488869, 0.01425212, 0.01464113, 0.01428748,\n",
              "         0.01499478, 0.01511856, 0.01554294, 0.01379237, 0.0149771 ,\n",
              "         0.01460577, 0.01280215, 0.0128552 , 0.01359786, 0.01368628,\n",
              "         0.01485332, 0.01469418, 0.01372164, 0.01453504, 0.01462345,\n",
              "         0.01342104, 0.01455272, 0.01573745, 0.01487101, 0.01474723],\n",
              "        [0.        , 0.        , 0.        , 0.        , 0.        ,\n",
              "         0.        , 0.        , 0.        , 0.        , 0.        ,\n",
              "         0.        , 0.        , 0.        , 0.        , 0.        ,\n",
              "         0.        , 0.        , 0.        , 0.        , 0.        ,\n",
              "         0.        , 0.        , 0.        , 0.        , 0.        ,\n",
              "         0.        , 0.        , 0.        , 0.        , 0.        ],\n",
              "        [0.        , 0.        , 0.        , 0.        , 0.        ,\n",
              "         0.        , 0.        , 0.        , 0.        , 0.        ,\n",
              "         0.        , 0.        , 0.        , 0.        , 0.        ,\n",
              "         0.        , 0.        , 0.        , 0.        , 0.        ,\n",
              "         0.        , 0.        , 0.        , 0.        , 0.        ,\n",
              "         0.        , 0.        , 0.        , 0.        , 0.        ],\n",
              "        [0.        , 0.        , 0.        , 0.        , 0.        ,\n",
              "         0.        , 0.        , 0.        , 0.        , 0.        ,\n",
              "         0.        , 0.        , 0.        , 0.        , 0.        ,\n",
              "         0.        , 0.        , 0.        , 0.        , 0.        ,\n",
              "         0.        , 0.        , 0.        , 0.        , 0.        ,\n",
              "         0.        , 0.        , 0.        , 0.        , 0.        ]])}"
            ]
          },
          "metadata": {},
          "execution_count": 21
        }
      ]
    },
    {
      "cell_type": "code",
      "source": [
        "sorted_idx = res_pi.importances_mean.argsort()\n",
        "\n",
        "fig, ax = plt.subplots()\n",
        "ax.boxplot(\n",
        "    res_pi.importances[sorted_idx].T, vert= False , labels=X_train.columns[sorted_idx]\n",
        ")\n",
        "ax.set_title( \"Importancias de la permutación\" )\n",
        "fig.tight_layout()\n",
        "plt.show()"
      ],
      "metadata": {
        "colab": {
          "base_uri": "https://localhost:8080/",
          "height": 487
        },
        "id": "s2LWlUmg3tDt",
        "outputId": "3c447fac-5971-44eb-ebaf-611e749de68c"
      },
      "execution_count": 33,
      "outputs": [
        {
          "output_type": "display_data",
          "data": {
            "text/plain": [
              "<Figure size 640x480 with 1 Axes>"
            ],
            "image/png": "[encoded data removed]"
          },
          "metadata": {}
        }
      ]
    },
    {
      "cell_type": "markdown",
      "source": [
        "**Respuesta:**\n",
        "\n",
        "Se mide la importancia de una característica calculando el aumento en el error de predicción del modelo después de permutar la característica. Por ejemplo se mantienen todas las columnas fijas, a excepción por la que se quiere estudiar ordenando de forma aleatoria sus elementos. Se considera una característica es \"importante\" si al mezclar sus valores aumenta el error del modelo. Por otro lado, se considera una característica es \"sin importancia\" si al mezclar sus valores deja no modifica el error del modelo.\n",
        "\n",
        "Los 5 valores más importantes, fueron los que tienen una mayor posibilidad de valores, por lo que es mucho más probable que estas afecten de mayor manera al ordenarse al azar, ya que es más dificil mantener el valor original. En cambio en la variables binarias, es mucho más posible repetir los valores, y aun más cuando existen clases desbalanceadas como lo es en este caso.\n",
        "\n",
        "En comparación al modelo anterior, este le da mayores importancias a aquellos valores que tienen una mayor gama de valores posibles, pero solo limitada a entender estos valores. En cambio la otra forma de análisis comprende ambas formas. De igual forma este método también deja visualizar como afectarían estas variables al modelo.\n",
        "\n",
        "**Ventajas:**\n",
        "\n",
        "- La medida de importancia tiene en cuenta automáticamente todas las interacciones con otras características. Por lo que es posible ver como interactuan las variables con el modelo.\n",
        "\n",
        "- La importancia de la función de permutación no requiere volver a entrenar el modelo, ya que al metodo solo le importa la variación de respuesta frente a un mismo modelo.\n",
        "\n",
        "- Tiene una fácil interpretabilidad, ya que al aumentar el error, es fácil darse cuenta cuales son las variables que afectan mayormente a la predicción.\n",
        "\n",
        "**Desventajas:**\n",
        "\n",
        "- Se necesita tener acceso a los valores reales de la clasificación, ya que de otra manera es imposible corroborar cuanto error es el que se le agrega al resultado.\n",
        "\n",
        "- Depende demasiado de la aleatoridad. Si bien en este caso se trata de estabilizar el error asociado repitiendo el proceso 30 veces, aumenta demasiado el costo computacional.\n",
        "\n",
        "- Cuando existen datos correlacionados y reales, puede generar situaciones improbables e inexistentes, los cual puede entorpecer aún más el análisis. Por ejemplo con esta aleatoreidad es posible que se cree un caso donde la altura de un individiu no corresponda con el peso (Caso extremo: 1.80m altura y 30 kg de peso)."
      ],
      "metadata": {
        "id": "v3H5LnvTUEOY"
      }
    },
    {
      "cell_type": "markdown",
      "source": [
        "[1] https://medium.com/the-modern-scientist/agnostic-explainable-artificial-intelligence-xai-f998309a0c09\n",
        "\n",
        "[2] https://christophm.github.io/interpretable-ml-book/feature-importance.html"
      ],
      "metadata": {
        "id": "1oKENBK04jbk"
      }
    },
    {
      "cell_type": "markdown",
      "metadata": {
        "cell_id": "bd24642fe85143b9bcdae0607e0bb2f6",
        "deepnote_cell_type": "markdown",
        "id": "n-wXEMOKhezl"
      },
      "source": [
        "## 5. Métodos Agnósticos Locales (2 pt)\n",
        "\n",
        "<p align=\"center\">\n",
        "  <img src=\"https://i.makeagif.com/media/1-27-2017/fBrzT8.mp4\" width=\"400\">\n",
        "</p>"
      ]
    },
    {
      "cell_type": "markdown",
      "metadata": {
        "cell_id": "feffba3234c9428abbc9f7db957c5b64",
        "deepnote_cell_type": "markdown",
        "id": "XlPeLTjVhezl"
      },
      "source": [
        "### Parte A (0.4 pt)"
      ]
    },
    {
      "cell_type": "markdown",
      "metadata": {
        "cell_id": "3dd06a63b4b045c1ab3e51ac01e0fbc0",
        "deepnote_cell_type": "markdown",
        "id": "ybTz0VQqhezm"
      },
      "source": [
        "Alegre por saber cómo funciona el modelo de predicción a nivel general, Dr. Simi le pide ahora interpretar las predicciones de su modelo a nivel de paciente (es decir, desde un punto de vista **local**). Para esto, el ilustre farmacéutico le pide calcular los *shap values* de su modelo. ¿Qué representa cada número en su resultado? ¿Es posible atribuir un significado a la positividad/negatividad de cada valor?"
      ]
    },
    {
      "cell_type": "code",
      "metadata": {
        "source_hash": "5d97bad",
        "execution_start": 1686925464848,
        "execution_millis": 7982,
        "deepnote_to_be_reexecuted": false,
        "cell_id": "dada61becc854fe4830665a1e1fcfb8b",
        "deepnote_cell_type": "code",
        "colab": {
          "base_uri": "https://localhost:8080/"
        },
        "id": "F6lHmVrOhezm",
        "outputId": "4c61b1ec-2da2-48b1-ede0-b7b9751f0fbb"
      },
      "source": [
        "!pip install shap"
      ],
      "execution_count": 38,
      "outputs": [
        {
          "output_type": "stream",
          "name": "stdout",
          "text": [
            "Collecting shap\n",
            "  Downloading shap-0.41.0-cp310-cp310-manylinux_2_12_x86_64.manylinux2010_x86_64.whl (572 kB)\n",
            "\u001b[?25l     \u001b[90m━━━━━━━━━━━━━━━━━━━━━━━━━━━━━━━━━━━━━━━━\u001b[0m \u001b[32m0.0/572.6 kB\u001b[0m \u001b[31m?\u001b[0m eta \u001b[36m-:--:--\u001b[0m\r\u001b[2K     \u001b[91m━━━━━━━━━━━━━━━\u001b[0m\u001b[90m╺\u001b[0m\u001b[90m━━━━━━━━━━━━━━━━━━━━━━━\u001b[0m \u001b[32m225.3/572.6 kB\u001b[0m \u001b[31m6.9 MB/s\u001b[0m eta \u001b[36m0:00:01\u001b[0m\r\u001b[2K     \u001b[90m━━━━━━━━━━━━━━━━━━━━━━━━━━━━━━━━━━━━━━━\u001b[0m \u001b[32m572.6/572.6 kB\u001b[0m \u001b[31m9.3 MB/s\u001b[0m eta \u001b[36m0:00:00\u001b[0m\n",
            "\u001b[?25hRequirement already satisfied: numpy in /usr/local/lib/python3.10/dist-packages (from shap) (1.22.4)\n",
            "Requirement already satisfied: scipy in /usr/local/lib/python3.10/dist-packages (from shap) (1.10.1)\n",
            "Requirement already satisfied: scikit-learn in /usr/local/lib/python3.10/dist-packages (from shap) (1.2.2)\n",
            "Requirement already satisfied: pandas in /usr/local/lib/python3.10/dist-packages (from shap) (1.5.3)\n",
            "Requirement already satisfied: tqdm>4.25.0 in /usr/local/lib/python3.10/dist-packages (from shap) (4.65.0)\n",
            "Requirement already satisfied: packaging>20.9 in /usr/local/lib/python3.10/dist-packages (from shap) (23.1)\n",
            "Collecting slicer==0.0.7 (from shap)\n",
            "  Downloading slicer-0.0.7-py3-none-any.whl (14 kB)\n",
            "Requirement already satisfied: numba in /usr/local/lib/python3.10/dist-packages (from shap) (0.56.4)\n",
            "Requirement already satisfied: cloudpickle in /usr/local/lib/python3.10/dist-packages (from shap) (2.2.1)\n",
            "Requirement already satisfied: llvmlite<0.40,>=0.39.0dev0 in /usr/local/lib/python3.10/dist-packages (from numba->shap) (0.39.1)\n",
            "Requirement already satisfied: setuptools in /usr/local/lib/python3.10/dist-packages (from numba->shap) (67.7.2)\n",
            "Requirement already satisfied: python-dateutil>=2.8.1 in /usr/local/lib/python3.10/dist-packages (from pandas->shap) (2.8.2)\n",
            "Requirement already satisfied: pytz>=2020.1 in /usr/local/lib/python3.10/dist-packages (from pandas->shap) (2022.7.1)\n",
            "Requirement already satisfied: joblib>=1.1.1 in /usr/local/lib/python3.10/dist-packages (from scikit-learn->shap) (1.2.0)\n",
            "Requirement already satisfied: threadpoolctl>=2.0.0 in /usr/local/lib/python3.10/dist-packages (from scikit-learn->shap) (3.1.0)\n",
            "Requirement already satisfied: six>=1.5 in /usr/local/lib/python3.10/dist-packages (from python-dateutil>=2.8.1->pandas->shap) (1.16.0)\n",
            "Installing collected packages: slicer, shap\n",
            "Successfully installed shap-0.41.0 slicer-0.0.7\n"
          ]
        }
      ]
    },
    {
      "cell_type": "code",
      "metadata": {
        "source_hash": "7220fd12",
        "execution_start": 1686884837621,
        "execution_millis": 2,
        "deepnote_to_be_reexecuted": false,
        "cell_id": "c2d01e18bb9946579275006ac63f29f8",
        "deepnote_cell_type": "code",
        "id": "QV1CtxMmhezm"
      },
      "source": [
        "import warnings\n",
        "import shap\n",
        "import pickle\n",
        "warnings.filterwarnings(\"ignore\", message=\".*The 'nopython' keyword.*\")"
      ],
      "execution_count": 84,
      "outputs": []
    },
    {
      "cell_type": "code",
      "source": [
        "# Se da por hecho y en su lugar se cargan los datos de pickle\n",
        "\n",
        "# explainer = shap.Explainer(pipeline.predict, X_test)\n",
        "# shap_values = explainer(X_test)\n",
        "\n",
        "# # Guardar los valores SHAP en un archivo\n",
        "# with open('shap_values.pkl', 'wb') as f:\n",
        "#     pickle.dump(shap_values, f)\n",
        "\n",
        "# Cargar los valores SHAP desde un archivo\n",
        "with open('shap_values.pkl', 'rb') as f:\n",
        "    shap_values = pickle.load(f)"
      ],
      "metadata": {
        "colab": {
          "base_uri": "https://localhost:8080/"
        },
        "id": "cDw79fLEd25w",
        "outputId": "fc5d5132-c526-44e4-92f1-b28fd150fc5e"
      },
      "execution_count": 50,
      "outputs": [
        {
          "output_type": "stream",
          "name": "stderr",
          "text": [
            "Permutation explainer: 14140it [44:56,  5.24it/s]\n"
          ]
        }
      ]
    },
    {
      "cell_type": "markdown",
      "source": [
        "Cada número en el resultado de los Shap values representa la contribución de una característica específica a la predicción del modelo para un ejemplo de entrada dado. Un valor positivo indica que la presencia o un valor más alto de esa característica aumenta la predicción del modelo, mientras que un valor negativo indica que la presencia o un valor más bajo de esa característica disminuye la predicción del modelo. El valor absoluto de un Shap value indica la importancia de la característica en la predicción."
      ],
      "metadata": {
        "id": "xfJSlLZLoo75"
      }
    },
    {
      "cell_type": "markdown",
      "metadata": {
        "cell_id": "ca1ccbeae2b2444d925329e0fd1c7bff",
        "deepnote_cell_type": "markdown",
        "id": "ysVhDkqNhezm"
      },
      "source": [
        "### Parte B (0.4 pt)"
      ]
    },
    {
      "cell_type": "markdown",
      "metadata": {
        "cell_id": "d1bd38afb30a418dad4d5229826459a3",
        "deepnote_cell_type": "markdown",
        "id": "SyX4umwVhezm"
      },
      "source": [
        "Usando los *shap values* calculados, grafique el **aporte** de las diferentes variables para las instancias **1**, **9** y **150**, interprete sus resultados y responda:\n",
        "- ¿Qué variables afectan de manera positiva/negativa a la probabilidad de poseer diabetes?\n",
        "- ¿Existe algún patrón común entre las instancias analizadas?\n",
        "- ¿Es posible generalizar estas conclusiones a todo el dataset?"
      ]
    },
    {
      "cell_type": "code",
      "source": [
        "instancias = [1, 9, 150]\n",
        "\n",
        "for i in instancias:\n",
        "  print(f\"Aporte de variables - Instancia {i}\")\n",
        "  shap.plots.bar(shap_values[i])"
      ],
      "metadata": {
        "colab": {
          "base_uri": "https://localhost:8080/",
          "height": 1000
        },
        "id": "tCPYx0s1p2cm",
        "outputId": "d74e57cc-1ab0-480d-ab5b-3196249a1a27"
      },
      "execution_count": 63,
      "outputs": [
        {
          "output_type": "stream",
          "name": "stdout",
          "text": [
            "Aporte de variables - Instancia 1\n"
          ]
        },
        {
          "output_type": "display_data",
          "data": {
            "text/plain": [
              "<Figure size 800x650 with 1 Axes>"
            ],
            "image/png": "[encoded data removed]"
          },
          "metadata": {}
        },
        {
          "output_type": "stream",
          "name": "stdout",
          "text": [
            "Aporte de variables - Instancia 9\n"
          ]
        },
        {
          "output_type": "display_data",
          "data": {
            "text/plain": [
              "<Figure size 800x650 with 1 Axes>"
            ],
            "image/png": "[encoded data removed]"
          },
          "metadata": {}
        },
        {
          "output_type": "stream",
          "name": "stdout",
          "text": [
            "Aporte de variables - Instancia 150\n"
          ]
        },
        {
          "output_type": "display_data",
          "data": {
            "text/plain": [
              "<Figure size 800x650 with 1 Axes>"
            ],
            "image/png": "[encoded data removed]"
          },
          "metadata": {}
        }
      ]
    },
    {
      "cell_type": "markdown",
      "metadata": {
        "cell_id": "717f41e3ccf143a483af4f350e510225",
        "deepnote_cell_type": "markdown",
        "id": "W8j3VgAwhezn"
      },
      "source": [
        "### Parte C (0.4 pt)"
      ]
    },
    {
      "cell_type": "markdown",
      "metadata": {
        "cell_id": "691dfe735fa644d5a8cac6e7053621ce",
        "deepnote_cell_type": "markdown",
        "id": "Joo7S6D7hezn"
      },
      "source": [
        "Genere ahora una visualización donde se grafique el aporte de cada feature a nivel **global** e interprete sus resultados. ¿Qué diferencias existen con las conclusiones generadas a nivel de instancia?"
      ]
    },
    {
      "cell_type": "code",
      "metadata": {
        "source_hash": "99e7a96a",
        "execution_start": 1686930956967,
        "execution_millis": 4,
        "deepnote_to_be_reexecuted": false,
        "cell_id": "54e88d349b7c476d82a95b977ce23fd4",
        "deepnote_cell_type": "code",
        "colab": {
          "base_uri": "https://localhost:8080/",
          "height": 585
        },
        "id": "egXRA9TLhezn",
        "outputId": "47eab3e9-3bcb-4413-8725-e93c9bcffb91"
      },
      "source": [
        "shap.plots.bar(shap_values)"
      ],
      "execution_count": 92,
      "outputs": [
        {
          "output_type": "display_data",
          "data": {
            "text/plain": [
              "<Figure size 800x650 with 1 Axes>"
            ],
            "image/png": "[encoded data removed]"
          },
          "metadata": {}
        }
      ]
    },
    {
      "cell_type": "markdown",
      "metadata": {
        "cell_id": "8c6e3e238a6c48719cd048ce9e5201d5",
        "deepnote_cell_type": "markdown",
        "id": "2cMcuQPbhezn"
      },
      "source": [
        "### Parte D (0.4 pt)"
      ]
    },
    {
      "cell_type": "markdown",
      "metadata": {
        "cell_id": "4cfe79b39ac646658225180063391369",
        "deepnote_cell_type": "markdown",
        "id": "Df-8mO_bhezn"
      },
      "source": [
        "Grafique ahora un *scatterplot* entre los *shap values* y las primeras 5 features con mayor impacto global (un gráfico por cada feature), coloreando cada punto por la probabilidad de tener diabetes. ¿Qué puede concluir de sus resultados?"
      ]
    },
    {
      "cell_type": "markdown",
      "metadata": {
        "cell_id": "4204ce61132f4a91b465bd1324668ec4",
        "deepnote_cell_type": "markdown",
        "id": "YHd6oBSAhezn"
      },
      "source": [
        "### Parte E (0.4 pt)"
      ]
    },
    {
      "cell_type": "markdown",
      "metadata": {
        "cell_id": "6b8d9852882144569a4f663594bed705",
        "deepnote_cell_type": "markdown",
        "id": "UUgERpKWhezo"
      },
      "source": [
        "Finalmente, se le pide generar un gráfico del tipo **Partial Dependence Plot** para las mismas 5 variables con mayor impacto global usando una submuestra de **1000 observaciones**. ¿Qué relación existe entre la salida promedio del modelo y cada feature analizada? ¿Son estas conclusiones generalizables para todo el conjunto de datos?"
      ]
    },
    {
      "cell_type": "code",
      "metadata": {
        "source_hash": "4e0f176b",
        "execution_start": 1686930977674,
        "execution_millis": 4,
        "deepnote_to_be_reexecuted": false,
        "cell_id": "fe7a7b2e6f664d129fee9f64dd57f6bd",
        "deepnote_cell_type": "code",
        "id": "mhp8iuB5hezo"
      },
      "source": [
        "# Inserte código para generar gráficos PDP aquí"
      ],
      "execution_count": null,
      "outputs": []
    },
    {
      "cell_type": "markdown",
      "metadata": {
        "id": "i4tFPrFA4_O5",
        "cell_id": "22e4da384e83491e8e7c8dc9b875ad6b",
        "deepnote_cell_type": "markdown"
      },
      "source": [
        "## 6. Sistema de Reglas! (1 pt)\n",
        "\n",
        "<p align=\"center\">\n",
        "  <img src=\"https://media.baamboozle.com/uploads/images/125978/1638281150_1380186_gif-url.gif\" width=\"400\">\n",
        "</p>"
      ]
    },
    {
      "cell_type": "markdown",
      "metadata": {
        "id": "f_4NF0_V5XZ-",
        "cell_id": "cbf4bdc66df14a948ee275be86501d4a",
        "deepnote_cell_type": "markdown"
      },
      "source": [
        "Después de todo el trabajo hecho, Dr. Simi le pide simplificar el funcionamiento de su modelo en un sistema de reglas que le permita explicar a sus clientes las predicciones que genera su modelo. En particular, Dr. Simi le pide explicar la decisión tomada para las observaciones **1000**, **3001** y **5751**. Con las reglas propuestas señale a **cuánta población** es posible explicar con estas reglas e indique la **precisión** que poseen las reglas en la totalidad de los datos. ¿Tienen sentido sus reglas propuestas para las observaciones?. Fundamente sus respuesta señalando el impacto que tienen sus reglas sobre todo el conjunto de datos."
      ]
    },
    {
      "cell_type": "code",
      "metadata": {
        "tags": [],
        "source_hash": "e7a6b6c4",
        "execution_start": 1686885552805,
        "execution_millis": 21693,
        "deepnote_to_be_reexecuted": false,
        "cell_id": "9e3327e11a104dd5917f594a5e10baee",
        "deepnote_cell_type": "code",
        "id": "oaLQAmXChezs",
        "outputId": "8ef414ae-caf4-414f-cde3-18cc752f60ce"
      },
      "source": [
        "!pip install alibi"
      ],
      "execution_count": null,
      "outputs": [
        {
          "name": "stdout",
          "text": "Collecting alibi\n  Downloading alibi-0.9.2-py3-none-any.whl (524 kB)\n\u001b[2K     \u001b[90m━━━━━━━━━━━━━━━━━━━━━━━━━━━━━━━━━━━━━━\u001b[0m \u001b[32m524.2/524.2 kB\u001b[0m \u001b[31m29.8 MB/s\u001b[0m eta \u001b[36m0:00:00\u001b[0m\n\u001b[?25hRequirement already satisfied: spacy[lookups]<4.0.0,>=2.0.0 in /shared-libs/python3.10/py/lib/python3.10/site-packages (from alibi) (3.4.2)\nRequirement already satisfied: scipy<2.0.0,>=1.1.0 in /shared-libs/python3.10/py/lib/python3.10/site-packages (from alibi) (1.9.3)\nCollecting scikit-image<0.21,>=0.17.2\n  Downloading scikit_image-0.20.0-cp310-cp310-manylinux_2_17_x86_64.manylinux2014_x86_64.whl (13.2 MB)\n\u001b[2K     \u001b[90m━━━━━━━━━━━━━━━━━━━━━━━━━━━━━━━━━━━━━━━━\u001b[0m \u001b[32m13.2/13.2 MB\u001b[0m \u001b[31m67.8 MB/s\u001b[0m eta \u001b[36m0:00:00\u001b[0m\n\u001b[?25hRequirement already satisfied: blis<0.8.0 in /shared-libs/python3.10/py/lib/python3.10/site-packages (from alibi) (0.7.9)\nRequirement already satisfied: tqdm<5.0.0,>=4.28.1 in /shared-libs/python3.10/py/lib/python3.10/site-packages (from alibi) (4.64.1)\nRequirement already satisfied: Pillow<10.0,>=5.4.1 in /shared-libs/python3.10/py/lib/python3.10/site-packages (from alibi) (9.2.0)\nRequirement already satisfied: typing-extensions>=3.7.4.3 in /shared-libs/python3.10/py/lib/python3.10/site-packages (from alibi) (4.4.0)\nRequirement already satisfied: dill<0.4.0,>=0.3.0 in /shared-libs/python3.10/py/lib/python3.10/site-packages (from alibi) (0.3.5.1)\nRequirement already satisfied: requests<3.0.0,>=2.21.0 in /shared-libs/python3.10/py/lib/python3.10/site-packages (from alibi) (2.28.1)\nRequirement already satisfied: matplotlib<4.0.0,>=3.0.0 in /shared-libs/python3.10/py/lib/python3.10/site-packages (from alibi) (3.6.0)\nRequirement already satisfied: pandas<3.0.0,>=1.0.0 in /shared-libs/python3.10/py/lib/python3.10/site-packages (from alibi) (1.2.5)\nRequirement already satisfied: scikit-learn<2.0.0,>=1.0.0 in /shared-libs/python3.10/py/lib/python3.10/site-packages (from alibi) (1.1.2)\nRequirement already satisfied: numpy<2.0.0,>=1.16.2 in /shared-libs/python3.10/py/lib/python3.10/site-packages (from alibi) (1.23.4)\nCollecting transformers<5.0.0,>=4.7.0\n  Downloading transformers-4.30.2-py3-none-any.whl (7.2 MB)\n\u001b[2K     \u001b[90m━━━━━━━━━━━━━━━━━━━━━━━━━━━━━━━━━━━━━━━━\u001b[0m \u001b[32m7.2/7.2 MB\u001b[0m \u001b[31m85.6 MB/s\u001b[0m eta \u001b[36m0:00:00\u001b[0m\n\u001b[?25hRequirement already satisfied: attrs<24.0.0,>=19.2.0 in /shared-libs/python3.10/py-core/lib/python3.10/site-packages (from alibi) (22.1.0)\nRequirement already satisfied: fonttools>=4.22.0 in /shared-libs/python3.10/py/lib/python3.10/site-packages (from matplotlib<4.0.0,>=3.0.0->alibi) (4.37.4)\nRequirement already satisfied: kiwisolver>=1.0.1 in /shared-libs/python3.10/py/lib/python3.10/site-packages (from matplotlib<4.0.0,>=3.0.0->alibi) (1.4.4)\nRequirement already satisfied: cycler>=0.10 in /shared-libs/python3.10/py/lib/python3.10/site-packages (from matplotlib<4.0.0,>=3.0.0->alibi) (0.11.0)\nRequirement already satisfied: pyparsing>=2.2.1 in /shared-libs/python3.10/py-core/lib/python3.10/site-packages (from matplotlib<4.0.0,>=3.0.0->alibi) (3.0.9)\nRequirement already satisfied: contourpy>=1.0.1 in /shared-libs/python3.10/py/lib/python3.10/site-packages (from matplotlib<4.0.0,>=3.0.0->alibi) (1.0.5)\nRequirement already satisfied: packaging>=20.0 in /shared-libs/python3.10/py-core/lib/python3.10/site-packages (from matplotlib<4.0.0,>=3.0.0->alibi) (21.3)\nRequirement already satisfied: python-dateutil>=2.7 in /shared-libs/python3.10/py-core/lib/python3.10/site-packages (from matplotlib<4.0.0,>=3.0.0->alibi) (2.8.2)\nRequirement already satisfied: pytz>=2017.3 in /shared-libs/python3.10/py/lib/python3.10/site-packages (from pandas<3.0.0,>=1.0.0->alibi) (2022.5)\nRequirement already satisfied: idna<4,>=2.5 in /shared-libs/python3.10/py-core/lib/python3.10/site-packages (from requests<3.0.0,>=2.21.0->alibi) (3.4)\nRequirement already satisfied: charset-normalizer<3,>=2 in /shared-libs/python3.10/py-core/lib/python3.10/site-packages (from requests<3.0.0,>=2.21.0->alibi) (2.1.1)\nRequirement already satisfied: urllib3<1.27,>=1.21.1 in /shared-libs/python3.10/py/lib/python3.10/site-packages (from requests<3.0.0,>=2.21.0->alibi) (1.26.12)\nRequirement already satisfied: certifi>=2017.4.17 in /shared-libs/python3.10/py/lib/python3.10/site-packages (from requests<3.0.0,>=2.21.0->alibi) (2022.9.24)\nCollecting imageio>=2.4.1\n  Downloading imageio-2.31.1-py3-none-any.whl (313 kB)\n\u001b[2K     \u001b[90m━━━━━━━━━━━━━━━━━━━━━━━━━━━━━━━━━━━━━━\u001b[0m \u001b[32m313.2/313.2 kB\u001b[0m \u001b[31m50.2 MB/s\u001b[0m eta \u001b[36m0:00:00\u001b[0m\n\u001b[?25hCollecting tifffile>=2019.7.26\n  Downloading tifffile-2023.4.12-py3-none-any.whl (219 kB)\n\u001b[2K     \u001b[90m━━━━━━━━━━━━━━━━━━━━━━━━━━━━━━━━━━━━━━\u001b[0m \u001b[32m219.4/219.4 kB\u001b[0m \u001b[31m33.7 MB/s\u001b[0m eta \u001b[36m0:00:00\u001b[0m\n\u001b[?25hCollecting lazy_loader>=0.1\n  Downloading lazy_loader-0.2-py3-none-any.whl (8.6 kB)\nCollecting networkx>=2.8\n  Downloading networkx-3.1-py3-none-any.whl (2.1 MB)\n\u001b[2K     \u001b[90m━━━━━━━━━━━━━━━━━━━━━━━━━━━━━━━━━━━━━━━━\u001b[0m \u001b[32m2.1/2.1 MB\u001b[0m \u001b[31m84.5 MB/s\u001b[0m eta \u001b[36m0:00:00\u001b[0m\n\u001b[?25hCollecting PyWavelets>=1.1.1\n  Downloading PyWavelets-1.4.1-cp310-cp310-manylinux_2_17_x86_64.manylinux2014_x86_64.whl (6.8 MB)\n\u001b[2K     \u001b[90m━━━━━━━━━━━━━━━━━━━━━━━━━━━━━━━━━━━━━━━━\u001b[0m \u001b[32m6.8/6.8 MB\u001b[0m \u001b[31m91.2 MB/s\u001b[0m eta \u001b[36m0:00:00\u001b[0m\n\u001b[?25hRequirement already satisfied: threadpoolctl>=2.0.0 in /shared-libs/python3.10/py/lib/python3.10/site-packages (from scikit-learn<2.0.0,>=1.0.0->alibi) (3.1.0)\nRequirement already satisfied: joblib>=1.0.0 in /shared-libs/python3.10/py/lib/python3.10/site-packages (from scikit-learn<2.0.0,>=1.0.0->alibi) (1.2.0)\nRequirement already satisfied: preshed<3.1.0,>=3.0.2 in /shared-libs/python3.10/py/lib/python3.10/site-packages (from spacy[lookups]<4.0.0,>=2.0.0->alibi) (3.0.8)\nRequirement already satisfied: catalogue<2.1.0,>=2.0.6 in /shared-libs/python3.10/py/lib/python3.10/site-packages (from spacy[lookups]<4.0.0,>=2.0.0->alibi) (2.0.8)\nRequirement already satisfied: spacy-legacy<3.1.0,>=3.0.10 in /shared-libs/python3.10/py/lib/python3.10/site-packages (from spacy[lookups]<4.0.0,>=2.0.0->alibi) (3.0.10)\nRequirement already satisfied: langcodes<4.0.0,>=3.2.0 in /shared-libs/python3.10/py/lib/python3.10/site-packages (from spacy[lookups]<4.0.0,>=2.0.0->alibi) (3.3.0)\nRequirement already satisfied: wasabi<1.1.0,>=0.9.1 in /shared-libs/python3.10/py/lib/python3.10/site-packages (from spacy[lookups]<4.0.0,>=2.0.0->alibi) (0.10.1)\nRequirement already satisfied: thinc<8.2.0,>=8.1.0 in /shared-libs/python3.10/py/lib/python3.10/site-packages (from spacy[lookups]<4.0.0,>=2.0.0->alibi) (8.1.5)\nRequirement already satisfied: srsly<3.0.0,>=2.4.3 in /shared-libs/python3.10/py/lib/python3.10/site-packages (from spacy[lookups]<4.0.0,>=2.0.0->alibi) (2.4.5)\nRequirement already satisfied: murmurhash<1.1.0,>=0.28.0 in /shared-libs/python3.10/py/lib/python3.10/site-packages (from spacy[lookups]<4.0.0,>=2.0.0->alibi) (1.0.9)\nRequirement already satisfied: pathy>=0.3.5 in /shared-libs/python3.10/py/lib/python3.10/site-packages (from spacy[lookups]<4.0.0,>=2.0.0->alibi) (0.6.2)\nRequirement already satisfied: spacy-loggers<2.0.0,>=1.0.0 in /shared-libs/python3.10/py/lib/python3.10/site-packages (from spacy[lookups]<4.0.0,>=2.0.0->alibi) (1.0.3)\nRequirement already satisfied: pydantic!=1.8,!=1.8.1,<1.11.0,>=1.7.4 in /shared-libs/python3.10/py/lib/python3.10/site-packages (from spacy[lookups]<4.0.0,>=2.0.0->alibi) (1.10.2)\nRequirement already satisfied: typer<0.5.0,>=0.3.0 in /shared-libs/python3.10/py/lib/python3.10/site-packages (from spacy[lookups]<4.0.0,>=2.0.0->alibi) (0.4.2)\nRequirement already satisfied: setuptools in /root/venv/lib/python3.10/site-packages (from spacy[lookups]<4.0.0,>=2.0.0->alibi) (65.5.0)\nRequirement already satisfied: cymem<2.1.0,>=2.0.2 in /shared-libs/python3.10/py/lib/python3.10/site-packages (from spacy[lookups]<4.0.0,>=2.0.0->alibi) (2.0.7)\nRequirement already satisfied: jinja2 in /shared-libs/python3.10/py-core/lib/python3.10/site-packages (from spacy[lookups]<4.0.0,>=2.0.0->alibi) (2.11.3)\nCollecting spacy-lookups-data<1.1.0,>=1.0.3\n  Downloading spacy_lookups_data-1.0.3-py2.py3-none-any.whl (98.5 MB)\n\u001b[2K     \u001b[90m━━━━━━━━━━━━━━━━━━━━━━━━━━━━━━━━━━━━━━━━\u001b[0m \u001b[32m98.5/98.5 MB\u001b[0m \u001b[31m19.9 MB/s\u001b[0m eta \u001b[36m0:00:00\u001b[0m\n\u001b[?25hRequirement already satisfied: filelock in /shared-libs/python3.10/py/lib/python3.10/site-packages (from transformers<5.0.0,>=4.7.0->alibi) (3.8.0)\nCollecting safetensors>=0.3.1\n  Downloading safetensors-0.3.1-cp310-cp310-manylinux_2_17_x86_64.manylinux2014_x86_64.whl (1.3 MB)\n\u001b[2K     \u001b[90m━━━━━━━━━━━━━━━━━━━━━━━━━━━━━━━━━━━━━━━━\u001b[0m \u001b[32m1.3/1.3 MB\u001b[0m \u001b[31m81.0 MB/s\u001b[0m eta \u001b[36m0:00:00\u001b[0m\n\u001b[?25hCollecting pyyaml>=5.1\n  Downloading PyYAML-6.0-cp310-cp310-manylinux_2_5_x86_64.manylinux1_x86_64.manylinux_2_12_x86_64.manylinux2010_x86_64.whl (682 kB)\n\u001b[2K     \u001b[90m━━━━━━━━━━━━━━━━━━━━━━━━━━━━━━━━━━━━━━\u001b[0m \u001b[32m682.2/682.2 kB\u001b[0m \u001b[31m65.4 MB/s\u001b[0m eta \u001b[36m0:00:00\u001b[0m\n\u001b[?25hCollecting tokenizers!=0.11.3,<0.14,>=0.11.1\n  Downloading tokenizers-0.13.3-cp310-cp310-manylinux_2_17_x86_64.manylinux2014_x86_64.whl (7.8 MB)\n\u001b[2K     \u001b[90m━━━━━━━━━━━━━━━━━━━━━━━━━━━━━━━━━━━━━━━━\u001b[0m \u001b[32m7.8/7.8 MB\u001b[0m \u001b[31m82.6 MB/s\u001b[0m eta \u001b[36m0:00:00\u001b[0m\n\u001b[?25hCollecting huggingface-hub<1.0,>=0.14.1\n  Downloading huggingface_hub-0.15.1-py3-none-any.whl (236 kB)\n\u001b[2K     \u001b[90m━━━━━━━━━━━━━━━━━━━━━━━━━━━━━━━━━━━━━━\u001b[0m \u001b[32m236.8/236.8 kB\u001b[0m \u001b[31m42.5 MB/s\u001b[0m eta \u001b[36m0:00:00\u001b[0m\n\u001b[?25hRequirement already satisfied: regex!=2019.12.17 in /shared-libs/python3.10/py/lib/python3.10/site-packages (from transformers<5.0.0,>=4.7.0->alibi) (2022.9.13)\nCollecting fsspec\n  Downloading fsspec-2023.6.0-py3-none-any.whl (163 kB)\n\u001b[2K     \u001b[90m━━━━━━━━━━━━━━━━━━━━━━━━━━━━━━━━━━━━━━\u001b[0m \u001b[32m163.8/163.8 kB\u001b[0m \u001b[31m33.5 MB/s\u001b[0m eta \u001b[36m0:00:00\u001b[0m\n\u001b[?25hRequirement already satisfied: smart-open<6.0.0,>=5.2.1 in /shared-libs/python3.10/py/lib/python3.10/site-packages (from pathy>=0.3.5->spacy[lookups]<4.0.0,>=2.0.0->alibi) (5.2.1)\nRequirement already satisfied: six>=1.5 in /shared-libs/python3.10/py-core/lib/python3.10/site-packages (from python-dateutil>=2.7->matplotlib<4.0.0,>=3.0.0->alibi) (1.16.0)\nRequirement already satisfied: confection<1.0.0,>=0.0.1 in /shared-libs/python3.10/py/lib/python3.10/site-packages (from thinc<8.2.0,>=8.1.0->spacy[lookups]<4.0.0,>=2.0.0->alibi) (0.0.3)\nRequirement already satisfied: click<9.0.0,>=7.1.1 in /shared-libs/python3.10/py/lib/python3.10/site-packages (from typer<0.5.0,>=0.3.0->spacy[lookups]<4.0.0,>=2.0.0->alibi) (8.1.3)\nRequirement already satisfied: MarkupSafe>=0.23 in /shared-libs/python3.10/py-core/lib/python3.10/site-packages (from jinja2->spacy[lookups]<4.0.0,>=2.0.0->alibi) (2.0.0)\nInstalling collected packages: tokenizers, safetensors, tifffile, spacy-lookups-data, pyyaml, PyWavelets, networkx, lazy_loader, imageio, fsspec, scikit-image, huggingface-hub, transformers, alibi\nSuccessfully installed PyWavelets-1.4.1 alibi-0.9.2 fsspec-2023.6.0 huggingface-hub-0.15.1 imageio-2.31.1 lazy_loader-0.2 networkx-3.1 pyyaml-6.0 safetensors-0.3.1 scikit-image-0.20.0 spacy-lookups-data-1.0.3 tifffile-2023.4.12 tokenizers-0.13.3 transformers-4.30.2\n\n\u001b[1m[\u001b[0m\u001b[34;49mnotice\u001b[0m\u001b[1;39;49m]\u001b[0m\u001b[39;49m A new release of pip is available: \u001b[0m\u001b[31;49m23.0.1\u001b[0m\u001b[39;49m -> \u001b[0m\u001b[32;49m23.1.2\u001b[0m\n\u001b[1m[\u001b[0m\u001b[34;49mnotice\u001b[0m\u001b[1;39;49m]\u001b[0m\u001b[39;49m To update, run: \u001b[0m\u001b[32;49mpip install --upgrade pip\u001b[0m\n",
          "output_type": "stream"
        }
      ]
    },
    {
      "cell_type": "code",
      "metadata": {
        "source_hash": "e4ec2c4b",
        "execution_start": 1686885694481,
        "execution_millis": 10473,
        "deepnote_to_be_reexecuted": false,
        "cell_id": "bb38bb05376b429297fb0b3618fec6d4",
        "deepnote_cell_type": "code",
        "id": "b61cFOfdhezt",
        "outputId": "ca20124c-6021-4621-cdd2-97dcfccb25a5"
      },
      "source": [
        "from alibi.explainers import AnchorTabular"
      ],
      "execution_count": null,
      "outputs": [
        {
          "name": "stderr",
          "text": "2023-06-16 03:21:35.062920: I tensorflow/core/platform/cpu_feature_guard.cc:193] This TensorFlow binary is optimized with oneAPI Deep Neural Network Library (oneDNN) to use the following CPU instructions in performance-critical operations:  AVX2 FMA\nTo enable them in other operations, rebuild TensorFlow with the appropriate compiler flags.\n2023-06-16 03:21:35.266905: W tensorflow/stream_executor/platform/default/dso_loader.cc:64] Could not load dynamic library 'libcudart.so.11.0'; dlerror: libcudart.so.11.0: cannot open shared object file: No such file or directory\n2023-06-16 03:21:35.266966: I tensorflow/stream_executor/cuda/cudart_stub.cc:29] Ignore above cudart dlerror if you do not have a GPU set up on your machine.\n2023-06-16 03:21:35.308521: E tensorflow/stream_executor/cuda/cuda_blas.cc:2981] Unable to register cuBLAS factory: Attempting to register factory for plugin cuBLAS when one has already been registered\n2023-06-16 03:21:38.061257: W tensorflow/stream_executor/platform/default/dso_loader.cc:64] Could not load dynamic library 'libnvinfer.so.7'; dlerror: libnvinfer.so.7: cannot open shared object file: No such file or directory\n2023-06-16 03:21:38.061396: W tensorflow/stream_executor/platform/default/dso_loader.cc:64] Could not load dynamic library 'libnvinfer_plugin.so.7'; dlerror: libnvinfer_plugin.so.7: cannot open shared object file: No such file or directory\n2023-06-16 03:21:38.061411: W tensorflow/compiler/tf2tensorrt/utils/py_utils.cc:38] TF-TRT Warning: Cannot dlopen some TensorRT libraries. If you would like to use Nvidia GPU with TensorRT, please make sure the missing libraries mentioned above are installed properly.\n2023-06-16 03:21:42.469713: W tensorflow/stream_executor/platform/default/dso_loader.cc:64] Could not load dynamic library 'libcuda.so.1'; dlerror: libcuda.so.1: cannot open shared object file: No such file or directory\n2023-06-16 03:21:42.469773: W tensorflow/stream_executor/cuda/cuda_driver.cc:263] failed call to cuInit: UNKNOWN ERROR (303)\n2023-06-16 03:21:42.469814: I tensorflow/stream_executor/cuda/cuda_diagnostics.cc:156] kernel driver does not appear to be running on this host (p-87110296-876e-426f-b91d-aaf681223468): /proc/driver/nvidia/version does not exist\n",
          "output_type": "stream"
        }
      ]
    },
    {
      "cell_type": "code",
      "metadata": {
        "source_hash": "51992da3",
        "execution_start": 1686931515362,
        "execution_millis": 76,
        "deepnote_to_be_reexecuted": false,
        "cell_id": "c51b7d6bfea74288b77cb73ba8c86978",
        "deepnote_cell_type": "code",
        "id": "vauZmjM9hezt"
      },
      "source": [
        "# Inserte su código para generar sistema de reglas aquí\n",
        "\n",
        "idx = 1000\n",
        "# explicar predicción idx 1000\n",
        "\n",
        "idx = 3001\n",
        "# explicar predicción idx 3001\n",
        "\n",
        "idx = 5751\n",
        "# explicar predicción idx 5751"
      ],
      "execution_count": null,
      "outputs": []
    },
    {
      "cell_type": "markdown",
      "metadata": {
        "cell_id": "b358083895d844bbafee6969082e98db",
        "deepnote_cell_type": "markdown",
        "id": "SNpKP6Ubhezt"
      },
      "source": [
        "# Retrospectiva... (1 pt)"
      ]
    },
    {
      "cell_type": "markdown",
      "metadata": {
        "cell_id": "1db767e048bd4bf2bc86d9c49acc0c36",
        "deepnote_cell_type": "markdown",
        "id": "HWTv3hcWhezt"
      },
      "source": [
        "En base a los diferentes métodos que implementa y ha comentado en este laboratorio, comente qué métodos le permiten entregar mejores conclusiones para la tarea de clasificación de diabetes. Por otro lado, ¿qué métodos son más útiles para el problema del doctor Simi, métodos agnosticos locales o globales?"
      ]
    },
    {
      "cell_type": "markdown",
      "metadata": {
        "cell_id": "c841a2af491648f591108c7483afc66f",
        "deepnote_cell_type": "markdown",
        "id": "gjvuQXAmhezt"
      },
      "source": [
        "> Fundamente su Respuesta aquí"
      ]
    },
    {
      "cell_type": "markdown",
      "metadata": {
        "cell_id": "ad6f278e9e12463dbdde6a009cd0b97a",
        "deepnote_cell_type": "markdown",
        "id": "gP1zKR8Yhezt"
      },
      "source": [
        "# Conclusión\n",
        "Eso ha sido todo para el lab de hoy, recuerden que el laboratorio tiene un plazo de entrega de una semana. Cualquier duda del laboratorio, no duden en contactarnos por mail o U-cursos.\n",
        "\n",
        "![Gracias Totales!](https://media.tenor.com/ctnq4bhZE3gAAAAC/drsimi-simi.gif)"
      ]
    },
    {
      "cell_type": "markdown",
      "source": [
        "<a style='text-decoration:none;line-height:16px;display:flex;color:#5B5B62;padding:10px;justify-content:end;' href='https://deepnote.com?utm_source=created-in-deepnote-cell&projectId=87110296-876e-426f-b91d-aaf681223468' target=\"_blank\">\n",
        "<img alt='Created in deepnote.com' style='display:inline;max-height:16px;margin:0px;margin-right:7.5px;' src='data:image/svg+xml;base64,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' > </img>\n",
        "Created in <span style='font-weight:600;margin-left:4px;'>Deepnote</span></a>"
      ],
      "metadata": {
        "created_in_deepnote_cell": true,
        "deepnote_cell_type": "markdown",
        "id": "Y-_lD6lDhezu"
      }
    }
  ],
  "nbformat": 4,
  "nbformat_minor": 0,
  "metadata": {
    "toc": {
      "sideBar": true,
      "nav_menu": {},
      "toc_cell": false,
      "title_cell": "Tabla de Contenidos",
      "toc_position": {
        "top": "150px",
        "left": "10px",
        "width": "241.867px",
        "height": "calc(100% - 180px)"
      },
      "skip_h1_title": true,
      "title_sidebar": "Contenidos",
      "base_numbering": 1,
      "number_sections": true,
      "toc_window_display": true,
      "toc_section_display": true
    },
    "colab": {
      "provenance": [],
      "collapsed_sections": [
        "LCOUC4jss148",
        "GtG74Cphq56p"
      ]
    },
    "deepnote": {},
    "kernelspec": {
      "name": "python3",
      "language": "python",
      "display_name": "Python 3"
    },
    "varInspector": {
      "cols": {
        "lenVar": 40,
        "lenName": 16,
        "lenType": 16
      },
      "kernels_config": {
        "r": {
          "library": "var_list.r",
          "varRefreshCmd": "cat(var_dic_list()) ",
          "delete_cmd_prefix": "rm(",
          "delete_cmd_postfix": ") "
        },
        "python": {
          "library": "var_list.py",
          "varRefreshCmd": "print(var_dic_list())",
          "delete_cmd_prefix": "del ",
          "delete_cmd_postfix": ""
        }
      },
      "window_display": false,
      "types_to_exclude": [
        "module",
        "function",
        "builtin_function_or_method",
        "instance",
        "_Feature"
      ]
    },
    "language_info": {
      "name": "python",
      "version": "3.8.3",
      "mimetype": "text/x-python",
      "file_extension": ".py",
      "pygments_lexer": "ipython3",
      "codemirror_mode": {
        "name": "ipython",
        "version": 3
      },
      "nbconvert_exporter": "python"
    },
    "deepnote_notebook_id": "0afd011ae5da4596ac4144fb27adc429",
    "deepnote_execution_queue": [],
    "deepnote_persisted_session": {
      "createdAt": "2023-06-16T16:30:21.663Z"
    },
    "widgets": {
      "application/vnd.jupyter.widget-state+json": {
        "dc13e0157d5a4e5db758f0362c8742ab": {
          "model_module": "@jupyter-widgets/controls",
          "model_name": "HBoxModel",
          "model_module_version": "1.5.0",
          "state": {
            "_dom_classes": [],
            "_model_module": "@jupyter-widgets/controls",
            "_model_module_version": "1.5.0",
            "_model_name": "HBoxModel",
            "_view_count": null,
            "_view_module": "@jupyter-widgets/controls",
            "_view_module_version": "1.5.0",
            "_view_name": "HBoxView",
            "box_style": "",
            "children": [
              "IPY_MODEL_a785fad508c04b4489d6169d86ab1801",
              "IPY_MODEL_3bb5125b1a86499d848054e456b575a7",
              "IPY_MODEL_8439a7abc79248848b6a56220e72bf37"
            ],
            "layout": "IPY_MODEL_8d5518ba875b432095a1c10cac7bc274"
          }
        },
        "a785fad508c04b4489d6169d86ab1801": {
          "model_module": "@jupyter-widgets/controls",
          "model_name": "HTMLModel",
          "model_module_version": "1.5.0",
          "state": {
            "_dom_classes": [],
            "_model_module": "@jupyter-widgets/controls",
            "_model_module_version": "1.5.0",
            "_model_name": "HTMLModel",
            "_view_count": null,
            "_view_module": "@jupyter-widgets/controls",
            "_view_module_version": "1.5.0",
            "_view_name": "HTMLView",
            "description": "",
            "description_tooltip": null,
            "layout": "IPY_MODEL_b0148827a0e74e8b9796827232b1b6c2",
            "placeholder": "​",
            "style": "IPY_MODEL_3515e2997ae449b2a48ad1259445613b",
            "value": "Summarize dataset: 100%"
          }
        },
        "3bb5125b1a86499d848054e456b575a7": {
          "model_module": "@jupyter-widgets/controls",
          "model_name": "FloatProgressModel",
          "model_module_version": "1.5.0",
          "state": {
            "_dom_classes": [],
            "_model_module": "@jupyter-widgets/controls",
            "_model_module_version": "1.5.0",
            "_model_name": "FloatProgressModel",
            "_view_count": null,
            "_view_module": "@jupyter-widgets/controls",
            "_view_module_version": "1.5.0",
            "_view_name": "ProgressView",
            "bar_style": "success",
            "description": "",
            "description_tooltip": null,
            "layout": "IPY_MODEL_9647642a4523488a8090a4d063304112",
            "max": 5,
            "min": 0,
            "orientation": "horizontal",
            "style": "IPY_MODEL_eb6cb9545d6e4dc3945b6e82ea145426",
            "value": 5
          }
        },
        "8439a7abc79248848b6a56220e72bf37": {
          "model_module": "@jupyter-widgets/controls",
          "model_name": "HTMLModel",
          "model_module_version": "1.5.0",
          "state": {
            "_dom_classes": [],
            "_model_module": "@jupyter-widgets/controls",
            "_model_module_version": "1.5.0",
            "_model_name": "HTMLModel",
            "_view_count": null,
            "_view_module": "@jupyter-widgets/controls",
            "_view_module_version": "1.5.0",
            "_view_name": "HTMLView",
            "description": "",
            "description_tooltip": null,
            "layout": "IPY_MODEL_e41505182741441a90515782842303c9",
            "placeholder": "​",
            "style": "IPY_MODEL_7af367f77c4f484a93e27c2d0b25888d",
            "value": " 43/43 [00:39&lt;00:00,  1.72it/s, Completed]"
          }
        },
        "8d5518ba875b432095a1c10cac7bc274": {
          "model_module": "@jupyter-widgets/base",
          "model_name": "LayoutModel",
          "model_module_version": "1.2.0",
          "state": {
            "_model_module": "@jupyter-widgets/base",
            "_model_module_version": "1.2.0",
            "_model_name": "LayoutModel",
            "_view_count": null,
            "_view_module": "@jupyter-widgets/base",
            "_view_module_version": "1.2.0",
            "_view_name": "LayoutView",
            "align_content": null,
            "align_items": null,
            "align_self": null,
            "border": null,
            "bottom": null,
            "display": null,
            "flex": null,
            "flex_flow": null,
            "grid_area": null,
            "grid_auto_columns": null,
            "grid_auto_flow": null,
            "grid_auto_rows": null,
            "grid_column": null,
            "grid_gap": null,
            "grid_row": null,
            "grid_template_areas": null,
            "grid_template_columns": null,
            "grid_template_rows": null,
            "height": null,
            "justify_content": null,
            "justify_items": null,
            "left": null,
            "margin": null,
            "max_height": null,
            "max_width": null,
            "min_height": null,
            "min_width": null,
            "object_fit": null,
            "object_position": null,
            "order": null,
            "overflow": null,
            "overflow_x": null,
            "overflow_y": null,
            "padding": null,
            "right": null,
            "top": null,
            "visibility": null,
            "width": null
          }
        },
        "b0148827a0e74e8b9796827232b1b6c2": {
          "model_module": "@jupyter-widgets/base",
          "model_name": "LayoutModel",
          "model_module_version": "1.2.0",
          "state": {
            "_model_module": "@jupyter-widgets/base",
            "_model_module_version": "1.2.0",
            "_model_name": "LayoutModel",
            "_view_count": null,
            "_view_module": "@jupyter-widgets/base",
            "_view_module_version": "1.2.0",
            "_view_name": "LayoutView",
            "align_content": null,
            "align_items": null,
            "align_self": null,
            "border": null,
            "bottom": null,
            "display": null,
            "flex": null,
            "flex_flow": null,
            "grid_area": null,
            "grid_auto_columns": null,
            "grid_auto_flow": null,
            "grid_auto_rows": null,
            "grid_column": null,
            "grid_gap": null,
            "grid_row": null,
            "grid_template_areas": null,
            "grid_template_columns": null,
            "grid_template_rows": null,
            "height": null,
            "justify_content": null,
            "justify_items": null,
            "left": null,
            "margin": null,
            "max_height": null,
            "max_width": null,
            "min_height": null,
            "min_width": null,
            "object_fit": null,
            "object_position": null,
            "order": null,
            "overflow": null,
            "overflow_x": null,
            "overflow_y": null,
            "padding": null,
            "right": null,
            "top": null,
            "visibility": null,
            "width": null
          }
        },
        "3515e2997ae449b2a48ad1259445613b": {
          "model_module": "@jupyter-widgets/controls",
          "model_name": "DescriptionStyleModel",
          "model_module_version": "1.5.0",
          "state": {
            "_model_module": "@jupyter-widgets/controls",
            "_model_module_version": "1.5.0",
            "_model_name": "DescriptionStyleModel",
            "_view_count": null,
            "_view_module": "@jupyter-widgets/base",
            "_view_module_version": "1.2.0",
            "_view_name": "StyleView",
            "description_width": ""
          }
        },
        "9647642a4523488a8090a4d063304112": {
          "model_module": "@jupyter-widgets/base",
          "model_name": "LayoutModel",
          "model_module_version": "1.2.0",
          "state": {
            "_model_module": "@jupyter-widgets/base",
            "_model_module_version": "1.2.0",
            "_model_name": "LayoutModel",
            "_view_count": null,
            "_view_module": "@jupyter-widgets/base",
            "_view_module_version": "1.2.0",
            "_view_name": "LayoutView",
            "align_content": null,
            "align_items": null,
            "align_self": null,
            "border": null,
            "bottom": null,
            "display": null,
            "flex": null,
            "flex_flow": null,
            "grid_area": null,
            "grid_auto_columns": null,
            "grid_auto_flow": null,
            "grid_auto_rows": null,
            "grid_column": null,
            "grid_gap": null,
            "grid_row": null,
            "grid_template_areas": null,
            "grid_template_columns": null,
            "grid_template_rows": null,
            "height": null,
            "justify_content": null,
            "justify_items": null,
            "left": null,
            "margin": null,
            "max_height": null,
            "max_width": null,
            "min_height": null,
            "min_width": null,
            "object_fit": null,
            "object_position": null,
            "order": null,
            "overflow": null,
            "overflow_x": null,
            "overflow_y": null,
            "padding": null,
            "right": null,
            "top": null,
            "visibility": null,
            "width": null
          }
        },
        "eb6cb9545d6e4dc3945b6e82ea145426": {
          "model_module": "@jupyter-widgets/controls",
          "model_name": "ProgressStyleModel",
          "model_module_version": "1.5.0",
          "state": {
            "_model_module": "@jupyter-widgets/controls",
            "_model_module_version": "1.5.0",
            "_model_name": "ProgressStyleModel",
            "_view_count": null,
            "_view_module": "@jupyter-widgets/base",
            "_view_module_version": "1.2.0",
            "_view_name": "StyleView",
            "bar_color": null,
            "description_width": ""
          }
        },
        "e41505182741441a90515782842303c9": {
          "model_module": "@jupyter-widgets/base",
          "model_name": "LayoutModel",
          "model_module_version": "1.2.0",
          "state": {
            "_model_module": "@jupyter-widgets/base",
            "_model_module_version": "1.2.0",
            "_model_name": "LayoutModel",
            "_view_count": null,
            "_view_module": "@jupyter-widgets/base",
            "_view_module_version": "1.2.0",
            "_view_name": "LayoutView",
            "align_content": null,
            "align_items": null,
            "align_self": null,
            "border": null,
            "bottom": null,
            "display": null,
            "flex": null,
            "flex_flow": null,
            "grid_area": null,
            "grid_auto_columns": null,
            "grid_auto_flow": null,
            "grid_auto_rows": null,
            "grid_column": null,
            "grid_gap": null,
            "grid_row": null,
            "grid_template_areas": null,
            "grid_template_columns": null,
            "grid_template_rows": null,
            "height": null,
            "justify_content": null,
            "justify_items": null,
            "left": null,
            "margin": null,
            "max_height": null,
            "max_width": null,
            "min_height": null,
            "min_width": null,
            "object_fit": null,
            "object_position": null,
            "order": null,
            "overflow": null,
            "overflow_x": null,
            "overflow_y": null,
            "padding": null,
            "right": null,
            "top": null,
            "visibility": null,
            "width": null
          }
        },
        "7af367f77c4f484a93e27c2d0b25888d": {
          "model_module": "@jupyter-widgets/controls",
          "model_name": "DescriptionStyleModel",
          "model_module_version": "1.5.0",
          "state": {
            "_model_module": "@jupyter-widgets/controls",
            "_model_module_version": "1.5.0",
            "_model_name": "DescriptionStyleModel",
            "_view_count": null,
            "_view_module": "@jupyter-widgets/base",
            "_view_module_version": "1.2.0",
            "_view_name": "StyleView",
            "description_width": ""
          }
        },
        "aafd1300f00e4c9ca06e88da4272fab6": {
          "model_module": "@jupyter-widgets/controls",
          "model_name": "HBoxModel",
          "model_module_version": "1.5.0",
          "state": {
            "_dom_classes": [],
            "_model_module": "@jupyter-widgets/controls",
            "_model_module_version": "1.5.0",
            "_model_name": "HBoxModel",
            "_view_count": null,
            "_view_module": "@jupyter-widgets/controls",
            "_view_module_version": "1.5.0",
            "_view_name": "HBoxView",
            "box_style": "",
            "children": [
              "IPY_MODEL_f17801c05e8544d4a1691b74473c9231",
              "IPY_MODEL_95099324bdb84adf878379c61bbb3967",
              "IPY_MODEL_e14f5447310348ffa6f740a4a586e685"
            ],
            "layout": "IPY_MODEL_1dd94c9b92a94e5a9b80af5ddb47bb0c"
          }
        },
        "f17801c05e8544d4a1691b74473c9231": {
          "model_module": "@jupyter-widgets/controls",
          "model_name": "HTMLModel",
          "model_module_version": "1.5.0",
          "state": {
            "_dom_classes": [],
            "_model_module": "@jupyter-widgets/controls",
            "_model_module_version": "1.5.0",
            "_model_name": "HTMLModel",
            "_view_count": null,
            "_view_module": "@jupyter-widgets/controls",
            "_view_module_version": "1.5.0",
            "_view_name": "HTMLView",
            "description": "",
            "description_tooltip": null,
            "layout": "IPY_MODEL_584a2fbaf411492087ac0ed5a4ba12f1",
            "placeholder": "​",
            "style": "IPY_MODEL_2a7a2302a07c4e069fb89cacd5dbb0b5",
            "value": "Generate report structure: 100%"
          }
        },
        "95099324bdb84adf878379c61bbb3967": {
          "model_module": "@jupyter-widgets/controls",
          "model_name": "FloatProgressModel",
          "model_module_version": "1.5.0",
          "state": {
            "_dom_classes": [],
            "_model_module": "@jupyter-widgets/controls",
            "_model_module_version": "1.5.0",
            "_model_name": "FloatProgressModel",
            "_view_count": null,
            "_view_module": "@jupyter-widgets/controls",
            "_view_module_version": "1.5.0",
            "_view_name": "ProgressView",
            "bar_style": "success",
            "description": "",
            "description_tooltip": null,
            "layout": "IPY_MODEL_aed2c27710004c3ba1e68d6802ae863e",
            "max": 1,
            "min": 0,
            "orientation": "horizontal",
            "style": "IPY_MODEL_62b8da69487142ceb7c8409937862fef",
            "value": 1
          }
        },
        "e14f5447310348ffa6f740a4a586e685": {
          "model_module": "@jupyter-widgets/controls",
          "model_name": "HTMLModel",
          "model_module_version": "1.5.0",
          "state": {
            "_dom_classes": [],
            "_model_module": "@jupyter-widgets/controls",
            "_model_module_version": "1.5.0",
            "_model_name": "HTMLModel",
            "_view_count": null,
            "_view_module": "@jupyter-widgets/controls",
            "_view_module_version": "1.5.0",
            "_view_name": "HTMLView",
            "description": "",
            "description_tooltip": null,
            "layout": "IPY_MODEL_455290c7068f45f3a81ee3ab0bff657a",
            "placeholder": "​",
            "style": "IPY_MODEL_6ebd0845d12741f08757d88356cb02e7",
            "value": " 1/1 [00:14&lt;00:00, 14.59s/it]"
          }
        },
        "1dd94c9b92a94e5a9b80af5ddb47bb0c": {
          "model_module": "@jupyter-widgets/base",
          "model_name": "LayoutModel",
          "model_module_version": "1.2.0",
          "state": {
            "_model_module": "@jupyter-widgets/base",
            "_model_module_version": "1.2.0",
            "_model_name": "LayoutModel",
            "_view_count": null,
            "_view_module": "@jupyter-widgets/base",
            "_view_module_version": "1.2.0",
            "_view_name": "LayoutView",
            "align_content": null,
            "align_items": null,
            "align_self": null,
            "border": null,
            "bottom": null,
            "display": null,
            "flex": null,
            "flex_flow": null,
            "grid_area": null,
            "grid_auto_columns": null,
            "grid_auto_flow": null,
            "grid_auto_rows": null,
            "grid_column": null,
            "grid_gap": null,
            "grid_row": null,
            "grid_template_areas": null,
            "grid_template_columns": null,
            "grid_template_rows": null,
            "height": null,
            "justify_content": null,
            "justify_items": null,
            "left": null,
            "margin": null,
            "max_height": null,
            "max_width": null,
            "min_height": null,
            "min_width": null,
            "object_fit": null,
            "object_position": null,
            "order": null,
            "overflow": null,
            "overflow_x": null,
            "overflow_y": null,
            "padding": null,
            "right": null,
            "top": null,
            "visibility": null,
            "width": null
          }
        },
        "584a2fbaf411492087ac0ed5a4ba12f1": {
          "model_module": "@jupyter-widgets/base",
          "model_name": "LayoutModel",
          "model_module_version": "1.2.0",
          "state": {
            "_model_module": "@jupyter-widgets/base",
            "_model_module_version": "1.2.0",
            "_model_name": "LayoutModel",
            "_view_count": null,
            "_view_module": "@jupyter-widgets/base",
            "_view_module_version": "1.2.0",
            "_view_name": "LayoutView",
            "align_content": null,
            "align_items": null,
            "align_self": null,
            "border": null,
            "bottom": null,
            "display": null,
            "flex": null,
            "flex_flow": null,
            "grid_area": null,
            "grid_auto_columns": null,
            "grid_auto_flow": null,
            "grid_auto_rows": null,
            "grid_column": null,
            "grid_gap": null,
            "grid_row": null,
            "grid_template_areas": null,
            "grid_template_columns": null,
            "grid_template_rows": null,
            "height": null,
            "justify_content": null,
            "justify_items": null,
            "left": null,
            "margin": null,
            "max_height": null,
            "max_width": null,
            "min_height": null,
            "min_width": null,
            "object_fit": null,
            "object_position": null,
            "order": null,
            "overflow": null,
            "overflow_x": null,
            "overflow_y": null,
            "padding": null,
            "right": null,
            "top": null,
            "visibility": null,
            "width": null
          }
        },
        "2a7a2302a07c4e069fb89cacd5dbb0b5": {
          "model_module": "@jupyter-widgets/controls",
          "model_name": "DescriptionStyleModel",
          "model_module_version": "1.5.0",
          "state": {
            "_model_module": "@jupyter-widgets/controls",
            "_model_module_version": "1.5.0",
            "_model_name": "DescriptionStyleModel",
            "_view_count": null,
            "_view_module": "@jupyter-widgets/base",
            "_view_module_version": "1.2.0",
            "_view_name": "StyleView",
            "description_width": ""
          }
        },
        "aed2c27710004c3ba1e68d6802ae863e": {
          "model_module": "@jupyter-widgets/base",
          "model_name": "LayoutModel",
          "model_module_version": "1.2.0",
          "state": {
            "_model_module": "@jupyter-widgets/base",
            "_model_module_version": "1.2.0",
            "_model_name": "LayoutModel",
            "_view_count": null,
            "_view_module": "@jupyter-widgets/base",
            "_view_module_version": "1.2.0",
            "_view_name": "LayoutView",
            "align_content": null,
            "align_items": null,
            "align_self": null,
            "border": null,
            "bottom": null,
            "display": null,
            "flex": null,
            "flex_flow": null,
            "grid_area": null,
            "grid_auto_columns": null,
            "grid_auto_flow": null,
            "grid_auto_rows": null,
            "grid_column": null,
            "grid_gap": null,
            "grid_row": null,
            "grid_template_areas": null,
            "grid_template_columns": null,
            "grid_template_rows": null,
            "height": null,
            "justify_content": null,
            "justify_items": null,
            "left": null,
            "margin": null,
            "max_height": null,
            "max_width": null,
            "min_height": null,
            "min_width": null,
            "object_fit": null,
            "object_position": null,
            "order": null,
            "overflow": null,
            "overflow_x": null,
            "overflow_y": null,
            "padding": null,
            "right": null,
            "top": null,
            "visibility": null,
            "width": null
          }
        },
        "62b8da69487142ceb7c8409937862fef": {
          "model_module": "@jupyter-widgets/controls",
          "model_name": "ProgressStyleModel",
          "model_module_version": "1.5.0",
          "state": {
            "_model_module": "@jupyter-widgets/controls",
            "_model_module_version": "1.5.0",
            "_model_name": "ProgressStyleModel",
            "_view_count": null,
            "_view_module": "@jupyter-widgets/base",
            "_view_module_version": "1.2.0",
            "_view_name": "StyleView",
            "bar_color": null,
            "description_width": ""
          }
        },
        "455290c7068f45f3a81ee3ab0bff657a": {
          "model_module": "@jupyter-widgets/base",
          "model_name": "LayoutModel",
          "model_module_version": "1.2.0",
          "state": {
            "_model_module": "@jupyter-widgets/base",
            "_model_module_version": "1.2.0",
            "_model_name": "LayoutModel",
            "_view_count": null,
            "_view_module": "@jupyter-widgets/base",
            "_view_module_version": "1.2.0",
            "_view_name": "LayoutView",
            "align_content": null,
            "align_items": null,
            "align_self": null,
            "border": null,
            "bottom": null,
            "display": null,
            "flex": null,
            "flex_flow": null,
            "grid_area": null,
            "grid_auto_columns": null,
            "grid_auto_flow": null,
            "grid_auto_rows": null,
            "grid_column": null,
            "grid_gap": null,
            "grid_row": null,
            "grid_template_areas": null,
            "grid_template_columns": null,
            "grid_template_rows": null,
            "height": null,
            "justify_content": null,
            "justify_items": null,
            "left": null,
            "margin": null,
            "max_height": null,
            "max_width": null,
            "min_height": null,
            "min_width": null,
            "object_fit": null,
            "object_position": null,
            "order": null,
            "overflow": null,
            "overflow_x": null,
            "overflow_y": null,
            "padding": null,
            "right": null,
            "top": null,
            "visibility": null,
            "width": null
          }
        },
        "6ebd0845d12741f08757d88356cb02e7": {
          "model_module": "@jupyter-widgets/controls",
          "model_name": "DescriptionStyleModel",
          "model_module_version": "1.5.0",
          "state": {
            "_model_module": "@jupyter-widgets/controls",
            "_model_module_version": "1.5.0",
            "_model_name": "DescriptionStyleModel",
            "_view_count": null,
            "_view_module": "@jupyter-widgets/base",
            "_view_module_version": "1.2.0",
            "_view_name": "StyleView",
            "description_width": ""
          }
        },
        "c87d79dc2c5d4f9abfd054121c5d387d": {
          "model_module": "@jupyter-widgets/controls",
          "model_name": "HBoxModel",
          "model_module_version": "1.5.0",
          "state": {
            "_dom_classes": [],
            "_model_module": "@jupyter-widgets/controls",
            "_model_module_version": "1.5.0",
            "_model_name": "HBoxModel",
            "_view_count": null,
            "_view_module": "@jupyter-widgets/controls",
            "_view_module_version": "1.5.0",
            "_view_name": "HBoxView",
            "box_style": "",
            "children": [
              "IPY_MODEL_bc5c705315c046deb0710c83a53a832d",
              "IPY_MODEL_6d5a85d454144de09b8b45e7ad20ab74",
              "IPY_MODEL_aaa83300bdde4acf812880ad8fd6a0a8"
            ],
            "layout": "IPY_MODEL_e3e17043e8a743cc9ed340ff5d3103ad"
          }
        },
        "bc5c705315c046deb0710c83a53a832d": {
          "model_module": "@jupyter-widgets/controls",
          "model_name": "HTMLModel",
          "model_module_version": "1.5.0",
          "state": {
            "_dom_classes": [],
            "_model_module": "@jupyter-widgets/controls",
            "_model_module_version": "1.5.0",
            "_model_name": "HTMLModel",
            "_view_count": null,
            "_view_module": "@jupyter-widgets/controls",
            "_view_module_version": "1.5.0",
            "_view_name": "HTMLView",
            "description": "",
            "description_tooltip": null,
            "layout": "IPY_MODEL_1bb4709a0f674fb79a08cbe7fd298f9f",
            "placeholder": "​",
            "style": "IPY_MODEL_63c172be8f23453683c24f85a9abb0a2",
            "value": "Render HTML: 100%"
          }
        },
        "6d5a85d454144de09b8b45e7ad20ab74": {
          "model_module": "@jupyter-widgets/controls",
          "model_name": "FloatProgressModel",
          "model_module_version": "1.5.0",
          "state": {
            "_dom_classes": [],
            "_model_module": "@jupyter-widgets/controls",
            "_model_module_version": "1.5.0",
            "_model_name": "FloatProgressModel",
            "_view_count": null,
            "_view_module": "@jupyter-widgets/controls",
            "_view_module_version": "1.5.0",
            "_view_name": "ProgressView",
            "bar_style": "success",
            "description": "",
            "description_tooltip": null,
            "layout": "IPY_MODEL_8d6d9199f13443b5af0a83c6a289a84e",
            "max": 1,
            "min": 0,
            "orientation": "horizontal",
            "style": "IPY_MODEL_15b428c2f00f470aacf41d912f677f20",
            "value": 1
          }
        },
        "aaa83300bdde4acf812880ad8fd6a0a8": {
          "model_module": "@jupyter-widgets/controls",
          "model_name": "HTMLModel",
          "model_module_version": "1.5.0",
          "state": {
            "_dom_classes": [],
            "_model_module": "@jupyter-widgets/controls",
            "_model_module_version": "1.5.0",
            "_model_name": "HTMLModel",
            "_view_count": null,
            "_view_module": "@jupyter-widgets/controls",
            "_view_module_version": "1.5.0",
            "_view_name": "HTMLView",
            "description": "",
            "description_tooltip": null,
            "layout": "IPY_MODEL_0c7e7072ca454d1ea09bc3c952ce553c",
            "placeholder": "​",
            "style": "IPY_MODEL_ec1f075286c643a08326a85e12d4f528",
            "value": " 1/1 [00:02&lt;00:00,  2.87s/it]"
          }
        },
        "e3e17043e8a743cc9ed340ff5d3103ad": {
          "model_module": "@jupyter-widgets/base",
          "model_name": "LayoutModel",
          "model_module_version": "1.2.0",
          "state": {
            "_model_module": "@jupyter-widgets/base",
            "_model_module_version": "1.2.0",
            "_model_name": "LayoutModel",
            "_view_count": null,
            "_view_module": "@jupyter-widgets/base",
            "_view_module_version": "1.2.0",
            "_view_name": "LayoutView",
            "align_content": null,
            "align_items": null,
            "align_self": null,
            "border": null,
            "bottom": null,
            "display": null,
            "flex": null,
            "flex_flow": null,
            "grid_area": null,
            "grid_auto_columns": null,
            "grid_auto_flow": null,
            "grid_auto_rows": null,
            "grid_column": null,
            "grid_gap": null,
            "grid_row": null,
            "grid_template_areas": null,
            "grid_template_columns": null,
            "grid_template_rows": null,
            "height": null,
            "justify_content": null,
            "justify_items": null,
            "left": null,
            "margin": null,
            "max_height": null,
            "max_width": null,
            "min_height": null,
            "min_width": null,
            "object_fit": null,
            "object_position": null,
            "order": null,
            "overflow": null,
            "overflow_x": null,
            "overflow_y": null,
            "padding": null,
            "right": null,
            "top": null,
            "visibility": null,
            "width": null
          }
        },
        "1bb4709a0f674fb79a08cbe7fd298f9f": {
          "model_module": "@jupyter-widgets/base",
          "model_name": "LayoutModel",
          "model_module_version": "1.2.0",
          "state": {
            "_model_module": "@jupyter-widgets/base",
            "_model_module_version": "1.2.0",
            "_model_name": "LayoutModel",
            "_view_count": null,
            "_view_module": "@jupyter-widgets/base",
            "_view_module_version": "1.2.0",
            "_view_name": "LayoutView",
            "align_content": null,
            "align_items": null,
            "align_self": null,
            "border": null,
            "bottom": null,
            "display": null,
            "flex": null,
            "flex_flow": null,
            "grid_area": null,
            "grid_auto_columns": null,
            "grid_auto_flow": null,
            "grid_auto_rows": null,
            "grid_column": null,
            "grid_gap": null,
            "grid_row": null,
            "grid_template_areas": null,
            "grid_template_columns": null,
            "grid_template_rows": null,
            "height": null,
            "justify_content": null,
            "justify_items": null,
            "left": null,
            "margin": null,
            "max_height": null,
            "max_width": null,
            "min_height": null,
            "min_width": null,
            "object_fit": null,
            "object_position": null,
            "order": null,
            "overflow": null,
            "overflow_x": null,
            "overflow_y": null,
            "padding": null,
            "right": null,
            "top": null,
            "visibility": null,
            "width": null
          }
        },
        "63c172be8f23453683c24f85a9abb0a2": {
          "model_module": "@jupyter-widgets/controls",
          "model_name": "DescriptionStyleModel",
          "model_module_version": "1.5.0",
          "state": {
            "_model_module": "@jupyter-widgets/controls",
            "_model_module_version": "1.5.0",
            "_model_name": "DescriptionStyleModel",
            "_view_count": null,
            "_view_module": "@jupyter-widgets/base",
            "_view_module_version": "1.2.0",
            "_view_name": "StyleView",
            "description_width": ""
          }
        },
        "8d6d9199f13443b5af0a83c6a289a84e": {
          "model_module": "@jupyter-widgets/base",
          "model_name": "LayoutModel",
          "model_module_version": "1.2.0",
          "state": {
            "_model_module": "@jupyter-widgets/base",
            "_model_module_version": "1.2.0",
            "_model_name": "LayoutModel",
            "_view_count": null,
            "_view_module": "@jupyter-widgets/base",
            "_view_module_version": "1.2.0",
            "_view_name": "LayoutView",
            "align_content": null,
            "align_items": null,
            "align_self": null,
            "border": null,
            "bottom": null,
            "display": null,
            "flex": null,
            "flex_flow": null,
            "grid_area": null,
            "grid_auto_columns": null,
            "grid_auto_flow": null,
            "grid_auto_rows": null,
            "grid_column": null,
            "grid_gap": null,
            "grid_row": null,
            "grid_template_areas": null,
            "grid_template_columns": null,
            "grid_template_rows": null,
            "height": null,
            "justify_content": null,
            "justify_items": null,
            "left": null,
            "margin": null,
            "max_height": null,
            "max_width": null,
            "min_height": null,
            "min_width": null,
            "object_fit": null,
            "object_position": null,
            "order": null,
            "overflow": null,
            "overflow_x": null,
            "overflow_y": null,
            "padding": null,
            "right": null,
            "top": null,
            "visibility": null,
            "width": null
          }
        },
        "15b428c2f00f470aacf41d912f677f20": {
          "model_module": "@jupyter-widgets/controls",
          "model_name": "ProgressStyleModel",
          "model_module_version": "1.5.0",
          "state": {
            "_model_module": "@jupyter-widgets/controls",
            "_model_module_version": "1.5.0",
            "_model_name": "ProgressStyleModel",
            "_view_count": null,
            "_view_module": "@jupyter-widgets/base",
            "_view_module_version": "1.2.0",
            "_view_name": "StyleView",
            "bar_color": null,
            "description_width": ""
          }
        },
        "0c7e7072ca454d1ea09bc3c952ce553c": {
          "model_module": "@jupyter-widgets/base",
          "model_name": "LayoutModel",
          "model_module_version": "1.2.0",
          "state": {
            "_model_module": "@jupyter-widgets/base",
            "_model_module_version": "1.2.0",
            "_model_name": "LayoutModel",
            "_view_count": null,
            "_view_module": "@jupyter-widgets/base",
            "_view_module_version": "1.2.0",
            "_view_name": "LayoutView",
            "align_content": null,
            "align_items": null,
            "align_self": null,
            "border": null,
            "bottom": null,
            "display": null,
            "flex": null,
            "flex_flow": null,
            "grid_area": null,
            "grid_auto_columns": null,
            "grid_auto_flow": null,
            "grid_auto_rows": null,
            "grid_column": null,
            "grid_gap": null,
            "grid_row": null,
            "grid_template_areas": null,
            "grid_template_columns": null,
            "grid_template_rows": null,
            "height": null,
            "justify_content": null,
            "justify_items": null,
            "left": null,
            "margin": null,
            "max_height": null,
            "max_width": null,
            "min_height": null,
            "min_width": null,
            "object_fit": null,
            "object_position": null,
            "order": null,
            "overflow": null,
            "overflow_x": null,
            "overflow_y": null,
            "padding": null,
            "right": null,
            "top": null,
            "visibility": null,
            "width": null
          }
        },
        "ec1f075286c643a08326a85e12d4f528": {
          "model_module": "@jupyter-widgets/controls",
          "model_name": "DescriptionStyleModel",
          "model_module_version": "1.5.0",
          "state": {
            "_model_module": "@jupyter-widgets/controls",
            "_model_module_version": "1.5.0",
            "_model_name": "DescriptionStyleModel",
            "_view_count": null,
            "_view_module": "@jupyter-widgets/base",
            "_view_module_version": "1.2.0",
            "_view_name": "StyleView",
            "description_width": ""
          }
        },
        "4805a45954b2413aa0185a99e5db66d8": {
          "model_module": "@jupyter-widgets/controls",
          "model_name": "HBoxModel",
          "model_module_version": "1.5.0",
          "state": {
            "_dom_classes": [],
            "_model_module": "@jupyter-widgets/controls",
            "_model_module_version": "1.5.0",
            "_model_name": "HBoxModel",
            "_view_count": null,
            "_view_module": "@jupyter-widgets/controls",
            "_view_module_version": "1.5.0",
            "_view_name": "HBoxView",
            "box_style": "",
            "children": [
              "IPY_MODEL_7dd63364a6d0419eb32256f9f6900d97",
              "IPY_MODEL_4c2d7003700a4d5392f6bcfaf03fcd7d",
              "IPY_MODEL_b20d433ad7be46d88904444f6600f4d9"
            ],
            "layout": "IPY_MODEL_3d04880bafb44170a7be91bad484de81"
          }
        },
        "7dd63364a6d0419eb32256f9f6900d97": {
          "model_module": "@jupyter-widgets/controls",
          "model_name": "HTMLModel",
          "model_module_version": "1.5.0",
          "state": {
            "_dom_classes": [],
            "_model_module": "@jupyter-widgets/controls",
            "_model_module_version": "1.5.0",
            "_model_name": "HTMLModel",
            "_view_count": null,
            "_view_module": "@jupyter-widgets/controls",
            "_view_module_version": "1.5.0",
            "_view_name": "HTMLView",
            "description": "",
            "description_tooltip": null,
            "layout": "IPY_MODEL_ac6d95894f284f0b9db808d35705e708",
            "placeholder": "​",
            "style": "IPY_MODEL_a43b7238d12447468a33e49b6348ef6e",
            "value": "Export report to file: 100%"
          }
        },
        "4c2d7003700a4d5392f6bcfaf03fcd7d": {
          "model_module": "@jupyter-widgets/controls",
          "model_name": "FloatProgressModel",
          "model_module_version": "1.5.0",
          "state": {
            "_dom_classes": [],
            "_model_module": "@jupyter-widgets/controls",
            "_model_module_version": "1.5.0",
            "_model_name": "FloatProgressModel",
            "_view_count": null,
            "_view_module": "@jupyter-widgets/controls",
            "_view_module_version": "1.5.0",
            "_view_name": "ProgressView",
            "bar_style": "success",
            "description": "",
            "description_tooltip": null,
            "layout": "IPY_MODEL_1a3b3689ee7c4a7a9343e1617dd59510",
            "max": 1,
            "min": 0,
            "orientation": "horizontal",
            "style": "IPY_MODEL_097c548feed548b4ac629c241f77227c",
            "value": 1
          }
        },
        "b20d433ad7be46d88904444f6600f4d9": {
          "model_module": "@jupyter-widgets/controls",
          "model_name": "HTMLModel",
          "model_module_version": "1.5.0",
          "state": {
            "_dom_classes": [],
            "_model_module": "@jupyter-widgets/controls",
            "_model_module_version": "1.5.0",
            "_model_name": "HTMLModel",
            "_view_count": null,
            "_view_module": "@jupyter-widgets/controls",
            "_view_module_version": "1.5.0",
            "_view_name": "HTMLView",
            "description": "",
            "description_tooltip": null,
            "layout": "IPY_MODEL_25636c69b1c94ab99ac45ec01b661a25",
            "placeholder": "​",
            "style": "IPY_MODEL_49bbd59dd76640c6a9edaaafba524f0f",
            "value": " 1/1 [00:00&lt;00:00,  9.34it/s]"
          }
        },
        "3d04880bafb44170a7be91bad484de81": {
          "model_module": "@jupyter-widgets/base",
          "model_name": "LayoutModel",
          "model_module_version": "1.2.0",
          "state": {
            "_model_module": "@jupyter-widgets/base",
            "_model_module_version": "1.2.0",
            "_model_name": "LayoutModel",
            "_view_count": null,
            "_view_module": "@jupyter-widgets/base",
            "_view_module_version": "1.2.0",
            "_view_name": "LayoutView",
            "align_content": null,
            "align_items": null,
            "align_self": null,
            "border": null,
            "bottom": null,
            "display": null,
            "flex": null,
            "flex_flow": null,
            "grid_area": null,
            "grid_auto_columns": null,
            "grid_auto_flow": null,
            "grid_auto_rows": null,
            "grid_column": null,
            "grid_gap": null,
            "grid_row": null,
            "grid_template_areas": null,
            "grid_template_columns": null,
            "grid_template_rows": null,
            "height": null,
            "justify_content": null,
            "justify_items": null,
            "left": null,
            "margin": null,
            "max_height": null,
            "max_width": null,
            "min_height": null,
            "min_width": null,
            "object_fit": null,
            "object_position": null,
            "order": null,
            "overflow": null,
            "overflow_x": null,
            "overflow_y": null,
            "padding": null,
            "right": null,
            "top": null,
            "visibility": null,
            "width": null
          }
        },
        "ac6d95894f284f0b9db808d35705e708": {
          "model_module": "@jupyter-widgets/base",
          "model_name": "LayoutModel",
          "model_module_version": "1.2.0",
          "state": {
            "_model_module": "@jupyter-widgets/base",
            "_model_module_version": "1.2.0",
            "_model_name": "LayoutModel",
            "_view_count": null,
            "_view_module": "@jupyter-widgets/base",
            "_view_module_version": "1.2.0",
            "_view_name": "LayoutView",
            "align_content": null,
            "align_items": null,
            "align_self": null,
            "border": null,
            "bottom": null,
            "display": null,
            "flex": null,
            "flex_flow": null,
            "grid_area": null,
            "grid_auto_columns": null,
            "grid_auto_flow": null,
            "grid_auto_rows": null,
            "grid_column": null,
            "grid_gap": null,
            "grid_row": null,
            "grid_template_areas": null,
            "grid_template_columns": null,
            "grid_template_rows": null,
            "height": null,
            "justify_content": null,
            "justify_items": null,
            "left": null,
            "margin": null,
            "max_height": null,
            "max_width": null,
            "min_height": null,
            "min_width": null,
            "object_fit": null,
            "object_position": null,
            "order": null,
            "overflow": null,
            "overflow_x": null,
            "overflow_y": null,
            "padding": null,
            "right": null,
            "top": null,
            "visibility": null,
            "width": null
          }
        },
        "a43b7238d12447468a33e49b6348ef6e": {
          "model_module": "@jupyter-widgets/controls",
          "model_name": "DescriptionStyleModel",
          "model_module_version": "1.5.0",
          "state": {
            "_model_module": "@jupyter-widgets/controls",
            "_model_module_version": "1.5.0",
            "_model_name": "DescriptionStyleModel",
            "_view_count": null,
            "_view_module": "@jupyter-widgets/base",
            "_view_module_version": "1.2.0",
            "_view_name": "StyleView",
            "description_width": ""
          }
        },
        "1a3b3689ee7c4a7a9343e1617dd59510": {
          "model_module": "@jupyter-widgets/base",
          "model_name": "LayoutModel",
          "model_module_version": "1.2.0",
          "state": {
            "_model_module": "@jupyter-widgets/base",
            "_model_module_version": "1.2.0",
            "_model_name": "LayoutModel",
            "_view_count": null,
            "_view_module": "@jupyter-widgets/base",
            "_view_module_version": "1.2.0",
            "_view_name": "LayoutView",
            "align_content": null,
            "align_items": null,
            "align_self": null,
            "border": null,
            "bottom": null,
            "display": null,
            "flex": null,
            "flex_flow": null,
            "grid_area": null,
            "grid_auto_columns": null,
            "grid_auto_flow": null,
            "grid_auto_rows": null,
            "grid_column": null,
            "grid_gap": null,
            "grid_row": null,
            "grid_template_areas": null,
            "grid_template_columns": null,
            "grid_template_rows": null,
            "height": null,
            "justify_content": null,
            "justify_items": null,
            "left": null,
            "margin": null,
            "max_height": null,
            "max_width": null,
            "min_height": null,
            "min_width": null,
            "object_fit": null,
            "object_position": null,
            "order": null,
            "overflow": null,
            "overflow_x": null,
            "overflow_y": null,
            "padding": null,
            "right": null,
            "top": null,
            "visibility": null,
            "width": null
          }
        },
        "097c548feed548b4ac629c241f77227c": {
          "model_module": "@jupyter-widgets/controls",
          "model_name": "ProgressStyleModel",
          "model_module_version": "1.5.0",
          "state": {
            "_model_module": "@jupyter-widgets/controls",
            "_model_module_version": "1.5.0",
            "_model_name": "ProgressStyleModel",
            "_view_count": null,
            "_view_module": "@jupyter-widgets/base",
            "_view_module_version": "1.2.0",
            "_view_name": "StyleView",
            "bar_color": null,
            "description_width": ""
          }
        },
        "25636c69b1c94ab99ac45ec01b661a25": {
          "model_module": "@jupyter-widgets/base",
          "model_name": "LayoutModel",
          "model_module_version": "1.2.0",
          "state": {
            "_model_module": "@jupyter-widgets/base",
            "_model_module_version": "1.2.0",
            "_model_name": "LayoutModel",
            "_view_count": null,
            "_view_module": "@jupyter-widgets/base",
            "_view_module_version": "1.2.0",
            "_view_name": "LayoutView",
            "align_content": null,
            "align_items": null,
            "align_self": null,
            "border": null,
            "bottom": null,
            "display": null,
            "flex": null,
            "flex_flow": null,
            "grid_area": null,
            "grid_auto_columns": null,
            "grid_auto_flow": null,
            "grid_auto_rows": null,
            "grid_column": null,
            "grid_gap": null,
            "grid_row": null,
            "grid_template_areas": null,
            "grid_template_columns": null,
            "grid_template_rows": null,
            "height": null,
            "justify_content": null,
            "justify_items": null,
            "left": null,
            "margin": null,
            "max_height": null,
            "max_width": null,
            "min_height": null,
            "min_width": null,
            "object_fit": null,
            "object_position": null,
            "order": null,
            "overflow": null,
            "overflow_x": null,
            "overflow_y": null,
            "padding": null,
            "right": null,
            "top": null,
            "visibility": null,
            "width": null
          }
        },
        "49bbd59dd76640c6a9edaaafba524f0f": {
          "model_module": "@jupyter-widgets/controls",
          "model_name": "DescriptionStyleModel",
          "model_module_version": "1.5.0",
          "state": {
            "_model_module": "@jupyter-widgets/controls",
            "_model_module_version": "1.5.0",
            "_model_name": "DescriptionStyleModel",
            "_view_count": null,
            "_view_module": "@jupyter-widgets/base",
            "_view_module_version": "1.2.0",
            "_view_name": "StyleView",
            "description_width": ""
          }
        }
      }
    }
  }
}