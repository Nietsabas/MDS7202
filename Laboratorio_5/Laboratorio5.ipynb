{
  "cells": [
    {
      "cell_type": "markdown",
      "metadata": {
        "cell_id": "1f05026ce7254adc9a7ba2ad95269b82",
        "deepnote_cell_height": 156.390625,
        "deepnote_cell_type": "markdown",
        "id": "XUZ1dFPHzAHl",
        "owner_user_id": "badcc427-fd3d-4615-9296-faa43ec69cfb"
      },
      "source": [
        "<h1><center>Laboratorio 5: El Pandas no muerde (act. II) 🐼</center></h1>\n",
        "\n",
        "<center><strong>MDS7202: Laboratorio de Programación Científica para Ciencia de Datos</strong></center>"
      ]
    },
    {
      "cell_type": "markdown",
      "metadata": {
        "cell_id": "fd8eaaa096d347e29e5e40f19821d88c",
        "deepnote_cell_height": 165.1875,
        "deepnote_cell_type": "markdown",
        "id": "UD8X1uhGzAHq"
      },
      "source": [
        "### Cuerpo Docente:\n",
        "\n",
        "- Profesor: Pablo Badilla y Ignacio Meza\n",
        "- Auxiliar: Sebastián Tinoco.\n",
        "- Ayudante: Felipe Arias y Diego Cortez"
      ]
    },
    {
      "attachments": {},
      "cell_type": "markdown",
      "metadata": {
        "cell_id": "0c58472e1c544d41aa923f90511df0c4",
        "deepnote_cell_height": 171.796875,
        "deepnote_cell_type": "markdown",
        "id": "tXflExjqzAHr"
      },
      "source": [
        "### Equipo: SUPER IMPORTANTE - notebooks sin nombre no serán revisados\n",
        "\n",
        "- Nombre de alumno 1: Sebastián Versluys\n",
        "- Nombre de alumno 2: Josué Guillen"
      ]
    },
    {
      "attachments": {},
      "cell_type": "markdown",
      "metadata": {
        "cell_id": "bbd1082aceab45959c4f7215729b2ca9",
        "deepnote_cell_height": 62,
        "deepnote_cell_type": "markdown",
        "id": "AD-V0bbZzAHr"
      },
      "source": [
        "### **Link de repositorio de GitHub:** `https://github.com/Nietsabas/MDS7202`"
      ]
    },
    {
      "cell_type": "markdown",
      "metadata": {
        "cell_id": "30e9685998ca490c8770a4ee007d5ad5",
        "deepnote_cell_height": 616,
        "deepnote_cell_type": "markdown",
        "id": "6uBLPj1PzAHs"
      },
      "source": [
        "# Temas a tratar\n",
        "\n",
        "- Manejo de datos tabulares usando `pandas`. En esta segunda parte se incluye adicionalmente agregaciones, concatenaciones, merge y trabajo con strings.\n",
        "- Visualizaciones interactivas de los datos con `plotly`.\n",
        "\n",
        "### Reglas:\n",
        "\n",
        "- **Grupos de máximo 2 personas**\n",
        "- Asistencia **obligatoria** a instrucciones del lab (viernes 16.15). Luego, pueden quedarse trabajando en las salas o irse.\n",
        "- **No se revisarán entregas de personas ausentes**. \n",
        "- Cualquier duda fuera del horario de clases al foro. Mensajes al equipo docente serán respondidos por este medio.\n",
        "- Prohibidas las copias. \n",
        "- Pueden usar cualquer material del curso que estimen conveniente.\n",
        "\n",
        "\n",
        "### Objetivos principales del laboratorio\n",
        "\n",
        "- Aplicar y aprovechar las ventajas que nos ofrece la libreria `pandas`.\n",
        "- Utilizar `plotly` para obtener información gráfica del dataset.\n",
        "- Aplicar el **Análisis Exploratorio de Datos** a un caso en particular.\n",
        "\n",
        "\n",
        "> **Nota**: El laboratorio deberá ser desarrollado sin el uso indiscriminado de iteradores nativos de python (aka \"for\", \"while\"). La idea es que aprendan a exprimir al máximo las funciones optimizadas que nos entrega `pandas`, las cuales vale mencionar, son bastante más eficientes que los iteradores nativos sobre DataFrames."
      ]
    },
    {
      "cell_type": "markdown",
      "metadata": {
        "cell_id": "5ff15b8770d14dcfbe8096c104cf1f34",
        "deepnote_cell_height": 82,
        "deepnote_cell_type": "markdown",
        "id": "MhISwri4zAHy"
      },
      "source": [
        "# Importamos librerias utiles 😸"
      ]
    },
    {
      "cell_type": "code",
      "execution_count": null,
      "metadata": {
        "ExecuteTime": {
          "end_time": "2021-03-29T00:08:16.884674Z",
          "start_time": "2021-03-29T00:08:16.349846Z"
        },
        "cell_id": "a5be8236f174469e892fde85a003fab0",
        "colab": {
          "base_uri": "https://localhost:8080/"
        },
        "deepnote_cell_height": 223,
        "deepnote_cell_type": "code",
        "id": "uyc33dKdzAHy",
        "outputId": "4a6d36bb-d8b7-4759-aa7b-f3ef7a61a909"
      },
      "outputs": [],
      "source": [
        "# Libreria Core del lab.\n",
        "import numpy as np\n",
        "import pandas as pd \n",
        "\n",
        "from IPython.display import display\n",
        "\n",
        "#Libreria para visualizar\n",
        "!pip install --upgrade plotly\n",
        "import plotly.figure_factory as ff\n",
        "import plotly.express as px"
      ]
    },
    {
      "cell_type": "markdown",
      "metadata": {
        "cell_id": "1ce556f9736647acb0ad3ac2361b62fa",
        "deepnote_cell_height": 82,
        "deepnote_cell_type": "markdown",
        "id": "xpOTbQcxbSiy"
      },
      "source": [
        "# 1. Rendimiento en Estudiantes 📚"
      ]
    },
    {
      "cell_type": "markdown",
      "metadata": {
        "cell_id": "534d0e32705046c58027f8f5ef474b9d",
        "deepnote_cell_height": 440.3125,
        "deepnote_cell_type": "markdown",
        "id": "3Q93vbNS25bM"
      },
      "source": [
        "\n",
        "<p align=\"center\">\n",
        "  <img src=\"https://drive.google.com/uc?export=view&id=1hZZaPQlZe4VupFOXt76_wjuUA5NpUhrw\" width=\"300\" height=\"300\">\n",
        "</p>"
      ]
    },
    {
      "cell_type": "markdown",
      "metadata": {
        "cell_id": "c82124b804fc4facb705480d54563896",
        "deepnote_cell_height": 185.1875,
        "deepnote_cell_type": "markdown",
        "id": "jnmZfFpxTTYX"
      },
      "source": [
        "Para este laboratorio deberán continuar el Análisis Exploratorio de datos sobre el conjunto ```students_grades```, el cual contiene una caracterización sobre el rendimiento y otros atributos de cada alumno de la *Universidad de la Cachaña* ."
      ]
    },
    {
      "cell_type": "code",
      "execution_count": null,
      "metadata": {
        "cell_id": "b563e43f66c543baae834fc8bd931739",
        "colab": {
          "base_uri": "https://localhost:8080/"
        },
        "deepnote_cell_height": 215,
        "deepnote_cell_type": "code",
        "id": "Jqq-s010Iwl1",
        "outputId": "439939e5-ef95-449e-a076-060347cfb431"
      },
      "outputs": [],
      "source": [
        "# Si usted está utilizando Colabolatory le puede ser útil este código para cargar los archivos.\n",
        "try:\n",
        "    from google.colab import drive\n",
        "    drive.mount(\"/content/drive\")\n",
        "    path = 'Dirección donde tiene los archivos en el Drive'\n",
        "except: \n",
        "    print('Ignorando conexión drive-colab')"
      ]
    },
    {
      "cell_type": "markdown",
      "metadata": {
        "cell_id": "f0e52c5a211d47a8bd42b8e39810f38d",
        "deepnote_cell_height": 396.796875,
        "deepnote_cell_type": "markdown",
        "id": "ArpO1pWl9DQD"
      },
      "source": [
        "##  Carga de Datos [0.5 Puntos]\n",
        "\n",
        "Ya finalizado en análisis inicial, ud. y su equipo le entregaron a *Don Caguayo* (rector de la Universidad de la Cachaña) tanto los resultados del análisis como también la base de datos limpia y lista para ser almacenada. Dada la ingente cantidad de los datos, el equipo de TI de la universidad resolvió separar el dataset en dos bases de datos distintas (lo que según argumentan ellos, permitiría hacer agregaciones de forma más eficiente). \n",
        "\n",
        "Gracias a la excelente labor de ud. y su equipo en el análisis previo, el rector le solicita continuar el trabajo con una nueva batería de análisis. Por este motivo, la sección de TI les entrega nuevamente los datos. Sin embargo, argumentan que dada una escazes de personal, solo le entregarán *dumps* (copias) de cada base de datos y su equipo deberá unir las bases de datos. Los datos se encuentran en los siguiente archivos `.json`: `students_grades_1.json` y `students_grades_2.json`. \n",
        "\n",
        "\n",
        "Por ende, ud. y su equipo deciden que la primera tarea se centrará en cargar estos datos y unirlos. \n",
        "\n",
        "**No se preocupe por la limpieza ni transformar el tipo de datos de las columnas, ni tampoco transformar a notas chilenas**, recuerde que anteriormente ya se encargo de este tema."
      ]
    },
    {
      "cell_type": "code",
      "execution_count": null,
      "metadata": {
        "cell_id": "982b6a396dda46bfb18e198978d96b32",
        "deepnote_cell_height": 61,
        "deepnote_cell_type": "code",
        "id": "oSlGUK_i9DQD"
      },
      "outputs": [],
      "source": [
        "df_grades_1 = pd.read_json(\"students_grades_1.json\")\n",
        "df_grades_2 = pd.read_json(\"students_grades_2.json\")\n",
        "df_grades = pd.concat(\n",
        "    [\n",
        "        df_grades_1,\n",
        "        df_grades_2\n",
        "    ]\n",
        ")"
      ]
    },
    {
      "cell_type": "code",
      "execution_count": null,
      "metadata": {
        "colab": {
          "base_uri": "https://localhost:8080/",
          "height": 659
        },
        "id": "Pq1DFuc_9h0K",
        "outputId": "a1e3adf6-9921-42bc-a643-1af6badc8794"
      },
      "outputs": [],
      "source": [
        "df_grades"
      ]
    },
    {
      "cell_type": "markdown",
      "metadata": {
        "cell_id": "d0d91a73c6ce4400a832da49783befa2",
        "deepnote_cell_height": 52.390625,
        "deepnote_cell_type": "markdown",
        "id": "SdUfoeCm9DQD"
      },
      "source": [
        "Resultado esperado:"
      ]
    },
    {
      "cell_type": "code",
      "execution_count": null,
      "metadata": {
        "cell_id": "0cbf1fa600184bb0be3ade89de3c0132",
        "deepnote_cell_height": 473.1875,
        "deepnote_cell_type": "code",
        "deepnote_output_heights": [
          381.1875
        ],
        "id": "bED3w3tDbSCf",
        "outputId": "00e3bdca-f485-42cf-a48c-8e3e98a16913"
      },
      "outputs": [],
      "source": [
        "df_grades"
      ]
    },
    {
      "cell_type": "markdown",
      "metadata": {
        "cell_id": "840d5b9103994bd88806240cdbd7c6de",
        "deepnote_cell_height": 456.390625,
        "deepnote_cell_type": "markdown",
        "id": "nOIAafD_9DQD"
      },
      "source": [
        "## 1.2- Análisis de Las Notas v2 [2 Punto por Gráficos + 0.5 respuesta]\n",
        "\n",
        "Preocupado por la dificultad que representa el graficar correctamente las notas, el rector le solicita implementar distintas alternativas de visualización.\n",
        "\n",
        "Para esto, genere un [boxplot](https://plotly.com/python/box-plots/), un [displot](https://plotly.com/python/distplot/#distplot-with-pandas), un [histograma con un gráfico marginal de caja](https://plotly.com/python/histograms/#visualizing-the-distribution) y un [histograma con el ramo como faceta de fila](https://plotly.com/python/facet-plots/#histogram-facet-grids) que permitan visualizar las notas.\n",
        "\n",
        "Luego, responda las siguientes pregunta: \n",
        "\n",
        "> 1. ¿Existe una diferencia notable entre las notas?\n",
        "\n",
        "> 2. ¿Cuál de los gráficos mostrados cree que es adecuado para mostrarle al rector? ¿Y a los padres? ¿Y a un centro de estudios educativos? ¿Por qué?. Base sus respuestas en lo visto en la clase de visualizaciones como también en lo que usted y su equipo consideren correcto.\n",
        "\n",
        "> Hint: Para elaborar el histograma, puede que le sea de utilidad hacer un `melt` del DataFrame, dejando como variables los ramos y valores las notas. Por otra parte, visiten la documentación para generar los gráficos."
      ]
    },
    {
      "cell_type": "markdown",
      "metadata": {
        "cell_id": "ad5715016b0b4955ab6eedbcbc1a623a",
        "deepnote_cell_height": 52.390625,
        "deepnote_cell_type": "markdown",
        "id": "3_tduTyy9DQE"
      },
      "source": [
        "**Gráfico de Caja:**"
      ]
    },
    {
      "cell_type": "code",
      "execution_count": null,
      "metadata": {
        "cell_id": "dab2080fdd9547f2b397b327bb28bded",
        "deepnote_cell_height": 61,
        "deepnote_cell_type": "code",
        "id": "JNpb1mct9DQE"
      },
      "outputs": [],
      "source": [
        "import plotly.graph_objects as go\n",
        "\n",
        "box_math_score = go.Box(y=df_grades['math score'], name='math score', marker_color='#0074D9')\n",
        "box_reading_score = go.Box(y=df_grades['reading score'], name='reading score', marker_color='#FF4136')\n",
        "box_writing_score = go.Box(y=df_grades['writing score'], name='writing score', marker_color='#2ECC40')\n",
        "\n",
        "fig = go.Figure(data=[box_math_score, box_reading_score, box_writing_score])\n",
        "fig.update_layout(yaxis_title='score', xaxis_showticklabels=False)\n",
        "fig.show()\n",
        "\n"
      ]
    },
    {
      "cell_type": "markdown",
      "metadata": {
        "cell_id": "727a3eb1463548199df76465f7b94706",
        "deepnote_cell_height": 52.390625,
        "deepnote_cell_type": "markdown",
        "id": "LDFoi2Dp9DQE"
      },
      "source": [
        "**Distplot:**"
      ]
    },
    {
      "cell_type": "code",
      "execution_count": null,
      "metadata": {
        "cell_id": "e6585efef4184eb39eb1185516abdde2",
        "deepnote_cell_height": 61,
        "deepnote_cell_type": "code",
        "id": "JzdHrK3p9DQE"
      },
      "outputs": [],
      "source": [
        "import plotly.figure_factory as ff\n",
        "\n",
        "hist_data = [df_grades['math score'], df_grades['reading score'], df_grades['writing score']]\n",
        "group_labels = ['math score', 'reading score', 'writing score']\n",
        "colors = ['#0074D9','#FF4136', '#2ECC40']\n",
        "\n",
        "fig = ff.create_distplot(hist_data, group_labels, show_hist=False, colors=colors, show_rug=False)\n",
        "fig.show()\n"
      ]
    },
    {
      "cell_type": "markdown",
      "metadata": {
        "cell_id": "eab795791deb48ab8e6f0af8358ed80a",
        "deepnote_cell_height": 52.390625,
        "deepnote_cell_type": "markdown",
        "id": "nbOVFfEv9DQE"
      },
      "source": [
        "**Histograma con Boxplots:**"
      ]
    },
    {
      "cell_type": "code",
      "execution_count": null,
      "metadata": {
        "cell_id": "3586b7b8996e45d4ace68d11603e80e2",
        "deepnote_cell_height": 61,
        "deepnote_cell_type": "code",
        "id": "-Y6mggh59DQE"
      },
      "outputs": [],
      "source": [
        "df_melt = pd.melt(df_grades, id_vars=['gender', 'race/ethnicity', 'parental level of education', 'lunch', 'test preparation course'], value_vars=['math score', 'reading score', 'writing score'], var_name='subject', value_name='score')\n",
        "fig = px.histogram(df_melt, x='score', color='subject', marginal='box', nbins=20, barmode='group')\n",
        "fig.update_layout(xaxis_title='grade', yaxis_title='count')\n",
        "fig.show()\n"
      ]
    },
    {
      "cell_type": "markdown",
      "metadata": {
        "cell_id": "02cf509cf86a41abab431eac25e8fa22",
        "deepnote_cell_height": 52.390625,
        "deepnote_cell_type": "markdown",
        "id": "T2M08TrV9DQE"
      },
      "source": [
        "**Histograma con Faceta:**"
      ]
    },
    {
      "cell_type": "code",
      "execution_count": null,
      "metadata": {
        "cell_id": "746ff528322c466fb1f12e54ac10ceb2",
        "deepnote_cell_height": 61,
        "deepnote_cell_type": "code",
        "id": "HTrrG8_89DQF"
      },
      "outputs": [],
      "source": [
        "fig = px.histogram(df_melt, x='score', color='subject', facet_row='subject', nbins=20, barmode='overlay',  opacity=1.0)\n",
        "fig.update_layout(xaxis_title='grade', yaxis_title='count')\n",
        "fig.show()\n"
      ]
    },
    {
      "cell_type": "markdown",
      "metadata": {
        "cell_id": "a28f2ee462874cbc9895b2e42a2ea6ea",
        "deepnote_cell_height": 52.390625,
        "deepnote_cell_type": "markdown",
        "id": "8Aubuy5T9DQF"
      },
      "source": [
        "**Resultados Esperados:**"
      ]
    },
    {
      "cell_type": "code",
      "execution_count": null,
      "metadata": {
        "cell_id": "ab1c7481c8a9432a806947b6e5266d01",
        "deepnote_cell_height": 2321,
        "deepnote_cell_type": "code",
        "deepnote_output_heights": [
          1,
          526,
          526,
          526,
          526
        ],
        "id": "IU7cqx099DQF",
        "outputId": "493fbf15-2104-4700-b8e9-fe2b7cf7f4a0"
      },
      "outputs": [],
      "source": []
    },
    {
      "cell_type": "markdown",
      "metadata": {
        "cell_id": "d2cac7e569aa41468dca1e3f3fdf7e1b",
        "deepnote_cell_height": 52.390625,
        "deepnote_cell_type": "markdown",
        "id": "bKjIsps29DQF"
      },
      "source": [
        "**Justifique:**"
      ]
    },
    {
      "attachments": {},
      "cell_type": "markdown",
      "metadata": {
        "cell_id": "11ebf7ee41684eb5aa1ebe2fcdc0404b",
        "deepnote_cell_height": 70.796875,
        "deepnote_cell_type": "markdown",
        "id": "UlXxXWRL9DQF"
      },
      "source": [
        "```\n",
        "1. Se puede observar que las notas están distribuidas de manera similar en las tres asignaturas, con una media cercana a 5 en todas ellas. Sin embargo, en el gráfico de caja se puede ver que las notas de lectura y escritura tienen una distribución un poco más amplia que las de matemáticas, además existen outliers en todas las asignaturas sin embargo se puede ver que matemáticas es el curso con mayores outliers y en general con peor mediana y con menor minima nota, esto hace pensar que en general a los estudiantes les va peor en matemáticas y mucho mejor en reading.\n",
        "\n",
        "2. El histograma con facetas es adecuado para mostrar al rector porque permite visualizar la distribución de las notas en cada asignatura de forma clara y ordenada. Al utilizar las facetas, se crea gráficos para cada asignatura específica. Esto le permite al rector comparar fácilmente las notas de cada asignatura y ver rápidemente como esta el rendimiento de los estudiantes.\n",
        "\n",
        "Para mostrarles a los padres, podría ser adecuado mostrarles el histograma con boxplots, \n",
        "ya que este muestra la distribución de las notas con estadísticos importantes, como la mediana y los posibles valores atípicos. Esto les permitiría a los padres saber como le está yendo a su hijo en cada ramo y les permitiría comparar fácilmente sus resultados con los de otros estudiantes. Además, le permitiría a cada padre identificar si hay alguna asignatura en la que su hijo o hija está teniendo dificultades al tener boxplots para cada ramo.\n",
        "\n",
        "Para el centro educativo podría ser adecuado mostrarles el histograma con boxplots, ya que les permitiría tener una idea clara de cómo se distribuyen las notas en las tres asignaturas, además, al mostrar las tres asignaturas juntas, el centro educativo puede comparar fácilmente cómo se desempeñan los estudiantes en cada una de ellas y poder plantear mejoras pedagógicas u de otra índole para mejorar el rendimiento en algún ramo.\n",
        "\n",
        "```"
      ]
    },
    {
      "cell_type": "markdown",
      "metadata": {
        "cell_id": "2ebe12877ac74c72882b72304d87610e",
        "deepnote_cell_height": 917.59375,
        "deepnote_cell_type": "markdown",
        "id": "m4-MFWZ_9DQF"
      },
      "source": [
        "# 2. Análisis por Nivel Educacional Etnia de los Padres\n",
        "\n",
        "El rector, basado en su experiencia, cree fuertemente que el nivel educacional y la etnia de los padres influyen en las notas que obtienen sus hijos. \n",
        "Como científicos de datos, ud. y su equipo creen que deben encontrar evidencia para confirmar o refutar la hipótesis del rector.\n",
        "\n",
        "Para esto, deciden generar dos análisis: una tabla de resumen por una parte y gráficos de caja por otro.\n",
        "\n",
        "### 1.3.4 Tabla de Resumen [1 punto]\n",
        "\n",
        "Para generar la tabla de resumen:\n",
        "\n",
        "- [ ] Calcular el promedio de las notas y guardarlo en una variable `GPA` (grade point average).\n",
        "- [ ] Hacer una simplificación a través de un mapeo (investigar el método `map()`) de la variable `parental level of education`  según la siguiente conversión: \n",
        "\n",
        "        some high school -> school\n",
        "        some college -> school\n",
        "        high school -> school\n",
        "        bachelor's degree -> college\n",
        "        associate's degree -> college\n",
        "        master's degree -> postgraduate\n",
        "\n",
        "  Los resultados de este mapeo deben ser guardados en la columna `simple parental level of education`.\n",
        "\n",
        "\n",
        "- [ ] Agregar según 2 niveles: `race/ethnicity` y `simple parental level of education` para obtener el promedio de las notas. \n",
        "- [ ] Agregar según 2 niveles: `race/ethnicity` y `simple parental level of education` para obtener un conteo de los alumnos en cada grupo y agregarlos como una nueva fila count.\n",
        "- [ ] Obtener el porcentaje de alumnos con respecto al total. Los porcentajes deben ser strings que contienen la frecuencia de cada grupo con respecto al total y deben ser terminados en '%'. \n",
        "\n",
        "\n",
        "Utilizar la tabla de resultados esperados como guía para desarrollar este punto."
      ]
    },
    {
      "cell_type": "code",
      "execution_count": null,
      "metadata": {
        "id": "AskA05aCJ_wY"
      },
      "outputs": [],
      "source": [
        "df_grades_1 = pd.read_json(\"students_grades_1.json\")\n",
        "df_grades_2 = pd.read_json(\"students_grades_2.json\")\n",
        "df_grades = pd.concat(\n",
        "    [\n",
        "        df_grades_1,\n",
        "        df_grades_2\n",
        "    ]\n",
        ")\n",
        "\n",
        "def alumnos_promedio(dataframe_in):\n",
        "\n",
        "  df_series_mean_row = dataframe_in.mean(numeric_only = True, axis=1)\n",
        "  dataframe_in.loc[:,\"GPA\"] = df_series_mean_row\n",
        "  return dataframe_in\n",
        "\n",
        "df_grades = alumnos_promedio(df_grades)"
      ]
    },
    {
      "cell_type": "code",
      "execution_count": null,
      "metadata": {
        "colab": {
          "base_uri": "https://localhost:8080/",
          "height": 693
        },
        "id": "uEdRPJk0A3Lr",
        "outputId": "2c1e9bdb-9884-42b1-b42e-6f8b4d75e73c"
      },
      "outputs": [],
      "source": [
        "def to_map(pd_series_in_str):\n",
        "  if (\"some\" in pd_series_in_str) or (\"school\" in pd_series_in_str):\n",
        "    return \"school\"\n",
        "  elif \"master\" in pd_series_in_str:\n",
        "    return \"postgraduate\"\n",
        "  else:\n",
        "    return \"college\"\n",
        "\n",
        "\n",
        "\n",
        "result = map(to_map, df_grades.loc[:,\"parental level of education\"])\n",
        "df_grades.loc[:,\"simple parental level of education\"] = list(result)\n",
        "df_grades"
      ]
    },
    {
      "cell_type": "code",
      "execution_count": null,
      "metadata": {
        "colab": {
          "base_uri": "https://localhost:8080/",
          "height": 630
        },
        "id": "XvBRAC0M_SNg",
        "outputId": "4ff6cf26-b270-4237-d275-6ea7b870fd45"
      },
      "outputs": [],
      "source": [
        "group = df_grades.groupby([\"race/ethnicity\", \"simple parental level of education\"]).agg({\n",
        "    \"math score\": \"mean\",\n",
        "    \"reading score\": \"mean\",\n",
        "    \"writing score\": \"mean\",\n",
        "    \"GPA\": \"mean\",\n",
        "    \"names\": \"count\",\n",
        "    })\n",
        "\n",
        "# renombra la columna \"names\" como \"count\" y agrega una nueva columna \"percentage\"\n",
        "group.rename(columns={\"names\": \"count\"}, inplace=True)\n",
        "total_count = group[\"count\"].sum()\n",
        "group[\"percentage\"] = (group[\"count\"] / total_count * 100).round(2).astype(str) + \" %\"\n",
        "\n",
        "# ordena los datos por race/ethnicity y simple parental level of education\n",
        "group.sort_values([\"race/ethnicity\", \"simple parental level of education\"], inplace=True)\n",
        "# group = group.reset_index()\n",
        "group"
      ]
    },
    {
      "cell_type": "markdown",
      "metadata": {
        "cell_id": "fda8cb4eda7640aa9dc54f40b8088722",
        "deepnote_cell_height": 456.796875,
        "deepnote_cell_type": "markdown",
        "id": "G4MPvjrF9DQG"
      },
      "source": [
        "**Resultado Esperado**\n",
        "\n",
        "|    | race/ethnicity   | simple parental level of education   |   math score |   reading score |   writing score |   GPA |   count | percentage   |\n",
        "|---:|:-----------------|:-------------------------------------|-------------:|----------------:|----------------:|------:|--------:|:-------------|\n",
        "|  0 | group A          | college                              |         4.74 |            5    |            4.89 |  4.88 |      24 | 2.74 %       |\n",
        "|  1 |           | postgraduate                         |         4.69 |            5.23 |            5.35 |  5.09 |       2 | 0.23 %       |\n",
        "|  2 |           | school                               |         4.57 |            4.73 |            4.56 |  4.62 |      51 | 5.83 %       |\n",
        "|  3 | group B          | college                              |         5.07 |            5.26 |            5.19 |  5.18 |      54 | 6.17 %       |\n",
        "|  4 |           | postgraduate                         |         4.91 |            5.69 |            5.55 |  5.38 |       5 | 0.57 %       |\n",
        "|  5 |           | school                               |         4.69 |            4.89 |            4.76 |  4.78 |     107 | 12.23 %      |\n",
        "|  6 | group C          | college                              |         5.02 |            5.37 |            5.35 |  5.25 |     102 | 11.66 %      |\n",
        "|  7 |           | postgraduate                         |         4.92 |            5.14 |            5.1  |  5.06 |      15 | 1.71 %       |\n",
        "|  8 |           | school                               |         4.76 |            5.02 |            4.92 |  4.9  |     155 | 17.71 %      |\n",
        "|  9 | group D          | college                              |         5.11 |            5.25 |            5.25 |  5.2  |      70 | 8.0 %        |\n",
        "| 10 |           | postgraduate                         |         5.22 |            5.54 |            5.73 |  5.5  |      20 | 2.29 %       |\n",
        "| 11 |           | school                               |         5.02 |            5.13 |            5.11 |  5.09 |     149 | 17.03 %      |\n",
        "| 12 | group E          | college                              |         5.54 |            5.45 |            5.45 |  5.48 |      52 | 5.94 %       |\n",
        "| 13 |          | postgraduate                         |         5.54 |            6.03 |            5.89 |  5.82 |       6 | 0.69 %       |\n",
        "| 14 |          | school                               |         5.4  |            5.31 |            5.16 |  5.29 |      63 | 7.2 %        |"
      ]
    },
    {
      "cell_type": "markdown",
      "metadata": {
        "cell_id": "063c6965602143d1b41f434899bf7b6a",
        "deepnote_cell_height": 130.796875,
        "deepnote_cell_type": "markdown",
        "id": "s91LmWy89DQG"
      },
      "source": [
        "## Visualizaciones [0.5 Puntos]\n",
        "\n",
        "Ahora, implemente un gráfico de caja en donde se muestre el GPA con respecto al nivel educacional y que la variable de color sea la etnicidad y luego comente."
      ]
    },
    {
      "cell_type": "code",
      "execution_count": null,
      "metadata": {
        "cell_id": "3efb50276812432383137306cc213b9b",
        "colab": {
          "base_uri": "https://localhost:8080/",
          "height": 542
        },
        "deepnote_cell_height": 618,
        "deepnote_cell_type": "code",
        "deepnote_output_heights": [
          526
        ],
        "id": "5u2lGQoe9DQG",
        "outputId": "3d74eef2-2f33-4199-c2cd-a1a36772cbb4"
      },
      "outputs": [],
      "source": [
        "fig = px.box(df_grades, x=\"simple parental level of education\", y=\"GPA\", color=\"race/ethnicity\")\n",
        "fig.show()"
      ]
    },
    {
      "cell_type": "markdown",
      "metadata": {
        "cell_id": "5b4a195cfc914fd19fef56faa3926409",
        "deepnote_cell_height": 117.1875,
        "deepnote_cell_type": "markdown",
        "id": "loUzspGXijp1"
      },
      "source": [
        "> 1. ¿Hay alguna diferencia entre los grupos graficados tanto para el nivel educacional de los padres como también para la etnicidad?\n",
        "> 2. ¿Este gráfico permite hacer facilmente un análisis conjunto de estas dos variables de forma sencilla?"
      ]
    },
    {
      "cell_type": "markdown",
      "metadata": {
        "cell_id": "77c7d3f306164b57afda7a50d0cc49ed",
        "deepnote_cell_height": 52.390625,
        "deepnote_cell_type": "markdown",
        "id": "jb9sjfJlwolM"
      },
      "source": [
        "**Justifique:**"
      ]
    },
    {
      "cell_type": "markdown",
      "metadata": {
        "cell_id": "bae1fc41d7014fc2b7b7dd908cb82428",
        "deepnote_cell_height": 70.796875,
        "deepnote_cell_type": "markdown",
        "id": "vDl7h7JbwrKh"
      },
      "source": [
        "```\n",
        "Escriba aqui su respuesta\n",
        "```"
      ]
    },
    {
      "cell_type": "markdown",
      "metadata": {
        "cell_id": "1b00f25c9a86493faba96a95b24efebc",
        "deepnote_cell_height": 82,
        "deepnote_cell_type": "markdown",
        "id": "PzF4GclNrwAt"
      },
      "source": [
        "# 3. Combinar Dataset [1 punto]"
      ]
    },
    {
      "cell_type": "markdown",
      "metadata": {
        "cell_id": "57b94472966348438d3724fedfae3993",
        "deepnote_cell_height": 554.59375,
        "deepnote_cell_type": "markdown",
        "id": "8p4P1F9q06SP"
      },
      "source": [
        "Mientras le notificaba por videollamada los resultados de sus descubrimientos a Don Caguayo, un exaltado practicante del area de TI entra a la reunión y les informa que ha encontrado una nueva base de datos que cuenta con las notas de dos asignaturas (en escala chilena): historia y ciencias. \n",
        "Para más remate, antes de huir, el practicante les cuenta que este dataframe lamentablemente contiene nuevamente los alumnos de los registros corruptos que ud. y su equipo filtraron en el análisis anterior.\n",
        " \n",
        " \n",
        "El rector (evidentemente molesto por la situación) les ruega incluir estos datos (vaciados en el archivo other_grades.csv) al estudio original(`students_grades.csv`). \n",
        "\n",
        "\n",
        "Para esto, carge el archivo `other_grades.csv` y busque la forma de unir ambos DataFrames, de tal manera que las columnas de `history score` y `science score` se anexen al final del DataFrame original. **NO LIMPIE LOS DATOS**, si no que explore los distintos tipos de merge para encontrar el mas situable para su situación (y así evitar buscar duplicados).\n",
        "\n",
        "**To-Do**\n",
        "\n",
        "- [ ] Cargar el `other_grades.csv`\n",
        "- [ ] Unir `df_grades` con `other_grades.csv` usando outer join y explique el resultado.\n",
        "- [ ] Unir `df_grades` con `other_grades.csv` usando left join y explique el resultado.\n",
        "- [ ] Unir `df_grades` con `other_grades.csv` usando right join y explique el resultado.\n",
        "- [ ] Unir `df_grades` con `other_grades.csv` usando inner join y explique el resultado.\n",
        "- [ ] Defina cuál join es el que utilizará para generar el nuevo DataFrame.\n",
        "\n",
        "> **Hint**: Puede explicar los resultados del merge a través de la cantidad de filas resultantes y los valores que estas contienen."
      ]
    },
    {
      "cell_type": "code",
      "execution_count": null,
      "metadata": {
        "id": "0jcs0z1KSKx5"
      },
      "outputs": [],
      "source": [
        "def exploratory_data_analysis(dataframe):\n",
        "    \n",
        "    import matplotlib.pyplot as plt\n",
        "    import seaborn as sns\n",
        "\n",
        "    #Convirtiendo las notas a datos numericos\n",
        "    dataframe[\"math score\"] = pd.to_numeric(dataframe[\"math score\"], errors='coerce')\n",
        "    dataframe[\"reading score\"] = pd.to_numeric(dataframe[\"reading score\"], errors='coerce')\n",
        "    dataframe[\"writing score\"] = pd.to_numeric(dataframe[\"writing score\"], errors='coerce')\n",
        "\n",
        "    # 1\n",
        "    print(f\"1.- El DataFrame tiene {dataframe.shape[0]} filas y {dataframe.shape[1]} columnas\")\n",
        "    \n",
        "    # 2\n",
        "    print(\"2.- El DataFrame esta compuesto por las siguientes columnas:\", dataframe.columns.tolist())\n",
        "    \n",
        "    \n",
        "    # 5. \n",
        "    nulos = dataframe.isna().sum()\n",
        "    print(\"\\n3.- Cantidad de valores nulos por columna:\")\n",
        "    display(nulos)\n",
        "    # 6. \n",
        "    unicos = dataframe.nunique()\n",
        "    print(\"\\n4.- Cantidad de valores únicos por columna:\")\n",
        "    display(unicos)\n",
        "    \n",
        "    # 7. \n",
        "    duplicados = dataframe.duplicated(subset='names').sum()\n",
        "    print(f\"5.- Presenta un total de {df_grades.duplicated(subset='names').sum()} filas con nombres duplicados.\")\n",
        "    \n",
        "    # 8. \n",
        "    if duplicados > 0:\n",
        "        print(\"\\n6.- Las filas con nombres duplicados son:\")\n",
        "        display(dataframe[dataframe.duplicated(subset='names')])\n",
        "    else: \n",
        "        print(\"\\n6.- No existen filas con nombres duplicados\")\n",
        " \n",
        "    "
      ]
    },
    {
      "cell_type": "code",
      "execution_count": null,
      "metadata": {
        "cell_id": "7c4b4dfea4e14aa7b4759edc19689cda",
        "colab": {
          "base_uri": "https://localhost:8080/",
          "height": 1000
        },
        "deepnote_cell_height": 61,
        "deepnote_cell_type": "code",
        "id": "WKBJJqLJ0DXN",
        "outputId": "cef897c5-95bd-49db-8780-4716d16f5175"
      },
      "outputs": [],
      "source": [
        "other_grades = pd.read_csv('other_grades.csv')\n",
        "\n",
        "# Outer join\n",
        "outer_join = pd.merge(df_grades, other_grades, how='outer', on='names')\n",
        "print(\"outer_join\")\n",
        "exploratory_data_analysis(outer_join)\n",
        "print(\"\\n\"*2)\n",
        "print(\"-\"*79)\n",
        "print(\"\\n\"*2)\n",
        "\n",
        "# Left join\n",
        "left_join = pd.merge(df_grades, other_grades, how='left', on='names')\n",
        "\n",
        "print(\"left_join\")\n",
        "exploratory_data_analysis(outer_join)\n",
        "print(\"\\n\"*2)\n",
        "print(\"-\"*79)\n",
        "print(\"\\n\"*2)\n",
        "\n",
        "\n",
        "# Right join\n",
        "right_join = pd.merge(df_grades, other_grades, how='right', on='names')\n",
        "\n",
        "print(\"right_join\")\n",
        "exploratory_data_analysis(outer_join)\n",
        "print(\"\\n\"*2)\n",
        "print(\"-\"*79)\n",
        "print(\"\\n\"*2)\n",
        "\n",
        "\n",
        "# Inner join\n",
        "inner_join = pd.merge(df_grades, other_grades, how='inner', on='names')\n",
        "\n",
        "print(\"inner_join\")\n",
        "exploratory_data_analysis(outer_join)\n",
        "print(\"\\n\"*2)\n",
        "print(\"-\"*79)\n",
        "print(\"\\n\"*2)\n"
      ]
    },
    {
      "cell_type": "markdown",
      "metadata": {
        "cell_id": "88ca61884512461fbb85a16f151c4e22",
        "deepnote_cell_height": 66.390625,
        "deepnote_cell_type": "markdown",
        "id": "F959TcCm9DQI"
      },
      "source": [
        "> **Justificación:**\n"
      ]
    },
    {
      "cell_type": "markdown",
      "metadata": {
        "cell_id": "9398ec453cdc4217b99c9f1ced870231",
        "deepnote_cell_height": 70.796875,
        "deepnote_cell_type": "markdown",
        "id": "E4I-Nqvg9DQI"
      },
      "source": [
        "```\n",
        "Escriba aquí su justificación\n",
        "```"
      ]
    },
    {
      "cell_type": "markdown",
      "metadata": {
        "cell_id": "4ddbd75445df4dc5830452fad45d16a3",
        "deepnote_cell_height": 559.1875,
        "deepnote_cell_type": "markdown",
        "id": "pj7LOu6GTH5Q"
      },
      "source": [
        "## 2.1 Más visualizaciones [0.5 puntos]\n",
        "\n",
        "\n",
        "<p align=\"center\">\n",
        "  <img src=\"https://media4.giphy.com/media/xT5LMWNOjGqJzUfyve/giphy.gif?cid=ecf05e47phkhvg6vadqvcoobvxwj9bzxxk38jjvkcc6eak6t&rid=giphy.gif&ct=g\">\n",
        "</p>\n",
        "\n",
        "\n"
      ]
    },
    {
      "cell_type": "markdown",
      "metadata": {
        "cell_id": "ef4f33d96d5445aab8d6667d60a57e30",
        "deepnote_cell_type": "markdown",
        "id": "4f1PIBgMDt5H"
      },
      "source": [
        "Genere dos visualizaciones extras que encuentre interesantes (y no triviales) con estos datos y explique sus resultados. Agrupe los atributos que estime convenientes.\n",
        "\n",
        "\n",
        "**To-Do:**\n",
        "- [ ] Generar dos nuevas visualizaciones con los datos y explicar que están representando.\n",
        "\n",
        "\n",
        "> **NOTA: No utilice historia ni ciencias, son notas generadas aleatoriamente.**"
      ]
    },
    {
      "cell_type": "markdown",
      "metadata": {
        "cell_id": "694503040f55417ca18860e978f3706e",
        "deepnote_cell_type": "markdown",
        "id": "Rg4ZMq8ezAH6"
      },
      "source": [
        "# Conclusión\n",
        "Eso ha sido todo para el lab de hoy, recuerden que el laboratorio tiene un plazo de entrega de una semana y tienen hasta 3 días de atraso usando sus días comodín. Cualquier duda del laboratorio, no duden en contactarnos por mail o U-cursos.\n",
        "\n",
        "<p align=\"center\">\n",
        "  <img src=\"https://media1.tenor.com/images/2f7df460196625edc45b8380d158e5ee/tenor.gif?itemid=16669403\">\n",
        "</p>"
      ]
    },
    {
      "cell_type": "markdown",
      "metadata": {
        "cell_id": "f78df9e86cb348e380f4413812ce745d",
        "deepnote_cell_type": "markdown",
        "id": "wCL1lACBzAH7"
      },
      "source": [
        "<br>\n",
        "<center>\n",
        "<img src=\"https://i.kym-cdn.com/photos/images/original/001/194/195/b18.png\" width=100 height=50 />\n",
        "</center>\n",
        "<br>"
      ]
    },
    {
      "cell_type": "markdown",
      "metadata": {
        "created_in_deepnote_cell": true,
        "deepnote_cell_type": "markdown",
        "id": "pqKY3ohK9DQJ"
      },
      "source": [
        "<a style='text-decoration:none;line-height:16px;display:flex;color:#5B5B62;padding:10px;justify-content:end;' href='https://deepnote.com?utm_source=created-in-deepnote-cell&projectId=87110296-876e-426f-b91d-aaf681223468' target=\"_blank\">\n",
        "<img alt='Created in deepnote.com' style='display:inline;max-height:16px;margin:0px;margin-right:7.5px;' src='data:image/svg+xml;base64,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' > </img>\n",
        "Created in <span style='font-weight:600;margin-left:4px;'>Deepnote</span></a>"
      ]
    }
  ],
  "metadata": {
    "colab": {
      "provenance": []
    },
    "deepnote": {},
    "deepnote_execution_queue": [],
    "deepnote_notebook_id": "6337bb18915643f1a0fa0b9e39bd3d89",
    "interpreter": {
      "hash": "09cf3d5909f3828bf53c46564821f879a9c8405e40e27fb09b54d745264e4a6d"
    },
    "kernelspec": {
      "display_name": "Python 3.9.6 64-bit ('base': conda)",
      "name": "python3"
    },
    "language_info": {
      "codemirror_mode": {
        "name": "ipython",
        "version": 3
      },
      "file_extension": ".py",
      "mimetype": "text/x-python",
      "name": "python",
      "nbconvert_exporter": "python",
      "pygments_lexer": "ipython3",
      "version": "3.9.6"
    },
    "toc": {
      "base_numbering": 1,
      "nav_menu": {},
      "number_sections": true,
      "sideBar": true,
      "skip_h1_title": true,
      "title_cell": "Tabla de Contenidos",
      "title_sidebar": "Contenidos",
      "toc_cell": false,
      "toc_position": {
        "height": "calc(100% - 180px)",
        "left": "10px",
        "top": "150px",
        "width": "241.867px"
      },
      "toc_section_display": true,
      "toc_window_display": true
    },
    "varInspector": {
      "cols": {
        "lenName": 16,
        "lenType": 16,
        "lenVar": 40
      },
      "kernels_config": {
        "python": {
          "delete_cmd_postfix": "",
          "delete_cmd_prefix": "del ",
          "library": "var_list.py",
          "varRefreshCmd": "print(var_dic_list())"
        },
        "r": {
          "delete_cmd_postfix": ") ",
          "delete_cmd_prefix": "rm(",
          "library": "var_list.r",
          "varRefreshCmd": "cat(var_dic_list()) "
        }
      },
      "types_to_exclude": [
        "module",
        "function",
        "builtin_function_or_method",
        "instance",
        "_Feature"
      ],
      "window_display": false
    }
  },
  "nbformat": 4,
  "nbformat_minor": 0
}
